{
 "cells": [
  {
   "cell_type": "code",
   "execution_count": 27,
   "id": "3400d492-405b-4fb3-b61c-4d45f5043d1b",
   "metadata": {},
   "outputs": [
    {
     "name": "stdout",
     "output_type": "stream",
     "text": [
      "***Grandfather***\n"
     ]
    },
    {
     "name": "stdin",
     "output_type": "stream",
     "text": [
      "Enter name: \"Vikram\"\n",
      "Enter age: 60\n"
     ]
    },
    {
     "name": "stdout",
     "output_type": "stream",
     "text": [
      "Name: 'Vikram'\n",
      "Age: 60\n",
      "***Father***\n"
     ]
    },
    {
     "name": "stdin",
     "output_type": "stream",
     "text": [
      "Enter name: \"Vikrant\"\n",
      "Enter age: 40\n",
      "Enter work place: \"Office\"\n"
     ]
    },
    {
     "name": "stdout",
     "output_type": "stream",
     "text": [
      "Name: 'Vikrant'\n",
      "Age: 40\n",
      "Work place: 'Office'\n",
      "***Son***\n"
     ]
    },
    {
     "name": "stdin",
     "output_type": "stream",
     "text": [
      "Enter name: \" Virat\"\n",
      "Enter age: 20\n",
      "Enter work place: \"School\"\n",
      "Enter hobby: \"MMA\"\n"
     ]
    },
    {
     "name": "stdout",
     "output_type": "stream",
     "text": [
      "Name: ' Virat'\n",
      "Age: 20\n",
      "Work place: 'School'\n",
      "Hobby: 'MMA'\n"
     ]
    }
   ],
   "source": [
    "class grandfather:\n",
    "    def __init__(self):\n",
    "        self.name=eval(input(\"Enter name:\"))\n",
    "        self.age=eval(input(\"Enter age:\"))\n",
    "    def __repr__(self):\n",
    "        print(\"Name:\",repr(self.name))\n",
    "        print(\"Age:\",repr(self.age))\n",
    "class father(grandfather):\n",
    "    def __init__(self):\n",
    "        grandfather.__init__(self)\n",
    "        self.work_place=eval(input(\"Enter work place:\"))\n",
    "    def __repr__(self):\n",
    "        grandfather.__repr__(self)\n",
    "        print(\"Work place:\",repr(self.work_place))\n",
    "class son(father):\n",
    "    def __init__(self):\n",
    "        father.__init__(self)\n",
    "        self.hobby=eval(input(\"Enter hobby:\"))\n",
    "    def __repr__(self):\n",
    "        father.__repr__(self)\n",
    "        print(\"Hobby:\",repr(self.hobby))\n",
    "print(\"***Grandfather***\")\n",
    "ob1=grandfather()\n",
    "ob1.__repr__()\n",
    "print(\"***Father***\")\n",
    "ob2=father()\n",
    "ob2.__repr__()\n",
    "print(\"***Son***\")\n",
    "ob3=son()\n",
    "ob3.__repr__()"
   ]
  },
  {
   "cell_type": "code",
   "execution_count": 30,
   "id": "afcd5dc5-5088-4f32-b0c6-ea74966c5777",
   "metadata": {},
   "outputs": [
    {
     "name": "stdout",
     "output_type": "stream",
     "text": [
      "Base class of son: (<class '__main__.father'>,)\n",
      "Base class of father: (<class '__main__.grandfather'>,)\n"
     ]
    }
   ],
   "source": [
    "print(\"Base class of son:\",son.__bases__)\n",
    "print(\"Base class of father:\",father.__bases__)"
   ]
  },
  {
   "cell_type": "code",
   "execution_count": 5,
   "id": "8b164c1f-7b89-4701-8bf0-85ae42071d1a",
   "metadata": {},
   "outputs": [
    {
     "name": "stdout",
     "output_type": "stream",
     "text": [
      "Base1 class\n"
     ]
    }
   ],
   "source": [
    "class base1:\n",
    "    def __init__(self):\n",
    "        print(\"Base1 class\")\n",
    "class base2:\n",
    "    def __init__(self):\n",
    "        print(\"Base2 class\")\n",
    "class derived(base1,base2):\n",
    "    pass\n",
    "ob=derived()"
   ]
  },
  {
   "cell_type": "code",
   "execution_count": 16,
   "id": "8405c023-c6fe-4934-8b70-d345a40896bc",
   "metadata": {},
   "outputs": [
    {
     "name": "stdout",
     "output_type": "stream",
     "text": [
      "Derived class\n",
      "Base2 class\n",
      "Base1 class\n"
     ]
    }
   ],
   "source": [
    "class base1:\n",
    "    def __init__(self):\n",
    "        print(\"Base1 class\")\n",
    "        super(base1,self).__init__()\n",
    "class base2(base1):\n",
    "    def __init__(self):\n",
    "        print(\"Base2 class\")\n",
    "        super(base2,self).__init__()\n",
    "class derived(base2):\n",
    "    def __init__(self):\n",
    "        print(\"Derived class\")\n",
    "        super(derived,self).__init__()\n",
    "ob=derived()"
   ]
  },
  {
   "cell_type": "code",
   "execution_count": 14,
   "id": "12823ee3-183f-463c-929a-02744a647914",
   "metadata": {},
   "outputs": [
    {
     "name": "stdout",
     "output_type": "stream",
     "text": [
      "Base2 class\n",
      "Base1 class\n",
      "Derived class\n"
     ]
    }
   ],
   "source": [
    "class base1:\n",
    "    def __init__(self):\n",
    "        super(base1,self).__init__()\n",
    "        print(\"Base1 class\")\n",
    "class base2:\n",
    "    def __init__(self):\n",
    "        super(base2,self).__init__()\n",
    "        print(\"Base2 class\")\n",
    "class derived(base1,base2):\n",
    "    def __init__(self):\n",
    "        super(derived,self).__init__()\n",
    "        print(\"Derived class\")\n",
    "ob=derived()"
   ]
  },
  {
   "cell_type": "code",
   "execution_count": 17,
   "id": "37039c30-d263-4eb6-a52e-e807323f83b9",
   "metadata": {},
   "outputs": [
    {
     "name": "stdout",
     "output_type": "stream",
     "text": [
      "Base1 class\n",
      "Base2 class\n",
      "Derived class\n"
     ]
    }
   ],
   "source": [
    "class base1:\n",
    "    def __init__(self):\n",
    "        super(base1,self).__init__()\n",
    "        print(\"Base1 class\")\n",
    "class base2(base1):\n",
    "    def __init__(self):\n",
    "        super(base2,self).__init__()\n",
    "        print(\"Base2 class\")\n",
    "class derived(base2):\n",
    "    def __init__(self):\n",
    "        super(derived,self).__init__()\n",
    "        print(\"Derived class\")\n",
    "ob=derived()"
   ]
  },
  {
   "cell_type": "code",
   "execution_count": 18,
   "id": "c1717969-877b-4d5f-a3e2-70404d8e0949",
   "metadata": {},
   "outputs": [
    {
     "name": "stdout",
     "output_type": "stream",
     "text": [
      "***Grandfather***\n"
     ]
    },
    {
     "name": "stdin",
     "output_type": "stream",
     "text": [
      "Enter name: \"Vikram\"\n",
      "Enter age: 60\n"
     ]
    },
    {
     "name": "stdout",
     "output_type": "stream",
     "text": [
      "Name: 'Vikram'\n",
      "Age: 60\n",
      "***Father***\n"
     ]
    },
    {
     "name": "stdin",
     "output_type": "stream",
     "text": [
      "Enter name: \"Vikrant\"\n",
      "Enter age: 40\n",
      "Enter work place: \"Office\"\n"
     ]
    },
    {
     "name": "stdout",
     "output_type": "stream",
     "text": [
      "Name: 'Vikrant'\n",
      "Age: 40\n",
      "Work place: 'Office'\n",
      "***Son***\n"
     ]
    },
    {
     "name": "stdin",
     "output_type": "stream",
     "text": [
      "Enter name: \"Virat\"\n",
      "Enter age: 20\n",
      "Enter work place: \"School\"\n",
      "Enter hobby: \"MMA\"\n"
     ]
    },
    {
     "name": "stdout",
     "output_type": "stream",
     "text": [
      "Name: 'Virat'\n",
      "Age: 20\n",
      "Work place: 'School'\n",
      "Hobby: 'MMA'\n"
     ]
    }
   ],
   "source": [
    "class grandfather:\n",
    "    def __init__(self):\n",
    "        self.name=eval(input(\"Enter name:\"))\n",
    "        self.age=eval(input(\"Enter age:\"))\n",
    "    def __repr__(self):\n",
    "        print(\"Name:\",repr(self.name))\n",
    "        print(\"Age:\",repr(self.age))\n",
    "class father(grandfather):\n",
    "    def __init__(self):\n",
    "        grandfather.__init__(self)\n",
    "        self.work_place=eval(input(\"Enter work place:\"))\n",
    "    def __repr__(self):\n",
    "        grandfather.__repr__(self)\n",
    "        print(\"Work place:\",repr(self.work_place))\n",
    "class son(father):\n",
    "    def __init__(self):\n",
    "        father.__init__(self)\n",
    "        self.hobby=eval(input(\"Enter hobby:\"))\n",
    "    def __repr__(self):\n",
    "        father.__repr__(self)\n",
    "        print(\"Hobby:\",repr(self.hobby))\n",
    "print(\"***Grandfather***\")\n",
    "ob1=grandfather()\n",
    "ob1.__repr__()\n",
    "print(\"***Father***\")\n",
    "ob2=father()\n",
    "ob2.__repr__()\n",
    "print(\"***Son***\")\n",
    "ob3=son()\n",
    "ob3.__repr__()"
   ]
  },
  {
   "cell_type": "code",
   "execution_count": 21,
   "id": "a622ff87-edd7-4508-b118-c4ed5512dac4",
   "metadata": {},
   "outputs": [
    {
     "name": "stdout",
     "output_type": "stream",
     "text": [
      "ob1 is an instance of class grandfather: True\n",
      "ob1 is an instance of class father: False\n",
      "ob1 is an instance of class son: False\n"
     ]
    }
   ],
   "source": [
    "print(\"ob1 is an instance of class grandfather:\",isinstance(ob1,grandfather))\n",
    "print(\"ob1 is an instance of class father:\",isinstance(ob1,father))\n",
    "print(\"ob1 is an instance of class son:\",isinstance(ob1,son))"
   ]
  },
  {
   "cell_type": "code",
   "execution_count": 23,
   "id": "cff5ff37-ccdb-41f2-a39a-c580856ca1aa",
   "metadata": {},
   "outputs": [
    {
     "name": "stdout",
     "output_type": "stream",
     "text": [
      "ob2 is an instance of class grandfather: True\n",
      "ob2 is an instance of class father: True\n",
      "ob2 is an instance of class son: False\n"
     ]
    }
   ],
   "source": [
    "print(\"ob2 is an instance of class grandfather:\",isinstance(ob2,grandfather))\n",
    "print(\"ob2 is an instance of class father:\",isinstance(ob2,father))\n",
    "print(\"ob2 is an instance of class son:\",isinstance(ob2,son))"
   ]
  },
  {
   "cell_type": "code",
   "execution_count": 24,
   "id": "9fe10470-f9bb-4a94-a98a-89f6efc619a1",
   "metadata": {},
   "outputs": [
    {
     "name": "stdout",
     "output_type": "stream",
     "text": [
      "ob3 is an instance of class grandfather: True\n",
      "ob3 is an instance of class father: True\n",
      "ob3 is an instance of class son: True\n"
     ]
    }
   ],
   "source": [
    "print(\"ob3 is an instance of class grandfather:\",isinstance(ob3,grandfather))\n",
    "print(\"ob3 is an instance of class father:\",isinstance(ob3,father))\n",
    "print(\"ob3 is an instance of class son:\",isinstance(ob3,son))"
   ]
  },
  {
   "cell_type": "code",
   "execution_count": 25,
   "id": "ecc1e7c2-e478-45be-9fcb-2387678852d3",
   "metadata": {},
   "outputs": [
    {
     "name": "stdout",
     "output_type": "stream",
     "text": [
      "Is father subclass of grandfather: True\n",
      "Is son subclass of grandfather: True\n"
     ]
    }
   ],
   "source": [
    "print(\"Is father subclass of grandfather:\",issubclass(father,grandfather))\n",
    "print(\"Is son subclass of grandfather:\",issubclass(son,grandfather))"
   ]
  },
  {
   "cell_type": "code",
   "execution_count": 26,
   "id": "70bdb166-f9e9-4e7e-8a77-2d96b3edf43f",
   "metadata": {},
   "outputs": [
    {
     "name": "stdout",
     "output_type": "stream",
     "text": [
      "Is grandfather subclass of father: False\n",
      "Is son subclass of father: True\n"
     ]
    }
   ],
   "source": [
    "print(\"Is grandfather subclass of father:\",issubclass(grandfather,father))\n",
    "print(\"Is son subclass of father:\",issubclass(son,father))"
   ]
  },
  {
   "cell_type": "code",
   "execution_count": 27,
   "id": "3d56b476-95ac-49ff-93dd-71e50491bdfe",
   "metadata": {},
   "outputs": [
    {
     "name": "stdout",
     "output_type": "stream",
     "text": [
      "Is grandfather subclass of son: False\n",
      "Is father subclass of son: False\n"
     ]
    }
   ],
   "source": [
    "print(\"Is grandfather subclass of son:\",issubclass(grandfather,son))\n",
    "print(\"Is father subclass of son:\",issubclass(father,son))"
   ]
  },
  {
   "cell_type": "code",
   "execution_count": 32,
   "id": "c86dbc23-3265-44d2-bd53-74336079a7e2",
   "metadata": {},
   "outputs": [
    {
     "name": "stdin",
     "output_type": "stream",
     "text": [
      "Enter name: \"Virat\"\n",
      "Enter age: 20\n",
      "Enter work place: \"School\"\n",
      "Enter hobby: \"MMA\"\n"
     ]
    },
    {
     "name": "stdout",
     "output_type": "stream",
     "text": [
      "Name: 'Virat'\n",
      "Age: 20\n",
      "Work place: 'School'\n",
      "Hobby: 'MMA'\n"
     ]
    }
   ],
   "source": [
    "class grandfather:\n",
    "    def __init__(self):\n",
    "        self.name=eval(input(\"Enter name:\"))\n",
    "        self.age=eval(input(\"Enter age:\"))\n",
    "    def __repr__(self):\n",
    "        print(\"Name:\",repr(self.name))\n",
    "        print(\"Age:\",repr(self.age))\n",
    "class father(grandfather):\n",
    "    def __init__(self):\n",
    "        super(father,self).__init__()\n",
    "        self.work_place=eval(input(\"Enter work place:\"))\n",
    "    def __repr__(self):\n",
    "        super(father,self).__repr__()\n",
    "        print(\"Work place:\",repr(self.work_place))\n",
    "class son(father):\n",
    "    def __init__(self):\n",
    "        super(son,self).__init__()\n",
    "        self.hobby=eval(input(\"Enter hobby:\"))\n",
    "    def __repr__(self):\n",
    "        super(son,self).__repr__()\n",
    "        print(\"Hobby:\",repr(self.hobby))\n",
    "ob=son()\n",
    "ob.__repr__()"
   ]
  },
  {
   "cell_type": "code",
   "execution_count": 35,
   "id": "5ee871a4-d7f6-48b3-8fc4-139bcff44497",
   "metadata": {},
   "outputs": [
    {
     "name": "stdin",
     "output_type": "stream",
     "text": [
      "Enter breadth: 10\n"
     ]
    },
    {
     "name": "stdout",
     "output_type": "stream",
     "text": [
      "breadth= 10\n"
     ]
    },
    {
     "name": "stdin",
     "output_type": "stream",
     "text": [
      "Enter length: 20\n"
     ]
    },
    {
     "name": "stdout",
     "output_type": "stream",
     "text": [
      "length= 20\n",
      "Area= 200\n"
     ]
    }
   ],
   "source": [
    "class length:\n",
    "    def __init__(self):\n",
    "        super(length,self).__init__()\n",
    "        self.length=eval(input(\"Enter length:\"))\n",
    "        print(\"length=\",self.length)\n",
    "class breadth:\n",
    "    def __init__(self):\n",
    "        super(breadth,self).__init__()\n",
    "        self.breadth=eval(input(\"Enter breadth:\"))\n",
    "        print(\"breadth=\",self.breadth)\n",
    "class area(length,breadth):\n",
    "    def __init__(self):\n",
    "        super(area,self).__init__()\n",
    "        self.area=self.length*self.breadth\n",
    "        print(\"Area=\",self.area)\n",
    "ob=area()"
   ]
  },
  {
   "cell_type": "code",
   "execution_count": 36,
   "id": "8774b93b-640b-4964-a75a-49704f242266",
   "metadata": {},
   "outputs": [
    {
     "name": "stdin",
     "output_type": "stream",
     "text": [
      "Enter length: 20\n"
     ]
    },
    {
     "name": "stdout",
     "output_type": "stream",
     "text": [
      "length= 20\n"
     ]
    },
    {
     "name": "stdin",
     "output_type": "stream",
     "text": [
      "Enter breadth: 10\n"
     ]
    },
    {
     "name": "stdout",
     "output_type": "stream",
     "text": [
      "breadth= 10\n",
      "Area= 200\n"
     ]
    }
   ],
   "source": [
    "class length:\n",
    "    def __init__(self):\n",
    "        self.length=eval(input(\"Enter length:\"))\n",
    "        print(\"length=\",self.length)\n",
    "class breadth:\n",
    "    def __init__(self):\n",
    "        self.breadth=eval(input(\"Enter breadth:\"))\n",
    "        print(\"breadth=\",self.breadth)\n",
    "class area(length,breadth):\n",
    "    def __init__(self):\n",
    "        length.__init__(self)\n",
    "        breadth.__init__(self)\n",
    "        self.area=self.length*self.breadth\n",
    "        print(\"Area=\",self.area)\n",
    "ob=area()"
   ]
  },
  {
   "cell_type": "code",
   "execution_count": 38,
   "id": "3e2bdd41-7b2c-4892-b398-b9088fc1896e",
   "metadata": {},
   "outputs": [
    {
     "name": "stdin",
     "output_type": "stream",
     "text": [
      "Enter side/length: 5\n"
     ]
    },
    {
     "name": "stdout",
     "output_type": "stream",
     "text": [
      "Length/side= 5\n",
      "Area of square: 25\n"
     ]
    },
    {
     "name": "stdin",
     "output_type": "stream",
     "text": [
      "Enter breadth: 4\n"
     ]
    },
    {
     "name": "stdout",
     "output_type": "stream",
     "text": [
      "Area of rectangle: 20\n"
     ]
    },
    {
     "name": "stdin",
     "output_type": "stream",
     "text": [
      "Enter height: 3\n"
     ]
    },
    {
     "name": "stdout",
     "output_type": "stream",
     "text": [
      "Area of cuboid: 94\n"
     ]
    }
   ],
   "source": [
    "class square:\n",
    "    def __init__(self):\n",
    "        self.length=eval(input(\"Enter side/length:\"))\n",
    "        print(\"Length/side=\",self.length)\n",
    "        print(\"Area of square:\",self.length**2)\n",
    "class rectangle(square):\n",
    "    def __init__(self):\n",
    "        square.__init__(self)\n",
    "        self.breadth=eval(input(\"Enter breadth:\"))\n",
    "        print(\"Area of rectangle:\",self.length*self.breadth)\n",
    "class cuboid(rectangle):\n",
    "    def __init__(self):\n",
    "        rectangle.__init__(self)\n",
    "        self.height=eval(input(\"Enter height:\"))\n",
    "        print(\"Area of cuboid:\",2*(self.length*self.breadth+self.breadth*self.height+self.height*self.length))\n",
    "ob=cuboid()"
   ]
  },
  {
   "cell_type": "code",
   "execution_count": 39,
   "id": "811e42e3-e135-425b-ae7d-97dc8e50d291",
   "metadata": {},
   "outputs": [
    {
     "name": "stdin",
     "output_type": "stream",
     "text": [
      "Enter side/length: 5\n"
     ]
    },
    {
     "name": "stdout",
     "output_type": "stream",
     "text": [
      "Length/side= 5\n",
      "Area of square: 25\n"
     ]
    },
    {
     "name": "stdin",
     "output_type": "stream",
     "text": [
      "Enter breadth: 4\n"
     ]
    },
    {
     "name": "stdout",
     "output_type": "stream",
     "text": [
      "Area of rectangle: 20\n"
     ]
    },
    {
     "name": "stdin",
     "output_type": "stream",
     "text": [
      "Enter height: 3\n"
     ]
    },
    {
     "name": "stdout",
     "output_type": "stream",
     "text": [
      "Area of cuboid: 94\n"
     ]
    }
   ],
   "source": [
    "class square:\n",
    "    def __init__(self):\n",
    "        super(square,self).__init__()\n",
    "        self.length=eval(input(\"Enter side/length:\"))\n",
    "        print(\"Length/side=\",self.length)\n",
    "        print(\"Area of square:\",self.length**2)\n",
    "class rectangle(square):\n",
    "    def __init__(self):\n",
    "        super(rectangle,self).__init__()\n",
    "        self.breadth=eval(input(\"Enter breadth:\"))\n",
    "        print(\"Area of rectangle:\",self.length*self.breadth)\n",
    "class cuboid(rectangle):\n",
    "    def __init__(self):\n",
    "        super(cuboid,self).__init__()\n",
    "        self.height=eval(input(\"Enter height:\"))\n",
    "        print(\"Area of cuboid:\",2*(self.length*self.breadth+self.breadth*self.height+self.height*self.length))\n",
    "ob=cuboid()"
   ]
  },
  {
   "cell_type": "code",
   "execution_count": 42,
   "id": "c3694180-72fa-443c-ba3d-aaf7f6735d42",
   "metadata": {},
   "outputs": [
    {
     "name": "stdout",
     "output_type": "stream",
     "text": [
      "(<class '__main__.square'>, <class 'object'>)\n",
      "(<class '__main__.rectangle'>, <class '__main__.square'>, <class 'object'>)\n",
      "(<class '__main__.cuboid'>, <class '__main__.rectangle'>, <class '__main__.square'>, <class 'object'>)\n"
     ]
    }
   ],
   "source": [
    "print(square.__mro__)\n",
    "print(rectangle.__mro__)\n",
    "print(cuboid.__mro__)"
   ]
  },
  {
   "cell_type": "code",
   "execution_count": 44,
   "id": "2e7defc8-cd9f-446c-a189-b20fc8310198",
   "metadata": {},
   "outputs": [
    {
     "name": "stdin",
     "output_type": "stream",
     "text": [
      "Enter name: \"Vikram\"\n",
      "Enter age: 23\n"
     ]
    },
    {
     "name": "stdout",
     "output_type": "stream",
     "text": [
      "Name: Vikram \n",
      "Age: 23\n"
     ]
    },
    {
     "name": "stdin",
     "output_type": "stream",
     "text": [
      "Enter B.Tech CGPA (1-10): 8.7\n"
     ]
    },
    {
     "name": "stdout",
     "output_type": "stream",
     "text": [
      "CGPA: 8.7\n"
     ]
    },
    {
     "name": "stdin",
     "output_type": "stream",
     "text": [
      "Enter hobby: \"MMA\"\n"
     ]
    },
    {
     "name": "stdout",
     "output_type": "stream",
     "text": [
      "Hobby: MMA\n",
      "Overall result: Excellent!\n"
     ]
    }
   ],
   "source": [
    "class student:\n",
    "    def __init__(self):\n",
    "        self.name=eval(input(\"Enter name:\"))\n",
    "        self.age=eval(input(\"Enter age:\"))\n",
    "        print(\"Name:\",self.name,\"\\nAge:\",self.age)\n",
    "class academic(student):\n",
    "    def __init__(self):\n",
    "        student.__init__(self)\n",
    "        self.cgpa=eval(input(\"Enter B.Tech CGPA (1-10):\"))\n",
    "        print(\"CGPA:\",self.cgpa)\n",
    "class interest(student):\n",
    "    def __init__(self):\n",
    "        self.hobby=eval(input(\"Enter hobby:\"))\n",
    "        print(\"Hobby:\",self.hobby)\n",
    "class result(academic,interest):\n",
    "    def __init__(self):\n",
    "        academic.__init__(self)\n",
    "        interest.__init__(self)\n",
    "        print(\"Overall result:\",\"Excellent!\")\n",
    "ob=result()"
   ]
  },
  {
   "cell_type": "code",
   "execution_count": 47,
   "id": "a00cc281-8b64-42c0-b9de-6ffd6374052c",
   "metadata": {},
   "outputs": [
    {
     "name": "stdout",
     "output_type": "stream",
     "text": [
      "In class one var= 10\n",
      "In class two var= 10\n"
     ]
    }
   ],
   "source": [
    "class one:\n",
    "    def set(self,var):\n",
    "        self.var=var\n",
    "        print(\"In class one var=\",self.var)\n",
    "    def get(self):\n",
    "        return self.var\n",
    "class two:\n",
    "    def __init__(self,var):\n",
    "        self.ob=one()\n",
    "        self.ob.set(var)\n",
    "        self.show()\n",
    "    def show(self):\n",
    "        print(\"In class two var=\",self.ob.get())\n",
    "ob1=two(10)"
   ]
  },
  {
   "cell_type": "code",
   "execution_count": 52,
   "id": "74a3c940-d09b-46e4-a36c-e28ca322c503",
   "metadata": {},
   "outputs": [
    {
     "name": "stdout",
     "output_type": "stream",
     "text": [
      "***Mango***\n",
      "Sweet Vitamin_A Yellow\n",
      "***Orange***\n",
      "Sour Vitamin_C Orange\n"
     ]
    },
    {
     "ename": "NotImplementedError",
     "evalue": "",
     "output_type": "error",
     "traceback": [
      "\u001b[1;31m---------------------------------------------------------------------------\u001b[0m",
      "\u001b[1;31mNotImplementedError\u001b[0m                       Traceback (most recent call last)",
      "Cell \u001b[1;32mIn[52], line 28\u001b[0m\n\u001b[0;32m     26\u001b[0m \u001b[38;5;28mprint\u001b[39m(ob2\u001b[38;5;241m.\u001b[39mtaste(),ob2\u001b[38;5;241m.\u001b[39mrich_in(),ob2\u001b[38;5;241m.\u001b[39mcolour())\n\u001b[0;32m     27\u001b[0m ob\u001b[38;5;241m=\u001b[39mfruit()\n\u001b[1;32m---> 28\u001b[0m ob\u001b[38;5;241m.\u001b[39mtaste()\n",
      "Cell \u001b[1;32mIn[52], line 3\u001b[0m, in \u001b[0;36mfruit.taste\u001b[1;34m(self)\u001b[0m\n\u001b[0;32m      2\u001b[0m \u001b[38;5;28;01mdef\u001b[39;00m \u001b[38;5;21mtaste\u001b[39m(\u001b[38;5;28mself\u001b[39m):\n\u001b[1;32m----> 3\u001b[0m     \u001b[38;5;28;01mraise\u001b[39;00m \u001b[38;5;167;01mNotImplementedError\u001b[39;00m()\n",
      "\u001b[1;31mNotImplementedError\u001b[0m: "
     ]
    }
   ],
   "source": [
    "class fruit:\n",
    "    def taste(self):\n",
    "        raise NotImplementedError()\n",
    "    def rich_in(self):\n",
    "        raise NotImplementedError()\n",
    "    def colour(self):\n",
    "        raise NotImplementedError()\n",
    "class mango(fruit):\n",
    "    def taste(self):\n",
    "        return(\"Sweet\")\n",
    "    def rich_in(self):\n",
    "        return(\"Vitamin_A\")\n",
    "    def colour(self):\n",
    "        return(\"Yellow\")\n",
    "class orange(fruit):\n",
    "    def taste(self):\n",
    "        return(\"Sour\")\n",
    "    def rich_in(self):\n",
    "        return(\"Vitamin_C\")\n",
    "    def colour(self):\n",
    "        return(\"Orange\")\n",
    "ob1,ob2=mango(),orange()\n",
    "print(\"***Mango***\")\n",
    "print(ob1.taste(),ob1.rich_in(),ob1.colour())\n",
    "print(\"***Orange***\")\n",
    "print(ob2.taste(),ob2.rich_in(),ob2.colour())\n",
    "ob=fruit()\n",
    "ob.taste()"
   ]
  },
  {
   "cell_type": "code",
   "execution_count": 6,
   "id": "8e59f85b-7486-449e-add6-1b6bd88a6a22",
   "metadata": {},
   "outputs": [
    {
     "name": "stdin",
     "output_type": "stream",
     "text": [
      "Enter x1: 2\n",
      "Enter y1: 3\n",
      "Enter x2: 4\n",
      "Enter y2: 5\n"
     ]
    },
    {
     "name": "stdout",
     "output_type": "stream",
     "text": [
      "Source coordinates\n",
      "coordinates: (2, 3)\n",
      "Destination coordinates\n",
      "coordinates: (4, 5)\n",
      "Reflection along x-axis of source coordinates:\n",
      "Coordinates: (-2, 3)\n",
      "Reflection along y-axis of destination coordinates:\n",
      "Coordinates: (4, -5)\n"
     ]
    }
   ],
   "source": [
    "class point:\n",
    "    def __init__(self,x,y):\n",
    "        self.x=x\n",
    "        self.y=y\n",
    "    def get(self):\n",
    "        return (self.x,self.y)\n",
    "class location:\n",
    "    def __init__(self):\n",
    "        self.x1=eval(input(\"Enter x1:\"))\n",
    "        self.y1=eval(input(\"Enter y1:\"))\n",
    "        self.source=point(self.x1,self.y1)\n",
    "        self.x2=eval(input(\"Enter x2:\"))\n",
    "        self.y2=eval(input(\"Enter y2:\"))\n",
    "        self.destination=point(self.x2,self.y2)\n",
    "    def get(self):\n",
    "        print(\"Source coordinates\")\n",
    "        print(\"coordinates:\",self.source.get())\n",
    "        print(\"Destination coordinates\")\n",
    "        print(\"coordinates:\",self.destination.get())\n",
    "    def reflection(self):\n",
    "        print(\"Reflection along x-axis of source coordinates:\")\n",
    "        self.source.x=-self.source.x\n",
    "        print(\"Coordinates:\",self.source.get())\n",
    "        print(\"Reflection along y-axis of destination coordinates:\")\n",
    "        self.destination.y=-self.destination.y\n",
    "        print(\"Coordinates:\",self.destination.get())\n",
    "ob=location()\n",
    "ob.get()\n",
    "ob.reflection()"
   ]
  },
  {
   "cell_type": "code",
   "execution_count": null,
   "id": "f38f943f-2273-4861-ae96-9370da7cd247",
   "metadata": {},
   "outputs": [],
   "source": []
  }
 ],
 "metadata": {
  "kernelspec": {
   "display_name": "Python 3 (ipykernel)",
   "language": "python",
   "name": "python3"
  },
  "language_info": {
   "codemirror_mode": {
    "name": "ipython",
    "version": 3
   },
   "file_extension": ".py",
   "mimetype": "text/x-python",
   "name": "python",
   "nbconvert_exporter": "python",
   "pygments_lexer": "ipython3",
   "version": "3.11.7"
  }
 },
 "nbformat": 4,
 "nbformat_minor": 5
}
