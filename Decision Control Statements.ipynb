{
 "cells": [
  {
   "cell_type": "code",
   "execution_count": 1,
   "id": "e90c808f-ca59-4fa6-98a6-9a4820c0a40b",
   "metadata": {},
   "outputs": [
    {
     "name": "stdout",
     "output_type": "stream",
     "text": [
      "6 is greater than a!\n"
     ]
    }
   ],
   "source": [
    "a,b=5,6\n",
    "if a>b:\n",
    "    print(a,\"is greater than b!\")\n",
    "if b>a:\n",
    "    print(b,\"is greater than a!\")"
   ]
  },
  {
   "cell_type": "code",
   "execution_count": 2,
   "id": "e105a3b2-d091-4a01-a5c1-6be6c485b836",
   "metadata": {},
   "outputs": [
    {
     "name": "stdin",
     "output_type": "stream",
     "text": [
      "Enter a character: \"L\"\n"
     ]
    },
    {
     "name": "stdout",
     "output_type": "stream",
     "text": [
      "L is alphabet!\n"
     ]
    }
   ],
   "source": [
    "char=eval(input(\"Enter a character:\"))\n",
    "if char.isalpha():\n",
    "    print(char,\"is alphabet!\")\n",
    "if char.isdigit():\n",
    "    print(char,\"is digit!\")\n",
    "if char.isspace():\n",
    "    print(char,\"is whitespace!\")"
   ]
  },
  {
   "cell_type": "code",
   "execution_count": 3,
   "id": "c35c6e9a-e172-4e92-b2f6-c46b7a9c4464",
   "metadata": {},
   "outputs": [
    {
     "name": "stdin",
     "output_type": "stream",
     "text": [
      "Enter the age: 13\n"
     ]
    },
    {
     "name": "stdout",
     "output_type": "stream",
     "text": [
      "Not eligible to vote!\n"
     ]
    }
   ],
   "source": [
    "age=eval(input(\"Enter the age:\"))\n",
    "if age>=18:\n",
    "    print(\"Eligible to vote!\")\n",
    "else:\n",
    "    print(\"Not eligible to vote!\")"
   ]
  },
  {
   "cell_type": "code",
   "execution_count": 4,
   "id": "203292ce-a54b-4cd6-aca4-106bb44834fb",
   "metadata": {},
   "outputs": [
    {
     "name": "stdin",
     "output_type": "stream",
     "text": [
      "Enter the first number: 3\n",
      "Enter the second number: 4\n"
     ]
    },
    {
     "name": "stdout",
     "output_type": "stream",
     "text": [
      "b= 4 is greater than a!\n"
     ]
    }
   ],
   "source": [
    "a=eval(input(\"Enter the first number:\"))\n",
    "b=eval(input(\"Enter the second number:\"))\n",
    "if a>b:\n",
    "    print(\"a=\",a,\"is greater than b!\")\n",
    "else:\n",
    "    print(\"b=\",b,\"is greater than a!\")"
   ]
  },
  {
   "cell_type": "code",
   "execution_count": 5,
   "id": "a95a4d8b-4ab6-496f-906a-d98f4cd3f006",
   "metadata": {},
   "outputs": [
    {
     "name": "stdin",
     "output_type": "stream",
     "text": [
      "Enter a number: 6\n"
     ]
    },
    {
     "name": "stdout",
     "output_type": "stream",
     "text": [
      "n= 6 is even!\n"
     ]
    }
   ],
   "source": [
    "n=eval(input(\"Enter a number:\"))\n",
    "if n%2==0:\n",
    "    print(\"n=\",n,\"is even!\")\n",
    "else:\n",
    "    print(\"n=\",n,\"is odd!\")"
   ]
  },
  {
   "cell_type": "code",
   "execution_count": 6,
   "id": "cbc19a6d-c3d1-41bc-9fc5-e8a46463529d",
   "metadata": {},
   "outputs": [
    {
     "name": "stdin",
     "output_type": "stream",
     "text": [
      "Enter a character: \"H\"\n"
     ]
    },
    {
     "name": "stdout",
     "output_type": "stream",
     "text": [
      "Character: H\n",
      "c= h is converted into lowercase!\n"
     ]
    }
   ],
   "source": [
    "c=eval(input(\"Enter a character:\"))\n",
    "print(\"Character:\",c)\n",
    "if c.islower():\n",
    "    c=c.upper()\n",
    "    print(\"c=\",c,\"is converted into uppercase!\")\n",
    "else:\n",
    "    c=c.lower()\n",
    "    print(\"c=\",c,\"is converted into lowercase!\")"
   ]
  },
  {
   "cell_type": "code",
   "execution_count": 7,
   "id": "16237c27-9165-4a68-a1ca-fb47a4f879f8",
   "metadata": {},
   "outputs": [
    {
     "name": "stdin",
     "output_type": "stream",
     "text": [
      "Enter the name of the employee: \"Edwin\"\n",
      "Enter the gender of the employee either M or F: \"M\"\n",
      "Enter the salary of the employee: 1000\n"
     ]
    },
    {
     "name": "stdout",
     "output_type": "stream",
     "text": [
      "Name: Edwin \n",
      "Gender: M \n",
      "Salary: 1000\n",
      "Salary of the employee: 1070.0\n"
     ]
    }
   ],
   "source": [
    "n=eval(input(\"Enter the name of the employee:\"))\n",
    "g=eval(input(\"Enter the gender of the employee either M or F:\"))\n",
    "sal=eval(input(\"Enter the salary of the employee:\"))\n",
    "print(\"Name:\",n,\"\\nGender:\",g,\"\\nSalary:\",sal)\n",
    "if g==\"M\":\n",
    "    extra_bonus1=0.05*sal\n",
    "    total_sal=sal+extra_bonus1\n",
    "    if sal<10000:\n",
    "        extra_bonus2=0.02*sal\n",
    "        total_sal=total_sal+extra_bonus2\n",
    "else:\n",
    "    extra_bonus1=0.10*sal\n",
    "    total_sal=sal+extra_bonus1\n",
    "    if sal<10000:\n",
    "        extra_bonus2=0.02*sal\n",
    "        total_sal=total_sal+extra_bonus2\n",
    "print(\"Salary of the employee:\",total_sal)"
   ]
  },
  {
   "cell_type": "code",
   "execution_count": 8,
   "id": "324bcdf4-8243-4845-8a2c-79bd0f2c5aa8",
   "metadata": {},
   "outputs": [
    {
     "name": "stdin",
     "output_type": "stream",
     "text": [
      "Enter the year: 2000\n"
     ]
    },
    {
     "name": "stdout",
     "output_type": "stream",
     "text": [
      "Leap year!\n"
     ]
    }
   ],
   "source": [
    "y=eval(input(\"Enter the year:\"))\n",
    "if ((y%4==0 and y%100!=0)or(y%400==0)):\n",
    "    print(\"Leap year!\")\n",
    "else:\n",
    "    print(\"Not Leap year!\")"
   ]
  },
  {
   "cell_type": "code",
   "execution_count": 9,
   "id": "87bbaa4f-31db-4158-97a1-3f9a855a8159",
   "metadata": {},
   "outputs": [
    {
     "name": "stdin",
     "output_type": "stream",
     "text": [
      "Enter a number: -2\n"
     ]
    },
    {
     "name": "stdout",
     "output_type": "stream",
     "text": [
      "n= -2 is negative!\n"
     ]
    }
   ],
   "source": [
    "n=eval(input(\"Enter a number:\"))\n",
    "if n>0:\n",
    "    print(\"n=\",n,\"is positive!\")\n",
    "elif n<0:\n",
    "    print(\"n=\",n,\"is negative!\")\n",
    "else:\n",
    "    print(\"n=\",n,\"is zero!\")"
   ]
  },
  {
   "cell_type": "code",
   "execution_count": 10,
   "id": "c75a3e7f-6586-450f-98fe-70927be45f98",
   "metadata": {},
   "outputs": [
    {
     "name": "stdin",
     "output_type": "stream",
     "text": [
      "Enter a character: \"I\"\n"
     ]
    },
    {
     "name": "stdout",
     "output_type": "stream",
     "text": [
      "c= I is a vowel!\n"
     ]
    }
   ],
   "source": [
    "c=eval(input(\"Enter a character:\"))\n",
    "if (c==\"A\" or c==\"E\" or c==\"I\" or c==\"O\" or c==\"U\" or c==\"a\" or c==\"e\" or c==\"i\" or c==\"o\" or c==\"u\"):\n",
    "    print(\"c=\",c,\"is a vowel!\")\n",
    "else:\n",
    "    print(\"c=\",c,\"is a consonant!\")"
   ]
  },
  {
   "cell_type": "code",
   "execution_count": 11,
   "id": "1e96bdce-9cd7-4d06-9c57-678ceec6efe9",
   "metadata": {},
   "outputs": [
    {
     "name": "stdin",
     "output_type": "stream",
     "text": [
      "Enter 1st number: 1\n",
      "Enter 2nd number: 2\n",
      "Enter 3rd number: 3\n"
     ]
    },
    {
     "name": "stdout",
     "output_type": "stream",
     "text": [
      "c= 3 is greatest number!\n"
     ]
    }
   ],
   "source": [
    "a=eval(input(\"Enter 1st number:\"))\n",
    "b=eval(input(\"Enter 2nd number:\"))\n",
    "c=eval(input(\"Enter 3rd number:\"))\n",
    "if a>b and a>c:\n",
    "    print(\"a=\",a,\"is greatest number!\")\n",
    "elif b>c and b>a:\n",
    "    print(\"b=\",b,\"is greatest number!\")\n",
    "else:\n",
    "    print(\"c=\",c,\"is greatest number!\")"
   ]
  },
  {
   "cell_type": "code",
   "execution_count": 12,
   "id": "09d7974b-a8aa-474b-9b0a-b3c7009c2d5f",
   "metadata": {},
   "outputs": [
    {
     "name": "stdin",
     "output_type": "stream",
     "text": [
      "Enter the number(1-7): 7\n"
     ]
    },
    {
     "name": "stdout",
     "output_type": "stream",
     "text": [
      "Saturday!\n"
     ]
    }
   ],
   "source": [
    "n=eval(input(\"Enter the number(1-7):\"))\n",
    "if n==1:\n",
    "    print(\"Sunday!\")\n",
    "elif n==2:\n",
    "    print(\"Monday!\")\n",
    "elif n==3:\n",
    "    print(\"Tuesday!\")\n",
    "elif n==4:\n",
    "    print(\"Wednesday!\")\n",
    "elif n==5:\n",
    "    print(\"Thursday!\")\n",
    "elif n==6:\n",
    "    print(\"Friday!\")\n",
    "elif n==7:\n",
    "    print(\"Saturday!\")\n",
    "else:\n",
    "    print(\"Invalid input!!\")"
   ]
  },
  {
   "cell_type": "code",
   "execution_count": 14,
   "id": "39d7a526-ebbf-4c99-90e9-944254db49f4",
   "metadata": {},
   "outputs": [
    {
     "name": "stdin",
     "output_type": "stream",
     "text": [
      "Enter the income: 2000000\n"
     ]
    },
    {
     "name": "stdout",
     "output_type": "stream",
     "text": [
      "Taxable income: 404999.7\n"
     ]
    }
   ],
   "source": [
    "i=eval(input(\"Enter the income:\"))\n",
    "i1=i-150000\n",
    "if i1<=0:\n",
    "    print(\"No tax!\")\n",
    "elif i1>=150001 and i1<300000:\n",
    "    t=(i1-150001)*0.10\n",
    "    print(\"Taxable income:\",t)\n",
    "elif i1>=300001 and i1<500000:\n",
    "    t=(i1-300001)*0.20\n",
    "    print(\"Taxable income:\",t)\n",
    "else:\n",
    "    t=(i1-500001)*0.30\n",
    "    print(\"Taxable income:\",t)"
   ]
  },
  {
   "cell_type": "code",
   "execution_count": 20,
   "id": "0a9518a2-d46c-48ca-96aa-ceb5442fe608",
   "metadata": {},
   "outputs": [
    {
     "name": "stdin",
     "output_type": "stream",
     "text": [
      "Enter a character: \"z\"\n"
     ]
    },
    {
     "name": "stdout",
     "output_type": "stream",
     "text": [
      "n= z is in lowercase!\n"
     ]
    }
   ],
   "source": [
    "n=eval(input(\"Enter a character:\"))\n",
    "if ord(n)>=48 and ord(n)<=57:\n",
    "    print(\"n=\",int(n),\"is a digit!\")\n",
    "elif ord(n)>=65 and ord(n)<=90:\n",
    "    print(\"n=\",n,\"is in uppercase!\")\n",
    "elif ord(n)>=97 and ord(n)<=122:\n",
    "    print(\"n=\",n,\"is in lowercase!\")\n",
    "else:\n",
    "    print(\"Invalid input!\")"
   ]
  },
  {
   "cell_type": "code",
   "execution_count": 21,
   "id": "45bc636b-a7a7-4bf4-ab41-0dff91a36b82",
   "metadata": {},
   "outputs": [
    {
     "name": "stdin",
     "output_type": "stream",
     "text": [
      "Enter the marks of Physics: 81\n",
      "Enter the marks of Chemistry: 74\n",
      "Enter the marks of Mathematics: 67\n",
      "Enter the marks of Computer Science: 88\n",
      "Enter the marks of Biology: 90\n"
     ]
    },
    {
     "name": "stdout",
     "output_type": "stream",
     "text": [
      "Grade: Distinction\n"
     ]
    }
   ],
   "source": [
    "s1=eval(input(\"Enter the marks of Physics:\"))\n",
    "s2=eval(input(\"Enter the marks of Chemistry:\"))\n",
    "s3=eval(input(\"Enter the marks of Mathematics:\"))\n",
    "s4=eval(input(\"Enter the marks of Computer Science:\"))\n",
    "s5=eval(input(\"Enter the marks of Biology:\"))\n",
    "t=s1+s2+s3+s4+s5\n",
    "a=t/5.0\n",
    "if a>=75:\n",
    "    print(\"Grade: Distinction\")\n",
    "elif a>=60 and a<75:\n",
    "    print(\"Grade: First Division\")\n",
    "elif a>=50 and a<60:\n",
    "    print(\"Grade: Second Division\")\n",
    "elif a>=40 and a<50:\n",
    "    print(\"Grade: Third Division\")\n",
    "else:\n",
    "    print(\"Grade: Fail\")"
   ]
  },
  {
   "cell_type": "code",
   "execution_count": 22,
   "id": "5bb63116-b45c-4b56-aeb9-ab6173d26a16",
   "metadata": {},
   "outputs": [
    {
     "name": "stdin",
     "output_type": "stream",
     "text": [
      "Enter the value of a: 3\n",
      "Enter the value of b: 4\n",
      "Enter the value of c: 5\n"
     ]
    },
    {
     "name": "stdout",
     "output_type": "stream",
     "text": [
      "Roots are imaginary!\n"
     ]
    }
   ],
   "source": [
    "a=eval(input(\"Enter the value of a:\"))\n",
    "b=eval(input(\"Enter the value of b:\"))\n",
    "c=eval(input(\"Enter the value of c:\"))\n",
    "d=(b**2)-4*a*c\n",
    "if d>0:\n",
    "    print(\"Real and distinct roots!\")\n",
    "    r1=(-b+(d)**0.5)/2.0*a\n",
    "    r2=(-b-(d)**0.5)/2.0*a\n",
    "    print(\"Root1:\",r1,\"Root2:\",r2)\n",
    "elif d==0:\n",
    "    print(\"Real and equal roots!\")\n",
    "    r1=r2=-b/2.0*a\n",
    "    print(\"Root1:\",r1,\"Root2:\",r2)\n",
    "else:\n",
    "    print(\"Roots are imaginary!\")"
   ]
  },
  {
   "cell_type": "code",
   "execution_count": 24,
   "id": "0cb02ea2-0a10-4983-b8eb-5a2270c1590d",
   "metadata": {},
   "outputs": [
    {
     "name": "stdout",
     "output_type": "stream",
     "text": [
      "0 1 2 3 4 5 6 7 8 9 10 "
     ]
    }
   ],
   "source": [
    "i=0\n",
    "while i<=10:\n",
    "    print(i,end=\" \")\n",
    "    i+=1"
   ]
  },
  {
   "cell_type": "code",
   "execution_count": 26,
   "id": "3d110fc8-3802-4234-8159-566649fda258",
   "metadata": {},
   "outputs": [
    {
     "name": "stdout",
     "output_type": "stream",
     "text": [
      "0\t1\t2\t3\t4\t5\t6\t7\t8\t9\t10\t"
     ]
    }
   ],
   "source": [
    "i=0\n",
    "while i<=10:\n",
    "    print(i,end=\"\\t\")\n",
    "    i+=1"
   ]
  },
  {
   "cell_type": "code",
   "execution_count": 32,
   "id": "89395a0a-24e4-4c2b-a366-293da577d6eb",
   "metadata": {},
   "outputs": [
    {
     "name": "stdout",
     "output_type": "stream",
     "text": [
      "Sum= 55 \n",
      "Average: 5.5\n"
     ]
    }
   ],
   "source": [
    "i=1\n",
    "s=0\n",
    "c=0\n",
    "while i<=10:\n",
    "    s=s+i\n",
    "    c=c+1\n",
    "    i=i+1\n",
    "a=s/c\n",
    "print(\"Sum=\",s,\"\\nAverage:\",a)"
   ]
  },
  {
   "cell_type": "code",
   "execution_count": 34,
   "id": "d54713d9-17b2-4048-8c73-6651683f00bd",
   "metadata": {},
   "outputs": [
    {
     "name": "stdout",
     "output_type": "stream",
     "text": [
      "********************"
     ]
    }
   ],
   "source": [
    "i=1\n",
    "while i<=20:\n",
    "    print(\"*\",end=\"\")\n",
    "    i=i+1"
   ]
  },
  {
   "cell_type": "code",
   "execution_count": 36,
   "id": "31bb00db-a74b-4d80-8995-7955124077f6",
   "metadata": {},
   "outputs": [
    {
     "name": "stdin",
     "output_type": "stream",
     "text": [
      "Enter the value of m: 1\n",
      "Enter the value of n: 10\n"
     ]
    },
    {
     "name": "stdout",
     "output_type": "stream",
     "text": [
      "m= 1 ,n= 10\n",
      "Sum= 55\n"
     ]
    }
   ],
   "source": [
    "m=eval(input(\"Enter the value of m:\"))\n",
    "n=eval(input(\"Enter the value of n:\"))\n",
    "i=m\n",
    "s=0\n",
    "while i<=n:\n",
    "    s=s+i\n",
    "    i=i+1\n",
    "print(\"m=\",m,\",n=\",n)\n",
    "print(\"Sum=\",s)"
   ]
  },
  {
   "cell_type": "code",
   "execution_count": 5,
   "id": "dd9cafab-d594-42d5-bb04-1d7efc486d63",
   "metadata": {},
   "outputs": [
    {
     "name": "stdin",
     "output_type": "stream",
     "text": [
      "Enter a number if -1 then exist: 0\n"
     ]
    },
    {
     "name": "stdout",
     "output_type": "stream",
     "text": [
      "Number of zeros: 1\n"
     ]
    },
    {
     "name": "stdin",
     "output_type": "stream",
     "text": [
      "Enter a number if -1 then exist: -3\n"
     ]
    },
    {
     "name": "stdout",
     "output_type": "stream",
     "text": [
      "Number of negatives: 1\n"
     ]
    },
    {
     "name": "stdin",
     "output_type": "stream",
     "text": [
      "Enter a number if -1 then exist: 9\n"
     ]
    },
    {
     "name": "stdout",
     "output_type": "stream",
     "text": [
      "Number of positives: 1\n"
     ]
    },
    {
     "name": "stdin",
     "output_type": "stream",
     "text": [
      "Enter a number if -1 then exist: -1\n"
     ]
    },
    {
     "name": "stdout",
     "output_type": "stream",
     "text": [
      "zc= 1 \tpc= 1 \tnc= 1\n"
     ]
    }
   ],
   "source": [
    "zc=pc=nc=0\n",
    "while True:\n",
    "    n=eval(input(\"Enter a number if -1 then exist:\"))\n",
    "    if n==-1:\n",
    "        break\n",
    "    elif n==0:\n",
    "        zc=zc+1\n",
    "        print(\"Number of zeros:\",zc)\n",
    "    elif n>0:\n",
    "        pc=pc+1\n",
    "        print(\"Number of positives:\",pc)\n",
    "    else:\n",
    "        nc=nc+1\n",
    "        print(\"Number of negatives:\",nc)\n",
    "print(\"zc=\",zc,\"\\tpc=\",pc,\"\\tnc=\",nc)"
   ]
  },
  {
   "cell_type": "code",
   "execution_count": 8,
   "id": "0e0e0286-53a8-473b-ac55-4a27486e2824",
   "metadata": {},
   "outputs": [
    {
     "name": "stdin",
     "output_type": "stream",
     "text": [
      "Enter a number if -1 then exist: 1\n",
      "Enter a number if -1 then exist: 2\n",
      "Enter a number if -1 then exist: 3\n",
      "Enter a number if -1 then exist: -2\n",
      "Enter a number if -1 then exist: -4\n",
      "Enter a number if -1 then exist: -1\n"
     ]
    },
    {
     "name": "stdout",
     "output_type": "stream",
     "text": [
      "Average of positives: 2.0 \n",
      "Average of negatives: -3.0\n"
     ]
    }
   ],
   "source": [
    "sp=sn=0\n",
    "cp=cn=0\n",
    "while True:\n",
    "    n=eval(input(\"Enter a number if -1 then exist:\"))\n",
    "    if n>0:\n",
    "        sp=sp+n\n",
    "        cp=cp+1\n",
    "    elif n==-1:\n",
    "        break\n",
    "    elif n<0:\n",
    "        sn=sn+n\n",
    "        cn=cn+1\n",
    "ap=sp/cp\n",
    "an=sn/cn\n",
    "print(\"Average of positives:\",ap,\"\\nAverage of negatives:\",an)"
   ]
  },
  {
   "cell_type": "code",
   "execution_count": 11,
   "id": "cb21f1b7-048e-4ad2-a8ee-63c041fe62e9",
   "metadata": {},
   "outputs": [
    {
     "name": "stdin",
     "output_type": "stream",
     "text": [
      "Enter a 3-digit number: 371\n"
     ]
    },
    {
     "name": "stdout",
     "output_type": "stream",
     "text": [
      "371 371\n",
      "n= 371 is Armstrong number!\n"
     ]
    }
   ],
   "source": [
    "n=eval(input(\"Enter a 3-digit number:\"))\n",
    "d=n\n",
    "s=0\n",
    "while d>0:\n",
    "    r=d%10\n",
    "    s=s+(r**3)\n",
    "    d=d//10\n",
    "print(n,s)\n",
    "if n==s:\n",
    "    print(\"n=\",n,\"is Armstrong number!\")\n",
    "else:\n",
    "    print(\"n=\",n,\"is not Armstrong number!\")"
   ]
  },
  {
   "cell_type": "code",
   "execution_count": 17,
   "id": "4215be18-71ef-464a-9ad7-bb7cefcd5af3",
   "metadata": {},
   "outputs": [
    {
     "name": "stdin",
     "output_type": "stream",
     "text": [
      "Enter a decimal: 7\n"
     ]
    },
    {
     "name": "stdout",
     "output_type": "stream",
     "text": [
      "Decimal: 7 \n",
      "Binary: 111\n"
     ]
    }
   ],
   "source": [
    "n=eval(input(\"Enter a decimal:\"))\n",
    "d=n\n",
    "s=0\n",
    "i=0\n",
    "while n>0:\n",
    "    r=n%2\n",
    "    s=s+r*(10**i)\n",
    "    i=i+1\n",
    "    n=n//2\n",
    "print(\"Decimal:\",d,\"\\nBinary:\",s)"
   ]
  },
  {
   "cell_type": "code",
   "execution_count": 4,
   "id": "c0bb2c82-4022-48e7-8fa6-db731c89738d",
   "metadata": {},
   "outputs": [
    {
     "name": "stdin",
     "output_type": "stream",
     "text": [
      "Enter a binary: 100\n"
     ]
    },
    {
     "name": "stdout",
     "output_type": "stream",
     "text": [
      "Binary: 100 \n",
      "Decimal: 4\n"
     ]
    }
   ],
   "source": [
    "n=eval(input(\"Enter a binary:\"))\n",
    "d=n\n",
    "s=0\n",
    "i=0\n",
    "while n>0:\n",
    "    r=n%10\n",
    "    s=s+r*(2**i)\n",
    "    i=i+1\n",
    "    n=n//10\n",
    "print(\"Binary:\",d,\"\\nDecimal:\",s)"
   ]
  },
  {
   "cell_type": "code",
   "execution_count": 5,
   "id": "11dc0a74-2059-4cd5-94b9-32aaf6ecb4dd",
   "metadata": {},
   "outputs": [
    {
     "name": "stdin",
     "output_type": "stream",
     "text": [
      "Enter a lowercase or uppercase or number as a character if * then exist: \"K\"\n",
      "Enter a lowercase or uppercase or number as a character if * then exist: \"r\"\n",
      "Enter a lowercase or uppercase or number as a character if * then exist: \"7\"\n",
      "Enter a lowercase or uppercase or number as a character if * then exist: \"*\"\n"
     ]
    },
    {
     "name": "stdout",
     "output_type": "stream",
     "text": [
      "Number of lowercase characters: 1 \n",
      "Number of uppercase characters: 1 \n",
      "Number of digits: 1\n"
     ]
    }
   ],
   "source": [
    "lc=uc=nc=0\n",
    "while True:\n",
    "    n=eval(input(\"Enter a lowercase or uppercase or number as a character if * then exist:\"))\n",
    "    if n==\"*\":\n",
    "        break\n",
    "    elif n.islower():\n",
    "        lc=lc+1\n",
    "    elif n.isupper():\n",
    "        uc=uc+1\n",
    "    elif n.isdigit():\n",
    "        nc=nc+1\n",
    "    else:\n",
    "        print(\"Invalid input!\")\n",
    "        break\n",
    "print(\"Number of lowercase characters:\",lc,\"\\nNumber of uppercase characters:\",uc,\"\\nNumber of digits:\",nc)"
   ]
  },
  {
   "cell_type": "code",
   "execution_count": 7,
   "id": "a878fb8b-8ae7-4703-b559-7ee6b953e664",
   "metadata": {},
   "outputs": [
    {
     "name": "stdin",
     "output_type": "stream",
     "text": [
      "Enter a number: 23\n"
     ]
    },
    {
     "name": "stdout",
     "output_type": "stream",
     "text": [
      "Number: 23 \n",
      "Sum of digits: 5\n"
     ]
    }
   ],
   "source": [
    "n=eval(input(\"Enter a number:\"))\n",
    "d=n\n",
    "s=0\n",
    "while d>0:\n",
    "    r=d%10\n",
    "    s=s+r\n",
    "    d=d//10\n",
    "print(\"Number:\",n,\"\\nSum of digits:\",s)"
   ]
  },
  {
   "cell_type": "code",
   "execution_count": 4,
   "id": "339e5be4-3c01-4cd4-b290-ef20370c2a36",
   "metadata": {},
   "outputs": [
    {
     "name": "stdin",
     "output_type": "stream",
     "text": [
      "Enter first number: 18\n",
      "Enter second number: 12\n"
     ]
    },
    {
     "name": "stdout",
     "output_type": "stream",
     "text": [
      "GCD of n1= 18 and n2= 12 is: 6\n"
     ]
    }
   ],
   "source": [
    "n1=eval(input(\"Enter first number:\"))\n",
    "n2=eval(input(\"Enter second number:\"))\n",
    "if n1>n2:\n",
    "    i=1\n",
    "    g1=0\n",
    "    while i<=n2:\n",
    "        if n2%i==0 and n1%i==0:\n",
    "            g1=i\n",
    "        i=i+1\n",
    "    print(\"GCD of n1=\",n1,\"and n2=\",n2,\"is:\",g1)\n",
    "else:\n",
    "    i=1\n",
    "    g2=0\n",
    "    while i<=n1:\n",
    "        if n1%i==0 and n2%i==0:\n",
    "            g2=i\n",
    "        i=i+1\n",
    "    print(\"GCD of n1=\",n1,\"and n2=\",n2,\"is:\",g2)"
   ]
  },
  {
   "cell_type": "code",
   "execution_count": 1,
   "id": "5a092524-e764-4a9d-bda3-f02b66d125f0",
   "metadata": {},
   "outputs": [
    {
     "name": "stdin",
     "output_type": "stream",
     "text": [
      "Enter the number of digits in number: 3\n",
      "Enter a number: 903\n"
     ]
    },
    {
     "name": "stdout",
     "output_type": "stream",
     "text": [
      "Number: 903 \n",
      "Reverse: 309\n"
     ]
    }
   ],
   "source": [
    "i=eval(input(\"Enter the number of digits in number:\"))\n",
    "n=eval(input(\"Enter a number:\"))\n",
    "d=n\n",
    "s=0\n",
    "i=i-1\n",
    "while d>0:\n",
    "    r=d%10\n",
    "    s=s+r*(10**i)\n",
    "    i=i-1\n",
    "    d=d//10\n",
    "print(\"Number:\",n,\"\\nReverse:\",s)"
   ]
  },
  {
   "cell_type": "code",
   "execution_count": 2,
   "id": "74377f56-f2ff-47e8-87d6-7fa62625d447",
   "metadata": {},
   "outputs": [
    {
     "name": "stdin",
     "output_type": "stream",
     "text": [
      "Enter a number: 5\n"
     ]
    },
    {
     "name": "stdout",
     "output_type": "stream",
     "text": [
      "Countdown starts:\n",
      "5\t4\t3\t2\t1\t0\t"
     ]
    }
   ],
   "source": [
    "n=eval(input(\"Enter a number:\"))\n",
    "print(\"Countdown starts:\")\n",
    "while n>-1:\n",
    "    print(n,end=\"\\t\")\n",
    "    n=n-1"
   ]
  },
  {
   "cell_type": "code",
   "execution_count": 3,
   "id": "80e0124c-e17a-43eb-abe3-d4c97fdfe35f",
   "metadata": {},
   "outputs": [
    {
     "name": "stdin",
     "output_type": "stream",
     "text": [
      "Enter the last limit: 5\n"
     ]
    },
    {
     "name": "stdout",
     "output_type": "stream",
     "text": [
      "Average: 3.0\n"
     ]
    }
   ],
   "source": [
    "n=eval(input(\"Enter the last limit:\"))\n",
    "i=1\n",
    "s=0\n",
    "while i<=n:\n",
    "    s=s+i\n",
    "    i=i+1\n",
    "a=s/n\n",
    "print(\"Average:\",a)"
   ]
  },
  {
   "cell_type": "code",
   "execution_count": 5,
   "id": "d31e2a43-8c25-42d2-bd12-2b535dbcd2ea",
   "metadata": {},
   "outputs": [
    {
     "name": "stdin",
     "output_type": "stream",
     "text": [
      "Enter a number to begin: 0\n",
      "Enter a number to end: 11\n",
      "Enter a number for step: 1\n"
     ]
    },
    {
     "name": "stdout",
     "output_type": "stream",
     "text": [
      "0\t1\t2\t3\t4\t5\t6\t7\t8\t9\t10\t"
     ]
    }
   ],
   "source": [
    "b=eval(input(\"Enter a number to begin:\"))\n",
    "e=eval(input(\"Enter a number to end:\"))\n",
    "s=eval(input(\"Enter a number for step:\"))\n",
    "for i in range(b,e,s):\n",
    "    print(i,end=\"\\t\")"
   ]
  },
  {
   "cell_type": "code",
   "execution_count": 6,
   "id": "7d389c31-932a-4451-9811-26436485ed08",
   "metadata": {},
   "outputs": [],
   "source": [
    "#Loops can be of different types are pre-test(entry-controlled),post-test(exist-controlled),counter-controlled and condition-controlled."
   ]
  },
  {
   "cell_type": "code",
   "execution_count": 7,
   "id": "8fb4f78f-6092-44be-93df-8e93bda6e460",
   "metadata": {},
   "outputs": [
    {
     "name": "stdin",
     "output_type": "stream",
     "text": [
      "Enter the last limit: 5\n"
     ]
    },
    {
     "name": "stdout",
     "output_type": "stream",
     "text": [
      "Average: 3.0\n"
     ]
    }
   ],
   "source": [
    "n=eval(input(\"Enter the last limit:\"))\n",
    "s=0\n",
    "for i in range(1,n+1,1):\n",
    "    s=s+i\n",
    "a=s/n\n",
    "print(\"Average:\",a)"
   ]
  },
  {
   "cell_type": "code",
   "execution_count": 9,
   "id": "8381f70a-47f5-4622-b153-a314b7d5090d",
   "metadata": {},
   "outputs": [
    {
     "name": "stdin",
     "output_type": "stream",
     "text": [
      "Enter a number 9\n"
     ]
    },
    {
     "name": "stdout",
     "output_type": "stream",
     "text": [
      "Table:\n",
      "9 * 1 = 9\n",
      "9 * 2 = 18\n",
      "9 * 3 = 27\n",
      "9 * 4 = 36\n",
      "9 * 5 = 45\n",
      "9 * 6 = 54\n",
      "9 * 7 = 63\n",
      "9 * 8 = 72\n",
      "9 * 9 = 81\n",
      "9 * 10 = 90\n"
     ]
    }
   ],
   "source": [
    "n=eval(input(\"Enter a number\"))\n",
    "print(\"Table:\")\n",
    "p=0\n",
    "for i in range(1,10+1,1):\n",
    "    p=n*i\n",
    "    print(n,\"*\",i,\"=\",p)"
   ]
  },
  {
   "cell_type": "code",
   "execution_count": 11,
   "id": "3a630366-fdc1-4d32-9956-812f13303dee",
   "metadata": {},
   "outputs": [
    {
     "name": "stdin",
     "output_type": "stream",
     "text": [
      "Enter the first limit: 0\n",
      "Enter the last limit: 4\n"
     ]
    },
    {
     "name": "stdout",
     "output_type": "stream",
     "text": [
      "0 is even!\n",
      "1 is odd!\n",
      "2 is even!\n",
      "3 is odd!\n",
      "4 is even!\n"
     ]
    }
   ],
   "source": [
    "m=eval(input(\"Enter the first limit:\"))\n",
    "n=eval(input(\"Enter the last limit:\"))\n",
    "for i in range(m,n+1,1):\n",
    "    if i%2==0:\n",
    "        print(i,\"is even!\")\n",
    "    else:\n",
    "        print(i,\"is odd!\")"
   ]
  },
  {
   "cell_type": "code",
   "execution_count": 12,
   "id": "4b3ac1dd-363f-476e-ae96-1ca709966e25",
   "metadata": {},
   "outputs": [
    {
     "name": "stdin",
     "output_type": "stream",
     "text": [
      "Enter a number: 5\n"
     ]
    },
    {
     "name": "stdout",
     "output_type": "stream",
     "text": [
      "Factorial: 120\n"
     ]
    }
   ],
   "source": [
    "n=eval(input(\"Enter a number:\"))\n",
    "p=1\n",
    "for i in range(1,n+1,1):\n",
    "    p=p*i\n",
    "print(\"Factorial:\",p)"
   ]
  },
  {
   "cell_type": "code",
   "execution_count": 15,
   "id": "1c4cf846-76cd-4551-8c1c-16145f73ac70",
   "metadata": {},
   "outputs": [
    {
     "name": "stdin",
     "output_type": "stream",
     "text": [
      "Enter a number greater than 1: 4\n"
     ]
    },
    {
     "name": "stdout",
     "output_type": "stream",
     "text": [
      "Composite number!\n"
     ]
    }
   ],
   "source": [
    "n=eval(input(\"Enter a number greater than 1:\"))\n",
    "c=0\n",
    "for i in range(1,n+1,1):\n",
    "    if n%i==0:\n",
    "        c=c+1\n",
    "if c==2:\n",
    "    print(\"Prime number!\")\n",
    "else:\n",
    "    print(\"Composite number!\")"
   ]
  },
  {
   "cell_type": "code",
   "execution_count": 20,
   "id": "968026d8-dacc-41cf-9d56-dd513cf9675a",
   "metadata": {},
   "outputs": [
    {
     "name": "stdin",
     "output_type": "stream",
     "text": [
      "Enter a number greater than 1 if -1 then exist: 2\n",
      "Enter a number greater than 1 if -1 then exist: 4\n",
      "Enter a number greater than 1 if -1 then exist: -1\n"
     ]
    },
    {
     "name": "stdout",
     "output_type": "stream",
     "text": [
      "Number of prime numbers: 1\n",
      "Number of composite numbers: 1\n"
     ]
    }
   ],
   "source": [
    "pc=cc=0\n",
    "while True:\n",
    "    n=eval(input(\"Enter a number greater than 1 if -1 then exist:\"))\n",
    "    c=0\n",
    "    if n==-1:\n",
    "        break\n",
    "    for i in range(1,n+1,1):\n",
    "        if n%i==0:\n",
    "            c=c+1\n",
    "    if c==2:\n",
    "        pc=pc+1\n",
    "    else:\n",
    "        cc=cc+1\n",
    "print(\"Number of prime numbers:\",pc)\n",
    "print(\"Number of composite numbers:\",cc)"
   ]
  },
  {
   "cell_type": "code",
   "execution_count": 21,
   "id": "319a8fe3-446d-4b51-a904-8ae44fe6b2b6",
   "metadata": {},
   "outputs": [
    {
     "name": "stdin",
     "output_type": "stream",
     "text": [
      "Enter the base: 2\n",
      "Enter the power: 3\n"
     ]
    },
    {
     "name": "stdout",
     "output_type": "stream",
     "text": [
      "Base: 2 \n",
      "Power: 3 \n",
      "Exponent: 8\n"
     ]
    }
   ],
   "source": [
    "b=eval(input(\"Enter the base:\"))\n",
    "p=eval(input(\"Enter the power:\"))\n",
    "i=1\n",
    "n=1\n",
    "while i<=p:\n",
    "    n=n*b\n",
    "    i=i+1\n",
    "print(\"Base:\",b,\"\\nPower:\",p,\"\\nExponent:\",n)"
   ]
  },
  {
   "cell_type": "code",
   "execution_count": 23,
   "id": "43a33c55-2964-4497-9fb7-8da0a15ef103",
   "metadata": {},
   "outputs": [
    {
     "name": "stdout",
     "output_type": "stream",
     "text": [
      "Leap year:\n",
      "1900 1904 1908 1912 1916 1920 1924 1928 1932 1936 1940 1944 1948 1952 1956 1960 1964 1968 1972 1976 1980 1984 1988 1992 1996 2000 2004 2008 2012 2016 2020 2024 2028 2032 2036 2040 2044 2048 2052 2056 2060 2064 2068 2072 2076 2080 2084 2088 2092 2096 2100 "
     ]
    }
   ],
   "source": [
    "print(\"Leap year:\")\n",
    "for i in range(1900,2101,1):\n",
    "    if i%4==0:\n",
    "        print(i,end=\" \")"
   ]
  },
  {
   "cell_type": "code",
   "execution_count": 25,
   "id": "7384d883-d0cf-4f77-832b-576f0abfc5eb",
   "metadata": {},
   "outputs": [
    {
     "name": "stdin",
     "output_type": "stream",
     "text": [
      "Enter the limit: 5\n"
     ]
    },
    {
     "name": "stdout",
     "output_type": "stream",
     "text": [
      "Series: 2.283333333333333\n"
     ]
    }
   ],
   "source": [
    "n=eval(input(\"Enter the limit:\"))\n",
    "s=0\n",
    "for i in range(1,n+1,1):\n",
    "    s=s+(1/i)\n",
    "print(\"Series:\",s)"
   ]
  },
  {
   "cell_type": "code",
   "execution_count": 26,
   "id": "fd73328f-7d1d-448b-8f91-9cf181f827e8",
   "metadata": {},
   "outputs": [
    {
     "name": "stdin",
     "output_type": "stream",
     "text": [
      "Enter the limit: 5\n"
     ]
    },
    {
     "name": "stdout",
     "output_type": "stream",
     "text": [
      "Series: 1.4636111111111112\n"
     ]
    }
   ],
   "source": [
    "n=eval(input(\"Enter the limit:\"))\n",
    "s=0\n",
    "for i in range(1,n+1,1):\n",
    "    s=s+(1/(i**2))\n",
    "print(\"Series:\",s)"
   ]
  },
  {
   "cell_type": "code",
   "execution_count": 29,
   "id": "09d88c0d-52e8-4049-ac62-ec3f3f57f097",
   "metadata": {},
   "outputs": [
    {
     "name": "stdin",
     "output_type": "stream",
     "text": [
      "Enter the limit: 5\n"
     ]
    },
    {
     "name": "stdout",
     "output_type": "stream",
     "text": [
      "Series: 3.5500000000000003\n"
     ]
    }
   ],
   "source": [
    "n=eval(input(\"Enter the limit:\"))\n",
    "s=0\n",
    "for i in range(1,n+1,1):\n",
    "    s=s+(i/(i+1))\n",
    "print(\"Series:\",s)"
   ]
  },
  {
   "cell_type": "code",
   "execution_count": 31,
   "id": "401a6e8f-abbd-4d6a-849d-3a85c6d03e0b",
   "metadata": {},
   "outputs": [
    {
     "name": "stdin",
     "output_type": "stream",
     "text": [
      "Enter the limit: 5\n"
     ]
    },
    {
     "name": "stdout",
     "output_type": "stream",
     "text": [
      "Series: 701.0\n"
     ]
    }
   ],
   "source": [
    "n=eval(input(\"Enter the limit:\"))\n",
    "s=0\n",
    "for i in range(1,n+1,1):\n",
    "    s=s+(i**i/i)\n",
    "print(\"Series:\",s)"
   ]
  },
  {
   "cell_type": "code",
   "execution_count": 32,
   "id": "0fb38132-de45-4dde-89fb-80f40b21e90d",
   "metadata": {},
   "outputs": [
    {
     "name": "stdin",
     "output_type": "stream",
     "text": [
      "Enter the limit: 5\n"
     ]
    },
    {
     "name": "stdout",
     "output_type": "stream",
     "text": [
      "Series: 225\n"
     ]
    }
   ],
   "source": [
    "n=eval(input(\"Enter the limit:\"))\n",
    "s=0\n",
    "for i in range(1,n+1,1):\n",
    "    s=s+(i**3)\n",
    "print(\"Series:\",s)"
   ]
  },
  {
   "cell_type": "code",
   "execution_count": 33,
   "id": "1c53aa27-0515-4902-9e34-940aaf543b7a",
   "metadata": {},
   "outputs": [
    {
     "name": "stdin",
     "output_type": "stream",
     "text": [
      "Enter the last limit: 5\n"
     ]
    },
    {
     "name": "stdout",
     "output_type": "stream",
     "text": [
      "Sum of even squares: 20\n"
     ]
    }
   ],
   "source": [
    "n=eval(input(\"Enter the last limit:\"))\n",
    "s=0\n",
    "for i in range(0,n+1,1):\n",
    "    if i%2==0:\n",
    "        s=s+i**2\n",
    "print(\"Sum of even squares:\",s)"
   ]
  },
  {
   "cell_type": "code",
   "execution_count": 3,
   "id": "f685390c-8082-4390-af1c-cd1fac534461",
   "metadata": {},
   "outputs": [
    {
     "name": "stdin",
     "output_type": "stream",
     "text": [
      "Enter the principal: 20000\n",
      "Enter the rate: 12\n",
      "Enter the time: 5\n"
     ]
    },
    {
     "name": "stdout",
     "output_type": "stream",
     "text": [
      "Principal: 20000 \n",
      "Rate: 12 \n",
      "Time: 5\n",
      "Year\t\tValue\n",
      "1 \t 22400.000000000004\n",
      "2 \t 25088.000000000007\n",
      "3 \t 28098.560000000012\n",
      "4 \t 31470.387200000016\n",
      "5 \t 35246.83366400002\n"
     ]
    }
   ],
   "source": [
    "p=eval(input(\"Enter the principal:\"))\n",
    "r=eval(input(\"Enter the rate:\"))\n",
    "t=eval(input(\"Enter the time:\"))\n",
    "a=p\n",
    "print(\"Principal:\",p,\"\\nRate:\",r,\"\\nTime:\",t)\n",
    "print(\"Year\\t\\tValue\")\n",
    "for i in range(1,t+1,1):\n",
    "    a=a*(1+(r/100.0))\n",
    "    print(i,\"\\t\",a)"
   ]
  },
  {
   "cell_type": "code",
   "execution_count": 23,
   "id": "d787bdc4-ce2a-4cd8-9933-ec91bde4c0f2",
   "metadata": {},
   "outputs": [
    {
     "name": "stdin",
     "output_type": "stream",
     "text": [
      "Enter the limit: 5\n"
     ]
    },
    {
     "name": "stdout",
     "output_type": "stream",
     "text": [
      "Pass 1 - 1 2 3 4 5 \n",
      "Pass 2 - 1 2 3 4 5 \n",
      "Pass 3 - 1 2 3 4 5 \n",
      "Pass 4 - 1 2 3 4 5 \n",
      "Pass 5 - 1 2 3 4 5 \n"
     ]
    }
   ],
   "source": [
    "n=eval(input(\"Enter the limit:\"))\n",
    "for i in range(1,n+1,1):\n",
    "    print(\"Pass\",i,\"-\",end=\" \")\n",
    "    for j in range(1,n+1,1):\n",
    "        print(j,end=\" \")\n",
    "    print()"
   ]
  },
  {
   "cell_type": "code",
   "execution_count": 25,
   "id": "8bc7da17-a467-4e9d-9739-3842fe16e21b",
   "metadata": {},
   "outputs": [
    {
     "name": "stdin",
     "output_type": "stream",
     "text": [
      "Enter the limit: 5\n"
     ]
    },
    {
     "name": "stdout",
     "output_type": "stream",
     "text": [
      "*****\n",
      "*****\n",
      "*****\n",
      "*****\n",
      "*****\n"
     ]
    }
   ],
   "source": [
    "n=eval(input(\"Enter the limit:\"))\n",
    "for i in range(1,n+1,1):\n",
    "    for j in range(1,n+1,1):\n",
    "        print(\"*\",end=\"\")\n",
    "    print()"
   ]
  },
  {
   "cell_type": "code",
   "execution_count": 27,
   "id": "2b763994-98c3-4cf4-9be5-2bd4477c645c",
   "metadata": {},
   "outputs": [
    {
     "name": "stdin",
     "output_type": "stream",
     "text": [
      "Enter the limit: 5\n"
     ]
    },
    {
     "name": "stdout",
     "output_type": "stream",
     "text": [
      "*\n",
      "**\n",
      "***\n",
      "****\n",
      "*****\n"
     ]
    }
   ],
   "source": [
    "n=eval(input(\"Enter the limit:\"))\n",
    "for i in range(1,n+1,1):\n",
    "    for j in range(1,i+1,1):\n",
    "        print(\"*\",end=\"\")\n",
    "    print()"
   ]
  },
  {
   "cell_type": "code",
   "execution_count": 28,
   "id": "d683616d-d9b6-4df8-91dd-47225f4f23f1",
   "metadata": {},
   "outputs": [
    {
     "name": "stdin",
     "output_type": "stream",
     "text": [
      "Enter the limit: 5\n"
     ]
    },
    {
     "name": "stdout",
     "output_type": "stream",
     "text": [
      "1\n",
      "12\n",
      "123\n",
      "1234\n",
      "12345\n"
     ]
    }
   ],
   "source": [
    "n=eval(input(\"Enter the limit:\"))\n",
    "for i in range(1,n+1,1):\n",
    "    for j in range(1,i+1,1):\n",
    "        print(j,end=\"\")\n",
    "    print()"
   ]
  },
  {
   "cell_type": "code",
   "execution_count": 29,
   "id": "6b52c3b8-0be1-43f5-b01b-5e7657303f2a",
   "metadata": {},
   "outputs": [
    {
     "name": "stdin",
     "output_type": "stream",
     "text": [
      "Enter the limit: 5\n"
     ]
    },
    {
     "name": "stdout",
     "output_type": "stream",
     "text": [
      "1\n",
      "22\n",
      "333\n",
      "4444\n",
      "55555\n"
     ]
    }
   ],
   "source": [
    "n=eval(input(\"Enter the limit:\"))\n",
    "for i in range(1,n+1,1):\n",
    "    for j in range(1,i+1,1):\n",
    "        print(i,end=\"\")\n",
    "    print()"
   ]
  },
  {
   "cell_type": "code",
   "execution_count": 30,
   "id": "83a01395-fd3f-42b7-840f-afb0747998b3",
   "metadata": {},
   "outputs": [
    {
     "name": "stdin",
     "output_type": "stream",
     "text": [
      "Enter the limit: 5\n"
     ]
    },
    {
     "name": "stdout",
     "output_type": "stream",
     "text": [
      "0\n",
      "12\n",
      "345\n",
      "6789\n",
      "1011121314\n"
     ]
    }
   ],
   "source": [
    "n=eval(input(\"Enter the limit:\"))\n",
    "c=0\n",
    "for i in range(1,n+1,1):\n",
    "    for j in range(1,i+1,1):\n",
    "        print(c,end=\"\")\n",
    "        c=c+1\n",
    "    print()"
   ]
  },
  {
   "cell_type": "code",
   "execution_count": 34,
   "id": "d523acef-f728-4b12-bba3-c3b21c0277b5",
   "metadata": {},
   "outputs": [
    {
     "name": "stdin",
     "output_type": "stream",
     "text": [
      "Enter the limit: 5\n"
     ]
    },
    {
     "name": "stdout",
     "output_type": "stream",
     "text": [
      "    1\n",
      "   12\n",
      "  123\n",
      " 1234\n",
      "12345\n"
     ]
    }
   ],
   "source": [
    "n=eval(input(\"Enter the limit:\"))\n",
    "for i in range(1,n+1,1):\n",
    "    for j in range(n,i,-1):\n",
    "        print(\" \",end=\"\")\n",
    "    for k in range(1,i+1,1):\n",
    "        print(k,end=\"\")\n",
    "    print()"
   ]
  },
  {
   "cell_type": "code",
   "execution_count": 37,
   "id": "d6d1ddad-f80d-4f25-88ac-c3055c8498ae",
   "metadata": {},
   "outputs": [
    {
     "name": "stdin",
     "output_type": "stream",
     "text": [
      "Enter the limit: 5\n"
     ]
    },
    {
     "name": "stdout",
     "output_type": "stream",
     "text": [
      "    1\n",
      "   121\n",
      "  12321\n",
      " 1234321\n",
      "123454321\n"
     ]
    }
   ],
   "source": [
    "n=eval(input(\"Enter the limit:\"))\n",
    "for i in range(1,n+1,1):\n",
    "    for j in range(n,i,-1):\n",
    "        print(\" \",end=\"\")\n",
    "    for k in range(1,i+1,1):\n",
    "        print(k,end=\"\")\n",
    "    for l in range(i-1,0,-1):\n",
    "        print(l,end=\"\")\n",
    "    print()"
   ]
  },
  {
   "cell_type": "code",
   "execution_count": 38,
   "id": "d7396996-9b45-48c3-854f-1a313381f60f",
   "metadata": {},
   "outputs": [
    {
     "name": "stdin",
     "output_type": "stream",
     "text": [
      "Enter the limit: 5\n"
     ]
    },
    {
     "name": "stdout",
     "output_type": "stream",
     "text": [
      "    1 \n",
      "   2 2 \n",
      "  3 3 3 \n",
      " 4 4 4 4 \n",
      "5 5 5 5 5 \n"
     ]
    }
   ],
   "source": [
    "n=eval(input(\"Enter the limit:\"))\n",
    "for i in range(1,n+1,1):\n",
    "    for j in range(n,i,-1):\n",
    "        print(\" \",end=\"\")\n",
    "    for k in range(1,i+1,1):\n",
    "        print(i,end=\" \")\n",
    "    print()"
   ]
  },
  {
   "cell_type": "code",
   "execution_count": 39,
   "id": "994d8f47-7d00-452b-895e-ae9a939d5435",
   "metadata": {},
   "outputs": [
    {
     "name": "stdout",
     "output_type": "stream",
     "text": [
      "1 2 3 4 5 "
     ]
    }
   ],
   "source": [
    "i=1\n",
    "while i<=10:\n",
    "    if i==6:\n",
    "        break\n",
    "    print(i,end=\" \")\n",
    "    i=i+1"
   ]
  },
  {
   "cell_type": "code",
   "execution_count": null,
   "id": "8bfe2023-6789-44d8-9f17-5f7fdcf7aa21",
   "metadata": {},
   "outputs": [
    {
     "name": "stdout",
     "output_type": "stream",
     "text": [
      "1 2 3 4 5 "
     ]
    }
   ],
   "source": [
    "i=1\n",
    "while i<=10:\n",
    "    if i==6:\n",
    "        continue\n",
    "    print(i,end=\" \")\n",
    "    i=i+1"
   ]
  },
  {
   "cell_type": "code",
   "execution_count": 1,
   "id": "dd8e05d1-d2ab-4d2d-b28b-26c2446bd240",
   "metadata": {},
   "outputs": [
    {
     "name": "stdout",
     "output_type": "stream",
     "text": [
      "1/ 1 =1.000000\n",
      "1/ 2 =0.500000\n",
      "1/ 3 =0.333333\n",
      "1/ 4 =0.250000\n",
      "1/ 5 =0.200000\n",
      "1/ 6 =0.166667\n",
      "1/ 7 =0.142857\n",
      "1/ 8 =0.125000\n",
      "1/ 9 =0.111111\n",
      "1/ 10 =0.100000\n"
     ]
    }
   ],
   "source": [
    "for i in range(1,11,1):\n",
    "    print(\"1/\",i,\"=%f\"%(1.0/i))"
   ]
  },
  {
   "cell_type": "code",
   "execution_count": 4,
   "id": "b0a5ccf7-0c4c-47e0-a3aa-25816d88f9cc",
   "metadata": {},
   "outputs": [
    {
     "name": "stdin",
     "output_type": "stream",
     "text": [
      "Enter the limit: 3\n",
      "Enter the number if less than 0 then exist: -1\n"
     ]
    },
    {
     "name": "stdout",
     "output_type": "stream",
     "text": [
      "Sum= 0\n"
     ]
    }
   ],
   "source": [
    "n=eval(input(\"Enter the limit:\"))\n",
    "s=0\n",
    "for i in range(1,n+1,1):\n",
    "    num=eval(input(\"Enter the number if less than 0 then exist:\"))\n",
    "    if num<0:\n",
    "        break\n",
    "    elif num==0:\n",
    "        pass\n",
    "    else:\n",
    "        s=s+num\n",
    "print(\"Sum=\",s)"
   ]
  },
  {
   "cell_type": "code",
   "execution_count": null,
   "id": "f6fa396b-208c-4e42-aa94-4b08bab3c7d8",
   "metadata": {},
   "outputs": [],
   "source": []
  }
 ],
 "metadata": {
  "kernelspec": {
   "display_name": "Python 3 (ipykernel)",
   "language": "python",
   "name": "python3"
  },
  "language_info": {
   "codemirror_mode": {
    "name": "ipython",
    "version": 3
   },
   "file_extension": ".py",
   "mimetype": "text/x-python",
   "name": "python",
   "nbconvert_exporter": "python",
   "pygments_lexer": "ipython3",
   "version": "3.11.7"
  }
 },
 "nbformat": 4,
 "nbformat_minor": 5
}
