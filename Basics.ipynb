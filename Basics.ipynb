{
 "cells": [
  {
   "cell_type": "code",
   "execution_count": 1,
   "id": "0e465df2-45ae-4387-8141-520ad5ba70c4",
   "metadata": {},
   "outputs": [
    {
     "name": "stdout",
     "output_type": "stream",
     "text": [
      "5 <class 'int'>\n",
      "3500000.0 <class 'float'>\n",
      "(3+5j) <class 'complex'>\n"
     ]
    }
   ],
   "source": [
    "a=5\n",
    "c=3.5E+06\n",
    "d=3+5j\n",
    "print(a,type(a))\n",
    "print(c,type(c))\n",
    "print(d,type(d))"
   ]
  },
  {
   "cell_type": "code",
   "execution_count": 2,
   "id": "ec0d4216-dcf5-4290-b42c-79fa27f43a3b",
   "metadata": {},
   "outputs": [
    {
     "name": "stdout",
     "output_type": "stream",
     "text": [
      "inf\n"
     ]
    }
   ],
   "source": [
    "#Arithmetic overflow\n",
    "print(5.5E400*3.5E500)"
   ]
  },
  {
   "cell_type": "code",
   "execution_count": 3,
   "id": "8beef62e-95b1-4213-9435-945c901a3055",
   "metadata": {},
   "outputs": [
    {
     "name": "stdout",
     "output_type": "stream",
     "text": [
      "0.0\n"
     ]
    }
   ],
   "source": [
    "#Arithmetic underflow\n",
    "print(5.5E-500/4.5E600)"
   ]
  },
  {
   "cell_type": "code",
   "execution_count": 4,
   "id": "6eac7077-7a9d-4b38-98e3-a7a145387c4b",
   "metadata": {},
   "outputs": [
    {
     "name": "stdout",
     "output_type": "stream",
     "text": [
      "0.3333333333333333\n"
     ]
    }
   ],
   "source": [
    "#Loss of Precision \n",
    "print(1/3)"
   ]
  },
  {
   "cell_type": "code",
   "execution_count": 5,
   "id": "c5fb6e0d-1153-4acf-b633-865bfb1a310c",
   "metadata": {},
   "outputs": [
    {
     "name": "stdout",
     "output_type": "stream",
     "text": [
      "5.333333333333333\n",
      "5.33\n"
     ]
    }
   ],
   "source": [
    "a=float(16/float(3))\n",
    "print(a)\n",
    "print(format(a,\".2f\"))"
   ]
  },
  {
   "cell_type": "code",
   "execution_count": 6,
   "id": "eec3e3a3-ec66-4663-8c43-b3329ab57912",
   "metadata": {},
   "outputs": [
    {
     "name": "stdout",
     "output_type": "stream",
     "text": [
      "1024\n",
      "1.0e+03\n"
     ]
    }
   ],
   "source": [
    "a=2**10\n",
    "print(a)\n",
    "print(format(a,\".1e\"))"
   ]
  },
  {
   "cell_type": "code",
   "execution_count": 7,
   "id": "d5e3ccb1-56a1-4804-8514-e740d729ca4b",
   "metadata": {},
   "outputs": [
    {
     "name": "stdout",
     "output_type": "stream",
     "text": [
      "123456789\n",
      "123,456,789\n"
     ]
    }
   ],
   "source": [
    "a=123456789\n",
    "print(a)\n",
    "print(format(a,\",\"))"
   ]
  },
  {
   "cell_type": "code",
   "execution_count": 8,
   "id": "a1b4384a-2367-48d4-8bcb-1d23e1436d85",
   "metadata": {},
   "outputs": [],
   "source": [
    "#The format() function returns the numeric string of the floating value."
   ]
  },
  {
   "cell_type": "code",
   "execution_count": 9,
   "id": "cc3e672b-b333-4a51-a9ac-5b76753c720a",
   "metadata": {},
   "outputs": [
    {
     "name": "stdout",
     "output_type": "stream",
     "text": [
      "15.0 <class 'float'>\n",
      "5.0 <class 'float'>\n"
     ]
    }
   ],
   "source": [
    "#Implicit type conversion\n",
    "a=5*3.0\n",
    "b=15/3.0\n",
    "print(a,type(a))\n",
    "print(b,type(b))"
   ]
  },
  {
   "cell_type": "code",
   "execution_count": 10,
   "id": "289c5aa8-aa6b-4052-869c-be9ffb6242d4",
   "metadata": {},
   "outputs": [
    {
     "name": "stdout",
     "output_type": "stream",
     "text": [
      "2\n",
      "2\n"
     ]
    }
   ],
   "source": [
    "a=12//5#quotient\n",
    "b=12%5#remainder\n",
    "print(a)\n",
    "print(b)"
   ]
  },
  {
   "cell_type": "code",
   "execution_count": 11,
   "id": "3e0547ef-dbd2-4e01-b7b7-318449d07a30",
   "metadata": {},
   "outputs": [
    {
     "name": "stdout",
     "output_type": "stream",
     "text": [
      "py <class 'str'>\n",
      "Python <class 'str'>\n",
      "Python \n",
      "Programming <class 'str'>\n"
     ]
    }
   ],
   "source": [
    "st1='py'\n",
    "st2=\"Python\"\n",
    "st3='''Python \n",
    "Programming'''#multi-line string\n",
    "print(st1,type(st1))\n",
    "print(st2,type(st2))\n",
    "print(st3,type(st3))"
   ]
  },
  {
   "cell_type": "code",
   "execution_count": 12,
   "id": "b0c6965d-e075-46e4-845d-dda69c33ce59",
   "metadata": {},
   "outputs": [
    {
     "name": "stdout",
     "output_type": "stream",
     "text": [
      "logic\n"
     ]
    }
   ],
   "source": [
    "#Concatenation of strings using +\n",
    "a=\"log\"\n",
    "b=\"ic\"\n",
    "print(a+b)"
   ]
  },
  {
   "cell_type": "code",
   "execution_count": 13,
   "id": "dc3191e3-488d-425b-931c-3ec09f439ccc",
   "metadata": {},
   "outputs": [
    {
     "name": "stdout",
     "output_type": "stream",
     "text": [
      "ring\n"
     ]
    },
    {
     "ename": "TypeError",
     "evalue": "'str' object does not support item assignment",
     "output_type": "error",
     "traceback": [
      "\u001b[1;31m---------------------------------------------------------------------------\u001b[0m",
      "\u001b[1;31mTypeError\u001b[0m                                 Traceback (most recent call last)",
      "Cell \u001b[1;32mIn[13], line 5\u001b[0m\n\u001b[0;32m      3\u001b[0m a\u001b[38;5;241m=\u001b[39ma[\u001b[38;5;241m2\u001b[39m:]\n\u001b[0;32m      4\u001b[0m \u001b[38;5;28mprint\u001b[39m(a)\n\u001b[1;32m----> 5\u001b[0m a[\u001b[38;5;241m3\u001b[39m]\u001b[38;5;241m=\u001b[39m\u001b[38;5;124m\"\u001b[39m\u001b[38;5;124mo\u001b[39m\u001b[38;5;124m\"\u001b[39m\n\u001b[0;32m      6\u001b[0m \u001b[38;5;28mprint\u001b[39m(a)\n",
      "\u001b[1;31mTypeError\u001b[0m: 'str' object does not support item assignment"
     ]
    }
   ],
   "source": [
    "#Strings are immutable means we cannot modify\n",
    "a=\"String\"\n",
    "a=a[2:]\n",
    "print(a)\n",
    "a[3]=\"o\"\n",
    "print(a)"
   ]
  },
  {
   "cell_type": "code",
   "execution_count": 17,
   "id": "7715f5de-bcf5-4bcf-99bf-900f16f862e4",
   "metadata": {},
   "outputs": [
    {
     "name": "stdout",
     "output_type": "stream",
     "text": [
      "अजगर <class 'str'>\n",
      "पाइथन <class 'str'>\n"
     ]
    }
   ],
   "source": [
    "#Unicode string\n",
    "a=u\"अजगर\"\n",
    "print(a,type(a))\n",
    "a=U\"पाइथन\"\n",
    "print(a,type(a))"
   ]
  },
  {
   "cell_type": "code",
   "execution_count": 19,
   "id": "56ca8bd4-d404-4f48-8805-2425b290fcc9",
   "metadata": {},
   "outputs": [
    {
     "name": "stdout",
     "output_type": "stream",
     "text": [
      "What's your name?\n",
      "Hi! \"I am Python.\"\n"
     ]
    }
   ],
   "source": [
    "a=\"What\\'s your name?\"\n",
    "print(a)\n",
    "b=\"Hi! \\\"I am Python.\\\"\"\n",
    "print(b)"
   ]
  },
  {
   "cell_type": "code",
   "execution_count": 20,
   "id": "a6d44e95-ab41-423b-aee5-cbda80b27c1e",
   "metadata": {},
   "outputs": [
    {
     "name": "stdout",
     "output_type": "stream",
     "text": [
      "Hello\tWorld\n"
     ]
    }
   ],
   "source": [
    "a=\"Hello\\tWorld\"\n",
    "print(a)"
   ]
  },
  {
   "cell_type": "code",
   "execution_count": 21,
   "id": "039cd8ce-dc96-4e61-83d1-919548a1c6f0",
   "metadata": {},
   "outputs": [
    {
     "name": "stdout",
     "output_type": "stream",
     "text": [
      "Welcome to the world of Python. Python is most popular programming language.\n"
     ]
    }
   ],
   "source": [
    "a=\"Welcome to the world of Python. \\\n",
    "Python is most popular programming language.\"\n",
    "print(a)"
   ]
  },
  {
   "cell_type": "code",
   "execution_count": 22,
   "id": "d23a0137-e96e-492f-a6bc-4c53dd6a1c38",
   "metadata": {},
   "outputs": [
    {
     "name": "stdout",
     "output_type": "stream",
     "text": [
      "\\PY\\\n",
      "\u0007\n",
      "Hello\f",
      "PY\n",
      "Hello\n",
      "PY\n",
      "Hello\tPY\n",
      "7\n",
      "10\n"
     ]
    }
   ],
   "source": [
    "a=\"\\\\PY\\\\\"\n",
    "print(a)\n",
    "print(\"\\a\")#\"\\a\" rings bell \n",
    "print(\"Hello\\fPY\")#\"\\f\" form feed\n",
    "print(\"Hello\\nPY\")#\"\\n\" new line\n",
    "print(\"Hello\\tPY\")#\"\\t\" tab\n",
    "a=0o7\n",
    "b=0xA\n",
    "print(a)\n",
    "print(b)"
   ]
  },
  {
   "cell_type": "code",
   "execution_count": 23,
   "id": "23d6fdfc-1135-447e-805b-b51b15b1f83a",
   "metadata": {},
   "outputs": [
    {
     "name": "stdout",
     "output_type": "stream",
     "text": [
      "What\\'s your name? <class 'str'>\n"
     ]
    }
   ],
   "source": [
    "#Raw string\n",
    "a=R\"What\\'s your name?\"\n",
    "print(a,type(a))"
   ]
  },
  {
   "cell_type": "code",
   "execution_count": 24,
   "id": "ce53bf30-d202-42a1-91d3-43596993ac77",
   "metadata": {},
   "outputs": [
    {
     "name": "stdout",
     "output_type": "stream",
     "text": [
      "Hello                         \n",
      "                         Hello\n",
      "            Hello             \n"
     ]
    }
   ],
   "source": [
    "#String formatting\n",
    "print(format(\"Hello\",\"<30\"))#right-justified\n",
    "print(format(\"Hello\",\">30\"))#left-justified\n",
    "print(format(\"Hello\",\"^30\"))#center-aligned"
   ]
  },
  {
   "cell_type": "code",
   "execution_count": 25,
   "id": "f2ba9272-5a48-4be8-adb4-a56608636ed3",
   "metadata": {},
   "outputs": [
    {
     "name": "stdout",
     "output_type": "stream",
     "text": [
      "Hello ---------- World\n"
     ]
    }
   ],
   "source": [
    "print(\"Hello\",format(\"-\",\"-<10\"),\"World\")"
   ]
  },
  {
   "cell_type": "code",
   "execution_count": 26,
   "id": "3eae4da7-458b-4a0b-bbc0-d29a0599ffa8",
   "metadata": {},
   "outputs": [],
   "source": [
    "#Python is a case-sensitive language.\n",
    "#Python is a purely object-oriented language.\n",
    "#Variable name cannot start with a number and we can only use underscore as the special character.\n",
    "#In python, we do not require to give the data type explicitly as it is done dynamically or automatically.\n",
    "#We can use the same variable to reassign the value to the variable."
   ]
  },
  {
   "cell_type": "code",
   "execution_count": 27,
   "id": "784bde14-ca50-4384-b60b-f531cb2e3d1d",
   "metadata": {},
   "outputs": [
    {
     "name": "stdout",
     "output_type": "stream",
     "text": [
      "5 5 5\n",
      "3 4 5\n"
     ]
    }
   ],
   "source": [
    "#Multiple assignment with same value\n",
    "a=b=c=5\n",
    "print(a,b,c)\n",
    "#Multiple assignment with different value\n",
    "a,b,c=3,4,5\n",
    "print(a,b,c)"
   ]
  },
  {
   "cell_type": "code",
   "execution_count": 28,
   "id": "6af1490b-c24d-4aab-836d-3cdfc215ffcd",
   "metadata": {},
   "outputs": [
    {
     "name": "stdout",
     "output_type": "stream",
     "text": [
      "5\n"
     ]
    },
    {
     "ename": "NameError",
     "evalue": "name 'a' is not defined",
     "output_type": "error",
     "traceback": [
      "\u001b[1;31m---------------------------------------------------------------------------\u001b[0m",
      "\u001b[1;31mNameError\u001b[0m                                 Traceback (most recent call last)",
      "Cell \u001b[1;32mIn[28], line 5\u001b[0m\n\u001b[0;32m      3\u001b[0m \u001b[38;5;28mprint\u001b[39m(a)\n\u001b[0;32m      4\u001b[0m \u001b[38;5;28;01mdel\u001b[39;00m a\n\u001b[1;32m----> 5\u001b[0m \u001b[38;5;28mprint\u001b[39m(a)\n",
      "\u001b[1;31mNameError\u001b[0m: name 'a' is not defined"
     ]
    }
   ],
   "source": [
    "#del is used to delete a variable\n",
    "a=5\n",
    "print(a)\n",
    "del a\n",
    "print(a)"
   ]
  },
  {
   "cell_type": "code",
   "execution_count": 29,
   "id": "07b66aa3-d1e2-4e04-abd1-355cd32f0203",
   "metadata": {},
   "outputs": [],
   "source": [
    "#There are two types of lines in a program code-\n",
    "#i)physical line-It is what we see while writing the program.\n",
    "#ii)logical line-It is what we see as a single statement.\n",
    "#Python assumes each physical line as a logical line."
   ]
  },
  {
   "cell_type": "code",
   "execution_count": 30,
   "id": "068ea65c-2a71-4f3d-8005-e98a35815b58",
   "metadata": {},
   "outputs": [
    {
     "name": "stdout",
     "output_type": "stream",
     "text": [
      "True <class 'bool'>\n",
      "False <class 'bool'>\n"
     ]
    }
   ],
   "source": [
    "a=True\n",
    "b=False\n",
    "print(a,type(a))\n",
    "print(b,type(b))"
   ]
  },
  {
   "cell_type": "code",
   "execution_count": 31,
   "id": "d9d88bee-e02b-4bf3-b2c6-6fa80ba08057",
   "metadata": {},
   "outputs": [
    {
     "name": "stdin",
     "output_type": "stream",
     "text": [
      "Enter your name: Vikram\n",
      "Enter your age: 23\n"
     ]
    },
    {
     "name": "stdout",
     "output_type": "stream",
     "text": [
      "Vikram 23\n",
      "<class 'str'> <class 'str'>\n"
     ]
    }
   ],
   "source": [
    "#The input() function takes the input as a string always.\n",
    "name=input(\"Enter your name:\")\n",
    "age=input(\"Enter your age:\")\n",
    "print(name,age)\n",
    "print(type(name),type(age))"
   ]
  },
  {
   "cell_type": "code",
   "execution_count": 33,
   "id": "5de2425f-bf9c-4a20-ab68-2903ff68a85a",
   "metadata": {},
   "outputs": [],
   "source": [
    "#Comments are non-executable statements and the interpreter simply ignores it."
   ]
  },
  {
   "cell_type": "code",
   "execution_count": 34,
   "id": "e503a25d-0247-4269-925d-2b455b25627e",
   "metadata": {},
   "outputs": [],
   "source": [
    "#Pre-defined words or reserved keywords cannot be used for naming of an identifier or variable."
   ]
  },
  {
   "cell_type": "code",
   "execution_count": 35,
   "id": "08bb39d1-3a72-499f-b119-f993360b9e98",
   "metadata": {},
   "outputs": [],
   "source": [
    "#Indentation are the whitespaces at the beginning of the line.\n",
    "#Use a single tab for each indentation level.\n",
    "#In Python, Indentation is used to associate and group statements in a block and gives error if it is not correct.\n",
    "#All statements inside a block should be at the same indentation level."
   ]
  },
  {
   "cell_type": "code",
   "execution_count": 36,
   "id": "97f7ef20-e828-479b-b5dd-9e916bf62547",
   "metadata": {},
   "outputs": [
    {
     "ename": "IndentationError",
     "evalue": "unexpected indent (1677508618.py, line 3)",
     "output_type": "error",
     "traceback": [
      "\u001b[1;36m  Cell \u001b[1;32mIn[36], line 3\u001b[1;36m\u001b[0m\n\u001b[1;33m    print(name,age)\u001b[0m\n\u001b[1;37m    ^\u001b[0m\n\u001b[1;31mIndentationError\u001b[0m\u001b[1;31m:\u001b[0m unexpected indent\n"
     ]
    }
   ],
   "source": [
    "name=\"Vikram\"\n",
    "age=21\n",
    "    print(name,age)"
   ]
  },
  {
   "cell_type": "code",
   "execution_count": 37,
   "id": "f775ea8a-c095-47d0-a270-93d75d424df6",
   "metadata": {},
   "outputs": [],
   "source": [
    "# ^ is a standard symbol that indicates where the error has occurred in the program."
   ]
  },
  {
   "cell_type": "code",
   "execution_count": 38,
   "id": "1feeb299-df6e-4e48-881c-f3032577cff9",
   "metadata": {},
   "outputs": [],
   "source": [
    "#Operators are the constructs that are used to manipulate the value of operands.\n",
    "#The operators are:"
   ]
  },
  {
   "cell_type": "code",
   "execution_count": 39,
   "id": "2740aebf-4ccd-447c-9103-7195b23cb96c",
   "metadata": {},
   "outputs": [
    {
     "name": "stdout",
     "output_type": "stream",
     "text": [
      "15\n",
      "5\n",
      "50\n",
      "2.0\n",
      "2\n",
      "100000\n",
      "0\n"
     ]
    }
   ],
   "source": [
    "#Arithmetic operators\n",
    "a,b=10,5\n",
    "print(a+b)\n",
    "print(a-b)\n",
    "print(a*b)\n",
    "print(a/b)\n",
    "print(a//b)\n",
    "print(a**b)\n",
    "print(a%b)"
   ]
  },
  {
   "cell_type": "code",
   "execution_count": 40,
   "id": "e5652849-73de-4069-bbfa-7fa32a52512a",
   "metadata": {},
   "outputs": [
    {
     "name": "stdout",
     "output_type": "stream",
     "text": [
      "False\n",
      "True\n",
      "False\n",
      "False\n",
      "True\n",
      "True\n"
     ]
    }
   ],
   "source": [
    "#Comparison or Relational operators\n",
    "a,b=2,3\n",
    "print(a==b)\n",
    "print(a!=b)\n",
    "print(a>b)\n",
    "print(a>=b)\n",
    "print(a<b)\n",
    "print(a<=b)"
   ]
  },
  {
   "cell_type": "code",
   "execution_count": 41,
   "id": "04a73463-12b2-43d6-8ea0-c87699c57c8b",
   "metadata": {},
   "outputs": [
    {
     "name": "stdout",
     "output_type": "stream",
     "text": [
      "15\n",
      "10\n",
      "50\n",
      "10.0\n",
      "100000.0\n",
      "20000.0\n",
      "0.0\n"
     ]
    }
   ],
   "source": [
    "#Assignment or In-place or Shortcut operators\n",
    "a,b=10,5\n",
    "a+=b\n",
    "print(a)\n",
    "a-=b\n",
    "print(a)\n",
    "a*=b\n",
    "print(a)\n",
    "a/=b\n",
    "print(a)\n",
    "a**=b\n",
    "print(a)\n",
    "a//=b\n",
    "print(a)\n",
    "a%=b\n",
    "print(a)"
   ]
  },
  {
   "cell_type": "code",
   "execution_count": 42,
   "id": "d0b6f66e-c368-4b5c-9d73-d6d85d078f78",
   "metadata": {},
   "outputs": [],
   "source": [
    "#Python does not support prefix and postfix increment or decrement operators."
   ]
  },
  {
   "cell_type": "code",
   "execution_count": 43,
   "id": "a0cee8f1-cf99-4a2e-ab43-b606f0f84b3e",
   "metadata": {},
   "outputs": [
    {
     "name": "stdout",
     "output_type": "stream",
     "text": [
      "10 -0.0\n"
     ]
    }
   ],
   "source": [
    "#Unary operators\n",
    "a,b=10,-a\n",
    "print(a,b)"
   ]
  },
  {
   "cell_type": "code",
   "execution_count": 44,
   "id": "55a5e18a-8f0f-4016-95e4-df8732822f86",
   "metadata": {},
   "outputs": [],
   "source": [
    "#Bitwise operators expect their operands to be of integers and treat them as a sequence of bits."
   ]
  },
  {
   "cell_type": "code",
   "execution_count": 45,
   "id": "11fbd2b0-ddec-4cea-89ea-a7d9d31fc43e",
   "metadata": {},
   "outputs": [
    {
     "name": "stdout",
     "output_type": "stream",
     "text": [
      "0\n",
      "3\n",
      "3\n",
      "-2\n"
     ]
    }
   ],
   "source": [
    "#Bitwise operators\n",
    "a,b=1,2\n",
    "print(a&b)\n",
    "print(a|b)\n",
    "print(a^b)\n",
    "print(~a)"
   ]
  },
  {
   "cell_type": "code",
   "execution_count": 46,
   "id": "ae563b61-e484-48b3-a690-8ea79b5515e4",
   "metadata": {},
   "outputs": [
    {
     "name": "stdout",
     "output_type": "stream",
     "text": [
      "12\n",
      "12\n",
      "0\n",
      "72\n",
      "4\n"
     ]
    }
   ],
   "source": [
    "#Shift operators\n",
    "#<< left shift bitwise operator\n",
    "#>> right shift bitwise operator\n",
    "a=3\n",
    "print(a<<2)\n",
    "a=0x3\n",
    "print(a<<2)\n",
    "a=0x3\n",
    "print(a>>2)\n",
    "a=0x12\n",
    "print(a<<2)\n",
    "a=0x12\n",
    "print(a>>2)"
   ]
  },
  {
   "cell_type": "code",
   "execution_count": 47,
   "id": "051c79b7-e6cf-4068-b4af-8e04ba3f6fa6",
   "metadata": {},
   "outputs": [],
   "source": [
    "#In case of arithmetic expression, logical expressions are evaluated from left to right. "
   ]
  },
  {
   "cell_type": "code",
   "execution_count": 48,
   "id": "e726eaec-3831-4968-8892-5a4c3e242c5a",
   "metadata": {},
   "outputs": [
    {
     "name": "stdout",
     "output_type": "stream",
     "text": [
      "True\n",
      "True\n",
      "False\n",
      "False\n",
      "True\n"
     ]
    }
   ],
   "source": [
    "#Logical operators\n",
    "a,b,c,d=1,2,3,4\n",
    "print((d>a)and(d>b))\n",
    "print((b>a)or(b>c))\n",
    "print(not a)\n",
    "print(not b)\n",
    "x=0\n",
    "print(not x)"
   ]
  },
  {
   "cell_type": "code",
   "execution_count": 49,
   "id": "23d3ad2c-3a48-4de5-a0cc-163105d1c9ac",
   "metadata": {},
   "outputs": [],
   "source": [
    "#Membership operators"
   ]
  },
  {
   "cell_type": "code",
   "execution_count": 50,
   "id": "084ca5b7-5005-405e-a24f-c2642b0a22d1",
   "metadata": {},
   "outputs": [
    {
     "name": "stdout",
     "output_type": "stream",
     "text": [
      "True\n",
      "False\n",
      "False\n",
      "True\n"
     ]
    }
   ],
   "source": [
    "l=[1,2,3]\n",
    "print(1 in l)\n",
    "print(4 in l)\n",
    "print(3 not in l)\n",
    "print(5 not in l)"
   ]
  },
  {
   "cell_type": "code",
   "execution_count": 51,
   "id": "092709de-6d88-450f-8ab6-84d06b2f1083",
   "metadata": {},
   "outputs": [],
   "source": [
    "#Identity operators"
   ]
  },
  {
   "cell_type": "code",
   "execution_count": 52,
   "id": "3093fd85-6c53-421c-971e-9b0025de0345",
   "metadata": {},
   "outputs": [
    {
     "name": "stdout",
     "output_type": "stream",
     "text": [
      "True\n",
      "False\n",
      "False\n",
      "True\n",
      "140732285305768\n",
      "140732285305768\n",
      "140732285305928\n"
     ]
    }
   ],
   "source": [
    "a=5\n",
    "b=5\n",
    "print(a is b)\n",
    "c=10\n",
    "print(a is c)\n",
    "print(a is not b) \n",
    "print(a is not c)\n",
    "print(id(a))\n",
    "print(id(b))\n",
    "print(id(c))"
   ]
  },
  {
   "cell_type": "code",
   "execution_count": 53,
   "id": "ff27250a-1f98-4a3f-b001-b40a4ee25d4b",
   "metadata": {},
   "outputs": [
    {
     "data": {
      "text/plain": [
       "'\\n**\\n~,+,-\\n*,/,%,//\\n+,-\\n>>,<<\\n&\\n^,|\\n<=,<,>,>=\\n==,!=\\n=,%=,/=,//=,-=,+=,*=,**=\\nis,is not\\nin,not in\\nnot,or,and\\n'"
      ]
     },
     "execution_count": 53,
     "metadata": {},
     "output_type": "execute_result"
    }
   ],
   "source": [
    "#Precedency of operators and associativity is from left to right\n",
    "\"\"\"\n",
    "**\n",
    "~,+,-\n",
    "*,/,%,//\n",
    "+,-\n",
    ">>,<<\n",
    "&\n",
    "^,|\n",
    "<=,<,>,>=\n",
    "==,!=\n",
    "=,%=,/=,//=,-=,+=,*=,**=\n",
    "is,is not\n",
    "in,not in\n",
    "not,or,and\n",
    "\"\"\""
   ]
  },
  {
   "cell_type": "code",
   "execution_count": 54,
   "id": "a30fedf6-8722-4929-89a9-2b9f80490990",
   "metadata": {},
   "outputs": [],
   "source": [
    "#Parantheses () can change the priority of the operators."
   ]
  },
  {
   "cell_type": "code",
   "execution_count": 55,
   "id": "27fa3d87-0c5a-494a-8a6e-34a0c1364db4",
   "metadata": {},
   "outputs": [],
   "source": [
    "#Python follows BEDMAS rule."
   ]
  },
  {
   "cell_type": "code",
   "execution_count": 56,
   "id": "252becea-ca3f-4975-a671-3ff8bc3e6ec6",
   "metadata": {},
   "outputs": [
    {
     "name": "stdout",
     "output_type": "stream",
     "text": [
      "Bye!Bye!Bye!\n"
     ]
    }
   ],
   "source": [
    "#String repetition using *\n",
    "a=\"Bye!\"\n",
    "print(a*3)"
   ]
  },
  {
   "cell_type": "code",
   "execution_count": 57,
   "id": "aad828d3-0e0e-4cff-8367-11e4fd554960",
   "metadata": {},
   "outputs": [
    {
     "name": "stdout",
     "output_type": "stream",
     "text": [
      "P\n",
      "n\n",
      "Py\n",
      "no\n",
      "nohtyP\n",
      "th\n"
     ]
    }
   ],
   "source": [
    "#Slicing and indexing in string\n",
    "a=\"Python\"\n",
    "print(a[0])\n",
    "print(a[len(a)-1])\n",
    "print(a[0:2:1])\n",
    "print(a[:-3:-1])\n",
    "print(a[::-1])\n",
    "print(a[2:4:1])"
   ]
  },
  {
   "cell_type": "code",
   "execution_count": 58,
   "id": "3806d93f-0d4d-48a7-842c-980bb5c65124",
   "metadata": {},
   "outputs": [],
   "source": [
    "#Tuple is a data structure in python similar to list but it is immutable means we cannot modify the data inside it."
   ]
  },
  {
   "cell_type": "code",
   "execution_count": 59,
   "id": "f94c5cbb-581d-4f9b-9111-0ba01a471d5f",
   "metadata": {},
   "outputs": [
    {
     "name": "stdout",
     "output_type": "stream",
     "text": [
      "(1, 2, 3) <class 'tuple'>\n",
      "(4, 5) <class 'tuple'>\n",
      "(1, 2, 3, 4, 5)\n",
      "(1, 2, 3, 1, 2, 3)\n",
      "1\n",
      "3\n",
      "(2,)\n",
      "(3, 2, 1)\n"
     ]
    }
   ],
   "source": [
    "t1=(1,2,3)\n",
    "t2=(4,5)\n",
    "print(t1,type(t1))\n",
    "print(t2,type(t2))\n",
    "print(t1+t2)\n",
    "print(t1*2)\n",
    "print(t1[0])\n",
    "print(t1[len(t1)-1])\n",
    "print(t1[1:2:1])\n",
    "print(t1[::-1])"
   ]
  },
  {
   "cell_type": "code",
   "execution_count": 60,
   "id": "5a5be26e-44b3-421e-9650-2e5e6052854c",
   "metadata": {},
   "outputs": [
    {
     "ename": "TypeError",
     "evalue": "'tuple' object does not support item assignment",
     "output_type": "error",
     "traceback": [
      "\u001b[1;31m---------------------------------------------------------------------------\u001b[0m",
      "\u001b[1;31mTypeError\u001b[0m                                 Traceback (most recent call last)",
      "Cell \u001b[1;32mIn[60], line 1\u001b[0m\n\u001b[1;32m----> 1\u001b[0m t1[\u001b[38;5;241m0\u001b[39m]\u001b[38;5;241m=\u001b[39m\u001b[38;5;241m0\u001b[39m\n\u001b[0;32m      2\u001b[0m \u001b[38;5;28mprint\u001b[39m(t1)\n",
      "\u001b[1;31mTypeError\u001b[0m: 'tuple' object does not support item assignment"
     ]
    }
   ],
   "source": [
    "t1[0]=0\n",
    "print(t1)"
   ]
  },
  {
   "cell_type": "code",
   "execution_count": null,
   "id": "4ac64bd5-a37b-4e0f-98c1-f2fac0a9c277",
   "metadata": {},
   "outputs": [],
   "source": [
    "#List is a data structure in python similar to tuple but it is mmutable means we can modify the data inside it."
   ]
  },
  {
   "cell_type": "code",
   "execution_count": 61,
   "id": "66f1ec84-ebc1-4647-9c3f-f4fe747e1598",
   "metadata": {},
   "outputs": [
    {
     "name": "stdout",
     "output_type": "stream",
     "text": [
      "[1, 2, 3] <class 'list'>\n",
      "[4, 5] <class 'list'>\n",
      "[1, 2, 3, 4, 5]\n",
      "[1, 2, 3, 1, 2, 3]\n",
      "1\n",
      "3\n",
      "[2]\n",
      "[3, 2, 1]\n"
     ]
    }
   ],
   "source": [
    "l1=[1,2,3]\n",
    "l2=[4,5]\n",
    "print(l1,type(l1))\n",
    "print(l2,type(l2))\n",
    "print(l1+l2)\n",
    "print(l1*2)\n",
    "print(l1[0])\n",
    "print(l1[len(l1)-1])\n",
    "print(l1[1:2:1])\n",
    "print(l1[::-1])"
   ]
  },
  {
   "cell_type": "code",
   "execution_count": 62,
   "id": "efdea6fa-d0cb-4f75-8989-c42550ca24fd",
   "metadata": {},
   "outputs": [
    {
     "name": "stdout",
     "output_type": "stream",
     "text": [
      "[0, 1, 2]\n"
     ]
    }
   ],
   "source": [
    "l1[0],l1[1],l1[2]=0,1,2\n",
    "print(l1)"
   ]
  },
  {
   "cell_type": "code",
   "execution_count": 63,
   "id": "5b3f4537-f716-4058-a211-e77f7ce2aac6",
   "metadata": {},
   "outputs": [],
   "source": [
    "#Dictionary is a data structure in python is a key-value pair. It is mutable and is used for fast retrieval of data."
   ]
  },
  {
   "cell_type": "code",
   "execution_count": 64,
   "id": "63450c06-b97a-4fd7-a801-2ba34a99b069",
   "metadata": {},
   "outputs": [
    {
     "name": "stdout",
     "output_type": "stream",
     "text": [
      "{'Python': 1, 'R': 2, 'SQL': 3} <class 'dict'>\n",
      "dict_items([('Python', 1), ('R', 2), ('SQL', 3)])\n",
      "dict_keys(['Python', 'R', 'SQL'])\n",
      "dict_values([1, 2, 3])\n",
      "3\n",
      "{'Python': 0, 'R': 1, 'SQL': 2}\n"
     ]
    }
   ],
   "source": [
    "d1={\"Python\":1,\"R\":2,\"SQL\":3}\n",
    "print(d1,type(d1))\n",
    "print(d1.items())\n",
    "print(d1.keys())\n",
    "print(d1.values())\n",
    "print(d1[\"SQL\"])\n",
    "d1[\"Python\"]=0\n",
    "d1[\"R\"]=1\n",
    "d1[\"SQL\"]=2\n",
    "print(d1)"
   ]
  },
  {
   "cell_type": "code",
   "execution_count": 65,
   "id": "66b7e875-6226-4772-83ed-b368510953cc",
   "metadata": {},
   "outputs": [],
   "source": [
    "#Dictionary does not support slicing."
   ]
  },
  {
   "cell_type": "code",
   "execution_count": 67,
   "id": "6e42ce2f-610a-499f-b98f-b2349a4c0bf2",
   "metadata": {},
   "outputs": [
    {
     "name": "stdout",
     "output_type": "stream",
     "text": [
      "3\n",
      "65\n",
      "a\n",
      "('0', '1', '2', '3', '4', '5', '6', '7', '8', '9')\n",
      "['0', '1', '2', '3', '4', '5', '6', '7', '8', '9']\n",
      "{'5', '4', '6', '1', '7', '9', '3', '0', '2', '8'}\n",
      "0o5\n",
      "0x5\n",
      "123\n",
      "123.0\n"
     ]
    }
   ],
   "source": [
    "#Type casting\n",
    "a=3.2\n",
    "print(int(a))\n",
    "a=\"A\"\n",
    "print(ord(a))\n",
    "a=97\n",
    "print(chr(a))\n",
    "a=\"0123456789\"\n",
    "print(tuple(a))\n",
    "print(list(a))\n",
    "print(set(a))\n",
    "a=5\n",
    "print(oct(a))\n",
    "print(hex(a))\n",
    "a=\"123\"\n",
    "print(int(a))\n",
    "print(float(a))"
   ]
  },
  {
   "cell_type": "code",
   "execution_count": 68,
   "id": "e736d17a-c033-4e7f-9450-77a33a120acc",
   "metadata": {},
   "outputs": [
    {
     "name": "stdout",
     "output_type": "stream",
     "text": [
      "2\n",
      "3\n"
     ]
    }
   ],
   "source": [
    "print(int(2.90))\n",
    "print(round(2.90))"
   ]
  },
  {
   "cell_type": "code",
   "execution_count": 69,
   "id": "708f51ad-bc54-4110-89d2-33278e6a0f23",
   "metadata": {},
   "outputs": [],
   "source": [
    "# To see a list of functions of a data structure then type the keyword of data structure then press(.) and tab.\n",
    "# To understand a particular function then use help(function_name) function."
   ]
  },
  {
   "cell_type": "code",
   "execution_count": 70,
   "id": "38845fe7-3411-495d-916f-31daee744fc3",
   "metadata": {},
   "outputs": [
    {
     "name": "stdin",
     "output_type": "stream",
     "text": [
      "Enter a number: 5\n"
     ]
    },
    {
     "name": "stdout",
     "output_type": "stream",
     "text": [
      "Octal: 0o5 \n",
      " Hexa: 0x5 \n",
      " Root: 2.23606797749979\n"
     ]
    }
   ],
   "source": [
    "n=int(input(\"Enter a number:\"))\n",
    "o=oct(n)\n",
    "h=hex(n)\n",
    "r=n**0.5\n",
    "print(\"Octal:\",o,\"\\n\",\"Hexa:\",h,\"\\n\",\"Root:\",r)"
   ]
  },
  {
   "cell_type": "code",
   "execution_count": 71,
   "id": "77fdd963-0a8d-4581-982f-02f70be6ade7",
   "metadata": {},
   "outputs": [
    {
     "name": "stdin",
     "output_type": "stream",
     "text": [
      "Enter the first side: 3\n",
      "Enter the second side: 5\n",
      "Enter the third side: 7\n"
     ]
    },
    {
     "name": "stdout",
     "output_type": "stream",
     "text": [
      "Area: 6.49519052838329\n"
     ]
    }
   ],
   "source": [
    "a=int(input(\"Enter the first side:\"))\n",
    "b=int(input(\"Enter the second side:\"))\n",
    "c=int(input(\"Enter the third side:\"))\n",
    "s=(a+b+c)/2\n",
    "h=(s*(s-a)*(s-b)*(s-c))**0.5\n",
    "print(\"Area:\",h)"
   ]
  },
  {
   "cell_type": "code",
   "execution_count": 72,
   "id": "17b4bba9-68d6-49af-9016-45aeac85c480",
   "metadata": {},
   "outputs": [
    {
     "name": "stdin",
     "output_type": "stream",
     "text": [
      "Enter the abscissa of first coordinate: 2\n",
      "Enter the ordinate of first coordinate: 4\n",
      "Enter the abscissa of second coordinate: 8\n",
      "Enter the ordinate of second coordinate: 10\n"
     ]
    },
    {
     "name": "stdout",
     "output_type": "stream",
     "text": [
      "2 4\n",
      "8 10\n",
      "Distance: 0.0\n"
     ]
    }
   ],
   "source": [
    "x1=int(input(\"Enter the abscissa of first coordinate:\"))\n",
    "y1=int(input(\"Enter the ordinate of first coordinate:\"))\n",
    "x2=int(input(\"Enter the abscissa of second coordinate:\"))\n",
    "y2=int(input(\"Enter the ordinate of second coordinate:\"))\n",
    "print(x1,y1)\n",
    "print(x2,y2)\n",
    "d=(((x2-x1)**2)-((y2-y1)**2))**0.5\n",
    "print(\"Distance:\",d)"
   ]
  },
  {
   "cell_type": "code",
   "execution_count": 73,
   "id": "91436945-7555-4237-8c99-d2e90ea84e2a",
   "metadata": {},
   "outputs": [
    {
     "name": "stdin",
     "output_type": "stream",
     "text": [
      "Enter the radius: 8\n"
     ]
    },
    {
     "name": "stdout",
     "output_type": "stream",
     "text": [
      "Area: 201.14285714285714\n"
     ]
    }
   ],
   "source": [
    "r=eval(input(\"Enter the radius:\"))\n",
    "a=(22.0/7.0)*(r**2)\n",
    "print(\"Area:\",a)"
   ]
  },
  {
   "cell_type": "code",
   "execution_count": 74,
   "id": "70a60101-15d8-44e9-8afc-99ba2942dafa",
   "metadata": {},
   "outputs": [
    {
     "name": "stdin",
     "output_type": "stream",
     "text": [
      "Enter the first number: 4\n",
      "Enter the second number: 8\n"
     ]
    },
    {
     "name": "stdout",
     "output_type": "stream",
     "text": [
      "Average: 6.0\n",
      "Deviation of n1 is: -2.0 \n",
      " Deviation of n2 is: 2.0\n"
     ]
    }
   ],
   "source": [
    "n1=eval(input(\"Enter the first number:\"))\n",
    "n2=eval(input(\"Enter the second number:\"))\n",
    "avg=(n1+n2)/2.0\n",
    "print(\"Average:\",avg)\n",
    "d1=n1-avg\n",
    "d2=n2-avg\n",
    "print(\"Deviation of n1 is:\",d1,\"\\n\",\"Deviation of n2 is:\",d2)"
   ]
  },
  {
   "cell_type": "code",
   "execution_count": 75,
   "id": "9dae2996-e99b-4115-8107-c56d2d1a83d2",
   "metadata": {},
   "outputs": [
    {
     "name": "stdin",
     "output_type": "stream",
     "text": [
      "Enter the temperature in celsius: 67\n"
     ]
    },
    {
     "name": "stdout",
     "output_type": "stream",
     "text": [
      "Celsius: 67\n",
      "Farenheit: 152.60000000000002\n",
      "Kelvin: 340\n"
     ]
    }
   ],
   "source": [
    "c=eval(input(\"Enter the temperature in celsius:\"))\n",
    "f=(9.0/5.0)*c+32\n",
    "k=c+273\n",
    "print(\"Celsius:\",c)\n",
    "print(\"Farenheit:\",f)\n",
    "print(\"Kelvin:\",k)"
   ]
  },
  {
   "cell_type": "code",
   "execution_count": 76,
   "id": "d352a35f-c936-4728-bc3c-d642d81cb07e",
   "metadata": {},
   "outputs": [
    {
     "name": "stdin",
     "output_type": "stream",
     "text": [
      "Enter the quantity of item: 100\n",
      "Enter the price of each item: 10\n",
      "Enter the discount percentage: 10\n",
      "Enter the tax rate: 10\n"
     ]
    },
    {
     "name": "stdout",
     "output_type": "stream",
     "text": [
      "Quantity: 100\n",
      "Price: 10\n",
      "Amount: 1000\n",
      "Discount: 10\n",
      "Discout amount: 100.0\n",
      "Amount after discount: 900.0\n",
      "Tax rate: 10\n",
      "Tax amount: 90.0\n",
      "Total amount: 990.0\n"
     ]
    }
   ],
   "source": [
    "q=eval(input(\"Enter the quantity of item:\"))\n",
    "p=eval(input(\"Enter the price of each item:\"))\n",
    "amt=q*p\n",
    "d=eval(input(\"Enter the discount percentage:\"))\n",
    "d_amt=(amt*d)/100.0\n",
    "amt_after_d=amt-d_amt\n",
    "t=eval(input(\"Enter the tax rate:\"))\n",
    "t_amt=(amt_after_d*t)/100.0\n",
    "total_amt=amt_after_d+t_amt\n",
    "print(\"Quantity:\",q)\n",
    "print(\"Price:\",p)\n",
    "print(\"Amount:\",amt)\n",
    "print(\"Discount:\",d)\n",
    "print(\"Discout amount:\",d_amt)\n",
    "print(\"Amount after discount:\",amt_after_d)\n",
    "print(\"Tax rate:\",t)\n",
    "print(\"Tax amount:\",t_amt)\n",
    "print(\"Total amount:\",total_amt)"
   ]
  },
  {
   "cell_type": "code",
   "execution_count": 87,
   "id": "85132106-5fb5-430f-a4dd-74d5462ca723",
   "metadata": {},
   "outputs": [
    {
     "name": "stdout",
     "output_type": "stream",
     "text": [
      "PYTHON\n",
      "python\n"
     ]
    }
   ],
   "source": [
    "st=\"PYTHON\"\n",
    "print(st)\n",
    "st=st.lower()\n",
    "print(st)"
   ]
  },
  {
   "cell_type": "code",
   "execution_count": 88,
   "id": "7420b45c-8636-4c89-aec1-21814c6f4ed1",
   "metadata": {},
   "outputs": [
    {
     "name": "stdout",
     "output_type": "stream",
     "text": [
      "6 5 5\n"
     ]
    }
   ],
   "source": [
    "a,b=5,6\n",
    "temp=a\n",
    "a=b\n",
    "b=temp\n",
    "print(a,b,temp)"
   ]
  },
  {
   "cell_type": "code",
   "execution_count": 89,
   "id": "4269e665-9763-4a2c-915d-59798e7394c6",
   "metadata": {},
   "outputs": [
    {
     "name": "stdin",
     "output_type": "stream",
     "text": [
      "Enter the principal: 1000\n",
      "Enter the rate: 10\n",
      "Enter the time: 1\n"
     ]
    },
    {
     "name": "stdout",
     "output_type": "stream",
     "text": [
      "Principal: 1000 \n",
      "Rate: 10 \n",
      "Time: 1\n",
      "Simple interest: 100.0 \n",
      "Amount: 1100.0 \n",
      "Compound interest: 100.0\n"
     ]
    }
   ],
   "source": [
    "p=eval(input(\"Enter the principal:\"))\n",
    "r=eval(input(\"Enter the rate:\"))\n",
    "t=eval(input(\"Enter the time:\"))\n",
    "si=(p*r*t)/100.0\n",
    "amt=p*((1+(r/100.0))**t)\n",
    "ci=amt-p\n",
    "print(\"Principal:\",p,\"\\nRate:\",r,\"\\nTime:\",t)\n",
    "print(\"Simple interest:\",si,\"\\nAmount:\",amt,\"\\nCompound interest:\",ci)"
   ]
  },
  {
   "cell_type": "code",
   "execution_count": 91,
   "id": "600d2bae-14aa-4bd5-86ce-5e70cb8965cb",
   "metadata": {},
   "outputs": [
    {
     "name": "stdin",
     "output_type": "stream",
     "text": [
      "Enter the basic pay: 1000\n"
     ]
    },
    {
     "name": "stdout",
     "output_type": "stream",
     "text": [
      "Basic pay: 1000 \n",
      "HRA: 100.0 \n",
      "TA: 50.0 \n",
      "Salary: 1150.0\n"
     ]
    }
   ],
   "source": [
    "bp=eval(input(\"Enter the basic pay:\"))\n",
    "hra=0.10*bp\n",
    "ta=0.05*bp\n",
    "sal=bp+hra+ta\n",
    "print(\"Basic pay:\",bp,\"\\nHRA:\",hra,\"\\nTA:\",ta,\"\\nSalary:\",sal)"
   ]
  },
  {
   "cell_type": "code",
   "execution_count": 96,
   "id": "1584ea0f-f4b0-43cd-8b7f-ee057a3190a8",
   "metadata": {},
   "outputs": [
    {
     "name": "stdin",
     "output_type": "stream",
     "text": [
      "Enter the quantity of wheat: 10\n",
      "Enter the price unit of wheat: 30\n",
      "Enter the quantity of rice: 10\n",
      "Enter the price unit of rice: 50\n",
      "Enter the quantity of dal: 10\n",
      "Enter the price unit of dal: 100\n"
     ]
    },
    {
     "name": "stdout",
     "output_type": "stream",
     "text": [
      "**********BILL**********\n",
      "Item Name \t Item Quantity \t\t Item Price\n",
      "WHEAT \t\t 10 \t\t\t 300\n",
      "RICE \t\t 10 \t\t\t 500\n",
      "DAL \t\t 10 \t\t\t 1000\n",
      "************************\n",
      "Total amount to be paid: 1800\n"
     ]
    }
   ],
   "source": [
    "q1=eval(input(\"Enter the quantity of wheat:\"))\n",
    "up1=eval(input(\"Enter the price unit of wheat:\"))\n",
    "q2=eval(input(\"Enter the quantity of rice:\"))\n",
    "up2=eval(input(\"Enter the price unit of rice:\"))\n",
    "q3=eval(input(\"Enter the quantity of dal:\"))\n",
    "up3=eval(input(\"Enter the price unit of dal:\"))\n",
    "print(\"**********BILL**********\")\n",
    "print(\"Item Name\",\"\\t\",\"Item Quantity\",\"\\t\\t\",\"Item Price\")\n",
    "print(\"WHEAT\",\"\\t\\t\",q1,\"\\t\\t\\t\",up1*q1)\n",
    "print(\"RICE\",\"\\t\\t\",q2,\"\\t\\t\\t\",up2*q2)\n",
    "print(\"DAL\",\"\\t\\t\",q3,\"\\t\\t\\t\",up3*q3)\n",
    "print(\"************************\")\n",
    "print(\"Total amount to be paid:\",(up1*q1+up2*q2+up3*q3))"
   ]
  },
  {
   "cell_type": "code",
   "execution_count": 98,
   "id": "a1c019f1-22ff-493a-a7bb-062d7ea32bc7",
   "metadata": {},
   "outputs": [
    {
     "name": "stdin",
     "output_type": "stream",
     "text": [
      "Enter the mass in kilograms: 10\n",
      "Enter the velocity in m/s: 20\n"
     ]
    },
    {
     "name": "stdout",
     "output_type": "stream",
     "text": [
      "Mass: 10 Kg \n",
      "Velocity: 20 m/s \n",
      "Momentum: 4000 Kgm/s\n"
     ]
    }
   ],
   "source": [
    "m=eval(input(\"Enter the mass in kilograms:\"))\n",
    "c=eval(input(\"Enter the velocity in m/s:\"))\n",
    "e=m*(pow(c,2))\n",
    "print(\"Mass:\",m,\"Kg\",\"\\nVelocity:\",c,\"m/s\",\"\\nMomentum:\",e,\"Kgm/s\")"
   ]
  },
  {
   "cell_type": "code",
   "execution_count": 99,
   "id": "ebbcdc39-5af6-4f05-9baf-8d3fba5069eb",
   "metadata": {},
   "outputs": [
    {
     "name": "stdin",
     "output_type": "stream",
     "text": [
      "Enter the number of days: 1\n"
     ]
    },
    {
     "name": "stdout",
     "output_type": "stream",
     "text": [
      "Days: 1 \n",
      "Hours: 24 \n",
      "Minutes: 1440 \n",
      "Seconds: 86400\n"
     ]
    }
   ],
   "source": [
    "d=eval(input(\"Enter the number of days:\"))\n",
    "hr=24*d\n",
    "min=60*hr\n",
    "sec=60*min\n",
    "print(\"Days:\",d,\"\\nHours:\",hr,\"\\nMinutes:\",min,\"\\nSeconds:\",sec)"
   ]
  },
  {
   "cell_type": "code",
   "execution_count": null,
   "id": "d7ee7dbc-94c6-4a9e-8f97-cef92311979d",
   "metadata": {},
   "outputs": [],
   "source": []
  }
 ],
 "metadata": {
  "kernelspec": {
   "display_name": "Python 3 (ipykernel)",
   "language": "python",
   "name": "python3"
  },
  "language_info": {
   "codemirror_mode": {
    "name": "ipython",
    "version": 3
   },
   "file_extension": ".py",
   "mimetype": "text/x-python",
   "name": "python",
   "nbconvert_exporter": "python",
   "pygments_lexer": "ipython3",
   "version": "3.11.7"
  }
 },
 "nbformat": 4,
 "nbformat_minor": 5
}
