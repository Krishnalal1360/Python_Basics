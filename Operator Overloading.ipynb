{
 "cells": [
  {
   "cell_type": "code",
   "execution_count": 1,
   "id": "3f183e5b-4617-4aba-8208-a5495bdffae1",
   "metadata": {},
   "outputs": [
    {
     "ename": "TypeError",
     "evalue": "unsupported operand type(s) for +: 'complex' and 'complex'",
     "output_type": "error",
     "traceback": [
      "\u001b[1;31m---------------------------------------------------------------------------\u001b[0m",
      "\u001b[1;31mTypeError\u001b[0m                                 Traceback (most recent call last)",
      "Cell \u001b[1;32mIn[1], line 15\u001b[0m\n\u001b[0;32m     13\u001b[0m c1\u001b[38;5;241m.\u001b[39mset(\u001b[38;5;241m3\u001b[39m,\u001b[38;5;241m4\u001b[39m)\n\u001b[0;32m     14\u001b[0m c3\u001b[38;5;241m=\u001b[39m\u001b[38;5;28mcomplex\u001b[39m()\n\u001b[1;32m---> 15\u001b[0m c3\u001b[38;5;241m=\u001b[39mc1\u001b[38;5;241m+\u001b[39mc2\n\u001b[0;32m     16\u001b[0m c3\u001b[38;5;241m.\u001b[39mdisplay()\n",
      "\u001b[1;31mTypeError\u001b[0m: unsupported operand type(s) for +: 'complex' and 'complex'"
     ]
    }
   ],
   "source": [
    "class complex:\n",
    "    def __init__(self):\n",
    "        self.real=0\n",
    "        self.imag=0\n",
    "    def set(self,real,imag):\n",
    "        self.real=real\n",
    "        self.imag=imag\n",
    "    def display(self):\n",
    "        print(\"(\",self.real,\"+\",self.imag,\"i)\")\n",
    "c1=complex()\n",
    "c1.set(1,2)\n",
    "c2=complex()\n",
    "c1.set(3,4)\n",
    "c3=complex()\n",
    "c3=c1+c2\n",
    "c3.display()"
   ]
  },
  {
   "cell_type": "code",
   "execution_count": 2,
   "id": "3b627f9f-a637-40a3-b130-dd162780486b",
   "metadata": {},
   "outputs": [
    {
     "name": "stdout",
     "output_type": "stream",
     "text": [
      "( 3 + 4 i)\n"
     ]
    }
   ],
   "source": [
    "class complex:\n",
    "    def __init__(self):\n",
    "        self.real=0\n",
    "        self.imag=0\n",
    "    def set(self,real,imag):\n",
    "        self.real=real\n",
    "        self.imag=imag\n",
    "    def __add__(self,c):\n",
    "        temp=complex()\n",
    "        temp.real=self.real+c.real\n",
    "        temp.imag=self.imag+c.imag\n",
    "        return temp\n",
    "    def display(self):\n",
    "        print(\"(\",self.real,\"+\",self.imag,\"i)\")\n",
    "c1=complex()\n",
    "c1.set(1,2)\n",
    "c2=complex()\n",
    "c1.set(3,4)\n",
    "c3=complex()\n",
    "c3=c1+c2\n",
    "c3.display()"
   ]
  },
  {
   "cell_type": "code",
   "execution_count": 18,
   "id": "48ac9521-4183-4618-893d-999ec84a9f75",
   "metadata": {},
   "outputs": [
    {
     "name": "stdout",
     "output_type": "stream",
     "text": [
      "Addition: 3\n",
      "Addition: 6\n"
     ]
    }
   ],
   "source": [
    "class num:\n",
    "    def __init__(self):\n",
    "        self.x=0\n",
    "    def __add__(self,c):\n",
    "        temp=num()\n",
    "        temp.x=self.x+c.x\n",
    "        return temp\n",
    "    def set(self,x):\n",
    "        self.x=x\n",
    "    def result(self):\n",
    "        print(\"Addition:\",self.x)\n",
    "c1=num()\n",
    "c1.set(1)\n",
    "c2=num()\n",
    "c2.set(2)\n",
    "c3=num()\n",
    "c3=c1+c2\n",
    "c3.result()\n",
    "c3=num()\n",
    "c3.set(3)\n",
    "c4=c1+c2+c3\n",
    "c4.result()"
   ]
  },
  {
   "cell_type": "code",
   "execution_count": 20,
   "id": "d8745f6e-9098-4aba-b464-e4438842dee0",
   "metadata": {},
   "outputs": [
    {
     "name": "stdout",
     "output_type": "stream",
     "text": [
      "Subtraction: -1\n",
      "Subtraction: -4\n"
     ]
    }
   ],
   "source": [
    "class num:\n",
    "    def __init__(self):\n",
    "        self.x=0\n",
    "    def __sub__(self,c):\n",
    "        temp=num()\n",
    "        temp.x=self.x-c.x\n",
    "        return temp\n",
    "    def set(self,x):\n",
    "        self.x=x\n",
    "    def result(self):\n",
    "        print(\"Subtraction:\",self.x)\n",
    "c1=num()\n",
    "c1.set(1)\n",
    "c2=num()\n",
    "c2.set(2)\n",
    "c3=num()\n",
    "c3=c1-c2\n",
    "c3.result()\n",
    "c3=num()\n",
    "c3.set(3)\n",
    "c4=c1-c2-c3\n",
    "c4.result()"
   ]
  },
  {
   "cell_type": "code",
   "execution_count": 21,
   "id": "3ccda3d0-11da-43d7-b5d8-754170e25e1e",
   "metadata": {},
   "outputs": [
    {
     "name": "stdout",
     "output_type": "stream",
     "text": [
      "Multiplication: 2\n",
      "Multiplication: 6\n"
     ]
    }
   ],
   "source": [
    "class num:\n",
    "    def __init__(self):\n",
    "        self.x=0\n",
    "    def __mul__(self,c):\n",
    "        temp=num()\n",
    "        temp.x=self.x*c.x\n",
    "        return temp\n",
    "    def set(self,x):\n",
    "        self.x=x\n",
    "    def result(self):\n",
    "        print(\"Multiplication:\",self.x)\n",
    "c1=num()\n",
    "c1.set(1)\n",
    "c2=num()\n",
    "c2.set(2)\n",
    "c3=num()\n",
    "c3=c1*c2\n",
    "c3.result()\n",
    "c3=num()\n",
    "c3.set(3)\n",
    "c4=c1*c2*c3\n",
    "c4.result()"
   ]
  },
  {
   "cell_type": "code",
   "execution_count": 22,
   "id": "5ba6e4f2-4c53-44a0-8788-3d64aa159569",
   "metadata": {},
   "outputs": [
    {
     "name": "stdout",
     "output_type": "stream",
     "text": [
      "Division: 0.5\n",
      "Division: 0.16666666666666666\n"
     ]
    }
   ],
   "source": [
    "class num:\n",
    "    def __init__(self):\n",
    "        self.x=0\n",
    "    def __truediv__(self,c):\n",
    "        temp=num()\n",
    "        temp.x=self.x/c.x\n",
    "        return temp\n",
    "    def set(self,x):\n",
    "        self.x=x\n",
    "    def result(self):\n",
    "        print(\"Division:\",self.x)\n",
    "c1=num()\n",
    "c1.set(1)\n",
    "c2=num()\n",
    "c2.set(2)\n",
    "c3=num()\n",
    "c3=c1/c2\n",
    "c3.result()\n",
    "c3=num()\n",
    "c3.set(3)\n",
    "c4=c1/c2/c3\n",
    "c4.result()"
   ]
  },
  {
   "cell_type": "code",
   "execution_count": 23,
   "id": "52dc4d8c-7d09-49e7-b4f8-fcb3d5ab41bd",
   "metadata": {},
   "outputs": [
    {
     "name": "stdout",
     "output_type": "stream",
     "text": [
      "Remainder: 1\n",
      "Remainder: 1\n"
     ]
    }
   ],
   "source": [
    "class num:\n",
    "    def __init__(self):\n",
    "        self.x=0\n",
    "    def __mod__(self,c):\n",
    "        temp=num()\n",
    "        temp.x=self.x%c.x\n",
    "        return temp\n",
    "    def set(self,x):\n",
    "        self.x=x\n",
    "    def result(self):\n",
    "        print(\"Remainder:\",self.x)\n",
    "c1=num()\n",
    "c1.set(1)\n",
    "c2=num()\n",
    "c2.set(2)\n",
    "c3=num()\n",
    "c3=c1%c2\n",
    "c3.result()\n",
    "c3=num()\n",
    "c3.set(3)\n",
    "c4=c1%c2%c3\n",
    "c4.result()"
   ]
  },
  {
   "cell_type": "code",
   "execution_count": 24,
   "id": "90fa831d-a2d8-482e-a67a-3b102b8f68b4",
   "metadata": {},
   "outputs": [
    {
     "name": "stdout",
     "output_type": "stream",
     "text": [
      "Exponent: 1\n",
      "Exponent: 1\n"
     ]
    }
   ],
   "source": [
    "class num:\n",
    "    def __init__(self):\n",
    "        self.x=0\n",
    "    def __pow__(self,c):\n",
    "        temp=num()\n",
    "        temp.x=self.x**c.x\n",
    "        return temp\n",
    "    def set(self,x):\n",
    "        self.x=x\n",
    "    def result(self):\n",
    "        print(\"Exponent:\",self.x)\n",
    "c1=num()\n",
    "c1.set(1)\n",
    "c2=num()\n",
    "c2.set(2)\n",
    "c3=num()\n",
    "c3=c1**c2\n",
    "c3.result()\n",
    "c3=num()\n",
    "c3.set(3)\n",
    "c4=c1**c2**c3\n",
    "c4.result()"
   ]
  },
  {
   "cell_type": "code",
   "execution_count": 25,
   "id": "c87e4bcc-b311-4fac-b97c-91a4933f2f57",
   "metadata": {},
   "outputs": [
    {
     "name": "stdout",
     "output_type": "stream",
     "text": [
      "Addition: 3\n"
     ]
    }
   ],
   "source": [
    "class num:\n",
    "    def __init__(self):\n",
    "        self.x=0\n",
    "    def __iadd__(self,c):\n",
    "        temp=num()\n",
    "        temp.x=self.x+c.x\n",
    "        return temp\n",
    "    def set(self,x):\n",
    "        self.x=x\n",
    "    def result(self):\n",
    "        print(\"Addition:\",self.x)\n",
    "c1=num()\n",
    "c1.set(1)\n",
    "c2=num()\n",
    "c2.set(2)\n",
    "c1+=c2\n",
    "c1.result()"
   ]
  },
  {
   "cell_type": "code",
   "execution_count": 26,
   "id": "5f3bf7cd-8d2a-477b-b3ff-31e91c52ff58",
   "metadata": {},
   "outputs": [
    {
     "name": "stdout",
     "output_type": "stream",
     "text": [
      "Subtraction: -1\n"
     ]
    }
   ],
   "source": [
    "class num:\n",
    "    def __init__(self):\n",
    "        self.x=0\n",
    "    def __isub__(self,c):\n",
    "        temp=num()\n",
    "        temp.x=self.x-c.x\n",
    "        return temp\n",
    "    def set(self,x):\n",
    "        self.x=x\n",
    "    def result(self):\n",
    "        print(\"Subtraction:\",self.x)\n",
    "c1=num()\n",
    "c1.set(1)\n",
    "c2=num()\n",
    "c2.set(2)\n",
    "c1-=c2\n",
    "c1.result()"
   ]
  },
  {
   "cell_type": "code",
   "execution_count": 27,
   "id": "15095560-35bb-4f25-8f2a-8ea29120d645",
   "metadata": {},
   "outputs": [
    {
     "name": "stdout",
     "output_type": "stream",
     "text": [
      "Multiplication: 2\n"
     ]
    }
   ],
   "source": [
    "class num:\n",
    "    def __init__(self):\n",
    "        self.x=0\n",
    "    def __imul__(self,c):\n",
    "        temp=num()\n",
    "        temp.x=self.x*c.x\n",
    "        return temp\n",
    "    def set(self,x):\n",
    "        self.x=x\n",
    "    def result(self):\n",
    "        print(\"Multiplication:\",self.x)\n",
    "c1=num()\n",
    "c1.set(1)\n",
    "c2=num()\n",
    "c2.set(2)\n",
    "c1*=c2\n",
    "c1.result()"
   ]
  },
  {
   "cell_type": "code",
   "execution_count": 30,
   "id": "0294fdd8-344f-41f0-9860-c061f6080156",
   "metadata": {},
   "outputs": [
    {
     "name": "stdout",
     "output_type": "stream",
     "text": [
      "Division: 0.5\n"
     ]
    }
   ],
   "source": [
    "class num:\n",
    "    def __init__(self):\n",
    "        self.x=0\n",
    "    def __itruediv__(self,c):\n",
    "        temp=num()\n",
    "        temp.x=self.x/c.x\n",
    "        return temp\n",
    "    def set(self,x):\n",
    "        self.x=x\n",
    "    def result(self):\n",
    "        print(\"Division:\",self.x)\n",
    "c1=num()\n",
    "c1.set(1)\n",
    "c2=num()\n",
    "c2.set(2)\n",
    "c1/=c2\n",
    "c1.result()"
   ]
  },
  {
   "cell_type": "code",
   "execution_count": 33,
   "id": "65783bab-3af9-44a9-a078-b51a265827c7",
   "metadata": {},
   "outputs": [
    {
     "name": "stdout",
     "output_type": "stream",
     "text": [
      "Remainder: 1\n"
     ]
    }
   ],
   "source": [
    "class num:\n",
    "    def __init__(self):\n",
    "        self.x=0\n",
    "    def __imod__(self,c):\n",
    "        temp=num()\n",
    "        temp.x=self.x%c.x\n",
    "        return temp\n",
    "    def set(self,x):\n",
    "        self.x=x\n",
    "    def result(self):\n",
    "        print(\"Remainder:\",self.x)\n",
    "c1=num()\n",
    "c1.set(1)\n",
    "c2=num()\n",
    "c2.set(2)\n",
    "c1%=c2\n",
    "c1.result()"
   ]
  },
  {
   "cell_type": "code",
   "execution_count": 32,
   "id": "1cb30c13-36e9-419f-b27f-1d1295bb86cf",
   "metadata": {},
   "outputs": [
    {
     "name": "stdout",
     "output_type": "stream",
     "text": [
      "Exponent: 1\n"
     ]
    }
   ],
   "source": [
    "class num:\n",
    "    def __init__(self):\n",
    "        self.x=0\n",
    "    def __ipow__(self,c):\n",
    "        temp=num()\n",
    "        temp.x=self.x**c.x\n",
    "        return temp\n",
    "    def set(self,x):\n",
    "        self.x=x\n",
    "    def result(self):\n",
    "        print(\"Exponent:\",self.x)\n",
    "c1=num()\n",
    "c1.set(1)\n",
    "c2=num()\n",
    "c2.set(2)\n",
    "c1**=c2\n",
    "c1.result()"
   ]
  },
  {
   "cell_type": "code",
   "execution_count": 34,
   "id": "98e1fbbc-7c9b-4023-a586-dc094238de90",
   "metadata": {},
   "outputs": [
    {
     "name": "stdout",
     "output_type": "stream",
     "text": [
      "Greater than: False\n"
     ]
    }
   ],
   "source": [
    "class num:\n",
    "    def __init__(self):\n",
    "        self.x=0\n",
    "    def __gt__(self,c):\n",
    "        temp=num()\n",
    "        temp.x=self.x>c.x\n",
    "        return temp\n",
    "    def set(self,x):\n",
    "        self.x=x\n",
    "    def result(self):\n",
    "        print(\"Greater than:\",self.x)\n",
    "c1=num()\n",
    "c1.set(1)\n",
    "c2=num()\n",
    "c2.set(2)\n",
    "c3=num()\n",
    "c3=c1>c2\n",
    "c3.result()"
   ]
  },
  {
   "cell_type": "code",
   "execution_count": 35,
   "id": "116f6c47-d6e2-4019-b184-56d964706496",
   "metadata": {},
   "outputs": [
    {
     "name": "stdout",
     "output_type": "stream",
     "text": [
      "Lesser than: True\n"
     ]
    }
   ],
   "source": [
    "class num:\n",
    "    def __init__(self):\n",
    "        self.x=0\n",
    "    def __lt__(self,c):\n",
    "        temp=num()\n",
    "        temp.x=self.x<c.x\n",
    "        return temp\n",
    "    def set(self,x):\n",
    "        self.x=x\n",
    "    def result(self):\n",
    "        print(\"Lesser than:\",self.x)\n",
    "c1=num()\n",
    "c1.set(1)\n",
    "c2=num()\n",
    "c2.set(2)\n",
    "c3=num()\n",
    "c3=c1<c2\n",
    "c3.result()"
   ]
  },
  {
   "cell_type": "code",
   "execution_count": 37,
   "id": "25a5083e-8b59-40dc-b875-e3d92fb8b40e",
   "metadata": {},
   "outputs": [
    {
     "name": "stdout",
     "output_type": "stream",
     "text": [
      "Greater than or equal to: False\n"
     ]
    }
   ],
   "source": [
    "class num:\n",
    "    def __init__(self):\n",
    "        self.x=0\n",
    "    def __ge__(self,c):\n",
    "        temp=num()\n",
    "        temp.x=self.x>=c.x\n",
    "        return temp\n",
    "    def set(self,x):\n",
    "        self.x=x\n",
    "    def result(self):\n",
    "        print(\"Greater than or equal to:\",self.x)\n",
    "c1=num()\n",
    "c1.set(1)\n",
    "c2=num()\n",
    "c2.set(2)\n",
    "c3=num()\n",
    "c3=c1>=c2\n",
    "c3.result()"
   ]
  },
  {
   "cell_type": "code",
   "execution_count": 38,
   "id": "bbb5f247-fe4d-435e-9156-eefd1e713a81",
   "metadata": {},
   "outputs": [
    {
     "name": "stdout",
     "output_type": "stream",
     "text": [
      "Lesser than or equal to: True\n"
     ]
    }
   ],
   "source": [
    "class num:\n",
    "    def __init__(self):\n",
    "        self.x=0\n",
    "    def __le__(self,c):\n",
    "        temp=num()\n",
    "        temp.x=self.x<=c.x\n",
    "        return temp\n",
    "    def set(self,x):\n",
    "        self.x=x\n",
    "    def result(self):\n",
    "        print(\"Lesser than or equal to:\",self.x)\n",
    "c1=num()\n",
    "c1.set(1)\n",
    "c2=num()\n",
    "c2.set(2)\n",
    "c3=num()\n",
    "c3=c1<=c2\n",
    "c3.result()"
   ]
  },
  {
   "cell_type": "code",
   "execution_count": 39,
   "id": "9c84678d-0a4b-414a-bdcd-858d25ece5ab",
   "metadata": {},
   "outputs": [
    {
     "name": "stdout",
     "output_type": "stream",
     "text": [
      "Equal to: False\n"
     ]
    }
   ],
   "source": [
    "class num:\n",
    "    def __init__(self):\n",
    "        self.x=0\n",
    "    def __eq__(self,c):\n",
    "        temp=num()\n",
    "        temp.x=self.x==c.x\n",
    "        return temp\n",
    "    def set(self,x):\n",
    "        self.x=x\n",
    "    def result(self):\n",
    "        print(\"Equal to:\",self.x)\n",
    "c1=num()\n",
    "c1.set(1)\n",
    "c2=num()\n",
    "c2.set(2)\n",
    "c3=num()\n",
    "c3=c1==c2\n",
    "c3.result()"
   ]
  },
  {
   "cell_type": "code",
   "execution_count": 40,
   "id": "8e42e672-43b6-49ec-aa37-af607f0c7cbf",
   "metadata": {},
   "outputs": [
    {
     "name": "stdout",
     "output_type": "stream",
     "text": [
      "Not equal to: True\n"
     ]
    }
   ],
   "source": [
    "class num:\n",
    "    def __init__(self):\n",
    "        self.x=0\n",
    "    def __ne__(self,c):\n",
    "        temp=num()\n",
    "        temp.x=self.x!=c.x\n",
    "        return temp\n",
    "    def set(self,x):\n",
    "        self.x=x\n",
    "    def result(self):\n",
    "        print(\"Not equal to:\",self.x)\n",
    "c1=num()\n",
    "c1.set(1)\n",
    "c2=num()\n",
    "c2.set(2)\n",
    "c3=num()\n",
    "c3=c1!=c2\n",
    "c3.result()"
   ]
  },
  {
   "cell_type": "code",
   "execution_count": 44,
   "id": "3b1125a2-6533-494e-81f0-c91cef3369b3",
   "metadata": {},
   "outputs": [
    {
     "name": "stdout",
     "output_type": "stream",
     "text": [
      "And: 2\n"
     ]
    }
   ],
   "source": [
    "class num:\n",
    "    def __init__(self):\n",
    "        self.x=0\n",
    "    def __and__(self,c):\n",
    "        temp=num()\n",
    "        temp.x=self.x and c.x\n",
    "        return temp\n",
    "    def set(self,x):\n",
    "        self.x=x\n",
    "    def result(self):\n",
    "        print(\"And:\",self.x)\n",
    "c1=num()\n",
    "c1.set(1)\n",
    "c2=num()\n",
    "c2.set(2)\n",
    "c3=num()\n",
    "c3=c1 and c2\n",
    "c3.result()"
   ]
  },
  {
   "cell_type": "code",
   "execution_count": 49,
   "id": "06e9a9d2-4bc9-472d-bb6c-c04ed65ca6ee",
   "metadata": {},
   "outputs": [
    {
     "name": "stdout",
     "output_type": "stream",
     "text": [
      "Or: 1\n"
     ]
    }
   ],
   "source": [
    "class num:\n",
    "    def __init__(self):\n",
    "        self.x=0\n",
    "    def __or__(self,c):\n",
    "        temp=num()\n",
    "        temp.x=self.x or c.x\n",
    "        return temp\n",
    "    def set(self,x):\n",
    "        self.x=x\n",
    "    def result(self):\n",
    "        print(\"Or:\",self.x)\n",
    "c1=num()\n",
    "c1.set(1)\n",
    "c2=num()\n",
    "c2.set(2)\n",
    "c3=num()\n",
    "c3=c1 or c2\n",
    "c3.result()"
   ]
  },
  {
   "cell_type": "code",
   "execution_count": 68,
   "id": "e5813be1-85ba-42b4-a0dd-3d867a0ed78a",
   "metadata": {},
   "outputs": [
    {
     "name": "stdout",
     "output_type": "stream",
     "text": [
      "And: 2\n"
     ]
    }
   ],
   "source": [
    "class num:\n",
    "    def __init__(self):\n",
    "        self.x=0\n",
    "    def __iand__(self,c):\n",
    "        temp=num()\n",
    "        temp.x=self.x and c.x\n",
    "        return temp\n",
    "    def set(self,x):\n",
    "        self.x=x\n",
    "    def result(self):\n",
    "        print(\"And:\",self.x)\n",
    "c1=num()\n",
    "c1.set(1)\n",
    "c2=num()\n",
    "c2.set(2)\n",
    "c1&=c2\n",
    "c1.result()"
   ]
  },
  {
   "cell_type": "code",
   "execution_count": 67,
   "id": "e027a401-5e84-4a13-bec3-e78b5daef466",
   "metadata": {},
   "outputs": [
    {
     "name": "stdout",
     "output_type": "stream",
     "text": [
      "Or: 1\n"
     ]
    }
   ],
   "source": [
    "class num:\n",
    "    def __init__(self):\n",
    "        self.x=0\n",
    "    def __ior__(self,c):\n",
    "        temp=num()\n",
    "        temp.x=self.x or c.x\n",
    "        return temp\n",
    "    def set(self,x):\n",
    "        self.x=x\n",
    "    def result(self):\n",
    "        print(\"Or:\",self.x)\n",
    "c1=num()\n",
    "c1.set(1)\n",
    "c2=num()\n",
    "c2.set(2)\n",
    "c1|=c2\n",
    "c1.result()"
   ]
  },
  {
   "cell_type": "code",
   "execution_count": 65,
   "id": "d05618f7-c405-4be8-9068-4483b28e03cf",
   "metadata": {},
   "outputs": [
    {
     "name": "stdout",
     "output_type": "stream",
     "text": [
      "Xor: 3\n"
     ]
    }
   ],
   "source": [
    "class num:\n",
    "    def __init__(self):\n",
    "        self.x=0\n",
    "    def __xor__(self,c):\n",
    "        temp=num()\n",
    "        temp.x=self.x ^ c.x\n",
    "        return temp\n",
    "    def set(self,x):\n",
    "        self.x=x\n",
    "    def result(self):\n",
    "        print(\"Xor:\",self.x)\n",
    "c1=num()\n",
    "c1.set(1)\n",
    "c2=num()\n",
    "c2.set(2)\n",
    "c3=num()\n",
    "c3=c1 ^ c2\n",
    "c3.result()"
   ]
  },
  {
   "cell_type": "code",
   "execution_count": 66,
   "id": "ddc1decf-c98f-412c-bd9d-e209f7d53c7f",
   "metadata": {},
   "outputs": [
    {
     "name": "stdout",
     "output_type": "stream",
     "text": [
      "Xor: 3\n"
     ]
    }
   ],
   "source": [
    "class num:\n",
    "    def __init__(self):\n",
    "        self.x=0\n",
    "    def __ixor__(self,c):\n",
    "        temp=num()\n",
    "        temp.x=self.x ^ c.x\n",
    "        return temp\n",
    "    def set(self,x):\n",
    "        self.x=x\n",
    "    def result(self):\n",
    "        print(\"Xor:\",self.x)\n",
    "c1=num()\n",
    "c1.set(1)\n",
    "c2=num()\n",
    "c2.set(2)\n",
    "c1^=c2\n",
    "c1.result()"
   ]
  },
  {
   "cell_type": "code",
   "execution_count": 69,
   "id": "bd04a035-09a0-4764-826b-f18062d59486",
   "metadata": {},
   "outputs": [
    {
     "name": "stdout",
     "output_type": "stream",
     "text": [
      "Right shift: 0\n"
     ]
    }
   ],
   "source": [
    "class num:\n",
    "    def __init__(self):\n",
    "        self.x=0\n",
    "    def __rshift__(self,c):\n",
    "        temp=num()\n",
    "        temp.x=self.x>>c.x\n",
    "        return temp\n",
    "    def set(self,x):\n",
    "        self.x=x\n",
    "    def result(self):\n",
    "        print(\"Right shift:\",self.x)\n",
    "c1=num()\n",
    "c1.set(1)\n",
    "c2=num()\n",
    "c2.set(2)\n",
    "c3=num()\n",
    "c3=c1>>c2\n",
    "c3.result()"
   ]
  },
  {
   "cell_type": "code",
   "execution_count": 71,
   "id": "0c067274-4f4a-4935-9801-2d6b13cca2b1",
   "metadata": {},
   "outputs": [
    {
     "name": "stdout",
     "output_type": "stream",
     "text": [
      "Left shift: 4\n"
     ]
    }
   ],
   "source": [
    "class num:\n",
    "    def __init__(self):\n",
    "        self.x=0\n",
    "    def __lshift__(self,c):\n",
    "        temp=num()\n",
    "        temp.x=self.x<<c.x\n",
    "        return temp\n",
    "    def set(self,x):\n",
    "        self.x=x\n",
    "    def result(self):\n",
    "        print(\"Left shift:\",self.x)\n",
    "c1=num()\n",
    "c1.set(1)\n",
    "c2=num()\n",
    "c2.set(2)\n",
    "c3=num()\n",
    "c3=c1<<c2\n",
    "c3.result()"
   ]
  },
  {
   "cell_type": "code",
   "execution_count": 72,
   "id": "e8d2367d-a544-48c0-a6f8-6f4cfe10e65d",
   "metadata": {},
   "outputs": [
    {
     "name": "stdout",
     "output_type": "stream",
     "text": [
      "Right shift: 0\n"
     ]
    }
   ],
   "source": [
    "class num:\n",
    "    def __init__(self):\n",
    "        self.x=0\n",
    "    def __irshift__(self,c):\n",
    "        temp=num()\n",
    "        temp.x=self.x>>c.x\n",
    "        return temp\n",
    "    def set(self,x):\n",
    "        self.x=x\n",
    "    def result(self):\n",
    "        print(\"Right shift:\",self.x)\n",
    "c1=num()\n",
    "c1.set(1)\n",
    "c2=num()\n",
    "c2.set(2)\n",
    "c1>>=c2\n",
    "c1.result()"
   ]
  },
  {
   "cell_type": "code",
   "execution_count": 73,
   "id": "52925a5a-92e8-44fd-8d70-a5d1c432c5bd",
   "metadata": {},
   "outputs": [
    {
     "name": "stdout",
     "output_type": "stream",
     "text": [
      "Left shift: 4\n"
     ]
    }
   ],
   "source": [
    "class num:\n",
    "    def __init__(self):\n",
    "        self.x=0\n",
    "    def __ilshift__(self,c):\n",
    "        temp=num()\n",
    "        temp.x=self.x<<c.x\n",
    "        return temp\n",
    "    def set(self,x):\n",
    "        self.x=x\n",
    "    def result(self):\n",
    "        print(\"Left shift:\",self.x)\n",
    "c1=num()\n",
    "c1.set(1)\n",
    "c2=num()\n",
    "c2.set(2)\n",
    "c1<<=c2\n",
    "c1.result()"
   ]
  },
  {
   "cell_type": "code",
   "execution_count": 77,
   "id": "466891ae-8997-44c3-a18f-b6f27caddace",
   "metadata": {},
   "outputs": [
    {
     "name": "stdin",
     "output_type": "stream",
     "text": [
      "Enter book name: \"Python\"\n",
      "Enter book price: 100\n"
     ]
    },
    {
     "name": "stdout",
     "output_type": "stream",
     "text": [
      "Book name: Python\n",
      "Book price: 100\n"
     ]
    },
    {
     "name": "stdin",
     "output_type": "stream",
     "text": [
      "Enter book name: \"Java\"\n",
      "Enter book price: 200\n"
     ]
    },
    {
     "name": "stdout",
     "output_type": "stream",
     "text": [
      "Book name: Java\n",
      "Book price: 200\n",
      "I will purchase book Python as it's price is low!\n"
     ]
    }
   ],
   "source": [
    "class book:\n",
    "    def __init__(self):\n",
    "        self.name=eval(input(\"Enter book name:\"))\n",
    "        self.price=eval(input(\"Enter book price:\"))\n",
    "        self.show()\n",
    "    def show(self):\n",
    "        print(\"Book name:\",self.name)\n",
    "        print(\"Book price:\",self.price)\n",
    "    def __gt__(self,c):\n",
    "        if self.price>c.price:\n",
    "            return True\n",
    "        else:\n",
    "            return False\n",
    "\n",
    "b1=book()\n",
    "b2=book()\n",
    "if b1>b2==True:\n",
    "    print(\"I will purchase book\",b2.name,\"as it's price is low!\")\n",
    "else:\n",
    "    print(\"I will purchase book\",b1.name,\"as it's price is low!\")"
   ]
  },
  {
   "cell_type": "code",
   "execution_count": null,
   "id": "298e9b9e-f196-44e1-a64e-efe5a9ae9513",
   "metadata": {},
   "outputs": [],
   "source": []
  },
  {
   "cell_type": "code",
   "execution_count": null,
   "id": "17590208-9c5a-4293-badd-97fedbe53701",
   "metadata": {},
   "outputs": [],
   "source": []
  },
  {
   "cell_type": "code",
   "execution_count": null,
   "id": "7d9fe88c-5b89-49f9-b0d2-fde602e23cc8",
   "metadata": {},
   "outputs": [],
   "source": []
  },
  {
   "cell_type": "code",
   "execution_count": null,
   "id": "c71ef8de-2bd1-48f8-b651-878708d97908",
   "metadata": {},
   "outputs": [],
   "source": []
  }
 ],
 "metadata": {
  "kernelspec": {
   "display_name": "Python 3 (ipykernel)",
   "language": "python",
   "name": "python3"
  },
  "language_info": {
   "codemirror_mode": {
    "name": "ipython",
    "version": 3
   },
   "file_extension": ".py",
   "mimetype": "text/x-python",
   "name": "python",
   "nbconvert_exporter": "python",
   "pygments_lexer": "ipython3",
   "version": "3.11.7"
  }
 },
 "nbformat": 4,
 "nbformat_minor": 5
}
