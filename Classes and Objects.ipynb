{
 "cells": [
  {
   "cell_type": "code",
   "execution_count": 44,
   "id": "dcaa6c8f-758e-4d8f-bdc9-98653cb3da09",
   "metadata": {},
   "outputs": [
    {
     "name": "stdout",
     "output_type": "stream",
     "text": [
      "Hello this is public variable data!\n"
     ]
    },
    {
     "ename": "AttributeError",
     "evalue": "'alpha' object has no attribute '__word2'",
     "output_type": "error",
     "traceback": [
      "\u001b[1;31m---------------------------------------------------------------------------\u001b[0m",
      "\u001b[1;31mAttributeError\u001b[0m                            Traceback (most recent call last)",
      "Cell \u001b[1;32mIn[44], line 15\u001b[0m\n\u001b[0;32m     13\u001b[0m ob\u001b[38;5;241m=\u001b[39malpha()\n\u001b[0;32m     14\u001b[0m \u001b[38;5;28mprint\u001b[39m(ob\u001b[38;5;241m.\u001b[39mword1)\n\u001b[1;32m---> 15\u001b[0m \u001b[38;5;28mprint\u001b[39m(ob\u001b[38;5;241m.\u001b[39m__word2)\n",
      "\u001b[1;31mAttributeError\u001b[0m: 'alpha' object has no attribute '__word2'"
     ]
    }
   ],
   "source": [
    "class alpha:\n",
    "    word1=\"Hello this is public variable data!\"#class variable with public access\n",
    "    __word2=\"Hello this is private variable data!\"#class variable with private access\n",
    "    def f(self):#class method with public access and can be accessed through class instantiation\n",
    "        print(\"Hello this is public method!\")\n",
    "        print(self.word1)#self is the pointer to point word1 as the class variable and can be used inside this method\n",
    "        print(self.__word2)#self is the pointer to point word2 as the class variable and can be used inside this method\n",
    "\n",
    "    def __g(self):#class method with private access and can not be accessed through class instantiation\n",
    "        print(\"Hello this is private method!\")\n",
    "        print(self.word1)\n",
    "        print(self.__word2)\n",
    "ob=alpha()\n",
    "print(ob.word1)\n",
    "print(ob.__word2)"
   ]
  },
  {
   "cell_type": "code",
   "execution_count": 41,
   "id": "c414eb65-d55c-41de-a1bc-88bbd7cf04e7",
   "metadata": {},
   "outputs": [
    {
     "name": "stdout",
     "output_type": "stream",
     "text": [
      "Hello this is public method!\n",
      "Hello this is public variable data!\n",
      "Hello this is private variable data!\n"
     ]
    }
   ],
   "source": [
    "ob.f()"
   ]
  },
  {
   "cell_type": "code",
   "execution_count": 43,
   "id": "77418bb0-215a-4ce6-83c6-c368e640878e",
   "metadata": {},
   "outputs": [
    {
     "ename": "AttributeError",
     "evalue": "'alpha' object has no attribute '__g'",
     "output_type": "error",
     "traceback": [
      "\u001b[1;31m---------------------------------------------------------------------------\u001b[0m",
      "\u001b[1;31mAttributeError\u001b[0m                            Traceback (most recent call last)",
      "Cell \u001b[1;32mIn[43], line 1\u001b[0m\n\u001b[1;32m----> 1\u001b[0m ob\u001b[38;5;241m.\u001b[39m__g()\n",
      "\u001b[1;31mAttributeError\u001b[0m: 'alpha' object has no attribute '__g'"
     ]
    }
   ],
   "source": [
    "ob.__g()"
   ]
  },
  {
   "cell_type": "code",
   "execution_count": 51,
   "id": "d75fd718-b54c-4a02-8654-cf9bb87231f8",
   "metadata": {},
   "outputs": [
    {
     "name": "stdin",
     "output_type": "stream",
     "text": [
      "Enter name: \"Vikram\"\n"
     ]
    },
    {
     "name": "stdout",
     "output_type": "stream",
     "text": [
      "Hello Vikram ,how are you?\n"
     ]
    },
    {
     "name": "stdin",
     "output_type": "stream",
     "text": [
      "Enter name: \"Vikrant\"\n"
     ]
    },
    {
     "name": "stdout",
     "output_type": "stream",
     "text": [
      "Hello Vikrant ,how are you?\n",
      "But, I am Zion Christ!\n"
     ]
    }
   ],
   "source": [
    "class greet:\n",
    "    def __init__(self):\n",
    "        n=eval(input(\"Enter name:\"))\n",
    "        print(\"Hello\",n,\",how are you?\")\n",
    "    def f(self):\n",
    "        self.n=\"But, I am Zion Christ!\"\n",
    "        print(self.n)\n",
    "g=greet()#object calling automatically executes __init__() method\n",
    "g.__init__()\n",
    "g.f()"
   ]
  },
  {
   "cell_type": "code",
   "execution_count": 57,
   "id": "8bb7db64-34d1-4acc-8182-be48ab5ecf3f",
   "metadata": {},
   "outputs": [
    {
     "name": "stdout",
     "output_type": "stream",
     "text": [
      "Passed value: 5\n",
      "Changed value: 10\n",
      "Final value: 15\n"
     ]
    }
   ],
   "source": [
    "class number:\n",
    "    def __init__(self,value):\n",
    "        self.value=value\n",
    "        print(\"Passed value:\",self.value)\n",
    "        self.value=10\n",
    "        print(\"Changed value:\",self.value)\n",
    "        value=15\n",
    "        print(\"Final value:\",value)\n",
    "n=number(5)"
   ]
  },
  {
   "cell_type": "code",
   "execution_count": 5,
   "id": "8292839e-2241-45d1-8533-f5130ba35298",
   "metadata": {},
   "outputs": [
    {
     "name": "stdout",
     "output_type": "stream",
     "text": [
      "When calling this method each time new instance/object is created: 5\n",
      "But the every object shares the single hard copy of class variable: 10\n",
      "When calling this method each time new instance/object is created: 10\n",
      "But the every object shares the single hard copy of class variable: 10\n",
      "When calling this method each time new instance/object is created: 15\n",
      "But the every object shares the single hard copy of class variable: 10\n"
     ]
    }
   ],
   "source": [
    "class variable:\n",
    "    class_var=10\n",
    "    def __init__(self,value):\n",
    "        self.object_var=value\n",
    "        print(\"When calling this method each time new instance/object is created:\",self.object_var)\n",
    "        print(\"But the every object shares the single hard copy of class variable:\",variable.class_var)\n",
    "ob1=variable(5)\n",
    "ob2=variable(10)\n",
    "ob3=variable(15)"
   ]
  },
  {
   "cell_type": "code",
   "execution_count": 6,
   "id": "aa19b091-a5b1-401d-a2dd-61ec967bbcc0",
   "metadata": {},
   "outputs": [
    {
     "name": "stdout",
     "output_type": "stream",
     "text": [
      "When calling this method each time new instance/object is created: 5\n",
      "But the every object changes the single hard copy of class variable: 20\n",
      "When calling this method each time new instance/object is created: 10\n",
      "But the every object changes the single hard copy of class variable: 30\n",
      "When calling this method each time new instance/object is created: 15\n",
      "But the every object changes the single hard copy of class variable: 40\n"
     ]
    }
   ],
   "source": [
    "class variable:\n",
    "    class_var=10\n",
    "    def __init__(self,value):\n",
    "        self.object_var=value\n",
    "        variable.class_var+=10\n",
    "        print(\"When calling this method each time new instance/object is created:\",self.object_var)\n",
    "        print(\"But the every object changes the single hard copy of class variable:\",variable.class_var)\n",
    "ob1=variable(5)\n",
    "ob2=variable(10)\n",
    "ob3=variable(15)"
   ]
  },
  {
   "cell_type": "code",
   "execution_count": 35,
   "id": "3b4a2e92-a841-4726-a874-a18ad63684bc",
   "metadata": {},
   "outputs": [
    {
     "name": "stdout",
     "output_type": "stream",
     "text": [
      "Number is given: 10\n",
      "Number= 10 is even!\n",
      "Number is given: 11\n",
      "Number= 11 is odd!\n"
     ]
    }
   ],
   "source": [
    "class number:\n",
    "    even=0\n",
    "    def check(self,num):\n",
    "        if num%2==0:\n",
    "            self.even=1\n",
    "    def even_odd(self,num):\n",
    "        self.num=num\n",
    "        print(\"Number is given:\",self.num)\n",
    "        self.check(num)\n",
    "        if self.even==1:\n",
    "            print(\"Number=\",num,\"is even!\")\n",
    "        else:\n",
    "            print(\"Number=\",num,\"is odd!\")\n",
    "ob1=number()\n",
    "ob1.even_odd(10)\n",
    "ob2=number()\n",
    "ob2.even_odd(11)"
   ]
  },
  {
   "cell_type": "code",
   "execution_count": 36,
   "id": "80088ba4-0fbf-464e-959b-1e29914b68f9",
   "metadata": {},
   "outputs": [
    {
     "name": "stdout",
     "output_type": "stream",
     "text": [
      "Number is given: 1\n",
      "Number is given: 2\n",
      "Number is given: 3\n",
      "Even list: [2]\n",
      "Odd list: [1, 3]\n"
     ]
    }
   ],
   "source": [
    "class number:\n",
    "    even=[]#class attribute\n",
    "    odd=list()#class attribute\n",
    "    def __init__(self,num):\n",
    "        self.num=num\n",
    "        print(\"Number is given:\",self.num)\n",
    "        if num%2==0:\n",
    "            number.even.append(num)\n",
    "        else:\n",
    "            number.odd.append(num)\n",
    "ob1=number(1)\n",
    "ob1=number(2)\n",
    "ob1=number(3)\n",
    "print(\"Even list:\",number.even)\n",
    "print(\"Odd list:\",number.odd)"
   ]
  },
  {
   "cell_type": "code",
   "execution_count": 47,
   "id": "e65fb6fd-e60b-4249-8f5e-a9588089dd59",
   "metadata": {},
   "outputs": [
    {
     "name": "stdout",
     "output_type": "stream",
     "text": [
      "Value: 1\n",
      "Value: 2\n",
      "Value: 3\n",
      "It is class attribute!\n",
      "3\n"
     ]
    }
   ],
   "source": [
    "class override:\n",
    "    class_var=\"It is class attribute!\"\n",
    "    def __init__(self,num):\n",
    "        self.num=num\n",
    "        print(\"Value:\",num)\n",
    "ob1=override(1)\n",
    "ob1=override(2)\n",
    "ob1=override(3)\n",
    "print(override.class_var)\n",
    "print(ob1.num)"
   ]
  },
  {
   "cell_type": "code",
   "execution_count": 51,
   "id": "2591db23-5d46-4f64-88dc-8c47244921fd",
   "metadata": {},
   "outputs": [
    {
     "name": "stdout",
     "output_type": "stream",
     "text": [
      "Class variables: 10 20\n",
      "Object variables: 1 2\n",
      "Deleted!\n",
      "Deleted!\n"
     ]
    }
   ],
   "source": [
    "class delete:\n",
    "    class_var1=10\n",
    "    class_var2=20\n",
    "    def __init__(self,obj_var1,obj_var2):\n",
    "        self.obj_var1=obj_var1\n",
    "        self.obj_var2=obj_var2\n",
    "        print(\"Class variables:\",delete.class_var1,delete.class_var2)\n",
    "        print(\"Object variables:\",self.obj_var1,self.obj_var2)\n",
    "    def __del__(self):#deleting implicitly but remember to delete it successfully run it two times!\n",
    "        delete.class_var1\n",
    "        self.obj_var1\n",
    "        print(\"Deleted!\")\n",
    "    def delete(self):#deleting explicitly\n",
    "        del delete.class_var2\n",
    "        del self.obj_var2\n",
    "        print(\"Deleted!\")\n",
    "ob1=delete(1,2)\n",
    "ob1.delete()"
   ]
  },
  {
   "cell_type": "code",
   "execution_count": 43,
   "id": "4fd4e274-cc24-4f4c-8488-e8491f9ba952",
   "metadata": {},
   "outputs": [
    {
     "ename": "AttributeError",
     "evalue": "type object 'delete' has no attribute 'class_var2'",
     "output_type": "error",
     "traceback": [
      "\u001b[1;31m---------------------------------------------------------------------------\u001b[0m",
      "\u001b[1;31mAttributeError\u001b[0m                            Traceback (most recent call last)",
      "Cell \u001b[1;32mIn[43], line 1\u001b[0m\n\u001b[1;32m----> 1\u001b[0m \u001b[38;5;28mprint\u001b[39m(\u001b[38;5;124m\"\u001b[39m\u001b[38;5;124mClass variables:\u001b[39m\u001b[38;5;124m\"\u001b[39m,delete\u001b[38;5;241m.\u001b[39mclass_var1,delete\u001b[38;5;241m.\u001b[39mclass_var2)\n",
      "\u001b[1;31mAttributeError\u001b[0m: type object 'delete' has no attribute 'class_var2'"
     ]
    }
   ],
   "source": [
    "print(\"Class variables:\",delete.class_var1,delete.class_var2)"
   ]
  },
  {
   "cell_type": "code",
   "execution_count": 48,
   "id": "41cfa4ec-489a-4f9a-8995-471794f3b673",
   "metadata": {},
   "outputs": [
    {
     "ename": "AttributeError",
     "evalue": "'override' object has no attribute 'obj_var1'",
     "output_type": "error",
     "traceback": [
      "\u001b[1;31m---------------------------------------------------------------------------\u001b[0m",
      "\u001b[1;31mAttributeError\u001b[0m                            Traceback (most recent call last)",
      "Cell \u001b[1;32mIn[48], line 1\u001b[0m\n\u001b[1;32m----> 1\u001b[0m \u001b[38;5;28mprint\u001b[39m(\u001b[38;5;124m\"\u001b[39m\u001b[38;5;124mObject variables:\u001b[39m\u001b[38;5;124m\"\u001b[39m,ob1\u001b[38;5;241m.\u001b[39mobj_var1,ob1\u001b[38;5;241m.\u001b[39mobj_var2)\n",
      "\u001b[1;31mAttributeError\u001b[0m: 'override' object has no attribute 'obj_var1'"
     ]
    }
   ],
   "source": [
    "print(\"Object variables:\",ob1.obj_var1,ob1.obj_var2)"
   ]
  },
  {
   "cell_type": "code",
   "execution_count": 52,
   "id": "41e4957c-422f-449f-8f85-db61aecd294b",
   "metadata": {},
   "outputs": [
    {
     "name": "stdout",
     "output_type": "stream",
     "text": [
      "<__main__.delete object at 0x00000143842B6210>\n"
     ]
    }
   ],
   "source": [
    "print(ob1)"
   ]
  },
  {
   "cell_type": "code",
   "execution_count": 54,
   "id": "8914af02-7a9d-4f8f-a7be-cd8289da056f",
   "metadata": {},
   "outputs": [
    {
     "name": "stdout",
     "output_type": "stream",
     "text": [
      "Deleting class object which was created!\n"
     ]
    },
    {
     "ename": "NameError",
     "evalue": "name 'ob1' is not defined",
     "output_type": "error",
     "traceback": [
      "\u001b[1;31m---------------------------------------------------------------------------\u001b[0m",
      "\u001b[1;31mNameError\u001b[0m                                 Traceback (most recent call last)",
      "Cell \u001b[1;32mIn[54], line 2\u001b[0m\n\u001b[0;32m      1\u001b[0m \u001b[38;5;28mprint\u001b[39m(\u001b[38;5;124m\"\u001b[39m\u001b[38;5;124mDeleting class object which was created!\u001b[39m\u001b[38;5;124m\"\u001b[39m)\n\u001b[1;32m----> 2\u001b[0m \u001b[38;5;28;01mdel\u001b[39;00m ob1\n",
      "\u001b[1;31mNameError\u001b[0m: name 'ob1' is not defined"
     ]
    }
   ],
   "source": [
    "print(\"Deleting class object which was created!\")\n",
    "del ob1"
   ]
  },
  {
   "cell_type": "code",
   "execution_count": 57,
   "id": "911ff610-fe15-426b-bc21-06ccc762b3b1",
   "metadata": {},
   "outputs": [
    {
     "name": "stdout",
     "output_type": "stream",
     "text": [
      "String representation of value: 20\n",
      "Lenght of the name: 6\n",
      "First value is greater than second!\n"
     ]
    }
   ],
   "source": [
    "class repr_len_cmp:\n",
    "    def __init__(self,name,value):\n",
    "        self.name=name\n",
    "        self.value=value\n",
    "    def __repr__(self):\n",
    "        return repr(self.value)\n",
    "    def __len__(self):\n",
    "        return len(self.name)\n",
    "    def __cmp__(self,obj1):\n",
    "        if obj.value>obj1.value:\n",
    "            return True\n",
    "        else:\n",
    "            return False\n",
    "\n",
    "obj=repr_len_cmp(\"Vikram\",20)\n",
    "print(\"String representation of value:\",repr(obj))\n",
    "print(\"Lenght of the name:\",len(obj))\n",
    "obj1=repr_len_cmp(\"Virat\",18)\n",
    "r=obj.__cmp__(obj1)\n",
    "if r==True:\n",
    "    print(\"First value is greater than second!\")\n",
    "else:\n",
    "    print(\"Second value is greater than first!\")"
   ]
  },
  {
   "cell_type": "code",
   "execution_count": 7,
   "id": "cb5b52b3-0498-48fd-8f58-1a473717550f",
   "metadata": {},
   "outputs": [
    {
     "name": "stdout",
     "output_type": "stream",
     "text": [
      "4 5\n",
      "a is less than b!\n",
      "a is less than or equal to b!\n",
      "b is greater than a!\n",
      "b is greater than or equal to a!\n",
      "a is not equal to b!\n",
      "a is not equal to b!\n"
     ]
    }
   ],
   "source": [
    "class relational:\n",
    "    def __init__(self,a,b):\n",
    "        self.a=a\n",
    "        self.b=b\n",
    "        print(a,b)\n",
    "    def __lt__(self):\n",
    "        if self.a<self.b:\n",
    "            print(\"a is less than b!\")\n",
    "        else:\n",
    "            print(\"b is less than a!\")\n",
    "    def __le__(self):\n",
    "        if self.a<=self.b:\n",
    "            print(\"a is less than or equal to b!\")\n",
    "        else:\n",
    "            print(\"b is less than or equal to a!\")\n",
    "    def __gt__(self):\n",
    "        if self.a>self.b:\n",
    "            print(\"a is greater than b!\")\n",
    "        else:\n",
    "            print(\"b is greater than a!\")\n",
    "    def __ge__(self):\n",
    "        if self.a>=self.b:\n",
    "            print(\"a is greater than or equal to b!\")\n",
    "        else:\n",
    "            print(\"b is greater than or equal to a!\")\n",
    "    def __eq__(self):\n",
    "        if self.a==self.b:\n",
    "            print(\"a is equal to b!\")\n",
    "        else:\n",
    "            print(\"a is not equal to b!\")\n",
    "    def __ne__(self):\n",
    "        if self.a!=self.b:\n",
    "            print(\"a is not equal to b!\")\n",
    "        else:\n",
    "            print(\"a is equal to b!\")\n",
    "ob=relational(4,5)\n",
    "ob.__lt__()\n",
    "ob.__le__()\n",
    "ob.__gt__()\n",
    "ob.__ge__()\n",
    "ob.__eq__()\n",
    "ob.__ne__()"
   ]
  },
  {
   "cell_type": "code",
   "execution_count": 15,
   "id": "ecd6dca0-f421-4d84-9f19-9cc1339d3eff",
   "metadata": {},
   "outputs": [
    {
     "name": "stdin",
     "output_type": "stream",
     "text": [
      "Enter list: [1,2,3]\n"
     ]
    },
    {
     "name": "stdout",
     "output_type": "stream",
     "text": [
      "List: [1, 2, 3]\n",
      "2\n",
      "0\n",
      "List: [1, 2, 0]\n"
     ]
    }
   ],
   "source": [
    "class get_set:\n",
    "    def __init__(self,l1):\n",
    "        self.l1=l1\n",
    "        print(\"List:\",l1)\n",
    "    def __getitem__(self,index):\n",
    "        self.index=index\n",
    "        return (self.l1[index])\n",
    "    def __setitem__(self,index,element):\n",
    "        self.index=index\n",
    "        self.element=element\n",
    "        self.l1[index]=element\n",
    "        return (self.l1[index])\n",
    "    def display(self):\n",
    "        print(\"List:\",self.l1)\n",
    "l1=eval(input(\"Enter list:\"))\n",
    "ob=get_set(l1)\n",
    "print(ob.__getitem__(1))\n",
    "print(ob.__setitem__(2,0))\n",
    "ob.display()"
   ]
  },
  {
   "cell_type": "code",
   "execution_count": 16,
   "id": "70c710e2-9a79-4c1e-9f68-10060d41ec9d",
   "metadata": {},
   "outputs": [
    {
     "name": "stdout",
     "output_type": "stream",
     "text": [
      "Hello this is public variable data!\n"
     ]
    },
    {
     "ename": "AttributeError",
     "evalue": "'alpha' object has no attribute '__word2'",
     "output_type": "error",
     "traceback": [
      "\u001b[1;31m---------------------------------------------------------------------------\u001b[0m",
      "\u001b[1;31mAttributeError\u001b[0m                            Traceback (most recent call last)",
      "Cell \u001b[1;32mIn[16], line 15\u001b[0m\n\u001b[0;32m     13\u001b[0m ob\u001b[38;5;241m=\u001b[39malpha()\n\u001b[0;32m     14\u001b[0m \u001b[38;5;28mprint\u001b[39m(ob\u001b[38;5;241m.\u001b[39mword1)\n\u001b[1;32m---> 15\u001b[0m \u001b[38;5;28mprint\u001b[39m(ob\u001b[38;5;241m.\u001b[39m__word2)\n",
      "\u001b[1;31mAttributeError\u001b[0m: 'alpha' object has no attribute '__word2'"
     ]
    }
   ],
   "source": [
    "class alpha:\n",
    "    word1=\"Hello this is public variable data!\"#class variable with public access\n",
    "    __word2=\"Hello this is private variable data!\"#class variable with private access\n",
    "    def f(self):#class method with public access and can be accessed through class instantiation\n",
    "        print(\"Hello this is public method!\")\n",
    "        print(self.word1)#self is the pointer to point word1 as the class variable and can be used inside this method\n",
    "        print(self.__word2)#self is the pointer to point word2 as the class variable and can be used inside this method\n",
    "\n",
    "    def __g(self):#class method with private access and can not be accessed through class instantiation\n",
    "        print(\"Hello this is private method!\")\n",
    "        print(self.word1)\n",
    "        print(self.__word2)\n",
    "ob=alpha()\n",
    "print(ob.word1)\n",
    "print(ob.__word2)"
   ]
  },
  {
   "cell_type": "code",
   "execution_count": 18,
   "id": "3f081a43-0491-480a-b1b5-0c1b0fd2e44d",
   "metadata": {},
   "outputs": [
    {
     "name": "stdout",
     "output_type": "stream",
     "text": [
      "Hello this is public method!\n",
      "Hello this is public variable data!\n",
      "Hello this is private variable data!\n"
     ]
    }
   ],
   "source": [
    "ob.f()"
   ]
  },
  {
   "cell_type": "code",
   "execution_count": 20,
   "id": "21120526-ef84-4722-b62a-545b2803a0d0",
   "metadata": {},
   "outputs": [
    {
     "ename": "AttributeError",
     "evalue": "'alpha' object has no attribute '__g'",
     "output_type": "error",
     "traceback": [
      "\u001b[1;31m---------------------------------------------------------------------------\u001b[0m",
      "\u001b[1;31mAttributeError\u001b[0m                            Traceback (most recent call last)",
      "Cell \u001b[1;32mIn[20], line 1\u001b[0m\n\u001b[1;32m----> 1\u001b[0m ob\u001b[38;5;241m.\u001b[39m__g()\n",
      "\u001b[1;31mAttributeError\u001b[0m: 'alpha' object has no attribute '__g'"
     ]
    }
   ],
   "source": [
    "ob.__g()"
   ]
  },
  {
   "cell_type": "code",
   "execution_count": 21,
   "id": "5c3d8a73-9511-4eff-8a7e-8dfa745ce2fd",
   "metadata": {},
   "outputs": [
    {
     "name": "stdout",
     "output_type": "stream",
     "text": [
      "Hello this is private method!\n",
      "Hello this is public variable data!\n",
      "Hello this is private variable data!\n"
     ]
    }
   ],
   "source": [
    "ob._alpha__g()"
   ]
  },
  {
   "cell_type": "code",
   "execution_count": 23,
   "id": "6fab02bf-6c09-4adf-ad77-8fbf3012cdac",
   "metadata": {},
   "outputs": [
    {
     "name": "stdout",
     "output_type": "stream",
     "text": [
      "5 4\n",
      "Addition: 9 \n",
      "Subtraction: 1\n"
     ]
    }
   ],
   "source": [
    "class add_sub:\n",
    "    def __init__(self,a,b):\n",
    "        self.a,self.b=a,b\n",
    "        print(a,b)\n",
    "        self.add()\n",
    "    def add(self):\n",
    "        self.ad=0\n",
    "        self.ad=self.a+self.b\n",
    "        self.sub()\n",
    "    def sub(self):\n",
    "        self.sb=0\n",
    "        self.sb=self.a-self.b\n",
    "        self.display()\n",
    "    def display(self):\n",
    "        print(\"Addition:\",self.ad,\"\\nSubtraction:\",self.sb)\n",
    "ob=add_sub(5,4)"
   ]
  },
  {
   "cell_type": "code",
   "execution_count": 28,
   "id": "4daa0a28-efd1-4443-9ac9-11f59d0a1f87",
   "metadata": {},
   "outputs": [
    {
     "name": "stdout",
     "output_type": "stream",
     "text": [
      "Hello Good morning!\n",
      "This is docstring!\n"
     ]
    }
   ],
   "source": [
    "class greet:\n",
    "    \"\"\"This is docstring!\"\"\"\n",
    "    print(\"Hello Good morning!\")\n",
    "ob=greet()\n",
    "print(greet.__doc__)"
   ]
  },
  {
   "cell_type": "code",
   "execution_count": 29,
   "id": "68d676fc-70e6-47f8-b105-1339596c9fb6",
   "metadata": {},
   "outputs": [
    {
     "name": "stdout",
     "output_type": "stream",
     "text": [
      "5 4\n",
      "Addition: 9 \n",
      "Subtraction: 1 \n",
      "Multiplication: 20\n"
     ]
    }
   ],
   "source": [
    "def mul(a,b):\n",
    "    return (a*b)\n",
    "class add_sub:\n",
    "    def __init__(self,a,b):\n",
    "        self.a,self.b=a,b\n",
    "        print(a,b)\n",
    "        self.add()\n",
    "    def add(self):\n",
    "        self.ad=0\n",
    "        self.ad=self.a+self.b\n",
    "        self.sub()\n",
    "    def sub(self):\n",
    "        self.sb=0\n",
    "        self.ml=0\n",
    "        self.sb=self.a-self.b\n",
    "        self.ml=mul(self.a,self.b)\n",
    "        self.display()\n",
    "    def display(self):\n",
    "        print(\"Addition:\",self.ad,\"\\nSubtraction:\",self.sb,\"\\nMultiplication:\",self.ml)\n",
    "ob=add_sub(5,4)"
   ]
  },
  {
   "cell_type": "code",
   "execution_count": 33,
   "id": "73e8e77c-4e68-4665-bf3a-e743594f6c88",
   "metadata": {},
   "outputs": [
    {
     "name": "stdout",
     "output_type": "stream",
     "text": [
      "Class variable: 10\n",
      "Object variable: 5\n",
      "New variable created at run-time: 15\n",
      "New variable modified at run-time: 25\n"
     ]
    },
    {
     "ename": "AttributeError",
     "evalue": "'variable' object has no attribute 'new_var'",
     "output_type": "error",
     "traceback": [
      "\u001b[1;31m---------------------------------------------------------------------------\u001b[0m",
      "\u001b[1;31mAttributeError\u001b[0m                            Traceback (most recent call last)",
      "Cell \u001b[1;32mIn[33], line 13\u001b[0m\n\u001b[0;32m     11\u001b[0m \u001b[38;5;28mprint\u001b[39m(\u001b[38;5;124m\"\u001b[39m\u001b[38;5;124mNew variable modified at run-time:\u001b[39m\u001b[38;5;124m\"\u001b[39m,ob\u001b[38;5;241m.\u001b[39mnew_var)\n\u001b[0;32m     12\u001b[0m \u001b[38;5;28;01mdel\u001b[39;00m ob\u001b[38;5;241m.\u001b[39mnew_var\n\u001b[1;32m---> 13\u001b[0m \u001b[38;5;28mprint\u001b[39m(\u001b[38;5;124m\"\u001b[39m\u001b[38;5;124mNew variable deleted at run-time:\u001b[39m\u001b[38;5;124m\"\u001b[39m,ob\u001b[38;5;241m.\u001b[39mnew_var)\n",
      "\u001b[1;31mAttributeError\u001b[0m: 'variable' object has no attribute 'new_var'"
     ]
    }
   ],
   "source": [
    "class variable:\n",
    "    class_var=10\n",
    "    def __init__(self,num):\n",
    "        self.num=num\n",
    "        print(\"Class variable:\",variable.class_var)\n",
    "        print(\"Object variable:\",num)\n",
    "ob=variable(5)\n",
    "ob.new_var=15\n",
    "print(\"New variable created at run-time:\",ob.new_var)\n",
    "ob.new_var+=10\n",
    "print(\"New variable modified at run-time:\",ob.new_var)\n",
    "del ob.new_var\n",
    "print(\"New variable deleted at run-time:\",ob.new_var)"
   ]
  },
  {
   "cell_type": "code",
   "execution_count": 46,
   "id": "04b4f728-a870-4c0f-b1dc-353109741c9a",
   "metadata": {},
   "outputs": [
    {
     "name": "stdout",
     "output_type": "stream",
     "text": [
      "Value: 10\n",
      "Checking attribute num= 10 exists or not: True\n",
      "Checking newly created object at run-time num1= 15 exists or not: True\n",
      "Getting the attribute value of num: 10\n",
      "Getting the object value of num1: 15\n",
      "Setting the attribute value of num=20\n",
      "Getting the attribute value of num: 20\n",
      "Setting the object value of num1=30\n",
      "Getting the object value of num1: 30\n",
      "Deleting the attribute value of num\n",
      "Deleting the object value of num1\n"
     ]
    }
   ],
   "source": [
    "class attribute:\n",
    "    def __init__(self,num):\n",
    "        self.num=num\n",
    "        print(\"Value:\",num)\n",
    "ob=attribute(10)\n",
    "print(\"Checking attribute num=\",ob.num,\"exists or not:\",hasattr(ob,\"num\"))\n",
    "ob.num1=15\n",
    "print(\"Checking newly created object at run-time num1=\",ob.num1,\"exists or not:\",hasattr(ob,\"num1\"))\n",
    "print(\"Getting the attribute value of num:\",getattr(ob,\"num\"))\n",
    "print(\"Getting the object value of num1:\",getattr(ob,\"num1\"))\n",
    "print(\"Setting the attribute value of num=20\")\n",
    "setattr(ob,\"num\",20)\n",
    "print(\"Getting the attribute value of num:\",getattr(ob,\"num\"))\n",
    "print(\"Setting the object value of num1=30\")\n",
    "setattr(ob,\"num1\",30)\n",
    "print(\"Getting the object value of num1:\",getattr(ob,\"num1\"))\n",
    "print(\"Deleting the attribute value of num\")\n",
    "delattr(ob,\"num\")\n",
    "print(\"Deleting the object value of num1\")\n",
    "delattr(ob,\"num1\")"
   ]
  },
  {
   "cell_type": "code",
   "execution_count": 47,
   "id": "184e25a8-3cfe-4b2e-8891-b67d3e705f40",
   "metadata": {},
   "outputs": [
    {
     "ename": "AttributeError",
     "evalue": "'attribute' object has no attribute 'num'",
     "output_type": "error",
     "traceback": [
      "\u001b[1;31m---------------------------------------------------------------------------\u001b[0m",
      "\u001b[1;31mAttributeError\u001b[0m                            Traceback (most recent call last)",
      "Cell \u001b[1;32mIn[47], line 1\u001b[0m\n\u001b[1;32m----> 1\u001b[0m \u001b[38;5;28mprint\u001b[39m(\u001b[38;5;124m\"\u001b[39m\u001b[38;5;124mGetting the attribute value of num:\u001b[39m\u001b[38;5;124m\"\u001b[39m,\u001b[38;5;28mgetattr\u001b[39m(ob,\u001b[38;5;124m\"\u001b[39m\u001b[38;5;124mnum\u001b[39m\u001b[38;5;124m\"\u001b[39m))\n",
      "\u001b[1;31mAttributeError\u001b[0m: 'attribute' object has no attribute 'num'"
     ]
    }
   ],
   "source": [
    "print(\"Getting the attribute value of num:\",getattr(ob,\"num\"))"
   ]
  },
  {
   "cell_type": "code",
   "execution_count": 48,
   "id": "e9a2cc4f-b9d4-4425-9635-ba38dea5d674",
   "metadata": {},
   "outputs": [
    {
     "ename": "AttributeError",
     "evalue": "'attribute' object has no attribute 'num1'",
     "output_type": "error",
     "traceback": [
      "\u001b[1;31m---------------------------------------------------------------------------\u001b[0m",
      "\u001b[1;31mAttributeError\u001b[0m                            Traceback (most recent call last)",
      "Cell \u001b[1;32mIn[48], line 1\u001b[0m\n\u001b[1;32m----> 1\u001b[0m \u001b[38;5;28mprint\u001b[39m(\u001b[38;5;124m\"\u001b[39m\u001b[38;5;124mGetting the object value of num1:\u001b[39m\u001b[38;5;124m\"\u001b[39m,\u001b[38;5;28mgetattr\u001b[39m(ob,\u001b[38;5;124m\"\u001b[39m\u001b[38;5;124mnum1\u001b[39m\u001b[38;5;124m\"\u001b[39m))\n",
      "\u001b[1;31mAttributeError\u001b[0m: 'attribute' object has no attribute 'num1'"
     ]
    }
   ],
   "source": [
    "print(\"Getting the object value of num1:\",getattr(ob,\"num1\"))"
   ]
  },
  {
   "cell_type": "code",
   "execution_count": 54,
   "id": "992f00f1-114e-4561-b6a9-5f996e23b8b7",
   "metadata": {},
   "outputs": [
    {
     "name": "stdout",
     "output_type": "stream",
     "text": [
      "Values: 10 20\n",
      "Docstring: This is docstring\n",
      "Class name: attribute\n",
      "Module name: __main__\n",
      "Dictionary: {'num1': 10, 'num2': 20}\n",
      "Base class name: (<class 'object'>,)\n"
     ]
    }
   ],
   "source": [
    "class attribute:\n",
    "    \"\"\"This is docstring\"\"\"\n",
    "    def __init__(self,num1,num2):\n",
    "        self.num1,self.num2=num1,num2\n",
    "        print(\"Values:\",num1,num2)\n",
    "ob=attribute(10,20)\n",
    "print(\"Docstring:\",ob.__doc__)\n",
    "print(\"Class name:\",attribute.__name__)\n",
    "print(\"Module name:\",ob.__module__)\n",
    "print(\"Dictionary:\",ob.__dict__)\n",
    "print(\"Base class name:\",attribute.__bases__)"
   ]
  },
  {
   "cell_type": "code",
   "execution_count": 73,
   "id": "cb465946-ddd8-4d9e-8e16-9704352f3701",
   "metadata": {},
   "outputs": [
    {
     "name": "stdout",
     "output_type": "stream",
     "text": [
      "Vikram []\n"
     ]
    },
    {
     "name": "stdin",
     "output_type": "stream",
     "text": [
      "Enter number of subjects: 3\n",
      "Enter marks of Vikram in subject 1 100\n",
      "Enter marks of Vikram in subject 2 98\n",
      "Enter marks of Vikram in subject 3 95\n"
     ]
    },
    {
     "name": "stdout",
     "output_type": "stream",
     "text": [
      "Marks in list: [100, 98, 95]\n",
      "Sum of marks obtained: 293\n"
     ]
    }
   ],
   "source": [
    "class student:\n",
    "    def __init__(self,name):\n",
    "        self.name,self.marks=name,[]\n",
    "        print(self.name,self.marks)\n",
    "        self.enter_marks()\n",
    "    def enter_marks(self):\n",
    "        n=eval(input(\"Enter number of subjects:\"))\n",
    "        for i in range(1,n+1,1):\n",
    "            m=eval(input(\"Enter marks of %s in subject %d\"%(self.name,i)))\n",
    "            self.marks.append(m)\n",
    "        self.display()\n",
    "    def display(self):\n",
    "        print(\"Marks in list:\",self.marks)\n",
    "        print(\"Sum of marks obtained:\",sum(self.marks))\n",
    "ob=student(\"Vikram\")"
   ]
  },
  {
   "cell_type": "code",
   "execution_count": 83,
   "id": "30f030b4-3601-4f3f-aab9-1c4ba5132905",
   "metadata": {},
   "outputs": [
    {
     "name": "stdout",
     "output_type": "stream",
     "text": [
      "Total number of employees: 3\n",
      "Total number of employees: 3\n",
      "Total number of employees: 3\n",
      "Name: Vikram \n",
      "Designation: Data Science \n",
      "Salary: 200000\n",
      "Name: Vikrant \n",
      "Designation: Artificial Intelligence \n",
      "Salary: 400000\n",
      "Name: Virat \n",
      "Designation: Python Developer \n",
      "Salary: 300000\n"
     ]
    }
   ],
   "source": [
    "class employee:\n",
    "    count=0\n",
    "    def __init__(self,name,desig,sal):\n",
    "        self.name,self.desig,self.sal=name,desig,sal\n",
    "        employee.count+=1\n",
    "    def emp_count(self):\n",
    "        print(\"Total number of employees:\",employee.count)\n",
    "    def emp_detail(self):\n",
    "        print(\"Name:\",self.name,\"\\nDesignation:\",self.desig,\"\\nSalary:\",self.sal)\n",
    "\n",
    "ob1=employee(\"Vikram\",\"Data Science\",200000)\n",
    "ob2=employee(\"Vikrant\",\"Artificial Intelligence\",400000)\n",
    "ob3=employee(\"Virat\",\"Python Developer\",300000)\n",
    "ob1.emp_count()\n",
    "ob2.emp_count()\n",
    "ob3.emp_count()\n",
    "ob1.emp_detail()\n",
    "ob2.emp_detail()\n",
    "ob3.emp_detail()"
   ]
  },
  {
   "cell_type": "code",
   "execution_count": 86,
   "id": "184c2d56-547f-4f9a-801d-9d6adcaee27c",
   "metadata": {},
   "outputs": [
    {
     "name": "stdout",
     "output_type": "stream",
     "text": [
      "2024-05-01\n",
      "2024-09-21\n"
     ]
    }
   ],
   "source": [
    "import datetime\n",
    "today=datetime.date.today()\n",
    "print(today)\n",
    "birth=datetime.date(today.year,9,21)\n",
    "print(birth)"
   ]
  },
  {
   "cell_type": "code",
   "execution_count": 95,
   "id": "d727ee5c-eefa-4e56-b6ec-8e3c15310f55",
   "metadata": {},
   "outputs": [
    {
     "name": "stdout",
     "output_type": "stream",
     "text": [
      "Vikram 2001-05-05\n",
      "2001 5 5\n",
      "Today: 2024-05-01\n",
      "Your age is 23\n",
      "22\n",
      "Congratulations!! you are eligible to cast vote!\n"
     ]
    }
   ],
   "source": [
    "import datetime\n",
    "class vote:\n",
    "    def __init__(self,name,dob):\n",
    "        self.name,self.dob=name,dob\n",
    "        print(self.name,self.dob)\n",
    "        print(self.dob.year,self.dob.month,self.dob.day)\n",
    "    def eligible(self):\n",
    "        today=datetime.date.today()\n",
    "        print(\"Today:\",today)\n",
    "        age=today.year-self.dob.year\n",
    "        print(\"Your age is %d\"%(age))\n",
    "        if today<datetime.date(today.year,self.dob.month,self.dob.day):\n",
    "            age=age-1\n",
    "            print(age)\n",
    "        if age>=18:\n",
    "            print(\"Congratulations!! you are eligible to cast vote!\")\n",
    "        else:\n",
    "            print(\"Oops!! you are not atleast 18 to cast vote!\")\n",
    "ob=vote(\"Vikram\",datetime.date(2001,5,5))\n",
    "ob.eligible()"
   ]
  },
  {
   "cell_type": "code",
   "execution_count": 96,
   "id": "117b09ae-dd11-450d-a6f4-60f618836cf8",
   "metadata": {},
   "outputs": [
    {
     "name": "stdout",
     "output_type": "stream",
     "text": [
      "pi= 3.141592653589793\n",
      "Radius:7.00\n",
      "Area:153.94\n",
      "Circumference:43.98\n"
     ]
    }
   ],
   "source": [
    "import math as m\n",
    "print(\"pi=\",m.pi)\n",
    "class circle:\n",
    "    def __init__(self,r):\n",
    "        self.r=r\n",
    "        print(\"Radius:%.2f\"%(self.r))\n",
    "        self.area()\n",
    "    def area(self):\n",
    "        self.a=m.pi*pow(self.r,2)\n",
    "        self.circum()\n",
    "    def circum(self):\n",
    "        self.c=2*m.pi*self.r\n",
    "        self.display()\n",
    "    def display(self):\n",
    "        print(\"Area:%.2f\"%(self.a))\n",
    "        print(\"Circumference:%.2f\"%(self.c))\n",
    "ob=circle(7)"
   ]
  },
  {
   "cell_type": "code",
   "execution_count": 1,
   "id": "03e43d46-2dcc-40dd-a8b2-f639e80d0a38",
   "metadata": {},
   "outputs": [
    {
     "name": "stdin",
     "output_type": "stream",
     "text": [
      "Enter name: \"Vikram\"\n",
      "Enter roll number: \"DS-07\"\n",
      "Enter marks in physics: 81\n",
      "Enter marks in mathematics: 67\n",
      "Enter marks in computer applications: 88\n"
     ]
    },
    {
     "name": "stdout",
     "output_type": "stream",
     "text": [
      "Name: Vikram\n",
      "Roll number: DS-07\n",
      "Total marks obtained: 236\n"
     ]
    }
   ],
   "source": [
    "class student:\n",
    "    def __init__(self,name,roll_no,marks1,marks2,marks3):\n",
    "        self.__name=name\n",
    "        self.__roll_no=roll_no\n",
    "        self.__marks1=marks1\n",
    "        self.__marks2=marks2\n",
    "        self.__marks3=marks3\n",
    "    def details(self):\n",
    "        print(\"Name:\",self.__name)\n",
    "        print(\"Roll number:\",self.__roll_no)\n",
    "    def __total_marks(self):\n",
    "        self.__total=self.__marks1+self.__marks2+self.__marks3\n",
    "        print(\"Total marks obtained:\",self.__total)\n",
    "\n",
    "n=eval(input(\"Enter name:\"))\n",
    "r=eval(input(\"Enter roll number:\"))\n",
    "m1=eval(input(\"Enter marks in physics:\"))\n",
    "m2=eval(input(\"Enter marks in mathematics:\"))\n",
    "m3=eval(input(\"Enter marks in computer applications:\"))\n",
    "ob=student(n,r,m1,m2,m3)\n",
    "ob.details()\n",
    "ob._student__total_marks()"
   ]
  },
  {
   "cell_type": "code",
   "execution_count": 3,
   "id": "7c78b221-c73a-4bed-a18e-607006486587",
   "metadata": {},
   "outputs": [
    {
     "name": "stdout",
     "output_type": "stream",
     "text": [
      "Length=20.00,Breadth=10.00\n",
      "Area:200.00 square units\n",
      "Perimeter:60.00 units\n"
     ]
    }
   ],
   "source": [
    "class rectangle:\n",
    "    def __init__(self,length,breadth):\n",
    "        self.length,self.breadth=length,breadth\n",
    "        print(\"Length=%.2f,Breadth=%.2f\"%(self.length,self.breadth))\n",
    "        self.area()\n",
    "    def area(self):\n",
    "        self.a=self.length*self.breadth\n",
    "        self.peri()\n",
    "    def peri(self):\n",
    "        self.p=2*(self.length+self.breadth)\n",
    "        self.display()\n",
    "    def display(self):\n",
    "        print(\"Area:%.2f\"%(self.a),\"square units\")\n",
    "        print(\"Perimeter:%.2f\"%(self.p),\"units\")\n",
    "ob=rectangle(20,10)"
   ]
  },
  {
   "cell_type": "code",
   "execution_count": 4,
   "id": "979678af-7d9f-4074-91ce-96fa96b2adfd",
   "metadata": {},
   "outputs": [
    {
     "name": "stdin",
     "output_type": "stream",
     "text": [
      "Enter numerator: 4\n",
      "Enter denominator: 16\n"
     ]
    },
    {
     "name": "stdout",
     "output_type": "stream",
     "text": [
      "Simplified/Lowest fraction:\n",
      "0.25 / 1.0\n"
     ]
    }
   ],
   "source": [
    "class fraction:\n",
    "    def __init__(self):\n",
    "        self.num=eval(input(\"Enter numerator:\"))\n",
    "        self.den=eval(input(\"Enter denominator:\"))\n",
    "        if self.den==0:\n",
    "            print(\"Denominator=0 not possible!!\")\n",
    "            exit()\n",
    "        self.display()\n",
    "    def display(self):\n",
    "        self.simplified()\n",
    "        print(\"Simplified/Lowest fraction:\")\n",
    "        print(self.num,\"/\",self.den)\n",
    "    def simplified(self):\n",
    "        cd=self.gcd(self.num,self.den)\n",
    "        self.num=self.num/cd\n",
    "        self.den=self.den/cd\n",
    "    def gcd(self,a,b):\n",
    "        if b==0:\n",
    "            return a\n",
    "        return (self.gcd(b,b%a))\n",
    "ob=fraction()"
   ]
  },
  {
   "cell_type": "code",
   "execution_count": 17,
   "id": "54861f55-e19a-43fc-b72e-03647b8bbfe6",
   "metadata": {},
   "outputs": [
    {
     "name": "stdout",
     "output_type": "stream",
     "text": [
      "\n",
      "    Enter 1 for Add Book\n",
      "    Enter 2 for Display Book\n",
      "    \n"
     ]
    },
    {
     "name": "stdin",
     "output_type": "stream",
     "text": [
      "Enter choice: 1\n",
      "Enter book title: \"DBMS\"\n",
      "Enter book author: \"Ivan\"\n",
      "Enter book price: 250\n",
      "Enter yes/no for continue: \"yes\"\n"
     ]
    },
    {
     "name": "stdout",
     "output_type": "stream",
     "text": [
      "\n",
      "    Enter 1 for Add Book\n",
      "    Enter 2 for Display Book\n",
      "    \n"
     ]
    },
    {
     "name": "stdin",
     "output_type": "stream",
     "text": [
      "Enter choice: 1\n",
      "Enter book title: \"Python\"\n",
      "Enter book author: \"Guido\"\n",
      "Enter book price: 2350\n",
      "Enter yes/no for continue: \"yes\"\n"
     ]
    },
    {
     "name": "stdout",
     "output_type": "stream",
     "text": [
      "\n",
      "    Enter 1 for Add Book\n",
      "    Enter 2 for Display Book\n",
      "    \n"
     ]
    },
    {
     "name": "stdin",
     "output_type": "stream",
     "text": [
      "Enter choice: 2\n"
     ]
    },
    {
     "name": "stdout",
     "output_type": "stream",
     "text": [
      "***Book details***\n",
      "Book title: DBMS\n",
      "Book author: Ivan\n",
      "Book price: 250\n",
      "\n",
      "\n",
      "***Book details***\n",
      "Book title: Python\n",
      "Book author: Guido\n",
      "Book price: 2350\n",
      "\n",
      "\n"
     ]
    },
    {
     "name": "stdin",
     "output_type": "stream",
     "text": [
      "Enter yes/no for continue: \"no\"\n"
     ]
    }
   ],
   "source": [
    "class Book:\n",
    "    def __init__(self):\n",
    "        self.title=\"\"\n",
    "        self.author=\"\"\n",
    "        self.price=0\n",
    "    def read(self):\n",
    "        self.title=eval(input(\"Enter book title:\"))\n",
    "        self.author=eval(input(\"Enter book author:\"))\n",
    "        self.price=eval(input(\"Enter book price:\"))\n",
    "    def display(self):\n",
    "        print(\"***Book details***\")\n",
    "        print(\"Book title:\",self.title)\n",
    "        print(\"Book author:\",self.author)\n",
    "        print(\"Book price:\",self.price)\n",
    "        print(\"\\n\")\n",
    "\n",
    "my_book=[]\n",
    "ch=\"yes\"\n",
    "while ch==\"yes\":\n",
    "    print(\"\"\"\n",
    "    Enter 1 for Add Book\n",
    "    Enter 2 for Display Book\n",
    "    \"\"\")\n",
    "    c=eval(input(\"Enter choice:\"))\n",
    "    if c==1:\n",
    "        book=Book()\n",
    "        book.read()\n",
    "        my_book.append(book)\n",
    "    elif c==2:\n",
    "        for i in my_book:\n",
    "            i.display()\n",
    "    else:\n",
    "        print(\"Invalid choice!\")\n",
    "    ch=eval(input(\"Enter yes/no for continue:\"))"
   ]
  },
  {
   "cell_type": "code",
   "execution_count": 7,
   "id": "61a87303-b0ba-41f5-9f12-86cbda64f9f8",
   "metadata": {},
   "outputs": [
    {
     "name": "stdout",
     "output_type": "stream",
     "text": [
      "\n",
      "    Enter 1 for insert\n",
      "    Enter 2 for finding max\n",
      "    Enter 3 for display\n",
      "    \n"
     ]
    },
    {
     "name": "stdin",
     "output_type": "stream",
     "text": [
      "Enter choice: 1\n",
      "Enter number of elements: 5\n",
      "Enter element: 8\n",
      "Enter element: 5\n",
      "Enter element: 7\n",
      "Enter element: 2\n",
      "Enter element: 6\n",
      "Enter yes/no for continue: \"yes\"\n"
     ]
    },
    {
     "name": "stdout",
     "output_type": "stream",
     "text": [
      "\n",
      "    Enter 1 for insert\n",
      "    Enter 2 for finding max\n",
      "    Enter 3 for display\n",
      "    \n"
     ]
    },
    {
     "name": "stdin",
     "output_type": "stream",
     "text": [
      "Enter choice: 2\n",
      "Enter yes/no for continue: \"yes\"\n"
     ]
    },
    {
     "name": "stdout",
     "output_type": "stream",
     "text": [
      "\n",
      "    Enter 1 for insert\n",
      "    Enter 2 for finding max\n",
      "    Enter 3 for display\n",
      "    \n"
     ]
    },
    {
     "name": "stdin",
     "output_type": "stream",
     "text": [
      "Enter choice: 3\n"
     ]
    },
    {
     "name": "stdout",
     "output_type": "stream",
     "text": [
      "Elements in list: [8, 5, 7, 2, 6]\n",
      "Maximum element: 8\n"
     ]
    },
    {
     "name": "stdin",
     "output_type": "stream",
     "text": [
      "Enter yes/no for continue: \"no\"\n"
     ]
    }
   ],
   "source": [
    "class max_number:\n",
    "    i=0\n",
    "    def __init__(self):\n",
    "        self.nl=[]\n",
    "    def insert(self):\n",
    "        self.n=eval(input(\"Enter number of elements:\"))\n",
    "        for i in range(0,self.n,1):\n",
    "            self.e=eval(input(\"Enter element:\"))\n",
    "            self.nl.append(self.e)\n",
    "    def max_ele(self):\n",
    "        self.m=0\n",
    "        for i in range(0,len(self.nl),1):\n",
    "            if self.nl[i]>self.m:\n",
    "                self.m=self.nl[i]        \n",
    "    def display(self):\n",
    "        print(\"Elements in list:\",self.nl)\n",
    "        print(\"Maximum element:\",self.m)\n",
    "mn=max_number()\n",
    "st=\"yes\"\n",
    "while st==\"yes\":\n",
    "    print(\"\"\"\n",
    "    Enter 1 for insert\n",
    "    Enter 2 for finding max\n",
    "    Enter 3 for display\n",
    "    \"\"\")\n",
    "    ch=eval(input(\"Enter choice:\"))\n",
    "    if ch==1:\n",
    "        mn.insert()\n",
    "    elif ch==2:\n",
    "        mn.max_ele()\n",
    "    elif ch==3:\n",
    "        mn.display()\n",
    "    else:\n",
    "        print(\"Invalid choice!\")\n",
    "    st=eval(input(\"Enter yes/no for continue:\"))"
   ]
  },
  {
   "cell_type": "code",
   "execution_count": 13,
   "id": "6cd06565-73a0-417d-86b2-99ba31a695aa",
   "metadata": {},
   "outputs": [
    {
     "name": "stdin",
     "output_type": "stream",
     "text": [
      "Enter string: \"I Love Python Coding\"\n"
     ]
    },
    {
     "name": "stdout",
     "output_type": "stream",
     "text": [
      "String: I Love Python Coding\n",
      "Number of uppercase characters: 4\n",
      "Number of lowercase characters: 13\n",
      "Number of vowel characters: 6\n",
      "Number of consonant characters: 11\n",
      "Number of space characters: 3\n"
     ]
    }
   ],
   "source": [
    "class string:\n",
    "    i=0\n",
    "    v=\"aeiouAEIOU\"\n",
    "    def __init__(self):\n",
    "        self.st=eval(input(\"Enter string:\"))\n",
    "        print(\"String:\",self.st)\n",
    "        self.upper_lower_vowel_consonant_space()\n",
    "    def upper_lower_vowel_consonant_space(self):\n",
    "        self.uc,self.lc,self.vc,self.cc,self.sc=0,0,0,0,0\n",
    "        for string.i in range(0,len(self.st),1):\n",
    "            if self.st[string.i].isupper():\n",
    "                self.uc+=1\n",
    "            elif self.st[string.i].islower():\n",
    "                self.lc+=1\n",
    "        for string.i in range(0,len(self.st),1):\n",
    "            if self.st[string.i] in string.v:\n",
    "                self.vc+=1\n",
    "            elif self.st[string.i] not in string.v and self.st[string.i]!=\" \":\n",
    "                self.cc+=1\n",
    "        for string.i in range(0,len(self.st),1):\n",
    "            if self.st[string.i]==\" \":\n",
    "                self.sc+=1\n",
    "        self.display()\n",
    "    def display(self):\n",
    "        print(\"Number of uppercase characters:\",self.uc)\n",
    "        print(\"Number of lowercase characters:\",self.lc)\n",
    "        print(\"Number of vowel characters:\",self.vc)\n",
    "        print(\"Number of consonant characters:\",self.cc)\n",
    "        print(\"Number of space characters:\",self.sc)\n",
    "ob=string()"
   ]
  },
  {
   "cell_type": "code",
   "execution_count": 28,
   "id": "3b40e590-0dd3-4a80-98cb-bbdd9908a1f1",
   "metadata": {},
   "outputs": [
    {
     "name": "stdout",
     "output_type": "stream",
     "text": [
      "2024-05-02\n",
      "2024-05-02 09:28:08.944463\n",
      "2024-05-02\n"
     ]
    },
    {
     "name": "stdin",
     "output_type": "stream",
     "text": [
      "Enter date (dd/mm/yyyy): 21/09/2001\n"
     ]
    },
    {
     "name": "stdout",
     "output_type": "stream",
     "text": [
      "2001-09-21 00:00:00\n"
     ]
    }
   ],
   "source": [
    "import datetime\n",
    "today=datetime.date.today()\n",
    "print(today)\n",
    "now=datetime.datetime.now()\n",
    "print(now)\n",
    "now=datetime.datetime.now().date()\n",
    "print(now)\n",
    "time=datetime.datetime.strptime(input(\"Enter date (dd/mm/yyyy):\"),\"%d/%m/%Y\")\n",
    "print(time)"
   ]
  },
  {
   "cell_type": "code",
   "execution_count": 34,
   "id": "c654b170-f468-4fcb-9abb-0362212498e7",
   "metadata": {},
   "outputs": [
    {
     "name": "stdin",
     "output_type": "stream",
     "text": [
      "Enter manufacture(dd/mm/yy): 21/09/2001\n",
      "Enter expire(dd/mm/yy): 21/09/2024\n"
     ]
    },
    {
     "name": "stdout",
     "output_type": "stream",
     "text": [
      "Manufacture date: 2001-09-21\n",
      "Expiry date: 2024-09-21\n",
      "Time left to be expired: 142 days, 0:00:00\n"
     ]
    }
   ],
   "source": [
    "import datetime\n",
    "class product:\n",
    "    def __init__(self):\n",
    "        self.manu=datetime.datetime.strptime(input(\"Enter manufacture(dd/mm/yy):\"),\"%d/%m/%Y\")\n",
    "        self.exp=datetime.datetime.strptime(input(\"Enter expire(dd/mm/yy):\"),\"%d/%m/%Y\")\n",
    "        print(\"Manufacture date:\",self.manu.date())\n",
    "        print(\"Expiry date:\",self.exp.date())\n",
    "        self.time_to_expire()\n",
    "    def time_to_expire(self):\n",
    "        self.today=datetime.datetime.now()\n",
    "        if self.today>self.exp:\n",
    "            print(\"Product has expired!!\")\n",
    "        else:\n",
    "            self.time_left=self.exp.date()-self.today.date()\n",
    "            print(\"Time left to be expired:\",self.time_left)\n",
    "ob=product()"
   ]
  },
  {
   "cell_type": "code",
   "execution_count": 35,
   "id": "f2300b90-5496-47c3-b511-c53c6630338b",
   "metadata": {},
   "outputs": [
    {
     "name": "stdin",
     "output_type": "stream",
     "text": [
      "Enter account balance: 5000\n"
     ]
    },
    {
     "name": "stdout",
     "output_type": "stream",
     "text": [
      "Balance: 5000\n",
      "\n",
      "    Enter 1 for deposit\n",
      "    Enter 2 for withdraw\n",
      "    Enter 3 for enquiry\n",
      "    \n"
     ]
    },
    {
     "name": "stdin",
     "output_type": "stream",
     "text": [
      "Enter choice: 1\n",
      "Enter amount to deposit: 2000\n",
      "Enter yes/no for continue: \"yes\"\n"
     ]
    },
    {
     "name": "stdout",
     "output_type": "stream",
     "text": [
      "\n",
      "    Enter 1 for deposit\n",
      "    Enter 2 for withdraw\n",
      "    Enter 3 for enquiry\n",
      "    \n"
     ]
    },
    {
     "name": "stdin",
     "output_type": "stream",
     "text": [
      "Enter choice: 3\n"
     ]
    },
    {
     "name": "stdout",
     "output_type": "stream",
     "text": [
      "Current Balance: 7000\n"
     ]
    },
    {
     "name": "stdin",
     "output_type": "stream",
     "text": [
      "Enter yes/no for continue: \"yes\"\n"
     ]
    },
    {
     "name": "stdout",
     "output_type": "stream",
     "text": [
      "\n",
      "    Enter 1 for deposit\n",
      "    Enter 2 for withdraw\n",
      "    Enter 3 for enquiry\n",
      "    \n"
     ]
    },
    {
     "name": "stdin",
     "output_type": "stream",
     "text": [
      "Enter choice: 2\n",
      "Enter amount to withdraw: 3000\n",
      "Enter yes/no for continue: \"yes\"\n"
     ]
    },
    {
     "name": "stdout",
     "output_type": "stream",
     "text": [
      "\n",
      "    Enter 1 for deposit\n",
      "    Enter 2 for withdraw\n",
      "    Enter 3 for enquiry\n",
      "    \n"
     ]
    },
    {
     "name": "stdin",
     "output_type": "stream",
     "text": [
      "Enter choice: 3\n"
     ]
    },
    {
     "name": "stdout",
     "output_type": "stream",
     "text": [
      "Current Balance: 4000\n"
     ]
    },
    {
     "name": "stdin",
     "output_type": "stream",
     "text": [
      "Enter yes/no for continue: \"no\"\n"
     ]
    }
   ],
   "source": [
    "class account:\n",
    "    def __init__(self):\n",
    "        self.bal=eval(input(\"Enter account balance:\"))\n",
    "        print(\"Balance:\",self.bal)\n",
    "    def deposit(self):\n",
    "        self.dep=eval(input(\"Enter amount to deposit:\"))\n",
    "        self.bal+=self.dep\n",
    "        #print(\"Current Balance:\",self.bal)\n",
    "    def withdraw(self):\n",
    "        self.wd=eval(input(\"Enter amount to withdraw:\"))\n",
    "        self.bal-=self.wd\n",
    "        #print(\"Current Balance:\",self.bal)\n",
    "    def enquiry(self):\n",
    "        print(\"Current Balance:\",self.bal)\n",
    "ob=account()\n",
    "st=\"yes\"\n",
    "while st==\"yes\":\n",
    "    print(\"\"\"\n",
    "    Enter 1 for deposit\n",
    "    Enter 2 for withdraw\n",
    "    Enter 3 for enquiry\n",
    "    \"\"\")\n",
    "    ch=eval(input(\"Enter choice:\"))\n",
    "    if ch==1:\n",
    "        ob.deposit()\n",
    "    elif ch==2:\n",
    "        ob.withdraw()\n",
    "    elif ch==3:\n",
    "        ob.enquiry()\n",
    "    else:\n",
    "        print(\"Invalid choice!\")\n",
    "    st=eval(input(\"Enter yes/no for continue:\"))"
   ]
  },
  {
   "cell_type": "code",
   "execution_count": 60,
   "id": "a463eaa9-eb74-45a9-a5dc-177b4d0a4c61",
   "metadata": {},
   "outputs": [
    {
     "name": "stdout",
     "output_type": "stream",
     "text": [
      "length= 5 \n",
      "breadth= 4\n",
      "Area= 20\n",
      "Perimeter= 18\n",
      "length= 5 \n",
      "breadth= 4\n",
      "Perimeter= 18\n",
      "length= 5 \n",
      "breadth= 4\n",
      "Area= 20\n"
     ]
    }
   ],
   "source": [
    "class rectangle:\n",
    "    def __init__(self,l,b):\n",
    "        self.l=l\n",
    "        self.b=b\n",
    "        print(\"length=\",self.l,\"\\nbreadth=\",self.b)\n",
    "    @staticmethod\n",
    "    def area(l,b):\n",
    "        print(\"Area=\",l*b)\n",
    "    @classmethod\n",
    "    def peri(cls,l,b):\n",
    "        print(\"Perimeter=\",2*(l+b))\n",
    "        return cls(l,b)\n",
    "ob=rectangle(5,4)\n",
    "ob.area(l=5,b=4)\n",
    "ob.peri(l=5,b=4)\n",
    "rectangle.peri(l=5,b=4)\n",
    "rectangle.area(5,4)"
   ]
  },
  {
   "cell_type": "code",
   "execution_count": null,
   "id": "0da2623c-4ca1-4d32-844a-74239cb56355",
   "metadata": {},
   "outputs": [],
   "source": []
  }
 ],
 "metadata": {
  "kernelspec": {
   "display_name": "Python 3 (ipykernel)",
   "language": "python",
   "name": "python3"
  },
  "language_info": {
   "codemirror_mode": {
    "name": "ipython",
    "version": 3
   },
   "file_extension": ".py",
   "mimetype": "text/x-python",
   "name": "python",
   "nbconvert_exporter": "python",
   "pygments_lexer": "ipython3",
   "version": "3.11.7"
  }
 },
 "nbformat": 4,
 "nbformat_minor": 5
}
