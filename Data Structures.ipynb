{
 "cells": [
  {
   "cell_type": "code",
   "execution_count": 4,
   "id": "13beb407-96d7-4711-b502-aa29ee2c0a0b",
   "metadata": {},
   "outputs": [
    {
     "name": "stdout",
     "output_type": "stream",
     "text": [
      "[1, 2, 3, 4, 5] <class 'list'>\n",
      "First element: 1\n",
      "Last element: 5\n",
      "First 3 elements: [1, 2, 3]\n",
      "Last 3 elements: [5, 4, 3]\n",
      "All elements: [1, 2, 3, 4, 5]\n",
      "Elements in reverse order: [5, 4, 3, 2, 1]\n"
     ]
    }
   ],
   "source": [
    "l=[1,2,3,4,5]\n",
    "print(l,type(l))\n",
    "print(\"First element:\",l[0])\n",
    "print(\"Last element:\",l[len(l)-1])\n",
    "print(\"First 3 elements:\",l[0:3:1])\n",
    "print(\"Last 3 elements:\",l[-1:-4:-1])\n",
    "print(\"All elements:\",l[::])\n",
    "print(\"Elements in reverse order:\",l[::-1])"
   ]
  },
  {
   "cell_type": "code",
   "execution_count": 62,
   "id": "a6f863e0-e474-4d15-a144-8b65c8df6337",
   "metadata": {},
   "outputs": [],
   "source": [
    "#Data Structure: List\n",
    "#Property: Mutable\n",
    "#Storage: Similar or different or both data type elements"
   ]
  },
  {
   "cell_type": "code",
   "execution_count": 14,
   "id": "ffd643da-3554-4ee8-a06e-3e8b16ad4948",
   "metadata": {},
   "outputs": [
    {
     "name": "stdout",
     "output_type": "stream",
     "text": [
      "[2, 4]\n",
      "[1, 2, 4]\n",
      "[1, 2, 3, 4]\n",
      "[1, 2, 3, 4, 5]\n",
      "[1, 2, 3, 4, 5, 6]\n",
      "[0, 1, 2, 3, 4, 5, 6]\n",
      "[1, 2, 3, 4, 5, 6]\n",
      "[1, 2, 3, 4, 5]\n",
      "[4, 5]\n",
      "[5]\n",
      "[]\n"
     ]
    }
   ],
   "source": [
    "l=[2,4,]\n",
    "print(l)\n",
    "l.insert(0,1)\n",
    "print(l)\n",
    "l.insert(2,3)\n",
    "print(l)\n",
    "l.append(5)\n",
    "print(l)\n",
    "l.append(6)\n",
    "print(l)\n",
    "l.insert(0,0)\n",
    "print(l)\n",
    "del l[0]\n",
    "print(l)\n",
    "del l[len(l)-1]\n",
    "print(l)\n",
    "del l[0:3:1]\n",
    "print(l)\n",
    "l.remove(4)\n",
    "print(l)\n",
    "l.remove(5)\n",
    "print(l)"
   ]
  },
  {
   "cell_type": "code",
   "execution_count": 15,
   "id": "cefa80e9-dccf-4c95-a092-3772ca0e2fa3",
   "metadata": {},
   "outputs": [
    {
     "name": "stdout",
     "output_type": "stream",
     "text": [
      "[1, 2, 3]\n"
     ]
    },
    {
     "ename": "NameError",
     "evalue": "name 'l' is not defined",
     "output_type": "error",
     "traceback": [
      "\u001b[1;31m---------------------------------------------------------------------------\u001b[0m",
      "\u001b[1;31mNameError\u001b[0m                                 Traceback (most recent call last)",
      "Cell \u001b[1;32mIn[15], line 4\u001b[0m\n\u001b[0;32m      2\u001b[0m \u001b[38;5;28mprint\u001b[39m(l)\n\u001b[0;32m      3\u001b[0m \u001b[38;5;28;01mdel\u001b[39;00m l\n\u001b[1;32m----> 4\u001b[0m \u001b[38;5;28mprint\u001b[39m(l)\n",
      "\u001b[1;31mNameError\u001b[0m: name 'l' is not defined"
     ]
    }
   ],
   "source": [
    "l=[1,2,3]\n",
    "print(l)\n",
    "del l\n",
    "print(l)"
   ]
  },
  {
   "cell_type": "code",
   "execution_count": 23,
   "id": "8bc9499b-ff90-43c3-9317-36a1674f4f95",
   "metadata": {},
   "outputs": [
    {
     "name": "stdout",
     "output_type": "stream",
     "text": [
      "[1, 2]\n",
      "[1, 3, 2]\n",
      "[1, 3, [4, 5], 2]\n",
      "[1, 2, [4, 5], 2]\n",
      "[1, 2, 3, 2]\n",
      "[1, 2, 3, [4, 5]]\n",
      "[1, 2, 3, [4, [6, 7]]]\n",
      "[1, 2, 3, [[4, 5], [6, 7]]]\n"
     ]
    }
   ],
   "source": [
    "l=[1,2]\n",
    "print(l)\n",
    "l.insert(len(l)-1,3)\n",
    "print(l)\n",
    "l.insert(len(l)-1,[4,5])\n",
    "print(l)\n",
    "l[1]=2\n",
    "print(l)\n",
    "l[2]=3\n",
    "print(l)\n",
    "l[len(l)-1]=[4,5]\n",
    "print(l)\n",
    "l[len(l)-1][-1]=[6,7]\n",
    "print(l)\n",
    "l[len(l)-1][-2]=[4,5]\n",
    "print(l)"
   ]
  },
  {
   "cell_type": "code",
   "execution_count": 71,
   "id": "81b72fab-2658-4eab-9534-dc6c76a30c6f",
   "metadata": {},
   "outputs": [
    {
     "name": "stdout",
     "output_type": "stream",
     "text": [
      "[1, 2, 3] <class 'list'>\n",
      "[1, 2, 3, 4]\n",
      "[0, 1, 2, 3, 4]\n",
      "[0, 1, 2, 3, 4, 5]\n",
      "[0, 1, 2, 3, 4, 6, 5]\n"
     ]
    }
   ],
   "source": [
    "l1=[1,2,3]\n",
    "print(l1,type(l1))\n",
    "l1.append(4)\n",
    "print(l1)\n",
    "l1.insert(0,0)\n",
    "print(l1)\n",
    "l1.insert(5,len(l1))\n",
    "print(l1)\n",
    "l1.insert(len(l1)-1,6)\n",
    "print(l1)"
   ]
  },
  {
   "cell_type": "code",
   "execution_count": 27,
   "id": "713ae07a-e2c1-42b6-8e38-7af2d9805aa3",
   "metadata": {},
   "outputs": [
    {
     "name": "stdin",
     "output_type": "stream",
     "text": [
      "Enter the number of elements: 3\n",
      "Enter element: 1\n"
     ]
    },
    {
     "name": "stdout",
     "output_type": "stream",
     "text": [
      "1 is inserted at index= 0\n",
      "List: [1]\n"
     ]
    },
    {
     "name": "stdin",
     "output_type": "stream",
     "text": [
      "Enter element: 2\n"
     ]
    },
    {
     "name": "stdout",
     "output_type": "stream",
     "text": [
      "2 is inserted at index= 1\n",
      "List: [1, 2]\n"
     ]
    },
    {
     "name": "stdin",
     "output_type": "stream",
     "text": [
      "Enter element: 3\n"
     ]
    },
    {
     "name": "stdout",
     "output_type": "stream",
     "text": [
      "3 is inserted at index= 2\n",
      "List: [1, 2, 3]\n"
     ]
    }
   ],
   "source": [
    "n=eval(input(\"Enter the number of elements:\"))\n",
    "l=[]\n",
    "for i in range(0,n,1):\n",
    "    e=eval(input(\"Enter element:\"))\n",
    "    print(e,\"is inserted at index=\",i)\n",
    "    l.insert(i,e)\n",
    "    print(\"List:\",l)"
   ]
  },
  {
   "cell_type": "code",
   "execution_count": 28,
   "id": "968e6e25-46b1-4501-8532-4a5799a7ef18",
   "metadata": {},
   "outputs": [
    {
     "name": "stdin",
     "output_type": "stream",
     "text": [
      "Enter the number of elements: 5\n",
      "Enter element: 1\n"
     ]
    },
    {
     "name": "stdout",
     "output_type": "stream",
     "text": [
      "1 is inserted at index= 0\n",
      "List: [1]\n"
     ]
    },
    {
     "name": "stdin",
     "output_type": "stream",
     "text": [
      "Enter element: 1.5\n"
     ]
    },
    {
     "name": "stdout",
     "output_type": "stream",
     "text": [
      "1.5 is inserted at index= 1\n",
      "List: [1, 1.5]\n"
     ]
    },
    {
     "name": "stdin",
     "output_type": "stream",
     "text": [
      "Enter element: 1+2j\n"
     ]
    },
    {
     "name": "stdout",
     "output_type": "stream",
     "text": [
      "(1+2j) is inserted at index= 2\n",
      "List: [1, 1.5, (1+2j)]\n"
     ]
    },
    {
     "name": "stdin",
     "output_type": "stream",
     "text": [
      "Enter element: \"List\"\n"
     ]
    },
    {
     "name": "stdout",
     "output_type": "stream",
     "text": [
      "List is inserted at index= 3\n",
      "List: [1, 1.5, (1+2j), 'List']\n"
     ]
    },
    {
     "name": "stdin",
     "output_type": "stream",
     "text": [
      "Enter element: [1,2,3]\n"
     ]
    },
    {
     "name": "stdout",
     "output_type": "stream",
     "text": [
      "[1, 2, 3] is inserted at index= 4\n",
      "List: [1, 1.5, (1+2j), 'List', [1, 2, 3]]\n",
      "Elements are:\n",
      "List[ 0 ]: 1\n",
      "List[ 1 ]: 1.5\n",
      "List[ 2 ]: (1+2j)\n",
      "List[ 3 ]: List\n",
      "List[ 4 ]: [1, 2, 3]\n"
     ]
    }
   ],
   "source": [
    "n=eval(input(\"Enter the number of elements:\"))\n",
    "l=[]\n",
    "for i in range(0,n,1):\n",
    "    e=eval(input(\"Enter element:\"))\n",
    "    print(e,\"is inserted at index=\",i)\n",
    "    l.insert(i,e)\n",
    "    print(\"List:\",l)\n",
    "print(\"Elements are:\")\n",
    "for i in range(0,len(l),1):\n",
    "    print(\"List[\",i,\"]:\",l[i])"
   ]
  },
  {
   "cell_type": "code",
   "execution_count": 30,
   "id": "50462c12-83c8-4b93-ba8a-f1c2e79c5f93",
   "metadata": {},
   "outputs": [
    {
     "name": "stdin",
     "output_type": "stream",
     "text": [
      "Enter list: [1,2,3,4,5]\n"
     ]
    },
    {
     "name": "stdout",
     "output_type": "stream",
     "text": [
      "[1, 2, 3, 4, 5] [1, 2, 3, 4, 5]\n",
      "[1, 2, 3, 4, 5] [1, 2, 3, 4, 5] [1, 2, 3]\n"
     ]
    }
   ],
   "source": [
    "#Cloning\n",
    "l=eval(input(\"Enter list:\"))\n",
    "m=l\n",
    "print(l,m)\n",
    "n=m[0:3:1]\n",
    "print(l,m,n)"
   ]
  },
  {
   "cell_type": "code",
   "execution_count": 35,
   "id": "ed51da53-98b7-4e08-9277-297de10d6379",
   "metadata": {},
   "outputs": [
    {
     "name": "stdout",
     "output_type": "stream",
     "text": [
      "['Hello', 'Welcome to python!'] <class 'list'>\n",
      "<class 'str'>\n",
      "2\n"
     ]
    }
   ],
   "source": [
    "l=[\"Hello\",\"Welcome to python!\"]\n",
    "print(l,type(l))\n",
    "print(type(l[0]))\n",
    "print(len(l))"
   ]
  },
  {
   "cell_type": "code",
   "execution_count": 49,
   "id": "be415ddb-4ffa-49dd-ac5b-0292afb9bead",
   "metadata": {},
   "outputs": [
    {
     "name": "stdout",
     "output_type": "stream",
     "text": [
      "[1, 2, 3] [4, 5]\n",
      "[1, 2, 3, 4, 5]\n",
      "[1, 2, 3, 1, 2, 3]\n",
      "6\n",
      "True\n",
      "False\n",
      "True\n",
      "False\n",
      "3\n",
      "1\n",
      "6\n",
      "False\n",
      "True\n",
      "[0, 1]\n",
      "True True\n",
      "False\n",
      "True True\n",
      "True\n",
      "[0] False False\n"
     ]
    }
   ],
   "source": [
    "l1,l2=[1,2,3],[4,5]\n",
    "print(l1,l2)\n",
    "print(l1+l2)\n",
    "print(l1*2)\n",
    "print(l1[(len(l1)-1)]*2)\n",
    "print(1 in l1)\n",
    "print(5 in l1)\n",
    "print(1 not in l2)\n",
    "print(5 not in l2)\n",
    "print(max(l1))\n",
    "print(min(l1))\n",
    "print(sum(l1))\n",
    "print(l1 is l2)\n",
    "print(l1 is not l2)\n",
    "l3=[0,1]\n",
    "print(l3)\n",
    "print(all(l1),all(l2))\n",
    "print(all(l3))\n",
    "print(any(l1),any(l2))\n",
    "print(any(l3))\n",
    "l4=[0]\n",
    "print(l4,all(l4),any(l4))"
   ]
  },
  {
   "cell_type": "code",
   "execution_count": 56,
   "id": "13a214b1-e5c1-4c5c-b666-2b5202e4e2f0",
   "metadata": {},
   "outputs": [
    {
     "name": "stdout",
     "output_type": "stream",
     "text": [
      "[5, 4, 3, 2, 1] [1, 2, 3, 4, 5]\n",
      "[5, 4, 3, 2, 1]\n",
      "[1, 2, 3, 4, 5]\n",
      "[1, 2, 3, 4, 5]\n",
      "[5, 4, 3, 2, 1]\n"
     ]
    }
   ],
   "source": [
    "l1=[5,4,3,2,1]\n",
    "print(l1,sorted(l1))\n",
    "print(l1)\n",
    "l1.sort()\n",
    "print(l1)\n",
    "l1.sort(reverse=False)\n",
    "print(l1)\n",
    "l1.sort(reverse=True)\n",
    "print(l1)"
   ]
  },
  {
   "cell_type": "code",
   "execution_count": 64,
   "id": "75463604-86a2-4275-a4f4-a09f5cf7af29",
   "metadata": {},
   "outputs": [
    {
     "name": "stdout",
     "output_type": "stream",
     "text": [
      "(1, 2, 3, 4, 5) <class 'tuple'>\n",
      "{1, 2, 3, 4, 5} <class 'set'>\n",
      "list <class 'str'>\n",
      "[1, 2, 3, 4, 5]\n",
      "[1, 2, 3, 4, 5]\n",
      "['l', 'i', 's', 't']\n",
      "{'1': 1, '2': 2, '3': 3} <class 'dict'>\n",
      "dict_keys(['1', '2', '3']) dict_values([1, 2, 3])\n",
      "dict_items([('1', 1), ('2', 2), ('3', 3)])\n",
      "['1', '2', '3']\n",
      "[1, 2, 3]\n",
      "[('1', 1), ('2', 2), ('3', 3)]\n",
      "['1', '2', '3']\n"
     ]
    }
   ],
   "source": [
    "t=(1,2,3,4,5)\n",
    "print(t,type(t))\n",
    "s={1,2,3,4,5}\n",
    "print(s,type(s))\n",
    "st=\"list\"\n",
    "print(st,type(st))\n",
    "print(list(t))\n",
    "print(list(s))\n",
    "print(list(st))\n",
    "d={\"1\":1,\"2\":2,\"3\":3}\n",
    "print(d,type(d))\n",
    "print(d.keys(),d.values())\n",
    "print(d.items())\n",
    "print(list(d.keys()))\n",
    "print(list(d.values()))\n",
    "print(list(d.items()))\n",
    "print(list(d))"
   ]
  },
  {
   "cell_type": "code",
   "execution_count": 75,
   "id": "2ad12b3b-8ea7-4935-bcae-24a8b5b2d8bb",
   "metadata": {},
   "outputs": [
    {
     "name": "stdout",
     "output_type": "stream",
     "text": [
      "3\n",
      "4\n"
     ]
    }
   ],
   "source": [
    "l1=[1,1,1,2,3,3]\n",
    "print(l1.count(1))\n",
    "print(l1.index(3))"
   ]
  },
  {
   "cell_type": "code",
   "execution_count": 80,
   "id": "a5e3c458-6785-4193-8ed8-f30e15b5d09b",
   "metadata": {},
   "outputs": [
    {
     "name": "stdout",
     "output_type": "stream",
     "text": [
      "[1, 2, 3, 4, 5, 6, 7, 8, 9]\n",
      "[1, 2, 3, 4, 5, 6, 7, 8]\n",
      "[1, 2, 3, 4, 5, 6, 8]\n",
      "[1, 2, 3, 4, 5, 6]\n",
      "[1, 2, 3, 4, 5]\n"
     ]
    }
   ],
   "source": [
    "l1=[1,2,3,4,5]\n",
    "l2=[6,7,8,9]\n",
    "l1.extend(l2)\n",
    "print(l1)\n",
    "l1.pop()\n",
    "print(l1)\n",
    "l1.pop(6)\n",
    "print(l1)\n",
    "l1.remove(8)\n",
    "print(l1)\n",
    "l1.remove(6)\n",
    "print(l1)"
   ]
  },
  {
   "cell_type": "code",
   "execution_count": 84,
   "id": "8c8f49ef-cd30-43fd-9791-3fc6bf99fdf6",
   "metadata": {},
   "outputs": [
    {
     "name": "stdin",
     "output_type": "stream",
     "text": [
      "Enter list: [1,2,3,4,5]\n"
     ]
    },
    {
     "name": "stdout",
     "output_type": "stream",
     "text": [
      "[1, 2, 3, 4, 5] [1, 2, 3, 4, 5]\n",
      "[1, 2, 3, 4, 5] [1, 2, 3, 4, 5] [1, 2, 3]\n",
      "[1, 2, 3, 4, 5] [1, 2, 3]\n"
     ]
    },
    {
     "name": "stdin",
     "output_type": "stream",
     "text": [
      "Enter list: [1,2,3,4,5]\n"
     ]
    },
    {
     "name": "stdout",
     "output_type": "stream",
     "text": [
      "2497604137600 2497604137600\n",
      "[1, 2, 3] [1, 2, 3, 4, 5]\n",
      "2497604131776 2497604137600\n"
     ]
    }
   ],
   "source": [
    "#Cloning\n",
    "l=eval(input(\"Enter list:\"))\n",
    "m=l\n",
    "print(l,m)\n",
    "n=m[0:3:1]\n",
    "print(l,m,n)\n",
    "m=m[0:3]\n",
    "print(l,m)\n",
    "#aliasing\n",
    "l=eval(input(\"Enter list:\"))\n",
    "m=l\n",
    "print(id(l),id(m))\n",
    "l=l[0:3]\n",
    "print(l,m)\n",
    "print(id(l),id(m))"
   ]
  },
  {
   "cell_type": "code",
   "execution_count": 86,
   "id": "80a3c6e6-3420-4dff-846f-95e905e21c45",
   "metadata": {},
   "outputs": [
    {
     "name": "stdout",
     "output_type": "stream",
     "text": [
      "string ['s', 't', 'r', 'i', 'n', 'g']\n",
      "['r', 'i', 'n', 'g']\n"
     ]
    }
   ],
   "source": [
    "st=\"string\"\n",
    "l1=list(st)\n",
    "print(st,l1)\n",
    "l1[0:2:1]=[]\n",
    "print(l1)"
   ]
  },
  {
   "cell_type": "code",
   "execution_count": 10,
   "id": "915be611-b2fd-4f1c-b076-10abf977461c",
   "metadata": {},
   "outputs": [],
   "source": [
    "#Data structure: Stack\n",
    "#Principle: LIFO(Last In First Out)\n",
    "#Implemented by: List\n",
    "#Use: System stack or Call stack\n",
    "#Operations: push(), pop(), peep() or peek()"
   ]
  },
  {
   "cell_type": "code",
   "execution_count": 2,
   "id": "2961882d-55ab-4034-877f-40e3a6de3a0e",
   "metadata": {},
   "outputs": [
    {
     "name": "stdin",
     "output_type": "stream",
     "text": [
      "Enter stack in list form: [1,2]\n"
     ]
    },
    {
     "name": "stdout",
     "output_type": "stream",
     "text": [
      "Stack:\n",
      "stack[ 1 ]: 2\n",
      "stack[ 0 ]: 1\n",
      "***Push operation on stack***\n"
     ]
    },
    {
     "name": "stdin",
     "output_type": "stream",
     "text": [
      "Enter number of elements to push: 2\n",
      "Enter element: 3\n"
     ]
    },
    {
     "name": "stdout",
     "output_type": "stream",
     "text": [
      "stack[ 2 ]: 3\n"
     ]
    },
    {
     "name": "stdin",
     "output_type": "stream",
     "text": [
      "Enter element: 4\n"
     ]
    },
    {
     "name": "stdout",
     "output_type": "stream",
     "text": [
      "stack[ 3 ]: 4\n",
      "Stack:\n",
      "stack[ 3 ]: 4\n",
      "stack[ 2 ]: 3\n",
      "stack[ 1 ]: 2\n",
      "stack[ 0 ]: 1\n",
      "***Pop operation on stack***\n"
     ]
    },
    {
     "name": "stdin",
     "output_type": "stream",
     "text": [
      "Enter number of elements to pop: 1\n"
     ]
    },
    {
     "name": "stdout",
     "output_type": "stream",
     "text": [
      "4 is popped out from top of the stack[ 3 ]\n",
      "***Peep operation on stack***\n",
      "3 is at the top of the stack[ 2 ]\n"
     ]
    }
   ],
   "source": [
    "stack=eval(input(\"Enter stack in list form:\"))\n",
    "print(\"Stack:\")\n",
    "for i in range(len(stack)-1,-1,-1):\n",
    "    print(\"stack[\",i,\"]:\",stack[i])\n",
    "print(\"***Push operation on stack***\")\n",
    "n=eval(input(\"Enter number of elements to push:\"))\n",
    "l=len(stack)\n",
    "for i in range(0,n,1):\n",
    "    e=eval(input(\"Enter element:\"))\n",
    "    stack.append(e)\n",
    "    print(\"stack[\",l,\"]:\",e)\n",
    "    l=l+1\n",
    "print(\"Stack:\")\n",
    "for i in range(len(stack)-1,-1,-1):\n",
    "    print(\"stack[\",i,\"]:\",stack[i])\n",
    "print(\"***Pop operation on stack***\")\n",
    "n=eval(input(\"Enter number of elements to pop:\"))\n",
    "l=len(stack)-1\n",
    "for i in range(0,n,1):\n",
    "    e=stack.pop()\n",
    "    print(e,\"is popped out from top of the stack[\",l,\"]\")\n",
    "    l=l-1\n",
    "print(\"***Peep operation on stack***\")\n",
    "e=stack[len(stack)-1]\n",
    "print(e,\"is at the top of the stack[\",len(stack)-1,\"]\")"
   ]
  },
  {
   "cell_type": "code",
   "execution_count": 9,
   "id": "1192aca3-cf80-4fbc-8843-75495daa53d9",
   "metadata": {},
   "outputs": [
    {
     "name": "stdin",
     "output_type": "stream",
     "text": [
      "Enter your choice:\n",
      "1 for creating stack\t2 for Push\t3 for Pop\t4 for Peep\t5 for displaying stack 1\n",
      "Enter stack in list form: []\n",
      "Enter yes/no within double quotes for continue: \"yes\"\n",
      "Enter your choice:\n",
      "1 for creating stack\t2 for Push\t3 for Pop\t4 for Peep\t5 for displaying stack 2\n",
      "Enter number of elements to push: 3\n",
      "Enter element: 1\n"
     ]
    },
    {
     "name": "stdout",
     "output_type": "stream",
     "text": [
      "stack[ 0 ]: 1\n"
     ]
    },
    {
     "name": "stdin",
     "output_type": "stream",
     "text": [
      "Enter element: 2\n"
     ]
    },
    {
     "name": "stdout",
     "output_type": "stream",
     "text": [
      "stack[ 1 ]: 2\n"
     ]
    },
    {
     "name": "stdin",
     "output_type": "stream",
     "text": [
      "Enter element: 3\n"
     ]
    },
    {
     "name": "stdout",
     "output_type": "stream",
     "text": [
      "stack[ 2 ]: 3\n"
     ]
    },
    {
     "name": "stdin",
     "output_type": "stream",
     "text": [
      "Enter yes/no within double quotes for continue: \"yes\"\n",
      "Enter your choice:\n",
      "1 for creating stack\t2 for Push\t3 for Pop\t4 for Peep\t5 for displaying stack 5\n"
     ]
    },
    {
     "name": "stdout",
     "output_type": "stream",
     "text": [
      "Stack:\n",
      "stack[ 2 ]: 3\n",
      "stack[ 1 ]: 2\n",
      "stack[ 0 ]: 1\n"
     ]
    },
    {
     "name": "stdin",
     "output_type": "stream",
     "text": [
      "Enter yes/no within double quotes for continue: \"yes\"\n",
      "Enter your choice:\n",
      "1 for creating stack\t2 for Push\t3 for Pop\t4 for Peep\t5 for displaying stack 3\n",
      "Enter number of elements to pop: 2\n"
     ]
    },
    {
     "name": "stdout",
     "output_type": "stream",
     "text": [
      "3 is popped out from top of the stack[ 2 ]\n",
      "2 is popped out from top of the stack[ 1 ]\n"
     ]
    },
    {
     "name": "stdin",
     "output_type": "stream",
     "text": [
      "Enter yes/no within double quotes for continue: \"yes\"\n",
      "Enter your choice:\n",
      "1 for creating stack\t2 for Push\t3 for Pop\t4 for Peep\t5 for displaying stack 5\n"
     ]
    },
    {
     "name": "stdout",
     "output_type": "stream",
     "text": [
      "Stack:\n",
      "stack[ 0 ]: 1\n"
     ]
    },
    {
     "name": "stdin",
     "output_type": "stream",
     "text": [
      "Enter yes/no within double quotes for continue: \"yes\"\n",
      "Enter your choice:\n",
      "1 for creating stack\t2 for Push\t3 for Pop\t4 for Peep\t5 for displaying stack 4\n"
     ]
    },
    {
     "name": "stdout",
     "output_type": "stream",
     "text": [
      "1 is at the top of the stack[ 0 ]\n"
     ]
    },
    {
     "name": "stdin",
     "output_type": "stream",
     "text": [
      "Enter yes/no within double quotes for continue: \"no\"\n"
     ]
    }
   ],
   "source": [
    "st=\"yes\"\n",
    "while st==\"yes\":\n",
    "    ch=eval(input(\"Enter your choice:\\n1 for creating stack\\t2 for Push\\t3 for Pop\\t4 for Peep\\t5 for displaying stack\"))\n",
    "    if ch==1:\n",
    "        stack=eval(input(\"Enter stack in list form:\"))\n",
    "    elif ch==2:\n",
    "        n=eval(input(\"Enter number of elements to push:\"))\n",
    "        l=len(stack)\n",
    "        for i in range(0,n,1):\n",
    "            e=eval(input(\"Enter element:\"))\n",
    "            stack.append(e)\n",
    "            print(\"stack[\",l,\"]:\",e)\n",
    "            l=l+1\n",
    "    elif ch==3:\n",
    "        n=eval(input(\"Enter number of elements to pop:\"))\n",
    "        l=len(stack)-1\n",
    "        for i in range(0,n,1):\n",
    "            e=stack.pop()\n",
    "            print(e,\"is popped out from top of the stack[\",l,\"]\")\n",
    "            l=l-1\n",
    "    elif ch==4:\n",
    "        e=stack[len(stack)-1]\n",
    "        print(e,\"is at the top of the stack[\",len(stack)-1,\"]\")\n",
    "    elif ch==5:\n",
    "        print(\"Stack:\")\n",
    "        for i in range(len(stack)-1,-1,-1):\n",
    "            print(\"stack[\",i,\"]:\",stack[i])\n",
    "    else:\n",
    "        print(\"Invalid choice!\")\n",
    "    st=eval(input(\"Enter yes/no within double quotes for continue:\"))"
   ]
  },
  {
   "cell_type": "code",
   "execution_count": 11,
   "id": "761f7278-8319-4b02-b251-aac4200b8db5",
   "metadata": {},
   "outputs": [],
   "source": [
    "#Data structure: Queue\n",
    "#Principle: FIFO(First In First Out)\n",
    "#Implemented by: List\n",
    "#Use: Operating system\n",
    "#Operations: insert(), delete(), peep() or peek()"
   ]
  },
  {
   "cell_type": "code",
   "execution_count": 21,
   "id": "6b753948-edaa-40a6-b2a6-28d441f031da",
   "metadata": {},
   "outputs": [
    {
     "name": "stdin",
     "output_type": "stream",
     "text": [
      "Enter queue in list form: []\n"
     ]
    },
    {
     "name": "stdout",
     "output_type": "stream",
     "text": [
      "Queue:\n",
      "***Insert operation on queue***\n"
     ]
    },
    {
     "name": "stdin",
     "output_type": "stream",
     "text": [
      "Enter number of elements to insert: 3\n",
      "Enter element: 1\n"
     ]
    },
    {
     "name": "stdout",
     "output_type": "stream",
     "text": [
      "queue[ 0 ]: 1\n"
     ]
    },
    {
     "name": "stdin",
     "output_type": "stream",
     "text": [
      "Enter element: 2\n"
     ]
    },
    {
     "name": "stdout",
     "output_type": "stream",
     "text": [
      "queue[ 1 ]: 2\n"
     ]
    },
    {
     "name": "stdin",
     "output_type": "stream",
     "text": [
      "Enter element: 3\n"
     ]
    },
    {
     "name": "stdout",
     "output_type": "stream",
     "text": [
      "queue[ 2 ]: 3\n",
      "Queue:\n",
      "queue[ 0 ]: 1\n",
      "queue[ 1 ]: 2\n",
      "queue[ 2 ]: 3\n",
      "***Delete operation on queue***\n"
     ]
    },
    {
     "name": "stdin",
     "output_type": "stream",
     "text": [
      "Enter number of elements to delete: 1\n"
     ]
    },
    {
     "name": "stdout",
     "output_type": "stream",
     "text": [
      "1 is deleted from front of the queue[ 0 ]\n",
      "Queue:\n",
      "queue[ 0 ]: 2\n",
      "queue[ 1 ]: 3\n",
      "***Peep operation on queue***\n",
      "3 is at the rear of the queue[ 1 ]\n"
     ]
    }
   ],
   "source": [
    "queue=eval(input(\"Enter queue in list form:\"))\n",
    "print(\"Queue:\")\n",
    "for i in range(0,len(queue),1):\n",
    "    print(\"queue[\",i,\"]:\",queue[i])\n",
    "print(\"***Insert operation on queue***\")\n",
    "n=eval(input(\"Enter number of elements to insert:\"))\n",
    "l=len(queue)\n",
    "for i in range(0,n,1):\n",
    "    e=eval(input(\"Enter element:\"))\n",
    "    queue.insert(len(queue),e)\n",
    "    print(\"queue[\",l,\"]:\",e)\n",
    "    l=l+1\n",
    "print(\"Queue:\")\n",
    "for i in range(0,len(queue),1):\n",
    "    print(\"queue[\",i,\"]:\",queue[i])\n",
    "print(\"***Delete operation on queue***\")\n",
    "n=eval(input(\"Enter number of elements to delete:\"))\n",
    "for i in range(0,n,1):\n",
    "    e=queue.pop(0)\n",
    "    print(e,\"is deleted from front of the queue[\",0,\"]\")\n",
    "print(\"Queue:\")\n",
    "for i in range(0,len(queue),1):\n",
    "    print(\"queue[\",i,\"]:\",queue[i])\n",
    "print(\"***Peep operation on queue***\")\n",
    "e=queue[len(queue)-1]\n",
    "print(e,\"is at the rear of the queue[\",len(queue)-1,\"]\")"
   ]
  },
  {
   "cell_type": "code",
   "execution_count": 22,
   "id": "88fb3e45-a3f2-4ba2-adc2-6ed13c5c731b",
   "metadata": {},
   "outputs": [
    {
     "name": "stdin",
     "output_type": "stream",
     "text": [
      "Enter your choice:\n",
      "1 for creating queue\t2 for Insert\t3 for Delete\t4 for Peep\t5 for displaying queue 1\n",
      "Enter queue in list form: []\n",
      "Enter yes/no within double quotes for continue: \"yes\"\n",
      "Enter your choice:\n",
      "1 for creating queue\t2 for Insert\t3 for Delete\t4 for Peep\t5 for displaying queue 2\n",
      "Enter number of elements to insert: 5\n",
      "Enter element: 1\n"
     ]
    },
    {
     "name": "stdout",
     "output_type": "stream",
     "text": [
      "queue[ 0 ]: 1\n"
     ]
    },
    {
     "name": "stdin",
     "output_type": "stream",
     "text": [
      "Enter element: 2\n"
     ]
    },
    {
     "name": "stdout",
     "output_type": "stream",
     "text": [
      "queue[ 1 ]: 2\n"
     ]
    },
    {
     "name": "stdin",
     "output_type": "stream",
     "text": [
      "Enter element: 3\n"
     ]
    },
    {
     "name": "stdout",
     "output_type": "stream",
     "text": [
      "queue[ 2 ]: 3\n"
     ]
    },
    {
     "name": "stdin",
     "output_type": "stream",
     "text": [
      "Enter element: 4\n"
     ]
    },
    {
     "name": "stdout",
     "output_type": "stream",
     "text": [
      "queue[ 3 ]: 4\n"
     ]
    },
    {
     "name": "stdin",
     "output_type": "stream",
     "text": [
      "Enter element: 5\n"
     ]
    },
    {
     "name": "stdout",
     "output_type": "stream",
     "text": [
      "queue[ 4 ]: 5\n"
     ]
    },
    {
     "name": "stdin",
     "output_type": "stream",
     "text": [
      "Enter yes/no within double quotes for continue: \"yes\"\n",
      "Enter your choice:\n",
      "1 for creating queue\t2 for Insert\t3 for Delete\t4 for Peep\t5 for displaying queue 5\n"
     ]
    },
    {
     "name": "stdout",
     "output_type": "stream",
     "text": [
      "Queue:\n",
      "queue[ 0 ]: 1\n",
      "queue[ 1 ]: 2\n",
      "queue[ 2 ]: 3\n",
      "queue[ 3 ]: 4\n",
      "queue[ 4 ]: 5\n"
     ]
    },
    {
     "name": "stdin",
     "output_type": "stream",
     "text": [
      "Enter yes/no within double quotes for continue: \"yes\"\n",
      "Enter your choice:\n",
      "1 for creating queue\t2 for Insert\t3 for Delete\t4 for Peep\t5 for displaying queue 3\n",
      "Enter number of elements to delete: 2\n"
     ]
    },
    {
     "name": "stdout",
     "output_type": "stream",
     "text": [
      "1 is deleted from front of the queue[ 0 ]\n",
      "2 is deleted from front of the queue[ 0 ]\n"
     ]
    },
    {
     "name": "stdin",
     "output_type": "stream",
     "text": [
      "Enter yes/no within double quotes for continue: \"yes\"\n",
      "Enter your choice:\n",
      "1 for creating queue\t2 for Insert\t3 for Delete\t4 for Peep\t5 for displaying queue 5\n"
     ]
    },
    {
     "name": "stdout",
     "output_type": "stream",
     "text": [
      "Queue:\n",
      "queue[ 0 ]: 3\n",
      "queue[ 1 ]: 4\n",
      "queue[ 2 ]: 5\n"
     ]
    },
    {
     "name": "stdin",
     "output_type": "stream",
     "text": [
      "Enter yes/no within double quotes for continue: \"yes\"\n",
      "Enter your choice:\n",
      "1 for creating queue\t2 for Insert\t3 for Delete\t4 for Peep\t5 for displaying queue 4\n"
     ]
    },
    {
     "name": "stdout",
     "output_type": "stream",
     "text": [
      "5 is at the rear of the queue[ 2 ]\n"
     ]
    },
    {
     "name": "stdin",
     "output_type": "stream",
     "text": [
      "Enter yes/no within double quotes for continue: \"no\"\n"
     ]
    }
   ],
   "source": [
    "st=\"yes\"\n",
    "while st==\"yes\":\n",
    "    ch=eval(input(\"Enter your choice:\\n1 for creating queue\\t2 for Insert\\t3 for Delete\\t4 for Peep\\t5 for displaying queue\"))\n",
    "    if ch==1:\n",
    "        queue=eval(input(\"Enter queue in list form:\"))\n",
    "    elif ch==2:\n",
    "        n=eval(input(\"Enter number of elements to insert:\"))\n",
    "        l=len(queue)\n",
    "        for i in range(0,n,1):\n",
    "            e=eval(input(\"Enter element:\"))\n",
    "            queue.insert(len(queue),e)\n",
    "            print(\"queue[\",l,\"]:\",e)\n",
    "            l=l+1\n",
    "    elif ch==3:\n",
    "        n=eval(input(\"Enter number of elements to delete:\"))\n",
    "        for i in range(0,n,1):\n",
    "            e=queue.pop(0)\n",
    "            print(e,\"is deleted from front of the queue[\",0,\"]\")\n",
    "    elif ch==4:\n",
    "        e=queue[len(queue)-1]\n",
    "        print(e,\"is at the rear of the queue[\",len(queue)-1,\"]\")\n",
    "    elif ch==5:\n",
    "        print(\"Queue:\")\n",
    "        for i in range(0,len(queue),1):\n",
    "            print(\"queue[\",i,\"]:\",queue[i])\n",
    "    else:\n",
    "        print(\"Invalid choice!\")\n",
    "    st=eval(input(\"Enter yes/no within double quotes for continue:\"))"
   ]
  },
  {
   "cell_type": "code",
   "execution_count": 24,
   "id": "fc592878-bc82-49cf-978b-1eb6f57833ec",
   "metadata": {},
   "outputs": [
    {
     "name": "stdout",
     "output_type": "stream",
     "text": [
      "[] <class 'list'>\n",
      "[] <class 'list'>\n"
     ]
    }
   ],
   "source": [
    "l1,l2=[],list()\n",
    "print(l1,type(l1))\n",
    "print(l2,type(l2))"
   ]
  },
  {
   "cell_type": "code",
   "execution_count": 28,
   "id": "1b981328-fa28-4c41-b76d-fad334f44ee2",
   "metadata": {},
   "outputs": [
    {
     "name": "stdout",
     "output_type": "stream",
     "text": [
      "[0, 1, 4, 9, 16, 25, 36, 49, 64, 81, 100]\n",
      "[0, 4, 16, 36, 64, 100]\n",
      "Non-diagonal elements: [(1, 2), (1, 3), (2, 1), (2, 3), (3, 1), (3, 2)]\n"
     ]
    }
   ],
   "source": [
    "l1=[x**2 for x in range(0,10+1,1)]\n",
    "print(l1)\n",
    "l1=[x**2 for x in range(0,10+1,1) if x%2==0]\n",
    "print(l1)\n",
    "l1=[(x,y) for x in range(1,3+1,1) for y in range(1,3+1,1) if x!=y]\n",
    "print(\"Non-diagonal elements:\",l1)"
   ]
  },
  {
   "cell_type": "code",
   "execution_count": 31,
   "id": "a615d2d2-068a-4bad-992d-32b5fa4da064",
   "metadata": {},
   "outputs": [
    {
     "name": "stdout",
     "output_type": "stream",
     "text": [
      "[(0, 1), (1, 2), (2, 3)]\n",
      "[(0, 's'), (1, 't'), (2, 'r'), (3, 'i'), (4, 'n'), (5, 'g')]\n"
     ]
    }
   ],
   "source": [
    "l1=[1,2,3]\n",
    "print(list(enumerate(l1)))\n",
    "st=\"string\"\n",
    "print(list(enumerate(st)))"
   ]
  },
  {
   "cell_type": "code",
   "execution_count": 32,
   "id": "67d934f2-8024-42d9-b42f-87ea3906d931",
   "metadata": {},
   "outputs": [
    {
     "name": "stdin",
     "output_type": "stream",
     "text": [
      "Enter list: [1,2,3,4,5]\n"
     ]
    },
    {
     "name": "stdout",
     "output_type": "stream",
     "text": [
      "Average of elements: 3.0\n"
     ]
    }
   ],
   "source": [
    "l1=eval(input(\"Enter list:\"))\n",
    "s=sum(l1)\n",
    "l=len(l1)\n",
    "avg=(s/l)\n",
    "print(\"Average of elements:\",avg)"
   ]
  },
  {
   "cell_type": "code",
   "execution_count": 34,
   "id": "16066316-9f03-41a3-885f-d6f741581997",
   "metadata": {},
   "outputs": [
    {
     "name": "stdin",
     "output_type": "stream",
     "text": [
      "Enter list: [1,2,3]\n"
     ]
    },
    {
     "name": "stdout",
     "output_type": "stream",
     "text": [
      "0 1\n",
      "1 2\n",
      "2 3\n"
     ]
    }
   ],
   "source": [
    "l1=eval(input(\"Enter list:\"))\n",
    "for index,element in list(enumerate(l1)):\n",
    "    print(index,element)"
   ]
  },
  {
   "cell_type": "code",
   "execution_count": 38,
   "id": "a83b67f3-ccfc-4a6c-9383-d84f97a62fcb",
   "metadata": {},
   "outputs": [
    {
     "name": "stdout",
     "output_type": "stream",
     "text": [
      "[1, 2, 3, 4, 5]\n",
      "1\n",
      "2\n"
     ]
    }
   ],
   "source": [
    "l1=[1,2,3,4,5]\n",
    "print(l1)\n",
    "i=iter(l1)\n",
    "print(next(i))\n",
    "print(next(i))"
   ]
  },
  {
   "cell_type": "code",
   "execution_count": 41,
   "id": "a3bfe327-4dd4-4691-8079-13582323eae1",
   "metadata": {},
   "outputs": [
    {
     "name": "stdin",
     "output_type": "stream",
     "text": [
      "Enter list: [1,2,3]\n"
     ]
    },
    {
     "name": "stdout",
     "output_type": "stream",
     "text": [
      "l1[ 0 ]: 1\n",
      "l1[ 1 ]: 2\n",
      "l1[ 2 ]: 3\n",
      "\n",
      "l1[ 0 ]: 1\n",
      "l1[ 1 ]: 2\n",
      "l1[ 2 ]: 3\n"
     ]
    }
   ],
   "source": [
    "l1=eval(input(\"Enter list:\"))\n",
    "it=iter(l1)\n",
    "for i in range(0,len(l1),1):\n",
    "    print(\"l1[\",i,\"]:\",next(it))\n",
    "print()\n",
    "for i in range(0,len(l1),1):\n",
    "    print(\"l1[\",i,\"]:\",l1[i])"
   ]
  },
  {
   "cell_type": "code",
   "execution_count": 57,
   "id": "150678e1-66c3-4a69-8533-3c1e4bc1b7d4",
   "metadata": {},
   "outputs": [
    {
     "name": "stdin",
     "output_type": "stream",
     "text": [
      "Enter start: 0\n",
      "Enter end: 9\n"
     ]
    },
    {
     "name": "stdout",
     "output_type": "stream",
     "text": [
      "[0, 2, 4, 6, 8]\n"
     ]
    }
   ],
   "source": [
    "def f(e):\n",
    "    if e%2==0:\n",
    "        return True\n",
    "    else:\n",
    "        return False\n",
    "m=eval(input(\"Enter start:\"))\n",
    "n=eval(input(\"Enter end:\"))\n",
    "e=range(m,n+1)\n",
    "even=list(filter(f,e))\n",
    "print(even)"
   ]
  },
  {
   "cell_type": "code",
   "execution_count": 56,
   "id": "5b6afab0-7b8a-457f-a8da-09e260c96b30",
   "metadata": {},
   "outputs": [
    {
     "name": "stdout",
     "output_type": "stream",
     "text": [
      "[0, 1, 2, 3, 4, 5]\n",
      "(0, 1, 2, 3, 4, 5)\n",
      "{0, 1, 2, 3, 4, 5}\n",
      "range(0, 6)\n"
     ]
    }
   ],
   "source": [
    "e=range(0,5+1,1)\n",
    "l1=list(e)\n",
    "print(l1)\n",
    "t1=tuple(e)\n",
    "print(t1)\n",
    "s1=set(e)\n",
    "print(s1)\n",
    "st1=str(e)\n",
    "print(st1)"
   ]
  },
  {
   "cell_type": "code",
   "execution_count": 60,
   "id": "d0b8df67-cd5a-4f31-b765-60f3845843e1",
   "metadata": {},
   "outputs": [
    {
     "name": "stdin",
     "output_type": "stream",
     "text": [
      "Enter list: [0,1,2,3,4,5,6,7,8,9]\n"
     ]
    },
    {
     "name": "stdout",
     "output_type": "stream",
     "text": [
      "[0, 'odd', 2, 'odd', 4, 'odd', 6, 'odd', 8, 'odd']\n"
     ]
    }
   ],
   "source": [
    "def f(e):\n",
    "    if e%2==0:\n",
    "        return e\n",
    "    else:\n",
    "        return \"odd\"\n",
    "l1=eval(input(\"Enter list:\"))\n",
    "even=list(map(f,l1))\n",
    "print(even)"
   ]
  },
  {
   "cell_type": "code",
   "execution_count": 64,
   "id": "8ad275de-5e13-4390-9922-dbe44b8feedf",
   "metadata": {},
   "outputs": [
    {
     "name": "stdin",
     "output_type": "stream",
     "text": [
      "Enter list: [1,2,3]\n",
      "Enter list: [4,5,6]\n"
     ]
    },
    {
     "name": "stdout",
     "output_type": "stream",
     "text": [
      "[5, 7, 9]\n"
     ]
    }
   ],
   "source": [
    "def f(e1,e2):\n",
    "    return e1+e2\n",
    "l1=eval(input(\"Enter list:\"))\n",
    "l2=eval(input(\"Enter list:\"))\n",
    "l3=list(map(f,l1,l2))\n",
    "print(l3)"
   ]
  },
  {
   "cell_type": "code",
   "execution_count": 67,
   "id": "a370aa13-ce5f-4f35-892f-39b304281d35",
   "metadata": {},
   "outputs": [
    {
     "name": "stdin",
     "output_type": "stream",
     "text": [
      "Enter list: [1,2,3,4,5]\n"
     ]
    },
    {
     "name": "stdout",
     "output_type": "stream",
     "text": [
      "15\n"
     ]
    }
   ],
   "source": [
    "import functools as ft\n",
    "def f(e1,e2):\n",
    "    return e1+e2\n",
    "l1=eval(input(\"Enter list:\"))\n",
    "l2=ft.reduce(f,l1)\n",
    "print(l2)"
   ]
  },
  {
   "cell_type": "code",
   "execution_count": 68,
   "id": "61bb13c2-9973-411c-afe8-e399ae1cb286",
   "metadata": {},
   "outputs": [
    {
     "name": "stdin",
     "output_type": "stream",
     "text": [
      "Enter list: [1]\n"
     ]
    },
    {
     "name": "stdout",
     "output_type": "stream",
     "text": [
      "1\n"
     ]
    }
   ],
   "source": [
    "import functools as ft\n",
    "def f(e1,e2):\n",
    "    return e1+e2\n",
    "l1=eval(input(\"Enter list:\"))\n",
    "l2=ft.reduce(f,l1)\n",
    "print(l2)"
   ]
  },
  {
   "cell_type": "code",
   "execution_count": 1,
   "id": "aebf7948-007c-4bba-82c8-21b8ea3ce48a",
   "metadata": {},
   "outputs": [
    {
     "name": "stdin",
     "output_type": "stream",
     "text": [
      "Enter list: [x for x in range(1,20+1,1)]\n"
     ]
    },
    {
     "name": "stdout",
     "output_type": "stream",
     "text": [
      "[1, 2, 3, 4, 5, 6, 7, 8, 9, 10, 11, 12, 13, 14, 15, 16, 17, 18, 19, 20] [2, 4, 6, 8, 10, 12, 14, 16, 18, 20]\n"
     ]
    }
   ],
   "source": [
    "l1=eval(input(\"Enter list:\"))\n",
    "l2=[]\n",
    "for i in l1:\n",
    "    if i%2==0:\n",
    "        l2.append(i)\n",
    "print(l1,l2)"
   ]
  },
  {
   "cell_type": "code",
   "execution_count": 6,
   "id": "1976dcf0-19bb-40cd-9697-54d5c5d0291a",
   "metadata": {},
   "outputs": [
    {
     "name": "stdout",
     "output_type": "stream",
     "text": [
      "[1, 4, 9, 16, 25, 36, 49, 64, 81, 100] 385\n"
     ]
    }
   ],
   "source": [
    "def f(e):\n",
    "    return e**2\n",
    "square=list(map(f,range(1,11)))\n",
    "s=sum(square)\n",
    "print(square,s)"
   ]
  },
  {
   "cell_type": "code",
   "execution_count": 11,
   "id": "e0ccd3a2-6816-4303-8a4a-cb882d7056ed",
   "metadata": {},
   "outputs": [
    {
     "name": "stdin",
     "output_type": "stream",
     "text": [
      "Enter BRICS member: [\"Brazil\",\"Russia\",\"India\",\"China\",\"South Africa\"]\n"
     ]
    },
    {
     "name": "stdout",
     "output_type": "stream",
     "text": [
      "['Brazil', 'Russia', 'India', 'China', 'South Africa']\n"
     ]
    },
    {
     "name": "stdin",
     "output_type": "stream",
     "text": [
      "Enter country in list: [\"USA\",\"China\",\"Russia\",\"France\"]\n"
     ]
    },
    {
     "name": "stdout",
     "output_type": "stream",
     "text": [
      "['Non-Member of brics', 'Member of brics', 'Member of brics', 'Non-Member of brics']\n"
     ]
    }
   ],
   "source": [
    "brics=eval(input(\"Enter BRICS member:\"))\n",
    "print(brics)\n",
    "country=eval(input(\"Enter country in list:\"))\n",
    "def f(c):\n",
    "    if c in brics:\n",
    "        return \"Member of brics\"\n",
    "    else:\n",
    "        return \"Non-Member of brics\"\n",
    "member=list(map(f,country))\n",
    "print(member)"
   ]
  },
  {
   "cell_type": "code",
   "execution_count": 14,
   "id": "372de26f-469b-4cb4-97ca-deb02b78e0b7",
   "metadata": {},
   "outputs": [
    {
     "name": "stdin",
     "output_type": "stream",
     "text": [
      "Enter list: [1,2,3,4,5]\n"
     ]
    },
    {
     "name": "stdout",
     "output_type": "stream",
     "text": [
      "[1, 2, 3, 4, 5]\n",
      "[1, 3, 5]\n"
     ]
    }
   ],
   "source": [
    "l1=eval(input(\"Enter list:\"))\n",
    "print(l1)\n",
    "for index,element in enumerate(l1):\n",
    "    #print((index,element),end=\" \")\n",
    "    if element%2==0:\n",
    "        del l1[index]\n",
    "print(l1)"
   ]
  },
  {
   "cell_type": "code",
   "execution_count": 16,
   "id": "75a881b8-8dc3-46e5-8eb7-264523141b15",
   "metadata": {},
   "outputs": [
    {
     "name": "stdin",
     "output_type": "stream",
     "text": [
      "Enter list: [1,1,1,2,2,2,2,3,3]\n"
     ]
    },
    {
     "name": "stdout",
     "output_type": "stream",
     "text": [
      "[1, 1, 1, 2, 2, 2, 2, 3, 3]\n"
     ]
    },
    {
     "name": "stdin",
     "output_type": "stream",
     "text": [
      "Enter value: 2\n"
     ]
    },
    {
     "name": "stdout",
     "output_type": "stream",
     "text": [
      "2 is present at index= 3\n",
      "2 is present at index= 4\n",
      "2 is present at index= 5\n",
      "2 is present at index= 6\n",
      "2 is occurred 4 times\n"
     ]
    }
   ],
   "source": [
    "l1=eval(input(\"Enter list:\"))\n",
    "print(l1)\n",
    "val=eval(input(\"Enter value:\"))\n",
    "c=0\n",
    "for i in range(0,len(l1),1):\n",
    "    if val==l1[i]:\n",
    "        c=c+1\n",
    "        print(val,\"is present at index=\",i)\n",
    "print(val,\"is occurred\",c,\"times\")"
   ]
  },
  {
   "cell_type": "code",
   "execution_count": 19,
   "id": "2568ba84-5cba-4a8b-8142-b2f7e572ee1d",
   "metadata": {},
   "outputs": [
    {
     "name": "stdin",
     "output_type": "stream",
     "text": [
      "Enter words in list: [\"Hello\",\"World\"]\n",
      "Enter words in list: [\"Python\",\"Programming\"]\n"
     ]
    },
    {
     "name": "stdout",
     "output_type": "stream",
     "text": [
      "List of combining words:\n",
      " ['HelloPython', 'HelloProgramming', 'WorldPython', 'WorldProgramming']\n",
      "List of combining words:\n",
      " ['HelloPython', 'WorldProgramming']\n"
     ]
    }
   ],
   "source": [
    "l1=eval(input(\"Enter words in list:\"))\n",
    "l2=eval(input(\"Enter words in list:\"))\n",
    "wl=list()\n",
    "for i in l1:\n",
    "    for j in l2:\n",
    "        wl.append(i+j)\n",
    "print(\"List of combining words:\\n\",wl)\n",
    "wl=[]\n",
    "for i in range(0,len(l1),1):\n",
    "    for j in range(0,len(l2),1):\n",
    "        if i==j:\n",
    "            wl.append(l1[i]+l2[j])\n",
    "print(\"List of combining words:\\n\",wl)"
   ]
  },
  {
   "cell_type": "code",
   "execution_count": 21,
   "id": "5a1760ef-901c-48b7-85ec-8d5c09a479fd",
   "metadata": {},
   "outputs": [
    {
     "name": "stdin",
     "output_type": "stream",
     "text": [
      "Enter words in list: [\"Apple\",\"Mango\",\"Banana\",\"Litchi\",\"Pineapple\"]\n"
     ]
    },
    {
     "name": "stdout",
     "output_type": "stream",
     "text": [
      "['Apple', 'Mango', 'Banana', 'Litchi', 'Pineapple']\n",
      "First character of each word: ['A', 'M', 'B', 'L', 'P']\n"
     ]
    }
   ],
   "source": [
    "l1=eval(input(\"Enter words in list:\"))\n",
    "print(l1)\n",
    "fwl=list()\n",
    "for i in range(0,len(l1),1):\n",
    "    fwl.append(l1[i][0])\n",
    "print(\"First character of each word:\",fwl)"
   ]
  },
  {
   "cell_type": "code",
   "execution_count": 39,
   "id": "6d5f1fcd-23ac-4050-b900-3a18a935e67b",
   "metadata": {},
   "outputs": [
    {
     "name": "stdin",
     "output_type": "stream",
     "text": [
      "Enter list: [1,2,3]\n"
     ]
    },
    {
     "name": "stdout",
     "output_type": "stream",
     "text": [
      "[1, 2, 3]\n",
      "[3, 2, 1]\n",
      "[1, 2, 3]\n",
      "[3, 2, 1]\n"
     ]
    }
   ],
   "source": [
    "l1=eval(input(\"Enter list:\"))\n",
    "print(l1)\n",
    "l1.reverse()\n",
    "print(l1)\n",
    "l1.sort(reverse=False)\n",
    "print(l1)\n",
    "l1.sort(reverse=True)\n",
    "print(l1)"
   ]
  },
  {
   "cell_type": "code",
   "execution_count": 41,
   "id": "9a835a1a-344c-4338-b7b5-133c44e23736",
   "metadata": {},
   "outputs": [
    {
     "name": "stdin",
     "output_type": "stream",
     "text": [
      "Enter list: [4,3,2,1,4,3,2,1]\n"
     ]
    },
    {
     "name": "stdout",
     "output_type": "stream",
     "text": [
      "[4, 3, 2, 1, 4, 3, 2, 1]\n",
      "[1, 1, 2, 2, 3, 3, 4, 4]\n",
      "[1, 2, 3, 4]\n"
     ]
    }
   ],
   "source": [
    "l1=eval(input(\"Enter list:\"))\n",
    "print(l1)\n",
    "l1.sort()\n",
    "print(l1)\n",
    "nl=[]\n",
    "for i in l1:\n",
    "    if i not in nl:\n",
    "        nl.append(i)\n",
    "print(nl)"
   ]
  },
  {
   "cell_type": "code",
   "execution_count": 44,
   "id": "11452c7b-7c0b-4c4d-a739-a9d729dc0f5b",
   "metadata": {},
   "outputs": [
    {
     "name": "stdout",
     "output_type": "stream",
     "text": [
      "List: [97, 94, 81, 67, 18, 11, 46, 80, 71, 23, 52, 5, 97, 99, 83, 64, 75, 22, 42, 20, 89, 10, 91, 16, 97, 37, 36, 42, 44, 84, 40, 41, 11, 66, 36, 18, 56, 61, 9, 67, 2, 71, 65, 25, 100, 30, 95, 69, 96, 12, 65, 95, 0, 25, 26, 71, 32, 49, 7, 46, 27, 3, 66, 41, 17, 8, 99, 49, 44, 61, 23, 97, 60, 89, 0, 23, 50, 76, 76, 85, 54, 64, 67, 61, 2, 94, 30, 8, 52, 86, 13, 64, 4, 90, 88, 78, 15, 74, 74, 35, 48]\n",
      "Even list: [94, 18, 46, 80, 52, 64, 22, 42, 20, 10, 16, 36, 42, 44, 84, 40, 66, 36, 18, 56, 2, 100, 30, 96, 12, 0, 26, 32, 46, 66, 8, 44, 60, 0, 50, 76, 76, 54, 64, 2, 94, 30, 8, 52, 86, 64, 4, 90, 88, 78, 74, 74, 48]\n",
      "Odd list: [97, 81, 67, 11, 71, 23, 5, 97, 99, 83, 75, 89, 91, 97, 37, 41, 11, 61, 9, 67, 71, 65, 25, 95, 69, 65, 95, 25, 71, 49, 7, 27, 3, 41, 17, 99, 49, 61, 23, 97, 89, 23, 85, 67, 61, 13, 15, 35]\n"
     ]
    }
   ],
   "source": [
    "import random\n",
    "l1=[]\n",
    "for i in range(0,100+1,1):\n",
    "    e=random.randint(0,100)\n",
    "    l1.append(e)\n",
    "print(\"List:\",l1)\n",
    "el,ol=list(),list()\n",
    "for i in l1:\n",
    "    if i%2==0:\n",
    "        el.append(i)\n",
    "    else:\n",
    "        ol.append(i)\n",
    "print(\"Even list:\",el)\n",
    "print(\"Odd list:\",ol)"
   ]
  },
  {
   "cell_type": "code",
   "execution_count": 45,
   "id": "75d90af4-495e-428d-8073-907e2a7c59c7",
   "metadata": {},
   "outputs": [
    {
     "name": "stdin",
     "output_type": "stream",
     "text": [
      "Enter number of odd elements: 20\n"
     ]
    },
    {
     "name": "stdout",
     "output_type": "stream",
     "text": [
      "Odd list: [1, 3, 5, 7, 9, 11, 13, 15, 17, 19, 21, 23, 25, 27, 29, 31, 33, 35, 37, 39]\n"
     ]
    }
   ],
   "source": [
    "l1=[]\n",
    "n=eval(input(\"Enter number of odd elements:\"))\n",
    "for i in range(0,(2*n+1),1):\n",
    "    if i%2!=0:\n",
    "        l1.append(i)\n",
    "print(\"Odd list:\",l1)"
   ]
  },
  {
   "cell_type": "code",
   "execution_count": 47,
   "id": "32964781-8912-40d1-b8e1-517e5e1ae4b6",
   "metadata": {},
   "outputs": [
    {
     "name": "stdout",
     "output_type": "stream",
     "text": [
      "[1, 3, 5, 7, 9, 11, 13, 15, 17, 19, 21, 23, 25, 27, 29, 31, 33, 35, 37, 39]\n"
     ]
    }
   ],
   "source": [
    "l1=[2*i+1 for i in range(0,20,1)]\n",
    "print(l1)"
   ]
  },
  {
   "cell_type": "code",
   "execution_count": 48,
   "id": "b5bd5710-d30b-4d85-92fb-9b781b9f97ec",
   "metadata": {},
   "outputs": [
    {
     "name": "stdin",
     "output_type": "stream",
     "text": [
      "Enter list: [5,4,3,2,1]\n"
     ]
    },
    {
     "name": "stdout",
     "output_type": "stream",
     "text": [
      "[5, 4, 3, 2, 1]\n",
      "[1, 2, 3, 4, 5]\n",
      "[11, 12, 13, 14, 15]\n"
     ]
    }
   ],
   "source": [
    "def f(l1):\n",
    "    for i in range(0,len(l1),1):\n",
    "        l1[i]=l1[i]+10\n",
    "    print(l1)\n",
    "l1=eval(input(\"Enter list:\"))\n",
    "print(l1)\n",
    "l1.sort()\n",
    "print(l1)\n",
    "f(l1)"
   ]
  },
  {
   "cell_type": "code",
   "execution_count": 49,
   "id": "a6948764-475a-4403-ab08-bb00d35f7efc",
   "metadata": {},
   "outputs": [
    {
     "name": "stdin",
     "output_type": "stream",
     "text": [
      "Enter positive and negative elements in list: [-1,0,1]\n"
     ]
    },
    {
     "name": "stdout",
     "output_type": "stream",
     "text": [
      "Positive list: [0, 1]\n"
     ]
    }
   ],
   "source": [
    "def f(e):\n",
    "    if e>=0:\n",
    "        return True\n",
    "l1=eval(input(\"Enter positive and negative elements in list:\"))\n",
    "l1=list(filter(f,l1))\n",
    "print(\"Positive list:\",l1)"
   ]
  },
  {
   "cell_type": "code",
   "execution_count": 1,
   "id": "9d07bd93-ca7c-4b97-bafa-4ebc0fb4b68b",
   "metadata": {},
   "outputs": [
    {
     "name": "stdin",
     "output_type": "stream",
     "text": [
      "Enter uppercase words in list: [\"HELLO\",\"WORLD\"]\n"
     ]
    },
    {
     "name": "stdout",
     "output_type": "stream",
     "text": [
      "['HELLO', 'WORLD']\n",
      "Lowercase words in list: ['hello', 'world']\n"
     ]
    }
   ],
   "source": [
    "def f(w):\n",
    "    return w.lower()\n",
    "wl=eval(input(\"Enter uppercase words in list:\"))\n",
    "print(wl)\n",
    "wl=list(map(f,wl))\n",
    "print(\"Lowercase words in list:\",wl)"
   ]
  },
  {
   "cell_type": "code",
   "execution_count": 2,
   "id": "c8713745-efe7-41b7-800c-084b1b12ddc6",
   "metadata": {},
   "outputs": [
    {
     "name": "stdin",
     "output_type": "stream",
     "text": [
      "Enter number in list: [1,2,3,4,5]\n"
     ]
    },
    {
     "name": "stdout",
     "output_type": "stream",
     "text": [
      "[1, 2, 3, 4, 5]\n",
      "Square of numbers in list: [1, 4, 9, 16, 25]\n"
     ]
    }
   ],
   "source": [
    "def f(e):\n",
    "    return pow(e,2)\n",
    "sl=eval(input(\"Enter number in list:\"))\n",
    "print(sl)\n",
    "sl=list(map(f,sl))\n",
    "print(\"Square of numbers in list:\",sl)"
   ]
  },
  {
   "cell_type": "code",
   "execution_count": 4,
   "id": "a69c549a-c6fc-4cc0-af31-fbd3555d1c59",
   "metadata": {},
   "outputs": [
    {
     "name": "stdout",
     "output_type": "stream",
     "text": [
      "[(1, 1), (2, 1), (2, 2), (3, 1), (3, 3), (4, 1), (4, 2), (4, 4), (5, 1), (5, 5), (6, 1), (6, 2), (6, 3), (6, 6), (7, 1), (7, 7), (8, 1), (8, 2), (8, 4), (8, 8), (9, 1), (9, 3), (9, 9), (10, 1), (10, 2), (10, 5), (10, 10)]\n"
     ]
    }
   ],
   "source": [
    "l1=[(x,y) for x in range(1,10+1,1) for y in range(1,10+1,1) if x%y==0]\n",
    "print(l1)"
   ]
  },
  {
   "cell_type": "code",
   "execution_count": 5,
   "id": "816c2665-da6c-4ce6-a748-aaf03434143d",
   "metadata": {},
   "outputs": [
    {
     "name": "stdin",
     "output_type": "stream",
     "text": [
      "Enter temperature in celsius: [36.5,37,37.5,39]\n"
     ]
    },
    {
     "name": "stdout",
     "output_type": "stream",
     "text": [
      "Celsius temperature in list: [36.5, 37, 37.5, 39]\n",
      "Farenheit temperature in list: [97.7, 98.60000000000001, 99.5, 102.2]\n"
     ]
    }
   ],
   "source": [
    "l1=eval(input(\"Enter temperature in celsius:\"))\n",
    "print(\"Celsius temperature in list:\",l1)\n",
    "for i in range(0,len(l1),1):\n",
    "    l1[i]=float(9/5)*l1[i]+32.0\n",
    "print(\"Farenheit temperature in list:\",l1)"
   ]
  },
  {
   "cell_type": "code",
   "execution_count": 22,
   "id": "0ee18f80-9032-4d9f-ba8a-2b5a181f6395",
   "metadata": {},
   "outputs": [
    {
     "name": "stdout",
     "output_type": "stream",
     "text": [
      "10 15 20 \n",
      "100\n",
      "100\n"
     ]
    }
   ],
   "source": [
    "l1=[lambda x:x*2,lambda x:x*3,lambda x:x*4]\n",
    "for f in l1:\n",
    "    print(f(5),end=\" \")\n",
    "print()\n",
    "print(l1[2](25))\n",
    "print(l1[0](50))"
   ]
  },
  {
   "cell_type": "code",
   "execution_count": 31,
   "id": "85180e76-f1bf-4278-9a6b-2b111b119ec7",
   "metadata": {},
   "outputs": [
    {
     "name": "stdout",
     "output_type": "stream",
     "text": [
      "<module 'math' (built-in)>\n"
     ]
    },
    {
     "name": "stdin",
     "output_type": "stream",
     "text": [
      "Enter first coordinate: 2,4\n",
      "Enter second coordinate: 7,9\n"
     ]
    },
    {
     "name": "stdout",
     "output_type": "stream",
     "text": [
      "[2, 4] [7, 9]\n",
      "Distance=7.071068\n"
     ]
    }
   ],
   "source": [
    "import math as m\n",
    "print(m)\n",
    "x1,y1=eval(input(\"Enter first coordinate:\"))\n",
    "x2,y2=eval(input(\"Enter second coordinate:\"))\n",
    "p1,p2=[],[]\n",
    "p1.append(x1)\n",
    "p1.append(y1)\n",
    "p2.append(x2)\n",
    "p2.append(y2)\n",
    "print(p1,p2)\n",
    "d=m.sqrt(((p1[0]-p2[0])**2)+((p1[1]-p2[1])**2))\n",
    "print(\"Distance=%f\"%d)"
   ]
  },
  {
   "cell_type": "code",
   "execution_count": 35,
   "id": "7df99db8-6ad7-47b5-9f6a-f63a3270bead",
   "metadata": {},
   "outputs": [
    {
     "name": "stdin",
     "output_type": "stream",
     "text": [
      "Enter list: [2,9,1,7,4,8]\n"
     ]
    },
    {
     "name": "stdout",
     "output_type": "stream",
     "text": [
      "[2, 9, 1, 7, 4, 8]\n",
      "Sorted list [1, 2, 4, 7, 8, 9]\n",
      "Median: 5.5\n"
     ]
    }
   ],
   "source": [
    "l1=eval(input(\"Enter list:\"))\n",
    "print(l1)\n",
    "l1.sort()\n",
    "print(\"Sorted list\",l1)\n",
    "i=len(l1)-1\n",
    "n=len(l1)\n",
    "if n%2!=0:\n",
    "    median=l1[(i+1)//2]\n",
    "else:\n",
    "    median=(l1[i//2]+l1[(i+1)//2])/2\n",
    "print(\"Median:\",median)"
   ]
  },
  {
   "cell_type": "code",
   "execution_count": 49,
   "id": "dd894081-5862-4f63-9831-5835da98de93",
   "metadata": {},
   "outputs": [
    {
     "name": "stdin",
     "output_type": "stream",
     "text": [
      "Enter number of rows: 2\n",
      "Enter number of columns: 2\n"
     ]
    },
    {
     "name": "stdout",
     "output_type": "stream",
     "text": [
      "2 2\n",
      "Enter elements in matrix1:\n"
     ]
    },
    {
     "name": "stdin",
     "output_type": "stream",
     "text": [
      " 1 2 3 4\n"
     ]
    },
    {
     "name": "stdout",
     "output_type": "stream",
     "text": [
      "[[1 2]\n",
      " [3 4]]\n",
      "Enter elements in matrix2:\n"
     ]
    },
    {
     "name": "stdin",
     "output_type": "stream",
     "text": [
      " 5 6 7 8\n"
     ]
    },
    {
     "name": "stdout",
     "output_type": "stream",
     "text": [
      "[[5 6]\n",
      " [7 8]]\n",
      "Enter 0's in result:\n"
     ]
    },
    {
     "name": "stdin",
     "output_type": "stream",
     "text": [
      " 0 0 0 0\n"
     ]
    },
    {
     "name": "stdout",
     "output_type": "stream",
     "text": [
      "[[0 0]\n",
      " [0 0]]\n",
      "Addition on matrix:\n",
      "[[ 6  8]\n",
      " [10 12]]\n"
     ]
    }
   ],
   "source": [
    "import numpy as np\n",
    "m=eval(input(\"Enter number of rows:\"))\n",
    "n=eval(input(\"Enter number of columns:\"))\n",
    "print(m,n)\n",
    "print(\"Enter elements in matrix1:\")\n",
    "entries1=list(map(int,input().split()))\n",
    "matrix1=np.array(entries1).reshape(m,n)\n",
    "print(matrix1)\n",
    "print(\"Enter elements in matrix2:\")\n",
    "entries2=list(map(int,input().split()))\n",
    "matrix2=np.array(entries2).reshape(m,n)\n",
    "print(matrix2)\n",
    "print(\"Enter 0's in result:\")\n",
    "entries3=list(map(int,input().split()))\n",
    "result=np.array(entries3).reshape(m,n)\n",
    "print(result)\n",
    "print(\"Addition on matrix:\")\n",
    "for i in range(0,len(matrix1),1):\n",
    "    for j in range(0,len(matrix2),1):\n",
    "        result[i][j]=matrix1[i][j]+matrix2[i][j]\n",
    "print(result)"
   ]
  },
  {
   "cell_type": "code",
   "execution_count": 58,
   "id": "157ae1bc-b6c9-4442-a2b4-312dd974f505",
   "metadata": {},
   "outputs": [
    {
     "name": "stdin",
     "output_type": "stream",
     "text": [
      "Enter number of terms for fibonacci series: 5\n"
     ]
    },
    {
     "name": "stdout",
     "output_type": "stream",
     "text": [
      "Fibonacci series: [0, 1, 1, 2, 3]\n",
      "Sum of even-valued terms: 4\n"
     ]
    }
   ],
   "source": [
    "n=eval(input(\"Enter number of terms for fibonacci series:\"))\n",
    "l1=list()\n",
    "a,b=0,1\n",
    "if n==1:\n",
    "    l1.append(a)\n",
    "    print(\"Fibonacci series:\",l1)\n",
    "elif n==2:\n",
    "    l1.append(a)\n",
    "    l1.append(b)\n",
    "    print(\"Fibonacci series:\",l1)\n",
    "elif n>=3:\n",
    "    l1.append(a)\n",
    "    l1.append(b)\n",
    "    for i in range(3,n+1,1):\n",
    "        c=a+b\n",
    "        l1.append(c)\n",
    "        a,b=b,c\n",
    "    print(\"Fibonacci series:\",l1)\n",
    "s=0\n",
    "for i in range(0,len(l1),1):\n",
    "    if i%2==0:\n",
    "        s=s+l1[i]\n",
    "print(\"Sum of even-valued terms:\",s)"
   ]
  },
  {
   "cell_type": "code",
   "execution_count": 61,
   "id": "750c2dae-013e-43ca-bde9-17ccbc5a5150",
   "metadata": {},
   "outputs": [],
   "source": [
    "#Data Structure: Tuple \n",
    "#Property: Immutable\n",
    "#Storage: Similar or different or both data type elements"
   ]
  },
  {
   "cell_type": "code",
   "execution_count": 63,
   "id": "15173b5a-5838-4a30-bd20-8c97157fdfb2",
   "metadata": {},
   "outputs": [
    {
     "name": "stdout",
     "output_type": "stream",
     "text": [
      "(1, 2, 3) <class 'tuple'>\n"
     ]
    }
   ],
   "source": [
    "t1=(1,2,3)\n",
    "print(t1,type(t1))"
   ]
  },
  {
   "cell_type": "code",
   "execution_count": 64,
   "id": "51c810a0-f904-435a-b66a-f6c7b82cf308",
   "metadata": {},
   "outputs": [
    {
     "name": "stdout",
     "output_type": "stream",
     "text": [
      "(1, 1.5, (1+2j), 'tuple')\n"
     ]
    }
   ],
   "source": [
    "t1=(1,1.5,1+2j,\"tuple\")\n",
    "print(t1)"
   ]
  },
  {
   "cell_type": "code",
   "execution_count": 65,
   "id": "8a66a584-366f-4052-b983-8fe98b4fadb5",
   "metadata": {},
   "outputs": [
    {
     "name": "stdout",
     "output_type": "stream",
     "text": [
      "1 <class 'int'>\n",
      "(1,) <class 'tuple'>\n"
     ]
    }
   ],
   "source": [
    "t1=(1)\n",
    "t2=(1,)\n",
    "print(t1,type(t1))\n",
    "print(t2,type(t2))"
   ]
  },
  {
   "cell_type": "code",
   "execution_count": 66,
   "id": "2bedf3ed-ae3b-4dd1-baaf-fd5da1266efe",
   "metadata": {},
   "outputs": [
    {
     "name": "stdin",
     "output_type": "stream",
     "text": [
      "Enter dividend and divisor: 5,2\n"
     ]
    },
    {
     "name": "stdout",
     "output_type": "stream",
     "text": [
      "Quotient 2 \n",
      "Remainder 1\n"
     ]
    }
   ],
   "source": [
    "d1,d2=eval(input(\"Enter dividend and divisor:\"))\n",
    "q,r=divmod(d1,d2)\n",
    "print(\"Quotient\",q,\"\\nRemainder\",r)"
   ]
  },
  {
   "cell_type": "code",
   "execution_count": 67,
   "id": "7ed35d60-040e-45a6-8d77-14894e963e36",
   "metadata": {},
   "outputs": [
    {
     "name": "stdin",
     "output_type": "stream",
     "text": [
      "Enter tuple: (1,2,3,4,5)\n"
     ]
    },
    {
     "name": "stdout",
     "output_type": "stream",
     "text": [
      "(1, 2, 3, 4, 5)\n",
      "1\n",
      "5\n",
      "(1, 2, 3)\n",
      "(5, 4, 3, 2, 1)\n"
     ]
    }
   ],
   "source": [
    "t1=eval(input(\"Enter tuple:\"))\n",
    "print(t1)\n",
    "print(t1[0])\n",
    "print(t1[len(t1)-1])\n",
    "print(t1[0:3:1])\n",
    "print(t1[::-1])"
   ]
  },
  {
   "cell_type": "code",
   "execution_count": 68,
   "id": "fb9b76cd-8f2d-44e5-9bec-73012836461d",
   "metadata": {},
   "outputs": [
    {
     "ename": "TypeError",
     "evalue": "'tuple' object does not support item assignment",
     "output_type": "error",
     "traceback": [
      "\u001b[1;31m---------------------------------------------------------------------------\u001b[0m",
      "\u001b[1;31mTypeError\u001b[0m                                 Traceback (most recent call last)",
      "Cell \u001b[1;32mIn[68], line 2\u001b[0m\n\u001b[0;32m      1\u001b[0m t1\u001b[38;5;241m=\u001b[39m(\u001b[38;5;241m1\u001b[39m,\u001b[38;5;241m2\u001b[39m,\u001b[38;5;241m3\u001b[39m)\n\u001b[1;32m----> 2\u001b[0m t1[\u001b[38;5;241m0\u001b[39m]\u001b[38;5;241m=\u001b[39m\u001b[38;5;241m0\u001b[39m\n\u001b[0;32m      3\u001b[0m \u001b[38;5;28mprint\u001b[39m(t1)\n",
      "\u001b[1;31mTypeError\u001b[0m: 'tuple' object does not support item assignment"
     ]
    }
   ],
   "source": [
    "t1=(1,2,3)\n",
    "t1[0]=0\n",
    "print(t1)"
   ]
  },
  {
   "cell_type": "code",
   "execution_count": 70,
   "id": "cffae1e8-4665-4d01-8fc6-a2f48a64d72e",
   "metadata": {},
   "outputs": [
    {
     "ename": "TypeError",
     "evalue": "'tuple' object doesn't support item deletion",
     "output_type": "error",
     "traceback": [
      "\u001b[1;31m---------------------------------------------------------------------------\u001b[0m",
      "\u001b[1;31mTypeError\u001b[0m                                 Traceback (most recent call last)",
      "Cell \u001b[1;32mIn[70], line 2\u001b[0m\n\u001b[0;32m      1\u001b[0m t1\u001b[38;5;241m=\u001b[39m(\u001b[38;5;241m1\u001b[39m,\u001b[38;5;241m2\u001b[39m,\u001b[38;5;241m3\u001b[39m,\u001b[38;5;241m4\u001b[39m,\u001b[38;5;241m5\u001b[39m)\n\u001b[1;32m----> 2\u001b[0m \u001b[38;5;28;01mdel\u001b[39;00m t1[\u001b[38;5;241m0\u001b[39m]\n\u001b[0;32m      3\u001b[0m \u001b[38;5;28mprint\u001b[39m(t1)\n",
      "\u001b[1;31mTypeError\u001b[0m: 'tuple' object doesn't support item deletion"
     ]
    }
   ],
   "source": [
    "t1=(1,2,3,4,5)\n",
    "del t1[0]\n",
    "print(t1)"
   ]
  },
  {
   "cell_type": "code",
   "execution_count": 71,
   "id": "ba964249-f2a0-42b4-a289-c0d25160866f",
   "metadata": {},
   "outputs": [
    {
     "name": "stdout",
     "output_type": "stream",
     "text": [
      "(1, 2, 3)\n"
     ]
    },
    {
     "ename": "NameError",
     "evalue": "name 't1' is not defined",
     "output_type": "error",
     "traceback": [
      "\u001b[1;31m---------------------------------------------------------------------------\u001b[0m",
      "\u001b[1;31mNameError\u001b[0m                                 Traceback (most recent call last)",
      "Cell \u001b[1;32mIn[71], line 4\u001b[0m\n\u001b[0;32m      2\u001b[0m \u001b[38;5;28mprint\u001b[39m(t1)\n\u001b[0;32m      3\u001b[0m \u001b[38;5;28;01mdel\u001b[39;00m t1\n\u001b[1;32m----> 4\u001b[0m \u001b[38;5;28mprint\u001b[39m(t1)\n",
      "\u001b[1;31mNameError\u001b[0m: name 't1' is not defined"
     ]
    }
   ],
   "source": [
    "t1=(1,2,3)\n",
    "print(t1)\n",
    "del t1\n",
    "print(t1)"
   ]
  },
  {
   "cell_type": "code",
   "execution_count": 75,
   "id": "36de1f36-6dbb-449c-bde1-e5e6d1aebfaf",
   "metadata": {},
   "outputs": [
    {
     "name": "stdout",
     "output_type": "stream",
     "text": [
      "(1, 2, 3) (4, 5)\n",
      "(1, 2, 3, 4, 5)\n",
      "(1, 2, 3, 1, 2, 3)\n",
      "6\n",
      "True\n",
      "False\n",
      "True\n",
      "False\n",
      "3\n",
      "1\n",
      "6\n",
      "False\n",
      "True\n",
      "(0, 1)\n",
      "True True\n",
      "False\n",
      "True True\n",
      "True\n",
      "(0,) False False\n"
     ]
    }
   ],
   "source": [
    "t1,t2=(1,2,3),(4,5)\n",
    "print(t1,t2)\n",
    "print(t1+t2)\n",
    "print(t1*2)\n",
    "print(t1[(len(t1)-1)]*2)\n",
    "print(1 in t1)\n",
    "print(5 in t1)\n",
    "print(1 not in t2)\n",
    "print(5 not in t2)\n",
    "print(max(t1))\n",
    "print(min(t1))\n",
    "print(sum(t1))\n",
    "print(t1 is t2)\n",
    "print(t1 is not t2)\n",
    "t3=(0,1)\n",
    "print(t3)\n",
    "print(all(t1),all(t2))\n",
    "print(all(t3))\n",
    "print(any(t1),any(t2))\n",
    "print(any(t3))\n",
    "t4=(0,)\n",
    "print(t4,all(t4),any(t4))"
   ]
  },
  {
   "cell_type": "code",
   "execution_count": 76,
   "id": "6f56c3f4-8635-4d1d-a39b-fa1888b81226",
   "metadata": {},
   "outputs": [
    {
     "name": "stdout",
     "output_type": "stream",
     "text": [
      "[1, 2, 3, 4, 5] <class 'list'>\n",
      "{1, 2, 3, 4, 5} <class 'set'>\n",
      "tuple <class 'str'>\n",
      "(1, 2, 3, 4, 5)\n",
      "(1, 2, 3, 4, 5)\n",
      "('t', 'u', 'p', 'l', 'e')\n",
      "{'1': 1, '2': 2, '3': 3} <class 'dict'>\n",
      "dict_keys(['1', '2', '3']) dict_values([1, 2, 3])\n",
      "dict_items([('1', 1), ('2', 2), ('3', 3)])\n",
      "('1', '2', '3')\n",
      "(1, 2, 3)\n",
      "(('1', 1), ('2', 2), ('3', 3))\n",
      "('1', '2', '3')\n"
     ]
    }
   ],
   "source": [
    "l=[1,2,3,4,5]\n",
    "print(l,type(l))\n",
    "s={1,2,3,4,5}\n",
    "print(s,type(s))\n",
    "st=\"tuple\"\n",
    "print(st,type(st))\n",
    "print(tuple(l))\n",
    "print(tuple(s))\n",
    "print(tuple(st))\n",
    "d={\"1\":1,\"2\":2,\"3\":3}\n",
    "print(d,type(d))\n",
    "print(d.keys(),d.values())\n",
    "print(d.items())\n",
    "print(tuple(d.keys()))\n",
    "print(tuple(d.values()))\n",
    "print(tuple(d.items()))\n",
    "print(tuple(d))"
   ]
  },
  {
   "cell_type": "code",
   "execution_count": 3,
   "id": "a9f2c623-0138-4f18-9431-6bfb17b3ae6d",
   "metadata": {},
   "outputs": [
    {
     "name": "stdin",
     "output_type": "stream",
     "text": [
      "Enter tuple: (1,2,3,4,5)\n"
     ]
    },
    {
     "name": "stdout",
     "output_type": "stream",
     "text": [
      "(1, 2, 3, 4, 5)\n",
      "Maximum: 5 \n",
      "Minimum: 1\n"
     ]
    }
   ],
   "source": [
    "mx,mn=0,0\n",
    "def f(t1):\n",
    "    mx=max(t1)\n",
    "    mn=min(t1)\n",
    "    return (mx,mn)\n",
    "t1=eval(input(\"Enter tuple:\"))\n",
    "print(t1)\n",
    "mx,mn=f(t1)\n",
    "print(\"Maximum:\",mx,\"\\nMinimum:\",mn)"
   ]
  },
  {
   "cell_type": "code",
   "execution_count": 8,
   "id": "9c4c9fc6-1bf0-4d6c-9894-8bde11aea74f",
   "metadata": {},
   "outputs": [
    {
     "name": "stdout",
     "output_type": "stream",
     "text": [
      "(1, 2, 3, 4, 5)\n"
     ]
    },
    {
     "ename": "AttributeError",
     "evalue": "'tuple' object has no attribute 'pop'",
     "output_type": "error",
     "traceback": [
      "\u001b[1;31m---------------------------------------------------------------------------\u001b[0m",
      "\u001b[1;31mAttributeError\u001b[0m                            Traceback (most recent call last)",
      "Cell \u001b[1;32mIn[8], line 3\u001b[0m\n\u001b[0;32m      1\u001b[0m t1\u001b[38;5;241m=\u001b[39m(\u001b[38;5;241m1\u001b[39m,\u001b[38;5;241m2\u001b[39m,\u001b[38;5;241m3\u001b[39m,\u001b[38;5;241m4\u001b[39m,\u001b[38;5;241m5\u001b[39m)\n\u001b[0;32m      2\u001b[0m \u001b[38;5;28mprint\u001b[39m(t1)\n\u001b[1;32m----> 3\u001b[0m t1\u001b[38;5;241m.\u001b[39mpop()\n",
      "\u001b[1;31mAttributeError\u001b[0m: 'tuple' object has no attribute 'pop'"
     ]
    }
   ],
   "source": [
    "t1=(1,2,3,4,5)\n",
    "print(t1)\n",
    "t1.pop()"
   ]
  },
  {
   "cell_type": "code",
   "execution_count": 9,
   "id": "09c3575a-0149-4a47-8345-9299aac71c4f",
   "metadata": {},
   "outputs": [
    {
     "ename": "AttributeError",
     "evalue": "'tuple' object has no attribute 'remove'",
     "output_type": "error",
     "traceback": [
      "\u001b[1;31m---------------------------------------------------------------------------\u001b[0m",
      "\u001b[1;31mAttributeError\u001b[0m                            Traceback (most recent call last)",
      "Cell \u001b[1;32mIn[9], line 1\u001b[0m\n\u001b[1;32m----> 1\u001b[0m t1\u001b[38;5;241m.\u001b[39mremove(\u001b[38;5;241m1\u001b[39m)\n",
      "\u001b[1;31mAttributeError\u001b[0m: 'tuple' object has no attribute 'remove'"
     ]
    }
   ],
   "source": [
    "t1.remove(1)"
   ]
  },
  {
   "cell_type": "code",
   "execution_count": 10,
   "id": "72fa5999-3f1c-480e-b4a9-e4b07880df08",
   "metadata": {},
   "outputs": [
    {
     "ename": "AttributeError",
     "evalue": "'tuple' object has no attribute 'append'",
     "output_type": "error",
     "traceback": [
      "\u001b[1;31m---------------------------------------------------------------------------\u001b[0m",
      "\u001b[1;31mAttributeError\u001b[0m                            Traceback (most recent call last)",
      "Cell \u001b[1;32mIn[10], line 1\u001b[0m\n\u001b[1;32m----> 1\u001b[0m t1\u001b[38;5;241m.\u001b[39mappend(\u001b[38;5;241m6\u001b[39m)\n",
      "\u001b[1;31mAttributeError\u001b[0m: 'tuple' object has no attribute 'append'"
     ]
    }
   ],
   "source": [
    "t1.append(6)"
   ]
  },
  {
   "cell_type": "code",
   "execution_count": 11,
   "id": "233f2ce8-d82d-4dec-bc84-82da46cbc990",
   "metadata": {},
   "outputs": [
    {
     "ename": "AttributeError",
     "evalue": "'tuple' object has no attribute 'insert'",
     "output_type": "error",
     "traceback": [
      "\u001b[1;31m---------------------------------------------------------------------------\u001b[0m",
      "\u001b[1;31mAttributeError\u001b[0m                            Traceback (most recent call last)",
      "Cell \u001b[1;32mIn[11], line 1\u001b[0m\n\u001b[1;32m----> 1\u001b[0m t1\u001b[38;5;241m.\u001b[39minsert(\u001b[38;5;28mlen\u001b[39m(t1),\u001b[38;5;241m6\u001b[39m)\n",
      "\u001b[1;31mAttributeError\u001b[0m: 'tuple' object has no attribute 'insert'"
     ]
    }
   ],
   "source": [
    "t1.insert(len(t1),6)"
   ]
  },
  {
   "cell_type": "code",
   "execution_count": 12,
   "id": "d9f2d5c0-5b18-4d7f-836a-8f573fe632d6",
   "metadata": {},
   "outputs": [
    {
     "ename": "AttributeError",
     "evalue": "'tuple' object has no attribute 'sort'",
     "output_type": "error",
     "traceback": [
      "\u001b[1;31m---------------------------------------------------------------------------\u001b[0m",
      "\u001b[1;31mAttributeError\u001b[0m                            Traceback (most recent call last)",
      "Cell \u001b[1;32mIn[12], line 1\u001b[0m\n\u001b[1;32m----> 1\u001b[0m t1\u001b[38;5;241m.\u001b[39msort()\n",
      "\u001b[1;31mAttributeError\u001b[0m: 'tuple' object has no attribute 'sort'"
     ]
    }
   ],
   "source": [
    "t1.sort()"
   ]
  },
  {
   "cell_type": "code",
   "execution_count": 13,
   "id": "4b4c0c4c-4703-454c-906c-309da590778f",
   "metadata": {},
   "outputs": [
    {
     "ename": "AttributeError",
     "evalue": "'tuple' object has no attribute 'reverse'",
     "output_type": "error",
     "traceback": [
      "\u001b[1;31m---------------------------------------------------------------------------\u001b[0m",
      "\u001b[1;31mAttributeError\u001b[0m                            Traceback (most recent call last)",
      "Cell \u001b[1;32mIn[13], line 1\u001b[0m\n\u001b[1;32m----> 1\u001b[0m t1\u001b[38;5;241m.\u001b[39mreverse()\n",
      "\u001b[1;31mAttributeError\u001b[0m: 'tuple' object has no attribute 'reverse'"
     ]
    }
   ],
   "source": [
    "t1.reverse()"
   ]
  },
  {
   "cell_type": "code",
   "execution_count": 14,
   "id": "e5d78727-45a4-4d30-8507-5820d04a0ae0",
   "metadata": {},
   "outputs": [
    {
     "name": "stdin",
     "output_type": "stream",
     "text": [
      "Enter bio data of 2 students in tuple: (\"Vikram\",21,45),(\"Virat\",22,50)\n"
     ]
    },
    {
     "name": "stdout",
     "output_type": "stream",
     "text": [
      "(('Vikram', 21, 45), ('Virat', 22, 50))\n",
      "('Vikram', 21, 45) ('Virat', 22, 50) "
     ]
    }
   ],
   "source": [
    "bio_data=eval(input(\"Enter bio data of 2 students in tuple:\"))\n",
    "print(bio_data)\n",
    "for i in bio_data:\n",
    "    print(i,end=\" \")"
   ]
  },
  {
   "cell_type": "code",
   "execution_count": 17,
   "id": "32bdaed9-1598-4946-bd56-614cf6c09797",
   "metadata": {},
   "outputs": [
    {
     "name": "stdout",
     "output_type": "stream",
     "text": [
      "0\n",
      "2\n",
      "1\n",
      "2\n"
     ]
    }
   ],
   "source": [
    "l1=[1,2,3,4,5,5]\n",
    "print(l1.index(1))\n",
    "print(l1.count(5))\n",
    "t1=(1,2,2,2,3,3)\n",
    "print(t1.index(2))\n",
    "print(t1.count(3))"
   ]
  },
  {
   "cell_type": "code",
   "execution_count": 18,
   "id": "ca7c89f7-822b-4956-bb88-97fc0801ac34",
   "metadata": {},
   "outputs": [
    {
     "name": "stdout",
     "output_type": "stream",
     "text": [
      "(1, 2, 3, 4, 5) <class 'tuple'>\n"
     ]
    }
   ],
   "source": [
    "t1=1,2,3,4,5\n",
    "print(t1,type(t1))"
   ]
  },
  {
   "cell_type": "code",
   "execution_count": 21,
   "id": "0b2d0e12-8991-4c78-adff-ae95f5c7e02c",
   "metadata": {},
   "outputs": [
    {
     "name": "stdout",
     "output_type": "stream",
     "text": [
      "[0, 2, 4, 6, 8, 10, 12, 14, 16, 18, 20] <class 'list'>\n",
      "(0, 2, 4, 6, 8, 10, 12, 14, 16, 18, 20) <class 'tuple'>\n"
     ]
    }
   ],
   "source": [
    "t1=[i*2 for i in range(0,10+1,1)]\n",
    "print(t1,type(t1))\n",
    "t1=tuple(t1)\n",
    "print(t1,type(t1))"
   ]
  },
  {
   "cell_type": "code",
   "execution_count": 23,
   "id": "160c9be7-73c1-4fb0-a72d-f240bf6395b3",
   "metadata": {},
   "outputs": [
    {
     "name": "stdin",
     "output_type": "stream",
     "text": [
      "Enter tuple: 1,2,3,4,5\n"
     ]
    },
    {
     "name": "stdout",
     "output_type": "stream",
     "text": [
      "(1, 2, 3, 4, 5)\n",
      "(2, 4, 6, 8, 10)\n"
     ]
    }
   ],
   "source": [
    "def f(t1):\n",
    "    t1=[i*2 for i in t1]\n",
    "    return t1\n",
    "t1=eval(input(\"Enter tuple:\"))\n",
    "print(t1)\n",
    "t1=f(t1)\n",
    "print(tuple(t1))"
   ]
  },
  {
   "cell_type": "code",
   "execution_count": 25,
   "id": "df1a0879-0805-4429-b4fd-d32a6d0a57b3",
   "metadata": {},
   "outputs": [
    {
     "name": "stdout",
     "output_type": "stream",
     "text": [
      "(1, 2, 3, 4, 5) <class 'tuple'>\n"
     ]
    }
   ],
   "source": [
    "def f(*args):\n",
    "    print(args,type(args))\n",
    "f(1,2,3,4,5)"
   ]
  },
  {
   "cell_type": "code",
   "execution_count": 26,
   "id": "0e9194f7-d96d-4ba0-9c71-12d5f1caba4f",
   "metadata": {},
   "outputs": [
    {
     "ename": "TypeError",
     "evalue": "divmod expected 2 arguments, got 1",
     "output_type": "error",
     "traceback": [
      "\u001b[1;31m---------------------------------------------------------------------------\u001b[0m",
      "\u001b[1;31mTypeError\u001b[0m                                 Traceback (most recent call last)",
      "Cell \u001b[1;32mIn[26], line 2\u001b[0m\n\u001b[0;32m      1\u001b[0m t1\u001b[38;5;241m=\u001b[39m(\u001b[38;5;241m4\u001b[39m,\u001b[38;5;241m3\u001b[39m)\n\u001b[1;32m----> 2\u001b[0m q,r\u001b[38;5;241m=\u001b[39m\u001b[38;5;28mdivmod\u001b[39m(t1)\n\u001b[0;32m      3\u001b[0m \u001b[38;5;28mprint\u001b[39m(q,r)\n",
      "\u001b[1;31mTypeError\u001b[0m: divmod expected 2 arguments, got 1"
     ]
    }
   ],
   "source": [
    "t1=(4,3)\n",
    "q,r=divmod(t1)\n",
    "print(q,r)"
   ]
  },
  {
   "cell_type": "code",
   "execution_count": 27,
   "id": "5b6a720a-2be1-410e-b510-39ae38900717",
   "metadata": {},
   "outputs": [
    {
     "name": "stdout",
     "output_type": "stream",
     "text": [
      "1 1\n"
     ]
    }
   ],
   "source": [
    "t1=(4,3)\n",
    "q,r=divmod(*t1)\n",
    "print(q,r)"
   ]
  },
  {
   "cell_type": "code",
   "execution_count": 35,
   "id": "ee9c3ee1-ab9e-4bd7-9fb6-0535dcdb0444",
   "metadata": {},
   "outputs": [
    {
     "name": "stdout",
     "output_type": "stream",
     "text": [
      "[(1, 1), (2, 2), (3, 3), (4, 4), (5, 5)]\n"
     ]
    }
   ],
   "source": [
    "t1=(1,2,3,4,5)\n",
    "l1=[1,2,3,4,5]\n",
    "l1=list(zip(t1,l1))\n",
    "print(l1)"
   ]
  },
  {
   "cell_type": "code",
   "execution_count": 36,
   "id": "a1d4c42b-e000-439a-9bea-a5b5a943aeb5",
   "metadata": {},
   "outputs": [
    {
     "name": "stdout",
     "output_type": "stream",
     "text": [
      "[('H', 'M'), ('e', 'y'), ('l', 'S'), ('l', 'Q'), ('o', 'L')]\n"
     ]
    }
   ],
   "source": [
    "st1=\"Hello\"\n",
    "st2=\"MySQL\"\n",
    "l1=list(zip(st1,st2))\n",
    "print(l1)"
   ]
  },
  {
   "cell_type": "code",
   "execution_count": 37,
   "id": "78302832-2054-423e-b8fa-2040f08a32c5",
   "metadata": {},
   "outputs": [
    {
     "name": "stdout",
     "output_type": "stream",
     "text": [
      "((1, 'Vikram'), (2, 'Virat'), (3, 'Vikrant'))\n",
      "1 Vikram\n",
      "2 Virat\n",
      "3 Vikrant\n"
     ]
    }
   ],
   "source": [
    "t1=((1,\"Vikram\"),(2,\"Virat\"),(3,\"Vikrant\"))\n",
    "print(t1)\n",
    "for index,name in t1:\n",
    "    print(index,name,end=\"\\n\")"
   ]
  },
  {
   "cell_type": "code",
   "execution_count": 39,
   "id": "3cb54b0e-8c50-49ac-b761-6c12ca311d60",
   "metadata": {},
   "outputs": [
    {
     "name": "stdout",
     "output_type": "stream",
     "text": [
      "((1, 'Vikram'), (2, 'Virat'), (3, 'Vikrant'))\n",
      "0 (1, 'Vikram')\n",
      "1 (2, 'Virat')\n",
      "2 (3, 'Vikrant')\n"
     ]
    }
   ],
   "source": [
    "t1=((1,\"Vikram\"),(2,\"Virat\"),(3,\"Vikrant\"))\n",
    "print(t1)\n",
    "for index,tuple in enumerate(t1):\n",
    "    print(index,tuple,end=\"\\n\")"
   ]
  },
  {
   "cell_type": "code",
   "execution_count": 42,
   "id": "d14098cb-29c8-4b47-b290-a753c9d5e818",
   "metadata": {},
   "outputs": [
    {
     "name": "stdout",
     "output_type": "stream",
     "text": [
      "(5, 1, 3, 2, 4)\n",
      "[1, 2, 3, 4, 5]\n"
     ]
    }
   ],
   "source": [
    "t1=(5,1,3,2,4)\n",
    "print(t1)\n",
    "print(sorted(t1))"
   ]
  },
  {
   "cell_type": "code",
   "execution_count": 43,
   "id": "5d10f4fd-89b9-4e91-97cc-6548a17df090",
   "metadata": {},
   "outputs": [
    {
     "name": "stdout",
     "output_type": "stream",
     "text": [
      "(4, 5)\n",
      "4 5\n"
     ]
    }
   ],
   "source": [
    "t1=(4,5)\n",
    "print(t1)\n",
    "x,y=t1\n",
    "print(x,y)"
   ]
  },
  {
   "cell_type": "code",
   "execution_count": 47,
   "id": "dc75aab1-ae7f-48d3-94c0-5f8d170f82a8",
   "metadata": {},
   "outputs": [
    {
     "name": "stdout",
     "output_type": "stream",
     "text": [
      "1,2,3\n",
      "3,1,2\n",
      "2,1,3\n"
     ]
    }
   ],
   "source": [
    "print(\"{},{},{}\".format(1,2,3))\n",
    "print(\"{2},{0},{1}\".format(1,2,3))\n",
    "print(\"{b},{a},{c}\".format(a=1,b=2,c=3))"
   ]
  },
  {
   "cell_type": "code",
   "execution_count": 50,
   "id": "a67e73c9-7dc4-448a-aa54-9c21bb087fab",
   "metadata": {},
   "outputs": [
    {
     "name": "stdout",
     "output_type": "stream",
     "text": [
      "Name:Vikram, Age:22, Weight:45, Height:5.50\n"
     ]
    }
   ],
   "source": [
    "t1=(\"Vikram\",22,45,5.5)\n",
    "print(\"Name:%s, Age:%d, Weight:%i, Height:%.2f\"%(t1[0],t1[1],t1[2],t1[3]))"
   ]
  },
  {
   "cell_type": "code",
   "execution_count": 52,
   "id": "6de844e4-f802-4500-a236-3d4d6aab7267",
   "metadata": {},
   "outputs": [
    {
     "name": "stdout",
     "output_type": "stream",
     "text": [
      "4 5\n",
      "5 4\n"
     ]
    }
   ],
   "source": [
    "t1=(4,5)\n",
    "x,y=t1\n",
    "print(x,y)\n",
    "print(t1[1],t1[0])"
   ]
  },
  {
   "cell_type": "code",
   "execution_count": 61,
   "id": "5586b87b-c851-490b-8f27-11e9a151805d",
   "metadata": {},
   "outputs": [
    {
     "name": "stdin",
     "output_type": "stream",
     "text": [
      "Enter radius: 7\n"
     ]
    },
    {
     "name": "stdout",
     "output_type": "stream",
     "text": [
      "Radius=7.00\n",
      "Area=153.94 \n",
      "Circumference=43.98\n"
     ]
    }
   ],
   "source": [
    "import math as m\n",
    "def circle(r):\n",
    "    return (m.pi*r*r,2*m.pi*r)\n",
    "r=eval(input(\"Enter radius:\"))\n",
    "print(\"Radius=%.2f\"%(r))\n",
    "area,circum=circle(r)\n",
    "print(\"Area=%.2f\"%(area),\"\\nCircumference=%.2f\"%(circum))"
   ]
  },
  {
   "cell_type": "code",
   "execution_count": 54,
   "id": "5299051c-d81f-4e7c-a466-b4c9bb68df52",
   "metadata": {},
   "outputs": [
    {
     "name": "stdout",
     "output_type": "stream",
     "text": [
      "3.141592653589793\n"
     ]
    }
   ],
   "source": [
    "import math as m\n",
    "print(m.pi)"
   ]
  },
  {
   "cell_type": "code",
   "execution_count": 58,
   "id": "df4db164-6510-44b1-b126-ab02223ed7fa",
   "metadata": {},
   "outputs": [
    {
     "name": "stdout",
     "output_type": "stream",
     "text": [
      "Vikram, 23, 5.500000\n"
     ]
    }
   ],
   "source": [
    "print(\"%s, %i, %f\"%(\"Vikram\",23,5.5))"
   ]
  },
  {
   "cell_type": "code",
   "execution_count": 6,
   "id": "e91afbfb-1e68-4cfb-b270-23bd70d0bfc4",
   "metadata": {},
   "outputs": [
    {
     "name": "stdout",
     "output_type": "stream",
     "text": [
      "1 2 3 4 5 "
     ]
    }
   ],
   "source": [
    "t1=(1,2,3,4,5)\n",
    "for i in t1:\n",
    "    print(i,end=\" \")"
   ]
  },
  {
   "cell_type": "code",
   "execution_count": 7,
   "id": "7bd719e8-2167-47ef-9617-7e79c549ebd3",
   "metadata": {},
   "outputs": [
    {
     "name": "stdin",
     "output_type": "stream",
     "text": [
      "Enter name,age,weight,height in tuples: ((\"Vikram\",21,45,5.5),(\"Virat\",22,50,6.2))\n"
     ]
    },
    {
     "name": "stdout",
     "output_type": "stream",
     "text": [
      "(('Vikram', 21, 45, 5.5), ('Virat', 22, 50, 6.2))\n"
     ]
    },
    {
     "name": "stdin",
     "output_type": "stream",
     "text": [
      "Enter your choice yes/no for changing details: \"yes\"\n",
      "Enter name: \"Vikram\"\n",
      "Enter age: 22\n",
      "Enter weight 45\n",
      "Enter height: 5.6\n",
      "Enter your choice yes/no for changing details: \"no\"\n"
     ]
    },
    {
     "name": "stdout",
     "output_type": "stream",
     "text": [
      "Vikram\n",
      "22\n",
      "45\n",
      "5.6\n",
      "Virat\n",
      "22\n",
      "50\n",
      "6.2\n"
     ]
    }
   ],
   "source": [
    "t1=eval(input(\"Enter name,age,weight,height in tuples:\"))\n",
    "print(t1)\n",
    "st=eval(input(\"Enter your choice yes/no for changing details:\"))\n",
    "new_t1=()\n",
    "while st==\"yes\":\n",
    "    n=eval(input(\"Enter name:\"))\n",
    "    a=eval(input(\"Enter age:\"))\n",
    "    w=eval(input(\"Enter weight\"))\n",
    "    h=eval(input(\"Enter height:\"))\n",
    "    i=0\n",
    "    while i<len(t1):\n",
    "        if t1[i][0]==n:\n",
    "            new_t1=new_t1+(n,a,w,h)\n",
    "\n",
    "        else:\n",
    "            new_t1=new_t1+t1[i]\n",
    "        i=i+1\n",
    "    st=eval(input(\"Enter your choice yes/no for changing details:\"))\n",
    "for i in new_t1:\n",
    "    print(i,end=\"\\n\")"
   ]
  },
  {
   "cell_type": "code",
   "execution_count": 11,
   "id": "484aa70b-0e89-44e6-a1a1-f1bea00e64c9",
   "metadata": {},
   "outputs": [
    {
     "name": "stdout",
     "output_type": "stream",
     "text": [
      "Python,R,SQL\n",
      "['Python', 'R', 'SQL']\n",
      "Python,R,SQL\n"
     ]
    }
   ],
   "source": [
    "st=\"Python,R,SQL\"\n",
    "print(st)\n",
    "print(st.split(\",\"))\n",
    "print(\",\".join(['Python', 'R', 'SQL']))"
   ]
  },
  {
   "cell_type": "code",
   "execution_count": 12,
   "id": "63b5081b-586a-463b-85cc-c8c8aa8b4982",
   "metadata": {},
   "outputs": [
    {
     "name": "stdin",
     "output_type": "stream",
     "text": [
      "Enter username@gmail.com: \"zionchrist21@gmail.com\"\n"
     ]
    },
    {
     "name": "stdout",
     "output_type": "stream",
     "text": [
      "Gmail ID: zionchrist21@gmail.com\n",
      "Username: zionchrist21\n",
      "Domain: gmail.com\n"
     ]
    }
   ],
   "source": [
    "gid=eval(input(\"Enter username@gmail.com:\"))\n",
    "print(\"Gmail ID:\",gid)\n",
    "username,domain=gid.split(\"@\")\n",
    "print(\"Username:\",username)\n",
    "print(\"Domain:\",domain)"
   ]
  },
  {
   "cell_type": "code",
   "execution_count": 14,
   "id": "5c72bd15-eac3-4320-be0c-2f9174568183",
   "metadata": {},
   "outputs": [
    {
     "name": "stdin",
     "output_type": "stream",
     "text": [
      "Enter both positive and negative elements in tuple: (-3,-2,-1,0,1,2,3)\n"
     ]
    },
    {
     "name": "stdout",
     "output_type": "stream",
     "text": [
      "(-3, -2, -1, 0, 1, 2, 3)\n",
      "Positive element in tuple: (1, 2, 3)\n"
     ]
    }
   ],
   "source": [
    "t1=eval(input(\"Enter both positive and negative elements in tuple:\"))\n",
    "print(t1)\n",
    "def f(e):\n",
    "    if e>0:\n",
    "        return True\n",
    "t1=list(filter(f,t1))\n",
    "print(\"Positive element in tuple:\",tuple(t1))"
   ]
  },
  {
   "cell_type": "code",
   "execution_count": 25,
   "id": "4fb37ddb-91b7-4557-8dcf-6696d62cf008",
   "metadata": {},
   "outputs": [
    {
     "name": "stdin",
     "output_type": "stream",
     "text": [
      "Enter both positive and negative elements in tuple: (-3,-2,-1,0,1,2,3)\n"
     ]
    },
    {
     "name": "stdout",
     "output_type": "stream",
     "text": [
      "((-3, -2, -1, 0, 1, 2, 3),) <class 'tuple'>\n",
      "[-3, -2, -1, 0, 1, 2, 3]\n",
      "Tuple with positive values: (1, 2, 3)\n",
      "Sum of the positive elements: 6\n"
     ]
    }
   ],
   "source": [
    "def g(e):\n",
    "    if e>0:\n",
    "        return True\n",
    "def f(*args):\n",
    "    print(args,type(args))\n",
    "    l1=list(args[0])\n",
    "    print(l1)\n",
    "    t1=tuple()\n",
    "    s=0\n",
    "    for i in range(0,len(l1),1):\n",
    "        if l1[i]>0:\n",
    "            t1=tuple(filter(g,l1))\n",
    "            s=s+l1[i]\n",
    "        else:\n",
    "            pass\n",
    "    return t1,s\n",
    "t1=eval(input(\"Enter both positive and negative elements in tuple:\"))\n",
    "t1,s=f(t1)\n",
    "print(\"Tuple with positive values:\",t1)\n",
    "print(\"Sum of the positive elements:\",s)"
   ]
  },
  {
   "cell_type": "code",
   "execution_count": 23,
   "id": "ef1b1bf0-06e4-4580-a7da-15844aa69a44",
   "metadata": {},
   "outputs": [
    {
     "name": "stdout",
     "output_type": "stream",
     "text": [
      "((1, 2, 3),) <class 'tuple'>\n",
      "[1, 2, 3]\n",
      "1 2 3 "
     ]
    }
   ],
   "source": [
    "def f(*args):\n",
    "    print(args,type(args))\n",
    "    l1=list(args[0])\n",
    "    print(l1)\n",
    "    for i in l1:\n",
    "        if i>0:\n",
    "            print(i,end=\" \")\n",
    "t1=(1,2,3)\n",
    "f(t1)"
   ]
  },
  {
   "cell_type": "code",
   "execution_count": 28,
   "id": "3891ae0f-c492-4d6b-9dfd-67bc70b9eabc",
   "metadata": {},
   "outputs": [
    {
     "name": "stdout",
     "output_type": "stream",
     "text": [
      "[('Name', 'Vikrant'), ('Age', 23), ('Weight', 50), ('Height', 5.6)]\n",
      "What is your Name ?\n"
     ]
    },
    {
     "name": "stdin",
     "output_type": "stream",
     "text": [
      "Enter: \"Vikram\"\n"
     ]
    },
    {
     "name": "stdout",
     "output_type": "stream",
     "text": [
      "Vikram is wrong answer!\n",
      "What is your Age ?\n"
     ]
    },
    {
     "name": "stdin",
     "output_type": "stream",
     "text": [
      "Enter: 25\n"
     ]
    },
    {
     "name": "stdout",
     "output_type": "stream",
     "text": [
      "25 is wrong answer!\n",
      "What is your Weight ?\n"
     ]
    },
    {
     "name": "stdin",
     "output_type": "stream",
     "text": [
      "Enter: 50\n"
     ]
    },
    {
     "name": "stdout",
     "output_type": "stream",
     "text": [
      "50 is correct answer!\n",
      "What is your Height ?\n"
     ]
    },
    {
     "name": "stdin",
     "output_type": "stream",
     "text": [
      "Enter: 5.6\n"
     ]
    },
    {
     "name": "stdout",
     "output_type": "stream",
     "text": [
      "5.6 is correct answer!\n"
     ]
    }
   ],
   "source": [
    "ques=[\"Name\",\"Age\",\"Weight\",\"Height\"]\n",
    "ans=[\"Vikrant\",23,50,5.6]\n",
    "qa=list(zip(ques,ans))\n",
    "print(qa)\n",
    "for q,a in qa:\n",
    "    print(\"What is your\",q,\"?\")\n",
    "    answer=eval(input(\"Enter:\"))\n",
    "    if answer==a:\n",
    "        print(answer,\"is correct answer!\")\n",
    "    else:\n",
    "        print(answer,\"is wrong answer!\")"
   ]
  },
  {
   "cell_type": "code",
   "execution_count": 29,
   "id": "152857c8-24a1-4158-858c-30893f21bc2a",
   "metadata": {},
   "outputs": [],
   "source": [
    "#Data Structure: Set \n",
    "#Property: Mutable\n",
    "#Storage: Similar or different or both data type elements"
   ]
  },
  {
   "cell_type": "code",
   "execution_count": 33,
   "id": "da88c0dd-fe90-4438-80d8-1ca7a05b5084",
   "metadata": {},
   "outputs": [
    {
     "name": "stdout",
     "output_type": "stream",
     "text": [
      "{1, 2, 3} <class 'set'>\n",
      "{1, (2+3j), 'Set', 1.5} <class 'set'>\n",
      "{1, 2, 3}\n"
     ]
    }
   ],
   "source": [
    "s1={1,2,3}\n",
    "print(s1,type(s1))\n",
    "s1={1,1.5,2+3j,\"Set\"}\n",
    "print(s1,type(s1))\n",
    "s1={1,1,1,2,2,2,2,3,3}\n",
    "print(s1)"
   ]
  },
  {
   "cell_type": "code",
   "execution_count": 40,
   "id": "01643611-451b-4ccd-8143-d5ecd4a1ee68",
   "metadata": {},
   "outputs": [
    {
     "name": "stdout",
     "output_type": "stream",
     "text": [
      "[1, 2, 3, 4, 5]\n",
      "{1, 2, 3, 4, 5}\n",
      "(1, 2, 3, 4, 5)\n",
      "{1, 2, 3, 4, 5}\n",
      "set\n",
      "{'s', 't', 'e'}\n",
      "{'1': 1, '2': 2, '3': 3}\n",
      "{'2', '1', '3'}\n",
      "{'2', '1', '3'}\n",
      "{1, 2, 3}\n",
      "{('1', 1), ('2', 2), ('3', 3)}\n"
     ]
    }
   ],
   "source": [
    "l1=[1,2,3,4,5]\n",
    "print(l1)\n",
    "s1=set(l1)\n",
    "print(s1)\n",
    "t1=(1,2,3,4,5)\n",
    "print(t1)\n",
    "s1=set(t1)\n",
    "print(s1)\n",
    "st1=\"set\"\n",
    "print(st1)\n",
    "s1=set(st1)\n",
    "print(s1)\n",
    "d1={\"1\":1,\"2\":2,\"3\":3}\n",
    "print(d1)\n",
    "s1=set(d1)\n",
    "print(s1)\n",
    "s1=set(d1.keys())\n",
    "print(s1)\n",
    "s1=set(d1.values())\n",
    "print(s1)\n",
    "s1=set(d1.items())\n",
    "print(s1)"
   ]
  },
  {
   "cell_type": "code",
   "execution_count": 45,
   "id": "f451d68c-2eb8-438c-b2c0-a6e9d6594a4e",
   "metadata": {},
   "outputs": [
    {
     "name": "stdout",
     "output_type": "stream",
     "text": [
      "{1, 2, 3, 4, 5} {1, 2, 3}\n",
      "{1, 2, 3, 4, 5}\n",
      "{1, 2, 3}\n",
      "{4, 5}\n",
      "{4, 5}\n"
     ]
    }
   ],
   "source": [
    "s1={1,2,3,4,5}\n",
    "s2={1,2,3}\n",
    "print(s1,s2)\n",
    "print(s1.union(s2))\n",
    "print(s1.intersection(s2))\n",
    "print(s1.difference(s2))\n",
    "print(s1.symmetric_difference(s2))"
   ]
  },
  {
   "cell_type": "code",
   "execution_count": 47,
   "id": "302cf688-9411-4c32-89f8-dc61a6a9da1c",
   "metadata": {},
   "outputs": [
    {
     "name": "stdout",
     "output_type": "stream",
     "text": [
      "{1, 2, 3, 4, 5} {4, 5, 6, 7, 8}\n",
      "{1, 2, 3, 4, 5, 6, 7, 8}\n",
      "{4, 5}\n",
      "{1, 2, 3}\n",
      "{1, 2, 3, 6, 7, 8}\n"
     ]
    }
   ],
   "source": [
    "s1={1,2,3,4,5}\n",
    "s2={4,5,6,7,8}\n",
    "print(s1,s2)\n",
    "print(s1.union(s2))\n",
    "print(s1.intersection(s2))\n",
    "print(s1.difference(s2))\n",
    "print(s1.symmetric_difference(s2))"
   ]
  },
  {
   "cell_type": "code",
   "execution_count": 48,
   "id": "c78474d8-4f7c-46d6-9124-316aa12a059a",
   "metadata": {},
   "outputs": [
    {
     "name": "stdout",
     "output_type": "stream",
     "text": [
      "{1, 2, 3} {4, 5, 6}\n",
      "{1, 2, 3, 4, 5, 6}\n",
      "set()\n",
      "{1, 2, 3}\n",
      "{1, 2, 3, 4, 5, 6}\n"
     ]
    }
   ],
   "source": [
    "s1={1,2,3}\n",
    "s2={4,5,6}\n",
    "print(s1,s2)\n",
    "print(s1.union(s2))\n",
    "print(s1.intersection(s2))\n",
    "print(s1.difference(s2))\n",
    "print(s1.symmetric_difference(s2))"
   ]
  },
  {
   "cell_type": "code",
   "execution_count": 69,
   "id": "ee160825-d932-4307-8268-89f2120b2b37",
   "metadata": {},
   "outputs": [
    {
     "name": "stdout",
     "output_type": "stream",
     "text": [
      "{1, 2, 3, 4, 5, 6}\n",
      "{1, 2, 3, 4, 5, 6, 7}\n",
      "{1, 2, 3, 4, 5, 6}\n"
     ]
    },
    {
     "ename": "KeyError",
     "evalue": "8",
     "output_type": "error",
     "traceback": [
      "\u001b[1;31m---------------------------------------------------------------------------\u001b[0m",
      "\u001b[1;31mKeyError\u001b[0m                                  Traceback (most recent call last)",
      "Cell \u001b[1;32mIn[69], line 9\u001b[0m\n\u001b[0;32m      7\u001b[0m s1\u001b[38;5;241m.\u001b[39mremove(\u001b[38;5;241m7\u001b[39m)\n\u001b[0;32m      8\u001b[0m \u001b[38;5;28mprint\u001b[39m(s1)\n\u001b[1;32m----> 9\u001b[0m s1\u001b[38;5;241m.\u001b[39mremove(\u001b[38;5;241m8\u001b[39m)\n\u001b[0;32m     10\u001b[0m \u001b[38;5;28mprint\u001b[39m(s1)\n",
      "\u001b[1;31mKeyError\u001b[0m: 8"
     ]
    }
   ],
   "source": [
    "s1=set([1,2,3])\n",
    "s2=set([4,5,6])\n",
    "s1.update(s2)\n",
    "print(s1)\n",
    "s1.add(7)\n",
    "print(s1)\n",
    "s1.remove(7)\n",
    "print(s1)\n",
    "s1.remove(8)\n",
    "print(s1)"
   ]
  },
  {
   "cell_type": "code",
   "execution_count": 70,
   "id": "266cf154-8cbb-4f46-9de5-93f1e88b6aaf",
   "metadata": {},
   "outputs": [
    {
     "name": "stdout",
     "output_type": "stream",
     "text": [
      "{1, 2, 3, 4, 5}\n",
      "{1, 2, 3, 4, 5}\n",
      "{2, 3, 4, 5}\n"
     ]
    },
    {
     "ename": "TypeError",
     "evalue": "set.pop() takes no arguments (1 given)",
     "output_type": "error",
     "traceback": [
      "\u001b[1;31m---------------------------------------------------------------------------\u001b[0m",
      "\u001b[1;31mTypeError\u001b[0m                                 Traceback (most recent call last)",
      "Cell \u001b[1;32mIn[70], line 7\u001b[0m\n\u001b[0;32m      5\u001b[0m s1\u001b[38;5;241m.\u001b[39mpop()\n\u001b[0;32m      6\u001b[0m \u001b[38;5;28mprint\u001b[39m(s1)\n\u001b[1;32m----> 7\u001b[0m s1\u001b[38;5;241m.\u001b[39mpop(\u001b[38;5;28mlen\u001b[39m(s1)\u001b[38;5;241m-\u001b[39m\u001b[38;5;241m1\u001b[39m)\n\u001b[0;32m      8\u001b[0m \u001b[38;5;28mprint\u001b[39m(s1)\n",
      "\u001b[1;31mTypeError\u001b[0m: set.pop() takes no arguments (1 given)"
     ]
    }
   ],
   "source": [
    "s1.discard(6)\n",
    "print(s1)\n",
    "s1.discard(6)\n",
    "print(s1)\n",
    "s1.pop()\n",
    "print(s1)\n",
    "s1.pop(len(s1)-1)\n",
    "print(s1)"
   ]
  },
  {
   "cell_type": "code",
   "execution_count": 72,
   "id": "b3020045-9c9d-46c2-a166-198ca80df081",
   "metadata": {},
   "outputs": [
    {
     "name": "stdout",
     "output_type": "stream",
     "text": [
      "4\n",
      "set()\n"
     ]
    }
   ],
   "source": [
    "print(len(s1))\n",
    "s1.clear()\n",
    "print(s1)"
   ]
  },
  {
   "cell_type": "code",
   "execution_count": 86,
   "id": "9405ba62-37c9-429d-bddb-0882365804e0",
   "metadata": {},
   "outputs": [
    {
     "name": "stdout",
     "output_type": "stream",
     "text": [
      "False\n",
      "True\n",
      "True\n",
      "False\n",
      "False\n",
      "1561051742944 1561051754144\n",
      "True\n",
      "True\n",
      "False\n",
      "False\n"
     ]
    }
   ],
   "source": [
    "s1={1,2,3,4,5}\n",
    "s3={1,2,3,4,5}\n",
    "print(7 in s1)\n",
    "print(8 not in s1)\n",
    "print(2 in s1)\n",
    "print(5 not in s1)\n",
    "print(s1 is s3)\n",
    "print(id(s1),id(s3))\n",
    "s2={1,2,3,4,5,6,7}\n",
    "print(s1.issubset(s2))\n",
    "print(s1<=s2)\n",
    "print(s1.issuperset(s2))\n",
    "print(s1>=s2)"
   ]
  },
  {
   "cell_type": "code",
   "execution_count": 115,
   "id": "68def9ec-bfb9-48ad-aa87-e3f36c1286cf",
   "metadata": {},
   "outputs": [
    {
     "name": "stdout",
     "output_type": "stream",
     "text": [
      "{1, 2, 3, 4, 5, 6, 7, 8}\n",
      "{1, 2, 3, 4, 5, 6, 7, 8}\n",
      "{4, 5}\n",
      "{4, 5}\n",
      "{4, 5}\n",
      "{1, 2, 3}\n",
      "{1, 2, 3}\n",
      "{1, 2, 3}\n",
      "{1, 2, 3, 6, 7, 8}\n",
      "{1, 2, 3, 6, 7, 8}\n",
      "{1, 2, 3, 6, 7, 8}\n",
      "{1, 2, 3, 4, 5}\n",
      "False\n",
      "True\n"
     ]
    }
   ],
   "source": [
    "s1={1,2,3,4,5}\n",
    "s2={4,5,6,7,8}\n",
    "print(s1.union(s2))\n",
    "print(s1|s2)\n",
    "print(s1.intersection(s2))\n",
    "print(s1&s2)\n",
    "s1.intersection_update(s2)\n",
    "print(s1)\n",
    "s1={1,2,3,4,5}\n",
    "print(s1.difference(s2))\n",
    "print(s1-s2)\n",
    "s1.difference_update(s2)\n",
    "print(s1)\n",
    "s1={1,2,3,4,5}\n",
    "print(s1.symmetric_difference(s2))\n",
    "print(s1^s2)\n",
    "s1.symmetric_difference_update(s2)\n",
    "print(s1)\n",
    "s1={1,2,3,4,5}\n",
    "print(s1.copy())\n",
    "print(s1.isdisjoint(s2))\n",
    "s3={9,10}\n",
    "print(s1.isdisjoint(s3))"
   ]
  },
  {
   "cell_type": "code",
   "execution_count": 117,
   "id": "a56a9911-89b4-47ee-a03b-21aaed7c7b19",
   "metadata": {},
   "outputs": [
    {
     "name": "stdout",
     "output_type": "stream",
     "text": [
      "True\n",
      "True\n",
      "(0, 1) (1, 2) (2, 3) (3, 4) (4, 5) \n",
      "0 1\n",
      "1 2\n",
      "2 3\n",
      "3 4\n",
      "4 5\n",
      "5\n",
      "1\n",
      "15\n",
      "{1, 2, 3, 4, 5}\n",
      "[1, 2, 3, 4, 5]\n"
     ]
    }
   ],
   "source": [
    "s1={1,2,3,4,5}\n",
    "print(all(s1))\n",
    "print(any(s1))\n",
    "for i in enumerate(s1):\n",
    "    print(i,end=\" \")\n",
    "print()\n",
    "for index,set in enumerate(s1):\n",
    "    print(index,set,end=\"\\n\")\n",
    "print(max(s1))\n",
    "print(min(s1))\n",
    "print(sum(s1))\n",
    "s1={4,2,3,1,5}\n",
    "print(s1)\n",
    "s1={4,2,3,1,5}\n",
    "print(sorted(s1))"
   ]
  },
  {
   "cell_type": "code",
   "execution_count": 126,
   "id": "37f32a70-631b-43c7-8611-a95dd24328a1",
   "metadata": {},
   "outputs": [
    {
     "name": "stdout",
     "output_type": "stream",
     "text": [
      "abc <class 'str'>\n",
      "abc <class 'str'>\n"
     ]
    }
   ],
   "source": [
    "st=str(\"abc\")\n",
    "print(st,type(st))\n",
    "st=\"abc\"\n",
    "print(st,type(st))"
   ]
  },
  {
   "cell_type": "code",
   "execution_count": 132,
   "id": "284256e8-3a02-483b-993e-edeb700a7f1b",
   "metadata": {},
   "outputs": [
    {
     "name": "stdout",
     "output_type": "stream",
     "text": [
      "{'b', 'a', 'c'} ('a', 'b', 'c')\n",
      "False\n",
      "True\n",
      "True\n"
     ]
    }
   ],
   "source": [
    "s1={\"a\",\"b\",\"c\"}\n",
    "t1=tuple(\"abc\")\n",
    "print(s1,t1)\n",
    "print(s1==t1)\n",
    "s2={\"c\",\"a\",\"b\"}\n",
    "print(s1==s2)\n",
    "print(s1!=t1)"
   ]
  },
  {
   "cell_type": "code",
   "execution_count": 156,
   "id": "f725a9ed-e96a-46a6-9614-f6b13de1748d",
   "metadata": {},
   "outputs": [
    {
     "name": "stdout",
     "output_type": "stream",
     "text": [
      "{} <class 'dict'>\n"
     ]
    },
    {
     "ename": "TypeError",
     "evalue": "'int' object is not callable",
     "output_type": "error",
     "traceback": [
      "\u001b[1;31m---------------------------------------------------------------------------\u001b[0m",
      "\u001b[1;31mTypeError\u001b[0m                                 Traceback (most recent call last)",
      "Cell \u001b[1;32mIn[156], line 3\u001b[0m\n\u001b[0;32m      1\u001b[0m s1\u001b[38;5;241m=\u001b[39m{}\n\u001b[0;32m      2\u001b[0m \u001b[38;5;28mprint\u001b[39m(s1,\u001b[38;5;28mtype\u001b[39m(s1))\n\u001b[1;32m----> 3\u001b[0m s1\u001b[38;5;241m=\u001b[39m\u001b[38;5;28mset\u001b[39m()\n\u001b[0;32m      4\u001b[0m \u001b[38;5;28mprint\u001b[39m(s1,\u001b[38;5;28mtype\u001b[39m(s1))\n",
      "\u001b[1;31mTypeError\u001b[0m: 'int' object is not callable"
     ]
    }
   ],
   "source": [
    "s1={}\n",
    "print(s1,type(s1))\n",
    "s1=set()\n",
    "print(s1,type(s1))"
   ]
  },
  {
   "cell_type": "code",
   "execution_count": 134,
   "id": "f20891bd-0f39-4d86-a0c9-4dd6fd98f530",
   "metadata": {},
   "outputs": [
    {
     "ename": "TypeError",
     "evalue": "'set' object is not subscriptable",
     "output_type": "error",
     "traceback": [
      "\u001b[1;31m---------------------------------------------------------------------------\u001b[0m",
      "\u001b[1;31mTypeError\u001b[0m                                 Traceback (most recent call last)",
      "Cell \u001b[1;32mIn[134], line 2\u001b[0m\n\u001b[0;32m      1\u001b[0m s1\u001b[38;5;241m=\u001b[39m{\u001b[38;5;241m1\u001b[39m,\u001b[38;5;241m2\u001b[39m,\u001b[38;5;241m3\u001b[39m}\n\u001b[1;32m----> 2\u001b[0m \u001b[38;5;28mprint\u001b[39m(s1[\u001b[38;5;241m0\u001b[39m])\n",
      "\u001b[1;31mTypeError\u001b[0m: 'set' object is not subscriptable"
     ]
    }
   ],
   "source": [
    "s1={1,2,3}\n",
    "print(s1[0])"
   ]
  },
  {
   "cell_type": "code",
   "execution_count": 136,
   "id": "a0896166-246c-447a-8d92-7c846e1193d1",
   "metadata": {},
   "outputs": [
    {
     "name": "stdout",
     "output_type": "stream",
     "text": [
      "{1, 1.5, (1, 2), (1+2j), 'set'}\n"
     ]
    },
    {
     "ename": "TypeError",
     "evalue": "unhashable type: 'list'",
     "output_type": "error",
     "traceback": [
      "\u001b[1;31m---------------------------------------------------------------------------\u001b[0m",
      "\u001b[1;31mTypeError\u001b[0m                                 Traceback (most recent call last)",
      "Cell \u001b[1;32mIn[136], line 3\u001b[0m\n\u001b[0;32m      1\u001b[0m s1\u001b[38;5;241m=\u001b[39m{\u001b[38;5;241m1\u001b[39m,\u001b[38;5;241m1.5\u001b[39m,\u001b[38;5;241m1\u001b[39m\u001b[38;5;241m+\u001b[39m\u001b[38;5;241m2\u001b[39mj,\u001b[38;5;124m\"\u001b[39m\u001b[38;5;124mset\u001b[39m\u001b[38;5;124m\"\u001b[39m,(\u001b[38;5;241m1\u001b[39m,\u001b[38;5;241m2\u001b[39m)}\n\u001b[0;32m      2\u001b[0m \u001b[38;5;28mprint\u001b[39m(s1)\n\u001b[1;32m----> 3\u001b[0m s1\u001b[38;5;241m=\u001b[39m{\u001b[38;5;241m1\u001b[39m,\u001b[38;5;241m1.5\u001b[39m,\u001b[38;5;241m1\u001b[39m\u001b[38;5;241m+\u001b[39m\u001b[38;5;241m2\u001b[39mj,\u001b[38;5;124m\"\u001b[39m\u001b[38;5;124mset\u001b[39m\u001b[38;5;124m\"\u001b[39m,(\u001b[38;5;241m1\u001b[39m,\u001b[38;5;241m2\u001b[39m),[\u001b[38;5;241m1\u001b[39m,\u001b[38;5;241m2\u001b[39m]}\n\u001b[0;32m      4\u001b[0m \u001b[38;5;28mprint\u001b[39m(s1)\n",
      "\u001b[1;31mTypeError\u001b[0m: unhashable type: 'list'"
     ]
    }
   ],
   "source": [
    "s1={1,1.5,1+2j,\"set\",(1,2)}\n",
    "print(s1)\n",
    "s1={1,1.5,1+2j,\"set\",(1,2),[1,2]}\n",
    "print(s1)"
   ]
  },
  {
   "cell_type": "code",
   "execution_count": 151,
   "id": "ce3881ca-e9a7-4f77-a9ae-b98cc3ec2331",
   "metadata": {},
   "outputs": [
    {
     "name": "stdout",
     "output_type": "stream",
     "text": [
      "0 Hello World"
     ]
    }
   ],
   "source": [
    "s1={\"Hello World\"}\n",
    "for index,element in enumerate(s1):\n",
    "    print(index,element,end=\"\")"
   ]
  },
  {
   "cell_type": "code",
   "execution_count": 159,
   "id": "bffede26-985c-4cf5-80f0-46af4e62d14f",
   "metadata": {},
   "outputs": [
    {
     "name": "stdout",
     "output_type": "stream",
     "text": [
      "\n"
     ]
    }
   ],
   "source": [
    "\"\"\"l1=eval(input(\"Enter countries in list:\"))\n",
    "print(l1)\n",
    "cs=sorted(set(l1))\n",
    "print(\"Countries in sorted order:\",cs)\"\"\"\n",
    "print()"
   ]
  },
  {
   "cell_type": "code",
   "execution_count": 161,
   "id": "46591380-5b7d-4483-ba3f-3eddc3fa08d8",
   "metadata": {},
   "outputs": [
    {
     "name": "stdout",
     "output_type": "stream",
     "text": [
      "\n"
     ]
    }
   ],
   "source": [
    "\"\"\"sq=set([x**2 for x in range(0,5+1,1)])\n",
    "print(sq)\n",
    "cu=set([x**3 for x in range(0,5+1,1)])\n",
    "print(cu)\n",
    "sq.update(cu)\n",
    "print(sq)\n",
    "sq.add(11*11)\n",
    "sq.add(11**3)\n",
    "print(sq)\n",
    "print(sq.pop())\n",
    "sq.remove(1331)\n",
    "print(sq)\n",
    "sq.clear()\n",
    "print(sq)\"\"\"\n",
    "print()"
   ]
  },
  {
   "cell_type": "code",
   "execution_count": 163,
   "id": "0fe77e6d-2b73-47f2-be63-3c5adb262f82",
   "metadata": {},
   "outputs": [
    {
     "name": "stdout",
     "output_type": "stream",
     "text": [
      "\n"
     ]
    }
   ],
   "source": [
    "\"\"\"even=set([x for x in range(0,10+1,1) if x%2==0])\n",
    "print(even)\n",
    "odd=set([x for x in range(0,10+1,1) if x%2!=0])\n",
    "print(odd)\n",
    "prime=set()\n",
    "for i in range(1,10+1,1):\n",
    "    c=0\n",
    "    for j in range(1,10+1,1):\n",
    "        if i%j==0:\n",
    "            c=c+1\n",
    "    if c==2:\n",
    "        prime.add(i)\n",
    "print(prime)\n",
    "composite=set()\n",
    "for i in range(1,10+1,1):\n",
    "    c=0\n",
    "    for j in range(1,10+1,1):\n",
    "        if i%j==0:\n",
    "            c=c+1\n",
    "    if c>2:\n",
    "        composite.add(i)\n",
    "print(composite)\n",
    "print(all(prime),all(composite))\n",
    "print(prime.issuperset(composite))\n",
    "print(len(prime),len(composite))\n",
    "print(sum(prime),sum(composite))\"\"\"\n",
    "print()"
   ]
  },
  {
   "cell_type": "code",
   "execution_count": 164,
   "id": "24467c43-8f44-44c0-a8bb-a1d78af9da99",
   "metadata": {},
   "outputs": [
    {
     "name": "stdout",
     "output_type": "stream",
     "text": [
      "\n"
     ]
    }
   ],
   "source": [
    "\"\"\"even=set([x for x in range(0,10+1,1) if x%2==0])\n",
    "print(even)\n",
    "odd=set([x for x in range(0,10+1,1) if x%2!=0])\n",
    "print(odd)\n",
    "print(even.union(odd))\n",
    "print(even|odd)\n",
    "print(even.intersection(odd))\n",
    "print(even&odd)\n",
    "print(even.difference(odd))\n",
    "print(even-odd)\n",
    "print(even.symmetric_difference(odd))\n",
    "print(even^odd)\"\"\"\n",
    "print()"
   ]
  },
  {
   "cell_type": "code",
   "execution_count": null,
   "id": "2bd11bcd-1dae-4c21-afe5-c6f80b67d308",
   "metadata": {},
   "outputs": [],
   "source": [
    "#Data Structure: Dictionary\n",
    "#Property: Mutable for values but Immutable for keys\n",
    "#Storage: Similar or different or both data type elements"
   ]
  },
  {
   "cell_type": "code",
   "execution_count": 168,
   "id": "70f72a32-8560-4a19-95fb-48abc4adf7e1",
   "metadata": {},
   "outputs": [
    {
     "name": "stdout",
     "output_type": "stream",
     "text": [
      "[] <class 'list'>\n",
      "{} <class 'dict'>\n",
      "[] <class 'list'>\n",
      "{} <class 'dict'>\n"
     ]
    }
   ],
   "source": [
    "l=list()\n",
    "print(l,type(l1))\n",
    "d=dict()\n",
    "print(d,type(d))\n",
    "l1=[]\n",
    "print(l1,type(l1))\n",
    "d1={}\n",
    "print(d1,type(d1))"
   ]
  },
  {
   "cell_type": "code",
   "execution_count": 170,
   "id": "29e7aadf-9f21-45a7-967c-8e58c3ff9d1d",
   "metadata": {},
   "outputs": [
    {
     "name": "stdout",
     "output_type": "stream",
     "text": [
      "{'Name': 'Vikrant', 'Age': 20, 'Weight': 50, 'Height': 6.0} <class 'dict'>\n",
      "{'1': 1, '2': 2, '3': 3} <class 'dict'>\n"
     ]
    }
   ],
   "source": [
    "d1={\"Name\":\"Vikrant\",\"Age\":20,\"Weight\":50,\"Height\":6.0}\n",
    "print(d1,type(d1))\n",
    "d1=dict([(\"1\",1),(\"2\",2),(\"3\",3)])\n",
    "print(d1,type(d1))"
   ]
  },
  {
   "cell_type": "code",
   "execution_count": 172,
   "id": "5b45693f-5e7e-4de8-8a8e-8679882c6740",
   "metadata": {},
   "outputs": [
    {
     "name": "stdout",
     "output_type": "stream",
     "text": [
      "{0: 0, 1: 2, 2: 4, 3: 6, 4: 8, 5: 10, 6: 12, 7: 14, 8: 16, 9: 18, 10: 20}\n",
      "{0: 0, 2: 4, 4: 8, 6: 12, 8: 16, 10: 20}\n"
     ]
    }
   ],
   "source": [
    "d1={x:x*2 for x in range(0,10+1,1)}\n",
    "print(d1)\n",
    "d1={x:x*2 for x in range(0,10+1,1) if x%2==0}\n",
    "print(d1)"
   ]
  },
  {
   "cell_type": "code",
   "execution_count": 179,
   "id": "5812a5b3-23ff-40ea-b843-fb23fe7a69a8",
   "metadata": {},
   "outputs": [
    {
     "name": "stdout",
     "output_type": "stream",
     "text": [
      "Vikrant\n",
      "dict_keys(['Name', 'Age', 'Weight', 'Height'])\n",
      "dict_values(['Vikrant', 20, 50, 6.0])\n",
      "dict_items([('Name', 'Vikrant'), ('Age', 20), ('Weight', 50), ('Height', 6.0)])\n",
      "0 Name\n",
      "1 Age\n",
      "2 Weight\n",
      "3 Height\n"
     ]
    }
   ],
   "source": [
    "d1={\"Name\":\"Vikrant\",\"Age\":20,\"Weight\":50,\"Height\":6.0}\n",
    "print(d1[\"Name\"])\n",
    "print(d1.keys())\n",
    "print(d1.values())\n",
    "print(d1.items())\n",
    "for index,key in enumerate(d1):\n",
    "    print(index,key,end=\"\\n\")"
   ]
  },
  {
   "cell_type": "code",
   "execution_count": 184,
   "id": "3e98154e-c235-46b0-b0fe-37bfd83fa8c6",
   "metadata": {},
   "outputs": [
    {
     "name": "stdout",
     "output_type": "stream",
     "text": [
      "{'Name': 'Vikrant', 'Age': 20, 'Weight': 50, 'Height': 6.0, 'Country': 'USA'}\n",
      "{'Name': 'Vikram', 'Age': 20, 'Weight': 50, 'Height': 6.0, 'Country': 'USA'}\n",
      "1561056916032\n",
      "1561038404848\n"
     ]
    }
   ],
   "source": [
    "d1={\"Name\":\"Vikrant\",\"Age\":20,\"Weight\":50,\"Height\":6.0}\n",
    "d1[\"Country\"]=\"USA\"\n",
    "print(d1)\n",
    "d1[\"Name\"]=\"Vikram\"\n",
    "print(d1)\n",
    "print(id(d1))\n",
    "print(id(d1[\"Name\"]))"
   ]
  },
  {
   "cell_type": "code",
   "execution_count": 187,
   "id": "3c940997-4f8f-4b0c-85ac-58465fcc31c3",
   "metadata": {},
   "outputs": [
    {
     "name": "stdout",
     "output_type": "stream",
     "text": [
      "{'Name': 'Vikrant', 'Age': 20, 'Weight': 50, 'Height': 6.0, 'Country': 'USA'}\n",
      "{'Name': 'Vikrant', 'Age': 20, 'Weight': 50, 'Height': 6.0}\n",
      "{}\n"
     ]
    },
    {
     "ename": "NameError",
     "evalue": "name 'd1' is not defined",
     "output_type": "error",
     "traceback": [
      "\u001b[1;31m---------------------------------------------------------------------------\u001b[0m",
      "\u001b[1;31mNameError\u001b[0m                                 Traceback (most recent call last)",
      "Cell \u001b[1;32mIn[187], line 8\u001b[0m\n\u001b[0;32m      6\u001b[0m \u001b[38;5;28mprint\u001b[39m(d1)\n\u001b[0;32m      7\u001b[0m \u001b[38;5;28;01mdel\u001b[39;00m d1\n\u001b[1;32m----> 8\u001b[0m \u001b[38;5;28mprint\u001b[39m(d1)\n",
      "\u001b[1;31mNameError\u001b[0m: name 'd1' is not defined"
     ]
    }
   ],
   "source": [
    "d1={'Name': 'Vikrant', 'Age': 20, 'Weight': 50, 'Height': 6.0, 'Country': 'USA'}\n",
    "print(d1)\n",
    "del d1[\"Country\"]\n",
    "print(d1)\n",
    "d1.clear()\n",
    "print(d1)\n",
    "del d1\n",
    "print(d1)"
   ]
  },
  {
   "cell_type": "code",
   "execution_count": 192,
   "id": "e8578dcf-5a5b-4f59-8404-8b4797acc238",
   "metadata": {},
   "outputs": [
    {
     "name": "stdout",
     "output_type": "stream",
     "text": [
      "USA\n",
      "{'Name': 'Vikrant', 'Age': 20, 'Weight': 50, 'Height': 6.0}\n",
      "-1\n",
      "{'Name': 'Vikrant', 'Age': 20, 'Weight': 50, 'Height': 6.0}\n",
      "('Height', 6.0)\n",
      "{'Name': 'Vikrant', 'Age': 20, 'Weight': 50}\n",
      "{'Name': 'Vikram', 'Age': 20, 'Weight': 50, 'Height': 6.0, 'Country': 'USA'}\n"
     ]
    }
   ],
   "source": [
    "d1={'Name': 'Vikrant', 'Age': 20, 'Weight': 50, 'Height': 6.0, 'Country': 'USA'}\n",
    "print(d1.pop(\"Country\"))\n",
    "print(d1)\n",
    "print(d1.pop(\"Religion\",-1))\n",
    "print(d1)\n",
    "print(d1.popitem())\n",
    "print(d1)\n",
    "d1={'Name': 'Vikrant', 'Age': 20, 'Weight': 50, 'Height': 6.0, 'Country': 'USA',\"Name\":\"Vikram\"}\n",
    "print(d1)"
   ]
  },
  {
   "cell_type": "code",
   "execution_count": 197,
   "id": "87bee3e9-a36e-4c62-b936-31f524cbcc51",
   "metadata": {},
   "outputs": [
    {
     "name": "stdout",
     "output_type": "stream",
     "text": [
      "{1: 1, 1.5: 1.5, (1+2j): (1+2j), (1, 2): (1, 2)}\n"
     ]
    },
    {
     "ename": "TypeError",
     "evalue": "unhashable type: 'list'",
     "output_type": "error",
     "traceback": [
      "\u001b[1;31m---------------------------------------------------------------------------\u001b[0m",
      "\u001b[1;31mTypeError\u001b[0m                                 Traceback (most recent call last)",
      "Cell \u001b[1;32mIn[197], line 3\u001b[0m\n\u001b[0;32m      1\u001b[0m d1\u001b[38;5;241m=\u001b[39m{\u001b[38;5;241m1\u001b[39m:\u001b[38;5;241m1\u001b[39m,\u001b[38;5;241m1.5\u001b[39m:\u001b[38;5;241m1.5\u001b[39m,\u001b[38;5;241m1\u001b[39m\u001b[38;5;241m+\u001b[39m\u001b[38;5;241m2\u001b[39mj:\u001b[38;5;241m1\u001b[39m\u001b[38;5;241m+\u001b[39m\u001b[38;5;241m2\u001b[39mj,(\u001b[38;5;241m1\u001b[39m,\u001b[38;5;241m2\u001b[39m):(\u001b[38;5;241m1\u001b[39m,\u001b[38;5;241m2\u001b[39m)}\n\u001b[0;32m      2\u001b[0m \u001b[38;5;28mprint\u001b[39m(d1)\n\u001b[1;32m----> 3\u001b[0m d1\u001b[38;5;241m=\u001b[39m{[\u001b[38;5;241m1\u001b[39m,\u001b[38;5;241m2\u001b[39m]:[\u001b[38;5;241m1\u001b[39m,\u001b[38;5;241m2\u001b[39m]}\n\u001b[0;32m      4\u001b[0m \u001b[38;5;28mprint\u001b[39m(d1)\n",
      "\u001b[1;31mTypeError\u001b[0m: unhashable type: 'list'"
     ]
    }
   ],
   "source": [
    "d1={1:1,1.5:1.5,1+2j:1+2j,(1,2):(1,2)}\n",
    "print(d1)\n",
    "d1={[1,2]:[1,2]}\n",
    "print(d1)"
   ]
  },
  {
   "cell_type": "code",
   "execution_count": 198,
   "id": "b8fe9b5d-25af-4dec-897b-46a52866e1c0",
   "metadata": {},
   "outputs": [
    {
     "ename": "TypeError",
     "evalue": "unhashable type: 'set'",
     "output_type": "error",
     "traceback": [
      "\u001b[1;31m---------------------------------------------------------------------------\u001b[0m",
      "\u001b[1;31mTypeError\u001b[0m                                 Traceback (most recent call last)",
      "Cell \u001b[1;32mIn[198], line 1\u001b[0m\n\u001b[1;32m----> 1\u001b[0m d1\u001b[38;5;241m=\u001b[39m{{\u001b[38;5;241m1\u001b[39m,\u001b[38;5;241m2\u001b[39m}:{\u001b[38;5;241m1\u001b[39m,\u001b[38;5;241m2\u001b[39m}}\n",
      "\u001b[1;31mTypeError\u001b[0m: unhashable type: 'set'"
     ]
    }
   ],
   "source": [
    "d1={{1,2}:{1,2}}"
   ]
  },
  {
   "cell_type": "code",
   "execution_count": 201,
   "id": "295694cb-794b-465b-9983-4233f1c77230",
   "metadata": {},
   "outputs": [
    {
     "name": "stdout",
     "output_type": "stream",
     "text": [
      "{'Name': 'Vikrant', 'Age': 20, 'Weight': 50, 'Height': 6.0, 'Country': 'USA'}\n",
      "['Age', 'Country', 'Height', 'Name', 'Weight']\n"
     ]
    }
   ],
   "source": [
    "d1={'Name': 'Vikrant', 'Age': 20, 'Weight': 50, 'Height': 6.0, 'Country': 'USA'}\n",
    "print(d1)\n",
    "print(sorted(d1.keys()))"
   ]
  },
  {
   "cell_type": "code",
   "execution_count": 206,
   "id": "fd0ac203-31d2-480f-b715-39fa7381b6a5",
   "metadata": {},
   "outputs": [
    {
     "name": "stdout",
     "output_type": "stream",
     "text": [
      "{'Name': 'Vikrant', 'Age': 20, 'Weight': 50, 'Height': 6.0, 'Country': 'USA'}\n",
      "Keys:\n",
      "Name Age Weight Height Country \n",
      "Values:\n",
      "Vikrant 20 50 6.0 USA \n",
      "Keys and Values:\n",
      "('Name', 'Vikrant') ('Age', 20) ('Weight', 50) ('Height', 6.0) ('Country', 'USA') "
     ]
    }
   ],
   "source": [
    "d1={'Name': 'Vikrant', 'Age': 20, 'Weight': 50, 'Height': 6.0, 'Country': 'USA'}\n",
    "print(d1)\n",
    "print(\"Keys:\")\n",
    "for key in d1.keys():\n",
    "    print(key,end=\" \")\n",
    "print(\"\\nValues:\")\n",
    "for value in d1.values():\n",
    "    print(value,end=\" \")\n",
    "print(\"\\nKeys and Values:\")\n",
    "for key,value in d1.items():\n",
    "    print((key,value),end=\" \")"
   ]
  },
  {
   "cell_type": "code",
   "execution_count": 223,
   "id": "2a1ba4a3-b709-4337-8282-29cf4c467f28",
   "metadata": {},
   "outputs": [
    {
     "name": "stdout",
     "output_type": "stream",
     "text": [
      "{'Name': 'Vikrant', 'Age': 20, 'Weight': 50, 'Height': 6.0, 'Country': 'USA'}\n",
      "5\n",
      "{'Name': 'Vikrant', 'Age': 20, 'Weight': 50, 'Height': 6.0, 'Country': 'USA'}\n",
      "{}\n",
      "{'Name': 'Vikrant', 'Age': 20, 'Weight': 50, 'Height': 6.0, 'Country': 'USA'}\n",
      "{'Name': 'Vikrant', 'Age': 20, 'Weight': 50, 'Height': 6.0, 'Country': 'USA'}\n",
      "{'Name': -1, 'Age': -1, 'Weight': -1, 'Height': -1, 'Country': -1}\n",
      "{'Name': None, 'Age': None, 'Weight': None, 'Height': None, 'Country': None}\n",
      "Vikrant\n",
      "-1\n",
      "True\n",
      "False\n",
      "dict_items([('Name', 'Vikrant'), ('Age', 20), ('Weight', 50), ('Height', 6.0), ('Country', 'USA')])\n",
      "dict_keys(['Name', 'Age', 'Weight', 'Height', 'Country'])\n",
      "dict_values(['Vikrant', 20, 50, 6.0, 'USA'])\n"
     ]
    }
   ],
   "source": [
    "d1={'Name': 'Vikrant', 'Age': 20, 'Weight': 50, 'Height': 6.0, 'Country': 'USA'}\n",
    "print(d1)\n",
    "print(len(d1))\n",
    "print(str(d1))\n",
    "d1.clear()\n",
    "print(d1)\n",
    "d1={'Name': 'Vikrant', 'Age': 20, 'Weight': 50, 'Height': 6.0, 'Country': 'USA'}\n",
    "print(d1)\n",
    "print(d1.copy())\n",
    "d2=dict.fromkeys(d1,-1)\n",
    "print(d2)\n",
    "d3=dict.fromkeys(d1)\n",
    "print(d3)\n",
    "print(d1.get(\"Name\"))\n",
    "print(d1.get(\"Religion\",-1))\n",
    "print(\"Name\" in d1)\n",
    "print(\"Religion\" in d1)\n",
    "print(d1.items())\n",
    "print(d1.keys())\n",
    "print(d1.values())"
   ]
  },
  {
   "cell_type": "code",
   "execution_count": 239,
   "id": "f16e32bc-9d1c-4a22-9d31-f33e367f1c60",
   "metadata": {},
   "outputs": [
    {
     "name": "stdout",
     "output_type": "stream",
     "text": [
      "{'Name': 'Vikrant', 'Age': 20, 'Weight': 50, 'Height': 6.0, 'Country': 'USA'}\n",
      "None\n",
      "Vikrant\n",
      "English\n",
      "{'Name': 'Vikrant', 'Age': 20, 'Weight': 50, 'Height': 6.0, 'Country': 'USA', 'Religion': None, 'Language': 'English'}\n",
      "{'Degree': 'B.Tech', 'CGPA': 8.71}\n",
      "{'Name': 'Vikrant', 'Age': 20, 'Weight': 50, 'Height': 6.0, 'Country': 'USA', 'Religion': None, 'Language': 'English', 'Degree': 'B.Tech', 'CGPA': 8.71}\n",
      "('Name', 'Vikrant')\n",
      "('Age', 20)\n",
      "('Weight', 50)\n",
      "('Height', 6.0)\n",
      "('Country', 'USA')\n",
      "('Religion', None)\n",
      "('Language', 'English')\n",
      "('Degree', 'B.Tech')\n",
      "('CGPA', 8.71)\n",
      "True\n",
      "False\n",
      "False\n",
      "True\n"
     ]
    }
   ],
   "source": [
    "d1={'Name': 'Vikrant', 'Age': 20, 'Weight': 50, 'Height': 6.0, 'Country': 'USA'}\n",
    "print(d1)\n",
    "d1.setdefault(\"Religion\")\n",
    "d1.setdefault(\"Name\",\"Vikram\")\n",
    "print(d1.get(\"Religion\"))\n",
    "print(d1.get(\"Name\"))\n",
    "d1.setdefault(\"Language\",\"English\")\n",
    "print(d1.get(\"Language\"))\n",
    "print(d1)\n",
    "d2={\"Degree\":\"B.Tech\",\"CGPA\":8.71}\n",
    "print(d2)\n",
    "d1.update(d2)\n",
    "print(d1)\n",
    "for key,value in d1.items():\n",
    "    print((key,value),end=\"\\n\")\n",
    "print(\"Language\" in d1)\n",
    "print(\"Language\" not in d1)\n",
    "print(\"Martial Status\" in d1)\n",
    "print(\"Martial Status\" not in d1)"
   ]
  },
  {
   "cell_type": "code",
   "execution_count": 240,
   "id": "9b2b2cad-a282-44ec-a3c5-c6d25f2471de",
   "metadata": {},
   "outputs": [
    {
     "name": "stdout",
     "output_type": "stream",
     "text": [
      "Vikram studies in class 10\n"
     ]
    }
   ],
   "source": [
    "d1={\"Name\":\"Vikram\",\"Class\":10}\n",
    "print(\"%s studies in class %d\"%(d1[\"Name\"],d1[\"Class\"]))"
   ]
  },
  {
   "cell_type": "code",
   "execution_count": 8,
   "id": "3ab5f17b-9efd-4818-b240-dd00b80dd63c",
   "metadata": {},
   "outputs": [
    {
     "name": "stdout",
     "output_type": "stream",
     "text": [
      "{'Delhi': 'DH', 'Mumbai': 'MB', 'Kolkata': 'KO'}\n",
      "None\n",
      "{'Delhi': 'DH', 'Mumbai': 'MB', 'Kolkata': 'KO'}\n",
      "None\n",
      "Not exists\n",
      "{'Delhi': 'DH', 'Mumbai': 'MB', 'Kolkata': 'KO'}\n",
      "{'Delhi': 'DH', 'Mumbai': 'MB', 'Kolkata': 'KO', 'Bangalore': 'Not exists'}\n",
      "('Delhi', 'DH') ('Mumbai', 'MB') ('Kolkata', 'KO') ('Bangalore', 'Not exists') "
     ]
    }
   ],
   "source": [
    "city_code={\"Delhi\":\"DH\",\"Mumbai\":\"MB\",\"Kolkata\":\"KO\"}\n",
    "print(city_code)\n",
    "print(city_code.get(\"Bangalore\"))\n",
    "print(city_code)\n",
    "print(city_code.get(\"Bangalore\"))\n",
    "print(city_code.get(\"Bangalore\",\"Not exists\"))\n",
    "print(city_code)\n",
    "city_code.setdefault(\"Bangalore\",\"Not exists\")\n",
    "print(city_code)\n",
    "for key,value in city_code.items():\n",
    "    print((key,value),end=\" \")"
   ]
  },
  {
   "cell_type": "code",
   "execution_count": 10,
   "id": "7618e02a-cb63-40a7-a58a-3cd2610c81a8",
   "metadata": {},
   "outputs": [
    {
     "name": "stdout",
     "output_type": "stream",
     "text": [
      "3.141592653589793\n"
     ]
    },
    {
     "name": "stdin",
     "output_type": "stream",
     "text": [
      "Enter radius: 7\n",
      "Enter yes/no for continue: \"yes\"\n",
      "Enter radius: 14\n",
      "Enter yes/no for continue: \"no\"\n"
     ]
    },
    {
     "name": "stdout",
     "output_type": "stream",
     "text": [
      "(7, 153.93804002589985) (14, 615.7521601035994) "
     ]
    }
   ],
   "source": [
    "import math as m\n",
    "print(m.pi)\n",
    "cir={}\n",
    "st=\"yes\"\n",
    "while st==\"yes\":\n",
    "    r=eval(input(\"Enter radius:\"))\n",
    "    area={r:m.pi*pow(r,2)}\n",
    "    cir.update(area)\n",
    "    st=eval(input(\"Enter yes/no for continue:\"))\n",
    "for key,value in cir.items():\n",
    "    print((key,value),end=\" \")"
   ]
  },
  {
   "cell_type": "code",
   "execution_count": 16,
   "id": "7a30925f-b677-4a2f-8b6b-488ed0e3daed",
   "metadata": {},
   "outputs": [
    {
     "name": "stdout",
     "output_type": "stream",
     "text": [
      "{0: 0, 1: 1, 2: 2, 3: 3, 4: 4, 5: 5, 6: 6, 7: 7, 8: 8, 9: 9, 10: 10}\n",
      "{0: 0, 1: 1, 2: 2, 3: 3, 4: 4, 5: 5, 6: 6, 7: 7, 8: 8, 9: 9, 10: 10}\n"
     ]
    }
   ],
   "source": [
    "d={x:x for x in range(0,10+1,1)}\n",
    "d1=dict()\n",
    "d1.update(d)\n",
    "print(d)\n",
    "print(d1)"
   ]
  },
  {
   "cell_type": "code",
   "execution_count": 22,
   "id": "7f6cd009-0be3-41f3-95f3-377e46bd77fb",
   "metadata": {},
   "outputs": [
    {
     "name": "stdout",
     "output_type": "stream",
     "text": [
      "{0: 0, 1: 100, 2: 200, 3: 300, 4: 400, 5: 500, 6: 600, 7: 700, 8: 800, 9: 900, 10: 1000}\n",
      "dict_keys([0, 1, 2, 3, 4, 5, 6, 7, 8, 9, 10])\n",
      "dict_values([0, 100, 200, 300, 400, 500, 600, 700, 800, 900, 1000])\n",
      "{0: 0.0, 100: 1.0, 200: 2.0, 300: 3.0, 400: 4.0, 500: 5.0, 600: 6.0, 700: 7.0, 800: 8.0, 900: 9.0, 1000: 10.0}\n",
      "dict_keys([0, 100, 200, 300, 400, 500, 600, 700, 800, 900, 1000])\n",
      "dict_values([0.0, 1.0, 2.0, 3.0, 4.0, 5.0, 6.0, 7.0, 8.0, 9.0, 10.0])\n"
     ]
    }
   ],
   "source": [
    "m_to_cm={x: x*100 for x in range(0,10+1,1)}\n",
    "print(m_to_cm)\n",
    "print(m_to_cm.keys())\n",
    "print(m_to_cm.values())\n",
    "temp=m_to_cm.values()\n",
    "cm_to_m={x:x/100 for x in temp}\n",
    "print(cm_to_m)\n",
    "print(cm_to_m.keys())\n",
    "print(cm_to_m.values())"
   ]
  },
  {
   "cell_type": "code",
   "execution_count": 25,
   "id": "2c77fc65-206e-4217-869f-403938fc2090",
   "metadata": {},
   "outputs": [
    {
     "name": "stdout",
     "output_type": "stream",
     "text": [
      "{'Friend': 'Mitr', 'Book': 'Pushtak'}\n",
      "{'Mitr': 'Dost', 'Pushtak': 'Kitaab'}\n",
      "Friend means in hindi Mitr and Mitr means in urdu Dost\n",
      "Book means in hindi Pushtak and Pushtak means in urdu Kitaab\n"
     ]
    }
   ],
   "source": [
    "e_to_h={\"Friend\":\"Mitr\",\"Book\":\"Pushtak\"}\n",
    "print(e_to_h)\n",
    "h_to_u={\"Mitr\":\"Dost\",\"Pushtak\":\"Kitaab\"}\n",
    "print(h_to_u)\n",
    "for i in e_to_h.keys():\n",
    "    print(i,\"means in hindi\",e_to_h[i],\"and\",e_to_h[i],\"means in urdu\",h_to_u[e_to_h[i]])"
   ]
  },
  {
   "cell_type": "code",
   "execution_count": 6,
   "id": "349893dc-86b3-4455-8e60-c337e374512f",
   "metadata": {},
   "outputs": [
    {
     "name": "stdin",
     "output_type": "stream",
     "text": [
      "Enter number of terms: 5\n"
     ]
    },
    {
     "name": "stdout",
     "output_type": "stream",
     "text": [
      "Fibo( 5 ): 3\n"
     ]
    }
   ],
   "source": [
    "d1={1:0,2:1}\n",
    "def fibo(n):\n",
    "    if n not in d1:\n",
    "        v=fibo(n-1)+fibo(n-2)\n",
    "        d1[n]=v\n",
    "    return d1[n]\n",
    "n=eval(input(\"Enter number of terms:\"))\n",
    "fibo(n)\n",
    "print(\"Fibo(\",n,\"):\",fibo(n))"
   ]
  },
  {
   "cell_type": "code",
   "execution_count": 28,
   "id": "90d68305-e24b-4817-b7d2-3182fc0f7d33",
   "metadata": {},
   "outputs": [
    {
     "name": "stdout",
     "output_type": "stream",
     "text": [
      "['Name', 'Age', 'Country'] ['Vikrant', 23, 'USA']\n",
      "<zip object at 0x0000023E7618F940>\n",
      "{'Name': 'Vikrant', 'Age': 23, 'Country': 'USA'}\n"
     ]
    }
   ],
   "source": [
    "keys=[\"Name\",\"Age\",\"Country\"]\n",
    "values=[\"Vikrant\",23,\"USA\"]\n",
    "d1=zip(keys,values)\n",
    "print(keys,values)\n",
    "print(d1)\n",
    "d1=dict(d1)\n",
    "print(d1)"
   ]
  },
  {
   "cell_type": "code",
   "execution_count": 29,
   "id": "88e0e75e-9190-4253-beea-2e3a1a88e40f",
   "metadata": {},
   "outputs": [
    {
     "name": "stdin",
     "output_type": "stream",
     "text": [
      "Enter string: \"Hello World\"\n"
     ]
    },
    {
     "name": "stdout",
     "output_type": "stream",
     "text": [
      "Hello World\n",
      "{'Hello World': 11}\n"
     ]
    }
   ],
   "source": [
    "st=eval(input(\"Enter string:\"))\n",
    "print(st)\n",
    "d1={st:len(st)}\n",
    "print(d1)"
   ]
  },
  {
   "cell_type": "code",
   "execution_count": 42,
   "id": "553b93cb-9741-4a29-8f29-b23fd8ca1986",
   "metadata": {},
   "outputs": [
    {
     "name": "stdin",
     "output_type": "stream",
     "text": [
      "Enter filename: \"ASCII_Text_File.txt\"\n"
     ]
    },
    {
     "name": "stdout",
     "output_type": "stream",
     "text": [
      "ASCII_Text_File.txt\n",
      "r\n",
      "False\n",
      "{'Hello,': 1, 'I': 2, 'am': 1, 'back!': 1, 'hope': 1, 'you': 1, 'are': 1, 'enjoying': 1, 'python.': 1}\n",
      "Hello, I am back!\n",
      "I hope you are enjoying python.\n"
     ]
    }
   ],
   "source": [
    "filename=eval(input(\"Enter filename:\"))\n",
    "file=open(filename,\"r\")\n",
    "print(file.name)\n",
    "print(file.mode)\n",
    "print(file.closed)\n",
    "#print(file.read())\n",
    "counts=dict()\n",
    "for line in file:\n",
    "    words=line.split()\n",
    "    for word in words:\n",
    "        if word not in counts:\n",
    "            counts[word]=1\n",
    "        else:\n",
    "            counts[word]=counts[word]+1\n",
    "print(counts)\n",
    "file.close()\n",
    "file=open(filename,\"r\")\n",
    "print(file.read())"
   ]
  },
  {
   "cell_type": "code",
   "execution_count": 52,
   "id": "e5daf0ac-516e-4e80-a618-819953f74224",
   "metadata": {},
   "outputs": [
    {
     "name": "stdin",
     "output_type": "stream",
     "text": [
      "Enter string: \"Hello World\"\n"
     ]
    },
    {
     "name": "stdout",
     "output_type": "stream",
     "text": [
      "Hello World\n",
      "hello world\n",
      "{'h': 1, 'e': 1, 'l': 3, 'o': 2, ' ': 1, 'w': 1, 'r': 1, 'd': 1}\n",
      "Histogram of frequencies of characters:\n",
      "key= h \t: *\n",
      "key= e \t: *\n",
      "key= l \t: ***\n",
      "key= o \t: **\n",
      "key=   \t: *\n",
      "key= w \t: *\n",
      "key= r \t: *\n",
      "key= d \t: *\n"
     ]
    }
   ],
   "source": [
    "st=eval(input(\"Enter string:\"))\n",
    "print(st)\n",
    "st=st.lower()\n",
    "print(st)\n",
    "counts=dict()\n",
    "for i in st:\n",
    "    if i not in counts:\n",
    "        counts[i]=1\n",
    "    else:\n",
    "        counts[i]=counts[i]+1\n",
    "print(counts)\n",
    "print(\"Histogram of frequencies of characters:\")\n",
    "for key,value in counts.items():\n",
    "    print(\"key=\",key,\"\\t:\",\"*\"*value,end=\"\\n\")"
   ]
  },
  {
   "cell_type": "code",
   "execution_count": 49,
   "id": "3d5936d0-6723-494c-a163-1c41c552e944",
   "metadata": {},
   "outputs": [
    {
     "name": "stdout",
     "output_type": "stream",
     "text": [
      "***\n"
     ]
    }
   ],
   "source": [
    "print(\"*\"*3)"
   ]
  },
  {
   "cell_type": "code",
   "execution_count": 55,
   "id": "e3761929-f2c5-403b-a723-e5a0519ff45e",
   "metadata": {},
   "outputs": [
    {
     "name": "stdin",
     "output_type": "stream",
     "text": [
      "Enter number of students: 3\n",
      "Enter name: \"Vikram\"\n",
      "Enter marks of 4 subjects in list: [70,75,80,85]\n"
     ]
    },
    {
     "name": "stdout",
     "output_type": "stream",
     "text": [
      "Vikram [70, 75, 80, 85]\n"
     ]
    },
    {
     "name": "stdin",
     "output_type": "stream",
     "text": [
      "Enter name: \"Vikrant\"\n",
      "Enter marks of 4 subjects in list: [60,65,70,75]\n"
     ]
    },
    {
     "name": "stdout",
     "output_type": "stream",
     "text": [
      "Vikrant [60, 65, 70, 75]\n"
     ]
    },
    {
     "name": "stdin",
     "output_type": "stream",
     "text": [
      "Enter name: \"Virat\"\n",
      "Enter marks of 4 subjects in list: [80,85,90,95]\n"
     ]
    },
    {
     "name": "stdout",
     "output_type": "stream",
     "text": [
      "Virat [80, 85, 90, 95]\n",
      "{'Vikram': [70, 75, 80, 85], 'Vikrant': [60, 65, 70, 75], 'Virat': [80, 85, 90, 95]}\n",
      "{'Vikram': 310, 'Vikrant': 270, 'Virat': 350}\n",
      "Topper is Virat with total marks= 350\n"
     ]
    }
   ],
   "source": [
    "marks=dict()\n",
    "n=eval(input(\"Enter number of students:\"))\n",
    "for i in range(0,n,1):\n",
    "    key=eval(input(\"Enter name:\"))\n",
    "    value=eval(input(\"Enter marks of 4 subjects in list:\"))\n",
    "    print(key,value)\n",
    "    marks[key]=value\n",
    "print(marks)\n",
    "for key,value in marks.items():\n",
    "    value=sum(value)\n",
    "    marks[key]=value\n",
    "print(marks)\n",
    "max=0\n",
    "for key,value in marks.items():\n",
    "    if value>max:\n",
    "        max=value\n",
    "        topper=key\n",
    "print(\"Topper is\",topper,\"with total marks=\",value)"
   ]
  },
  {
   "cell_type": "code",
   "execution_count": 58,
   "id": "af2e670a-a457-49f7-8408-16c762dd6c8a",
   "metadata": {},
   "outputs": [
    {
     "name": "stdout",
     "output_type": "stream",
     "text": [
      "{'Name': 'Vikrant', 'Age': 23, 'Country': 'India'}\n",
      "Inverted dictionary: {'Vikrant': 'Name', 23: 'Age', 'India': 'Country'}\n"
     ]
    }
   ],
   "source": [
    "d1={\"Name\":\"Vikrant\",\"Age\":23,\"Country\":\"India\"}\n",
    "print(d1)\n",
    "i_d1={}\n",
    "for key,value in d1.items():\n",
    "    i_d1[value]=key\n",
    "print(\"Inverted dictionary:\",i_d1)"
   ]
  },
  {
   "cell_type": "code",
   "execution_count": 59,
   "id": "672f87fd-6b80-46a5-b91d-b7002fb3208c",
   "metadata": {},
   "outputs": [
    {
     "name": "stdout",
     "output_type": "stream",
     "text": [
      "{1: 1, 3: 27, 5: 125, 7: 343, 9: 729}\n"
     ]
    }
   ],
   "source": [
    "d1={x:x**3 for x in range(0,10+1,1) if x%2!=0}\n",
    "print(d1)"
   ]
  },
  {
   "cell_type": "code",
   "execution_count": 62,
   "id": "0fbe8692-9ab9-4339-ac6c-62c933cb88ab",
   "metadata": {},
   "outputs": [
    {
     "name": "stdin",
     "output_type": "stream",
     "text": [
      "Enter string: \"Hello\"\n"
     ]
    },
    {
     "name": "stdout",
     "output_type": "stream",
     "text": [
      "Hello\n",
      "{'H': 1, 'e': 1, 'l': 2, 'o': 1}\n"
     ]
    }
   ],
   "source": [
    "st=eval(input(\"Enter string:\"))\n",
    "print(st)\n",
    "letter_counts=dict()\n",
    "for letter in st:\n",
    "    letter_counts[letter]=letter_counts.get(letter,0)+1\n",
    "print(letter_counts)"
   ]
  },
  {
   "cell_type": "code",
   "execution_count": null,
   "id": "9367d6cb-b9f7-45cc-b821-81e1d182fc77",
   "metadata": {},
   "outputs": [],
   "source": []
  }
 ],
 "metadata": {
  "kernelspec": {
   "display_name": "Python 3 (ipykernel)",
   "language": "python",
   "name": "python3"
  },
  "language_info": {
   "codemirror_mode": {
    "name": "ipython",
    "version": 3
   },
   "file_extension": ".py",
   "mimetype": "text/x-python",
   "name": "python",
   "nbconvert_exporter": "python",
   "pygments_lexer": "ipython3",
   "version": "3.11.7"
  }
 },
 "nbformat": 4,
 "nbformat_minor": 5
}
