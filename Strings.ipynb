{
 "cells": [
  {
   "cell_type": "code",
   "execution_count": 6,
   "id": "7d54c153-00c6-4b46-b702-ebf6aa879690",
   "metadata": {},
   "outputs": [
    {
     "name": "stdout",
     "output_type": "stream",
     "text": [
      "Hello\n",
      "Hello\n",
      "A\n",
      "a\n",
      "Hello <class 'str'>\n"
     ]
    }
   ],
   "source": [
    "print(\"Hello\")\n",
    "print('Hello')\n",
    "print(\"A\")\n",
    "print('a')\n",
    "s=str(\"Hello\")\n",
    "print(s,type(s))"
   ]
  },
  {
   "cell_type": "code",
   "execution_count": 8,
   "id": "b02e58e5-a5ef-43a1-abf9-e7beca4de3c8",
   "metadata": {},
   "outputs": [
    {
     "name": "stdout",
     "output_type": "stream",
     "text": [
      "s[ 0 ]= H\n",
      "s[ 1 ]= e\n",
      "s[ 2 ]= l\n",
      "s[ 3 ]= l\n",
      "s[ 4 ]= o\n"
     ]
    }
   ],
   "source": [
    "s=\"Hello\"\n",
    "for i in range(0,len(s),1):\n",
    "    print(\"s[\",i,\"]=\",s[i])"
   ]
  },
  {
   "cell_type": "code",
   "execution_count": 9,
   "id": "ec1044dd-a397-41f8-a257-6cc9e097f795",
   "metadata": {},
   "outputs": [
    {
     "name": "stdout",
     "output_type": "stream",
     "text": [
      " \n",
      "!\n"
     ]
    }
   ],
   "source": [
    "s=\"Hello World!\"\n",
    "print(s[5])\n",
    "print(s[11])"
   ]
  },
  {
   "cell_type": "code",
   "execution_count": 12,
   "id": "c365c924-7ce1-44be-b89d-fde40f92fb25",
   "metadata": {},
   "outputs": [
    {
     "name": "stdout",
     "output_type": "stream",
     "text": [
      "Hello Vikram!\n"
     ]
    }
   ],
   "source": [
    "s1=\"Hello \"\n",
    "s2=\"Vikram!\"\n",
    "print(s1+s2)"
   ]
  },
  {
   "cell_type": "code",
   "execution_count": 18,
   "id": "04694cc8-2a41-4808-8e26-da1372a079cb",
   "metadata": {},
   "outputs": [
    {
     "name": "stdout",
     "output_type": "stream",
     "text": [
      "Hello\n",
      "Hello Vikram!\n",
      "Hello Vikram! Welcome to python world!\n"
     ]
    }
   ],
   "source": [
    "s=\"Hello\"\n",
    "print(s)\n",
    "s=s+\" Vikram!\"\n",
    "print(s)\n",
    "s+=\" Welcome to python world!\"\n",
    "print(s)"
   ]
  },
  {
   "cell_type": "code",
   "execution_count": 19,
   "id": "d6b69c34-712a-4c08-b5a8-e4be3f3a01c9",
   "metadata": {},
   "outputs": [
    {
     "name": "stdout",
     "output_type": "stream",
     "text": [
      "Bye! Bye! Bye! \n"
     ]
    }
   ],
   "source": [
    "s=\"Bye! \"\n",
    "print(s*3)"
   ]
  },
  {
   "cell_type": "code",
   "execution_count": 21,
   "id": "ff633910-dff3-45fc-9cca-51a9115cf0e9",
   "metadata": {},
   "outputs": [
    {
     "name": "stdout",
     "output_type": "stream",
     "text": [
      "Ab de villers 17\n"
     ]
    }
   ],
   "source": [
    "s=\"Ab de villers \"\n",
    "n=17\n",
    "print(s+str(n))"
   ]
  },
  {
   "cell_type": "code",
   "execution_count": 24,
   "id": "6644cdad-adf9-40e3-9344-9dfaadd628f6",
   "metadata": {},
   "outputs": [
    {
     "name": "stdout",
     "output_type": "stream",
     "text": [
      "string <class 'str'>\n",
      "string <class 'str'>\n",
      "नमस्ते <class 'str'>\n"
     ]
    }
   ],
   "source": [
    "a,b=\"string\",r\"string\"\n",
    "print(a,type(a))\n",
    "print(b,type(b))\n",
    "c=u\"नमस्ते\"\n",
    "print(c,type(c))"
   ]
  },
  {
   "cell_type": "code",
   "execution_count": 26,
   "id": "0ea5ffc7-9f29-4ecf-8a13-df87fa67e940",
   "metadata": {},
   "outputs": [
    {
     "name": "stdout",
     "output_type": "stream",
     "text": [
      "140732416009640 140732416009640 1856222954736\n"
     ]
    }
   ],
   "source": [
    "a=\"py\"\n",
    "b=\"py\"\n",
    "c=\"pi\"\n",
    "print(id(a),id(b),id(c))"
   ]
  },
  {
   "cell_type": "code",
   "execution_count": 27,
   "id": "51300a02-c465-4419-b130-a84a5f424707",
   "metadata": {},
   "outputs": [
    {
     "ename": "NameError",
     "evalue": "name 'a' is not defined",
     "output_type": "error",
     "traceback": [
      "\u001b[1;31m---------------------------------------------------------------------------\u001b[0m",
      "\u001b[1;31mNameError\u001b[0m                                 Traceback (most recent call last)",
      "Cell \u001b[1;32mIn[27], line 4\u001b[0m\n\u001b[0;32m      2\u001b[0m \u001b[38;5;28;01mdel\u001b[39;00m b\n\u001b[0;32m      3\u001b[0m \u001b[38;5;28;01mdel\u001b[39;00m c\n\u001b[1;32m----> 4\u001b[0m \u001b[38;5;28mprint\u001b[39m(a,b,c)\n",
      "\u001b[1;31mNameError\u001b[0m: name 'a' is not defined"
     ]
    }
   ],
   "source": [
    "del a\n",
    "del b\n",
    "del c\n",
    "print(a,b,c)"
   ]
  },
  {
   "cell_type": "code",
   "execution_count": 31,
   "id": "7518e6b5-1bb4-4299-a40d-6fe9c97e3883",
   "metadata": {},
   "outputs": [
    {
     "name": "stdin",
     "output_type": "stream",
     "text": [
      "Enter name: \"Vikram Singh\"\n",
      "Enter age: 23\n",
      "Enter height: 5.6\n"
     ]
    },
    {
     "name": "stdout",
     "output_type": "stream",
     "text": [
      "Name:Vikram Singh \n",
      "Age:23 \n",
      "Height:5.600000\n"
     ]
    }
   ],
   "source": [
    "n=eval(input(\"Enter name:\"))\n",
    "a=eval(input(\"Enter age:\"))\n",
    "h=eval(input(\"Enter height:\"))\n",
    "print(\"Name:%s \\nAge:%d \\nHeight:%f\"%(n,a,h))"
   ]
  },
  {
   "cell_type": "code",
   "execution_count": 12,
   "id": "409b6c71-3515-4e88-8e63-f2f0cec36057",
   "metadata": {},
   "outputs": [
    {
     "name": "stdout",
     "output_type": "stream",
     "text": [
      "a=Python\n",
      "b=A\n",
      "c=5\n",
      "d=-5\n",
      "e=5.500000\n",
      "f=4\n",
      "g=10\n",
      "h=1.000000e+02\n",
      "i=8.8\n"
     ]
    }
   ],
   "source": [
    "a=\"Python\"\n",
    "b=\"A\"\n",
    "c=5\n",
    "d=-5\n",
    "e=5.5\n",
    "f=0o4\n",
    "g=0x10\n",
    "h=10**2\n",
    "i=8.8\n",
    "print(\"a=%s\"%a)\n",
    "print(\"b=%c\"%b)\n",
    "print(\"c=%u\"%c)\n",
    "print(\"d=%d\"%d)\n",
    "print(\"e=%f\"%e)\n",
    "print(\"f=%o\"%f)\n",
    "print(\"g=%x\"%g)\n",
    "print(\"h=%e\"%h)\n",
    "print(\"i=%g\"%i)"
   ]
  },
  {
   "cell_type": "code",
   "execution_count": 28,
   "id": "fd50ec87-4022-4159-a0a7-9bebd2578bbd",
   "metadata": {},
   "outputs": [
    {
     "name": "stdout",
     "output_type": "stream",
     "text": [
      "Hello\n",
      "**hello***\n",
      "2\n",
      "True\n",
      "True\n",
      "1\n",
      "-1\n",
      "1\n",
      "3\n",
      "4\n"
     ]
    }
   ],
   "source": [
    "st=\"hello\"\n",
    "print(st.capitalize())\n",
    "print(st.center(10,\"*\"))\n",
    "str=\"l\"\n",
    "print(st.count(str,0,len(st)))\n",
    "str=\"o\"\n",
    "print(st.endswith(str,0,len(st)))\n",
    "str=\"h\"\n",
    "print(st.startswith(str,0,len(st)))\n",
    "str=\"e\"\n",
    "print(st.find(str,0,len(st)))\n",
    "str=\"a\"\n",
    "print(st.find(str,0,len(st)))\n",
    "str=\"el\"\n",
    "print(st.index(str,0,len(st)))\n",
    "str=\"l\"\n",
    "print(st.rfind(str,0,len(st)))\n",
    "str=\"o\"\n",
    "print(st.rindex(str,0,len(st)))"
   ]
  },
  {
   "cell_type": "code",
   "execution_count": 40,
   "id": "f5b64e4a-a77d-4727-bd25-21399433e456",
   "metadata": {},
   "outputs": [
    {
     "name": "stdout",
     "output_type": "stream",
     "text": [
      "False\n",
      "False\n",
      "False\n",
      "True\n",
      "True\n",
      "False\n",
      "False\n",
      "True\n",
      "7\n",
      "3084545721584\n",
      "program***\n",
      "***program\n"
     ]
    }
   ],
   "source": [
    "st=\"py3.2\"\n",
    "print(st.isdigit())\n",
    "print(st.isalpha())\n",
    "print(st.isalnum())\n",
    "st=\"py3\"\n",
    "print(st.isalnum())\n",
    "st=\"py\"\n",
    "print(st.islower())\n",
    "print(st.isupper())\n",
    "st=\"py th on\"\n",
    "print(st.isspace())\n",
    "st=\" \"\n",
    "print(st.isspace())\n",
    "st=\"program\"\n",
    "print(len(st))\n",
    "print(id(st))\n",
    "print(st.ljust(10,\"*\"))\n",
    "print(st.rjust(10,\"*\"))"
   ]
  },
  {
   "cell_type": "code",
   "execution_count": 52,
   "id": "1441c937-88d0-4702-af3f-6f641e04025c",
   "metadata": {},
   "outputs": [
    {
     "name": "stdout",
     "output_type": "stream",
     "text": [
      "00123\n",
      "-0123\n",
      "PY\n",
      "py\n",
      "py\n",
      "py *\n",
      "* py\n",
      "y\n",
      "h\n",
      "hackathon\n"
     ]
    }
   ],
   "source": [
    "st=\"123\"\n",
    "print(st.zfill(5))\n",
    "st=\"-123\"\n",
    "print(st.zfill(5))\n",
    "st=\"py\"\n",
    "print(st.upper())\n",
    "st=\"Py\"\n",
    "print(st.lower())\n",
    "st=\" py \"\n",
    "print(st.strip())\n",
    "st=\" py *\"\n",
    "print(st.lstrip())\n",
    "st=\"* py \"\n",
    "print(st.rstrip())\n",
    "st=\"python\"\n",
    "print(max(st))\n",
    "print(min(st))\n",
    "print(st.replace(\"py\",\"hacka\"))"
   ]
  },
  {
   "cell_type": "code",
   "execution_count": 61,
   "id": "bdbfcb46-cffc-4ad9-8103-47a9b6d4f467",
   "metadata": {},
   "outputs": [
    {
     "name": "stdout",
     "output_type": "stream",
     "text": [
      "Welcome To Usa!\n",
      "Py\n",
      "['USA', 'UK', 'AUS', 'NZ', 'EUR']\n",
      "USA-UK-AUS-NZ-EUR\n",
      "True\n",
      "[(0, 'I'), (1, 'd'), (2, 'e'), (3, 'n'), (4, 't'), (5, 'i'), (6, 'f'), (7, 'i'), (8, 'e'), (9, 'r')]\n"
     ]
    }
   ],
   "source": [
    "st=\"welcome to usa!\"\n",
    "print(st.title())\n",
    "st=\"pY\"\n",
    "print(st.swapcase())\n",
    "st=\"USA,UK,AUS,NZ,EUR\"\n",
    "print(st.split(\",\"))\n",
    "print(\"-\".join(['USA', 'UK', 'AUS', 'NZ', 'EUR']))\n",
    "st=\"Identifier\"\n",
    "print(st.isidentifier())\n",
    "print(list(enumerate(st)))"
   ]
  },
  {
   "cell_type": "code",
   "execution_count": 1,
   "id": "010b76d9-9152-41d7-831a-14ef701df3e1",
   "metadata": {},
   "outputs": [
    {
     "name": "stdout",
     "output_type": "stream",
     "text": [
      "y\n"
     ]
    }
   ],
   "source": [
    "st=\"malayalam\"\n",
    "print(st.strip(\"mala\"))"
   ]
  },
  {
   "cell_type": "code",
   "execution_count": 3,
   "id": "0aa9fdd3-ad2f-488f-98b1-2e70b32ad5ab",
   "metadata": {},
   "outputs": [
    {
     "name": "stdout",
     "output_type": "stream",
     "text": [
      "python,r and sql\n",
      "sql,python and r\n",
      "python,r and sql\n"
     ]
    }
   ],
   "source": [
    "st=\"{},{} and {}\".format(\"python\",\"r\",\"sql\")\n",
    "print(st)\n",
    "st=\"{2},{0} and {1}\".format(\"python\",\"r\",\"sql\")\n",
    "print(st)\n",
    "st=\"{a},{b} and {c}\".format(a=\"python\",b=\"r\",c=\"sql\")\n",
    "print(st)"
   ]
  },
  {
   "cell_type": "code",
   "execution_count": 8,
   "id": "c4f71b15-05fa-4939-ae94-daeb4f9005ac",
   "metadata": {},
   "outputs": [
    {
     "name": "stdout",
     "output_type": "stream",
     "text": [
      "['Sun and ', ' Stars, Planets ', ' and Moon ']\n",
      "['Sun and \\n', ' Stars, Planets \\n', ' and Moon \\n']\n"
     ]
    }
   ],
   "source": [
    "print(\"Sun and \\n Stars, Planets \\n and Moon \\n\".splitlines())\n",
    "print(\"Sun and \\n Stars, Planets \\n and Moon \\n\".splitlines(True))"
   ]
  },
  {
   "cell_type": "code",
   "execution_count": 14,
   "id": "a2605271-67bb-498a-b677-8b4eb2bb5957",
   "metadata": {},
   "outputs": [
    {
     "name": "stdout",
     "output_type": "stream",
     "text": [
      "string\n",
      "gnirts\n",
      "ring\n",
      "str\n"
     ]
    }
   ],
   "source": [
    "st=\"string\"\n",
    "print(st[0:len(st):1])\n",
    "print(st[::-1])\n",
    "print(st[2::])\n",
    "print(st[:-3])"
   ]
  },
  {
   "cell_type": "code",
   "execution_count": 16,
   "id": "6da6711b-8e4f-46c3-9d3c-20b7e7ec28bb",
   "metadata": {},
   "outputs": [
    {
     "name": "stdout",
     "output_type": "stream",
     "text": [
      "97\n",
      "a\n"
     ]
    }
   ],
   "source": [
    "ascii=97\n",
    "ch=\"a\"\n",
    "print(ord(ch))\n",
    "print(chr(ascii))"
   ]
  },
  {
   "cell_type": "code",
   "execution_count": 19,
   "id": "83de0dd4-6923-48c8-a82a-e37457c35ef0",
   "metadata": {},
   "outputs": [
    {
     "name": "stdout",
     "output_type": "stream",
     "text": [
      "True\n",
      "False\n",
      "False\n",
      "True\n"
     ]
    }
   ],
   "source": [
    "st1=\"hello world\"\n",
    "st2=\"hello\"\n",
    "print(st2 in st1)\n",
    "print(st1 in st2)\n",
    "print(st2 not in st1)\n",
    "print(st1 not in st2)"
   ]
  },
  {
   "cell_type": "code",
   "execution_count": 26,
   "id": "406d693b-5e4f-4aa8-8687-709912f675d5",
   "metadata": {},
   "outputs": [
    {
     "name": "stdin",
     "output_type": "stream",
     "text": [
      "Enter prime or composite: \"composite\"\n",
      "Enter number: 2\n"
     ]
    },
    {
     "name": "stdout",
     "output_type": "stream",
     "text": [
      "Not composite number!\n"
     ]
    }
   ],
   "source": [
    "choice=eval(input(\"Enter prime or composite:\"))\n",
    "if choice==\"prime\":\n",
    "    n=eval(input(\"Enter number:\"))\n",
    "    c=0\n",
    "    for i in range(2,n+1,1):\n",
    "        if n%i==0:\n",
    "            c=c+1\n",
    "    if c==1:\n",
    "        print(\"Prime number!\")\n",
    "    else:\n",
    "        print(\"Not prime number!\")\n",
    "elif choice==\"composite\":\n",
    "    n=eval(input(\"Enter number:\"))\n",
    "    c=0\n",
    "    for i in range(1,n+1,1):\n",
    "        if n%i==0:\n",
    "            c=c+1\n",
    "    if c>2:\n",
    "        print(\"Composite number!\")\n",
    "    else:\n",
    "        print(\"Not composite number!\")\n",
    "else:\n",
    "    print(\"Invalid choice!!\")"
   ]
  },
  {
   "cell_type": "code",
   "execution_count": 33,
   "id": "354398a2-5631-4340-8a46-0a2aa28b47e0",
   "metadata": {},
   "outputs": [
    {
     "name": "stdout",
     "output_type": "stream",
     "text": [
      "False\n",
      "True\n",
      "True\n",
      "False\n",
      "True\n",
      "False\n"
     ]
    }
   ],
   "source": [
    "st1=\"string1\"\n",
    "st2=\"string2\"\n",
    "print(st1==st2)\n",
    "print(st1!=st2)\n",
    "print(st1<st2)\n",
    "print(st1>st2)\n",
    "print(st1<=st2)\n",
    "print(st1>=st2)"
   ]
  },
  {
   "cell_type": "code",
   "execution_count": 38,
   "id": "e2f0d59e-7423-457b-b965-3179888042ee",
   "metadata": {},
   "outputs": [
    {
     "name": "stdout",
     "output_type": "stream",
     "text": [
      "112 121 116 104 111 110 \n",
      "48 49 50 51 52 53 54 55 56 57 \n",
      "A B C D E F G H I J K L M N O P Q R S T U V W X Y Z \n",
      "a b c d e f g h i j k l m n o p q r s t u v w x y z "
     ]
    }
   ],
   "source": [
    "st=\"python\"\n",
    "for i in st:\n",
    "    print(ord(i),end=\" \")\n",
    "print()\n",
    "st=\"0123456789\"\n",
    "for i in st:\n",
    "    print(ord(i),end=\" \")\n",
    "print()\n",
    "for i in range(65,90+1,1):\n",
    "    print(chr(i),end=\" \")\n",
    "print()\n",
    "for i in range(97,122+1,1):\n",
    "    print(chr(i),end=\" \")"
   ]
  },
  {
   "cell_type": "code",
   "execution_count": 40,
   "id": "592bff1d-14d7-4a5a-a1ff-fd06fd6aa996",
   "metadata": {},
   "outputs": [
    {
     "name": "stdout",
     "output_type": "stream",
     "text": [
      "p y t h o n \n",
      "p y t h o n "
     ]
    }
   ],
   "source": [
    "st=\"python\"\n",
    "for i in st:\n",
    "    print(i,end=\" \") \n",
    "print()\n",
    "for i in range(0,len(st),1):\n",
    "    print(st[i],end=\" \")"
   ]
  },
  {
   "cell_type": "code",
   "execution_count": 45,
   "id": "252d89bb-1c67-4d65-a172-5d86b82b78ed",
   "metadata": {},
   "outputs": [
    {
     "name": "stdin",
     "output_type": "stream",
     "text": [
      "Enter limit: 5\n"
     ]
    },
    {
     "name": "stdout",
     "output_type": "stream",
     "text": [
      "    1\n",
      "   121\n",
      "  12321\n",
      " 1234321\n",
      "123454321\n"
     ]
    }
   ],
   "source": [
    "n=eval(input(\"Enter limit:\"))\n",
    "for i in range(1,n+1,1):\n",
    "    for j in range(n,i,-1):\n",
    "        print(\" \",end=\"\")\n",
    "    for k in range(1,i,1):\n",
    "        print(k,end=\"\")\n",
    "    for l in range(i,0,-1):\n",
    "        print(l,end=\"\")\n",
    "    print()"
   ]
  },
  {
   "cell_type": "code",
   "execution_count": 49,
   "id": "39d2fba0-f5f2-442b-ad18-96c7906bcec0",
   "metadata": {},
   "outputs": [
    {
     "name": "stdin",
     "output_type": "stream",
     "text": [
      "Enter limit: 5\n"
     ]
    },
    {
     "name": "stdout",
     "output_type": "stream",
     "text": [
      "A \n",
      "A B \n",
      "A B C \n",
      "A B C D \n",
      "A B C D E \n"
     ]
    }
   ],
   "source": [
    "n=eval(input(\"Enter limit:\"))\n",
    "for i in range(1,n+1,1):\n",
    "    v=0\n",
    "    for j in range(1,i+1,1):\n",
    "        v=64+j\n",
    "        print(chr(v),end=\" \")\n",
    "    print()"
   ]
  },
  {
   "cell_type": "code",
   "execution_count": 51,
   "id": "c2b9ec6d-bb88-4cc4-b672-211bdb7bcd3f",
   "metadata": {},
   "outputs": [
    {
     "name": "stdin",
     "output_type": "stream",
     "text": [
      "Enter name: \"Sam\"\n",
      "Enter pan number: \"QWERTY98\"\n"
     ]
    },
    {
     "name": "stdout",
     "output_type": "stream",
     "text": [
      "Name: Sam \n",
      "PAN number: QWERTY98\n"
     ]
    }
   ],
   "source": [
    "while True:\n",
    "    n=eval(input(\"Enter name:\"))\n",
    "    if n.isalpha()==False:\n",
    "        print(\"Wrong name! we cannot proceed sorry!\")\n",
    "        break\n",
    "    else:\n",
    "        pn=eval(input(\"Enter pan number:\"))\n",
    "        if pn.isalnum()==False:\n",
    "            print(\"Wrong pan number! we cannot proceed sorry!\")\n",
    "            break\n",
    "        else:\n",
    "            print(\"Name:\",n,\"\\nPAN number:\",pn)\n",
    "            break"
   ]
  },
  {
   "cell_type": "code",
   "execution_count": 57,
   "id": "a37c7bab-7776-47bb-9d0b-eb2de8f15205",
   "metadata": {},
   "outputs": [
    {
     "name": "stdin",
     "output_type": "stream",
     "text": [
      "Enter message: \"hello world\"\n",
      "Enter key: 1\n"
     ]
    },
    {
     "name": "stdout",
     "output_type": "stream",
     "text": [
      "Message: hello world\n",
      "Encoded message: ifmmp!xpsme\n",
      "Decoded message: hello world\n"
     ]
    }
   ],
   "source": [
    "#Caesar cipher\n",
    "st=eval(input(\"Enter message:\"))\n",
    "key=eval(input(\"Enter key:\"))\n",
    "print(\"Message:\",st)\n",
    "new_st=\"\"\n",
    "for i in range(0,len(st),1):\n",
    "    new_st=new_st+chr(ord(st[i])+key)\n",
    "print(\"Encoded message:\",new_st)\n",
    "\n",
    "new_st1=\"\"\n",
    "for i in range(0,len(new_st),1):\n",
    "    new_st1=new_st1+chr(ord(new_st[i])-key)\n",
    "print(\"Decoded message:\",new_st1)"
   ]
  },
  {
   "cell_type": "code",
   "execution_count": 60,
   "id": "7db16a77-ff16-4cae-b8fe-d0032990d752",
   "metadata": {},
   "outputs": [
    {
     "name": "stdout",
     "output_type": "stream",
     "text": [
      "['Hello, coder! ', 'Good morning! ', 'Welcome to jupyter notebook!']\n"
     ]
    }
   ],
   "source": [
    "st='''Hello, coder! \n",
    "Good morning! \n",
    "Welcome to jupyter notebook!'''\n",
    "print(st.split(\"\\n\"))"
   ]
  },
  {
   "cell_type": "code",
   "execution_count": 61,
   "id": "4ac06e25-907c-483e-ad2e-189654b6674c",
   "metadata": {},
   "outputs": [
    {
     "name": "stdout",
     "output_type": "stream",
     "text": [
      "Aate Bate Cate Date Eate Fate Gate Hate "
     ]
    }
   ],
   "source": [
    "#Abecedarian series\n",
    "st1=\"ABCDEFGH\"\n",
    "st2=\"ate\"\n",
    "for i in st1:\n",
    "    print((i+st2),end=\" \")"
   ]
  },
  {
   "cell_type": "code",
   "execution_count": 68,
   "id": "1bd33be7-a4c7-43bc-acfd-5b9bf224d7c2",
   "metadata": {},
   "outputs": [
    {
     "name": "stdin",
     "output_type": "stream",
     "text": [
      "Enter string: \"Apple\"\n"
     ]
    },
    {
     "name": "stdout",
     "output_type": "stream",
     "text": [
      "ppl\n"
     ]
    }
   ],
   "source": [
    "st=eval(input(\"Enter string:\"))\n",
    "alpha=\"aeiou\"\n",
    "new_st=\"\"\n",
    "for i in range(0,len(st),1):\n",
    "    if (st[i] in alpha) or (st[i] in alpha.upper()):\n",
    "        pass\n",
    "    else:\n",
    "        new_st=new_st+st[i]\n",
    "print(new_st)"
   ]
  },
  {
   "cell_type": "code",
   "execution_count": 65,
   "id": "74306c0c-8aba-4799-8c40-ade7de954ed4",
   "metadata": {},
   "outputs": [
    {
     "name": "stdout",
     "output_type": "stream",
     "text": [
      "ABCDEFGHIJKLMNOPQRSTUVWXYZ\n"
     ]
    }
   ],
   "source": [
    "alpha=\"abcdefghijklmnopqrstuvwxyz\"\n",
    "print(alpha.upper())"
   ]
  },
  {
   "cell_type": "code",
   "execution_count": 74,
   "id": "497c5c40-042b-4272-83d3-78a0ddea837b",
   "metadata": {},
   "outputs": [
    {
     "name": "stdin",
     "output_type": "stream",
     "text": [
      "Enter string: \"string\"\n",
      "Enter character: \"k\"\n"
     ]
    },
    {
     "name": "stdout",
     "output_type": "stream",
     "text": [
      "character is not found!\n"
     ]
    }
   ],
   "source": [
    "st=eval(input(\"Enter string:\"))\n",
    "ch=eval(input(\"Enter character:\"))\n",
    "def f():\n",
    "    for i in range(0,len(st),1):\n",
    "        if st[i]==ch:\n",
    "            return \"character=\",ch,\"is present at index=\",i\n",
    "r=f()\n",
    "if r==None:\n",
    "    print(\"character is not found!\")\n",
    "else:\n",
    "    print(r)"
   ]
  },
  {
   "cell_type": "code",
   "execution_count": 75,
   "id": "29e103f0-d56e-427c-8df6-7be971b24790",
   "metadata": {},
   "outputs": [
    {
     "name": "stdin",
     "output_type": "stream",
     "text": [
      "Enter string: \"string\"\n",
      "Enter character: \"i\"\n"
     ]
    },
    {
     "name": "stdout",
     "output_type": "stream",
     "text": [
      "3\n"
     ]
    }
   ],
   "source": [
    "st=eval(input(\"Enter string:\"))\n",
    "ch=eval(input(\"Enter character:\"))\n",
    "print(st.index(ch,0,len(st)))"
   ]
  },
  {
   "cell_type": "code",
   "execution_count": 77,
   "id": "080f0210-5fbf-44fb-bb60-7233bb934947",
   "metadata": {},
   "outputs": [
    {
     "name": "stdin",
     "output_type": "stream",
     "text": [
      "Enter string: \"apple\"\n",
      "Enter character: \"p\"\n"
     ]
    },
    {
     "name": "stdout",
     "output_type": "stream",
     "text": [
      "character= p is occurred= 2 times\n"
     ]
    }
   ],
   "source": [
    "st=eval(input(\"Enter string:\"))\n",
    "ch=eval(input(\"Enter character:\"))\n",
    "c=0\n",
    "for i in range(0,len(st),1):\n",
    "    if st[i]==ch:\n",
    "        c=c+1\n",
    "print(\"character=\",ch,\"is occurred=\",c,\"times\")"
   ]
  },
  {
   "cell_type": "code",
   "execution_count": 80,
   "id": "d123e3df-9521-4f53-bc31-aca7cd748da9",
   "metadata": {},
   "outputs": [
    {
     "name": "stdin",
     "output_type": "stream",
     "text": [
      "Enter string: \"apple\"\n",
      "Enter character: \"p\"\n",
      "Enter index to start: 1\n"
     ]
    },
    {
     "name": "stdout",
     "output_type": "stream",
     "text": [
      "character= p is occurred= 2 times\n"
     ]
    }
   ],
   "source": [
    "def f(st,ch,index):\n",
    "    c=0\n",
    "    for i in range(index,len(st),1):\n",
    "        if st[i]==ch:\n",
    "            c=c+1\n",
    "    return c\n",
    "st=eval(input(\"Enter string:\"))\n",
    "ch=eval(input(\"Enter character:\"))\n",
    "index=eval(input(\"Enter index to start:\"))\n",
    "r=f(st,ch,index)\n",
    "print(\"character=\",ch,\"is occurred=\",r,\"times\")"
   ]
  },
  {
   "cell_type": "code",
   "execution_count": 82,
   "id": "c1525821-a8a0-4ce5-a835-71379be4ad23",
   "metadata": {},
   "outputs": [
    {
     "name": "stdin",
     "output_type": "stream",
     "text": [
      "Enter string: \"string\"\n"
     ]
    },
    {
     "name": "stdout",
     "output_type": "stream",
     "text": [
      "Reverse string: gnirts\n"
     ]
    }
   ],
   "source": [
    "def f(st):\n",
    "    new_st=\"\"\n",
    "    for i in range(len(st)-1,0-1,-1):\n",
    "        new_st=new_st+st[i]\n",
    "    return new_st\n",
    "st=eval(input(\"Enter string:\"))\n",
    "rev=f(st)\n",
    "print(\"Reverse string:\",rev)"
   ]
  },
  {
   "cell_type": "code",
   "execution_count": 6,
   "id": "d72726ce-a0b4-4cd2-a36b-31fb7e99cf21",
   "metadata": {},
   "outputs": [
    {
     "name": "stdout",
     "output_type": "stream",
     "text": [
      "20\n",
      "20\n",
      "28\n",
      "Email id: gmail.com\n",
      "The email was sent on mail.com Sun 22 19:23:25 2024\n"
     ]
    }
   ],
   "source": [
    "info=\"From krishnalal1360@gmail.com Sun 22 19:23:25 2024\"\n",
    "s=info.index(\"@\")+1\n",
    "print(s)\n",
    "s=info.find(\"@\")+1\n",
    "print(s)\n",
    "e=info.index(\".com\")+3\n",
    "print(e)\n",
    "print(\"Email id:\",info[s:e+1])\n",
    "ns=s+1\n",
    "ne=len(info)-1\n",
    "print(\"The email was sent on\",info[ns:ne+1])"
   ]
  },
  {
   "cell_type": "code",
   "execution_count": 21,
   "id": "d83e2ba4-bf46-4e32-8790-cfe1c495269d",
   "metadata": {},
   "outputs": [
    {
     "name": "stdout",
     "output_type": "stream",
     "text": [
      "['Formatter', 'Template', '_ChainMap', '__all__', '__builtins__', '__cached__', '__doc__', '__file__', '__loader__', '__name__', '__package__', '__spec__', '_re', '_sentinel_dict', '_string', 'ascii_letters', 'ascii_lowercase', 'ascii_uppercase', 'capwords', 'digits', 'hexdigits', 'octdigits', 'printable', 'punctuation', 'whitespace']\n",
      "abcdefghijklmnopqrstuvwxyzABCDEFGHIJKLMNOPQRSTUVWXYZ\n",
      "ABCDEFGHIJKLMNOPQRSTUVWXYZ\n",
      "abcdefghijklmnopqrstuvwxyz\n",
      "0123456789\n",
      "0123456789abcdefABCDEF\n",
      "01234567\n",
      "!\"#$%&'()*+,-./:;<=>?@[\\]^_`{|}~\n",
      " \t\n",
      "\u000b",
      "\f",
      "\n",
      "0123456789abcdefghijklmnopqrstuvwxyzABCDEFGHIJKLMNOPQRSTUVWXYZ!\"#$%&'()*+,-./:;<=>?@[\\]^_`{|}~ \t\n",
      "\u000b",
      "\f",
      "\n"
     ]
    }
   ],
   "source": [
    "import string as s\n",
    "print(dir(s))\n",
    "print(s.ascii_letters)\n",
    "print(s.ascii_uppercase)\n",
    "print(s.ascii_lowercase)\n",
    "print(s.digits)\n",
    "print(s.hexdigits)\n",
    "print(s.octdigits)\n",
    "print(s.punctuation)\n",
    "print(s.whitespace)\n",
    "print(s.printable)"
   ]
  },
  {
   "cell_type": "code",
   "execution_count": 24,
   "id": "5161e37a-24f9-495f-9357-5bd0d3443fbc",
   "metadata": {},
   "outputs": [
    {
     "name": "stdout",
     "output_type": "stream",
     "text": [
      "['Formatter', 'Template', '_ChainMap', '__all__', '__builtins__', '__cached__', '__doc__', '__file__', '__loader__', '__name__', '__package__', '__spec__', '_re', '_sentinel_dict', '_string', 'ascii_letters', 'ascii_lowercase', 'ascii_uppercase', 'capwords', 'digits', 'hexdigits', 'octdigits', 'printable', 'punctuation', 'whitespace']\n"
     ]
    }
   ],
   "source": [
    "import string as s\n",
    "print(dir(s))"
   ]
  },
  {
   "cell_type": "code",
   "execution_count": 25,
   "id": "94e72632-1bc5-4911-9a23-dc6934f49580",
   "metadata": {},
   "outputs": [
    {
     "name": "stdout",
     "output_type": "stream",
     "text": [
      "dict() -> new empty dictionary\n",
      "dict(mapping) -> new dictionary initialized from a mapping object's\n",
      "    (key, value) pairs\n",
      "dict(iterable) -> new dictionary initialized as if via:\n",
      "    d = {}\n",
      "    for k, v in iterable:\n",
      "        d[k] = v\n",
      "dict(**kwargs) -> new dictionary initialized with the name=value pairs\n",
      "    in the keyword argument list.  For example:  dict(one=1, two=2)\n"
     ]
    }
   ],
   "source": [
    "print(s.__builtins__.__doc__)"
   ]
  },
  {
   "cell_type": "code",
   "execution_count": 37,
   "id": "d4554f87-1b54-40ea-a185-c110d0a837bf",
   "metadata": {},
   "outputs": [
    {
     "name": "stdout",
     "output_type": "stream",
     "text": [
      "Help on built-in function isalpha:\n",
      "\n",
      "isalpha() method of builtins.str instance\n",
      "    Return True if the string is an alphabetic string, False otherwise.\n",
      "    \n",
      "    A string is alphabetic if all characters in the string are alphabetic and there\n",
      "    is at least one character in the string.\n",
      "\n"
     ]
    }
   ],
   "source": [
    "st=\"hello\"\n",
    "help(st.isalpha)"
   ]
  },
  {
   "cell_type": "code",
   "execution_count": 39,
   "id": "903c9a4e-54e1-4056-8919-4eec2a583ebb",
   "metadata": {},
   "outputs": [
    {
     "name": "stdout",
     "output_type": "stream",
     "text": [
      "Help on bool object:\n",
      "\n",
      "class bool(int)\n",
      " |  bool(x) -> bool\n",
      " |  \n",
      " |  Returns True when the argument x is true, False otherwise.\n",
      " |  The builtins True and False are the only two instances of the class bool.\n",
      " |  The class bool is a subclass of the class int, and cannot be subclassed.\n",
      " |  \n",
      " |  Method resolution order:\n",
      " |      bool\n",
      " |      int\n",
      " |      object\n",
      " |  \n",
      " |  Methods defined here:\n",
      " |  \n",
      " |  __and__(self, value, /)\n",
      " |      Return self&value.\n",
      " |  \n",
      " |  __or__(self, value, /)\n",
      " |      Return self|value.\n",
      " |  \n",
      " |  __rand__(self, value, /)\n",
      " |      Return value&self.\n",
      " |  \n",
      " |  __repr__(self, /)\n",
      " |      Return repr(self).\n",
      " |  \n",
      " |  __ror__(self, value, /)\n",
      " |      Return value|self.\n",
      " |  \n",
      " |  __rxor__(self, value, /)\n",
      " |      Return value^self.\n",
      " |  \n",
      " |  __xor__(self, value, /)\n",
      " |      Return self^value.\n",
      " |  \n",
      " |  ----------------------------------------------------------------------\n",
      " |  Static methods defined here:\n",
      " |  \n",
      " |  __new__(*args, **kwargs) from builtins.type\n",
      " |      Create and return a new object.  See help(type) for accurate signature.\n",
      " |  \n",
      " |  ----------------------------------------------------------------------\n",
      " |  Methods inherited from int:\n",
      " |  \n",
      " |  __abs__(self, /)\n",
      " |      abs(self)\n",
      " |  \n",
      " |  __add__(self, value, /)\n",
      " |      Return self+value.\n",
      " |  \n",
      " |  __bool__(self, /)\n",
      " |      True if self else False\n",
      " |  \n",
      " |  __ceil__(...)\n",
      " |      Ceiling of an Integral returns itself.\n",
      " |  \n",
      " |  __divmod__(self, value, /)\n",
      " |      Return divmod(self, value).\n",
      " |  \n",
      " |  __eq__(self, value, /)\n",
      " |      Return self==value.\n",
      " |  \n",
      " |  __float__(self, /)\n",
      " |      float(self)\n",
      " |  \n",
      " |  __floor__(...)\n",
      " |      Flooring an Integral returns itself.\n",
      " |  \n",
      " |  __floordiv__(self, value, /)\n",
      " |      Return self//value.\n",
      " |  \n",
      " |  __format__(self, format_spec, /)\n",
      " |      Default object formatter.\n",
      " |  \n",
      " |  __ge__(self, value, /)\n",
      " |      Return self>=value.\n",
      " |  \n",
      " |  __getattribute__(self, name, /)\n",
      " |      Return getattr(self, name).\n",
      " |  \n",
      " |  __getnewargs__(self, /)\n",
      " |  \n",
      " |  __gt__(self, value, /)\n",
      " |      Return self>value.\n",
      " |  \n",
      " |  __hash__(self, /)\n",
      " |      Return hash(self).\n",
      " |  \n",
      " |  __index__(self, /)\n",
      " |      Return self converted to an integer, if self is suitable for use as an index into a list.\n",
      " |  \n",
      " |  __int__(self, /)\n",
      " |      int(self)\n",
      " |  \n",
      " |  __invert__(self, /)\n",
      " |      ~self\n",
      " |  \n",
      " |  __le__(self, value, /)\n",
      " |      Return self<=value.\n",
      " |  \n",
      " |  __lshift__(self, value, /)\n",
      " |      Return self<<value.\n",
      " |  \n",
      " |  __lt__(self, value, /)\n",
      " |      Return self<value.\n",
      " |  \n",
      " |  __mod__(self, value, /)\n",
      " |      Return self%value.\n",
      " |  \n",
      " |  __mul__(self, value, /)\n",
      " |      Return self*value.\n",
      " |  \n",
      " |  __ne__(self, value, /)\n",
      " |      Return self!=value.\n",
      " |  \n",
      " |  __neg__(self, /)\n",
      " |      -self\n",
      " |  \n",
      " |  __pos__(self, /)\n",
      " |      +self\n",
      " |  \n",
      " |  __pow__(self, value, mod=None, /)\n",
      " |      Return pow(self, value, mod).\n",
      " |  \n",
      " |  __radd__(self, value, /)\n",
      " |      Return value+self.\n",
      " |  \n",
      " |  __rdivmod__(self, value, /)\n",
      " |      Return divmod(value, self).\n",
      " |  \n",
      " |  __rfloordiv__(self, value, /)\n",
      " |      Return value//self.\n",
      " |  \n",
      " |  __rlshift__(self, value, /)\n",
      " |      Return value<<self.\n",
      " |  \n",
      " |  __rmod__(self, value, /)\n",
      " |      Return value%self.\n",
      " |  \n",
      " |  __rmul__(self, value, /)\n",
      " |      Return value*self.\n",
      " |  \n",
      " |  __round__(...)\n",
      " |      Rounding an Integral returns itself.\n",
      " |      \n",
      " |      Rounding with an ndigits argument also returns an integer.\n",
      " |  \n",
      " |  __rpow__(self, value, mod=None, /)\n",
      " |      Return pow(value, self, mod).\n",
      " |  \n",
      " |  __rrshift__(self, value, /)\n",
      " |      Return value>>self.\n",
      " |  \n",
      " |  __rshift__(self, value, /)\n",
      " |      Return self>>value.\n",
      " |  \n",
      " |  __rsub__(self, value, /)\n",
      " |      Return value-self.\n",
      " |  \n",
      " |  __rtruediv__(self, value, /)\n",
      " |      Return value/self.\n",
      " |  \n",
      " |  __sizeof__(self, /)\n",
      " |      Returns size in memory, in bytes.\n",
      " |  \n",
      " |  __sub__(self, value, /)\n",
      " |      Return self-value.\n",
      " |  \n",
      " |  __truediv__(self, value, /)\n",
      " |      Return self/value.\n",
      " |  \n",
      " |  __trunc__(...)\n",
      " |      Truncating an Integral returns itself.\n",
      " |  \n",
      " |  as_integer_ratio(self, /)\n",
      " |      Return integer ratio.\n",
      " |      \n",
      " |      Return a pair of integers, whose ratio is exactly equal to the original int\n",
      " |      and with a positive denominator.\n",
      " |      \n",
      " |      >>> (10).as_integer_ratio()\n",
      " |      (10, 1)\n",
      " |      >>> (-10).as_integer_ratio()\n",
      " |      (-10, 1)\n",
      " |      >>> (0).as_integer_ratio()\n",
      " |      (0, 1)\n",
      " |  \n",
      " |  bit_count(self, /)\n",
      " |      Number of ones in the binary representation of the absolute value of self.\n",
      " |      \n",
      " |      Also known as the population count.\n",
      " |      \n",
      " |      >>> bin(13)\n",
      " |      '0b1101'\n",
      " |      >>> (13).bit_count()\n",
      " |      3\n",
      " |  \n",
      " |  bit_length(self, /)\n",
      " |      Number of bits necessary to represent self in binary.\n",
      " |      \n",
      " |      >>> bin(37)\n",
      " |      '0b100101'\n",
      " |      >>> (37).bit_length()\n",
      " |      6\n",
      " |  \n",
      " |  conjugate(...)\n",
      " |      Returns self, the complex conjugate of any int.\n",
      " |  \n",
      " |  to_bytes(self, /, length=1, byteorder='big', *, signed=False)\n",
      " |      Return an array of bytes representing an integer.\n",
      " |      \n",
      " |      length\n",
      " |        Length of bytes object to use.  An OverflowError is raised if the\n",
      " |        integer is not representable with the given number of bytes.  Default\n",
      " |        is length 1.\n",
      " |      byteorder\n",
      " |        The byte order used to represent the integer.  If byteorder is 'big',\n",
      " |        the most significant byte is at the beginning of the byte array.  If\n",
      " |        byteorder is 'little', the most significant byte is at the end of the\n",
      " |        byte array.  To request the native byte order of the host system, use\n",
      " |        `sys.byteorder' as the byte order value.  Default is to use 'big'.\n",
      " |      signed\n",
      " |        Determines whether two's complement is used to represent the integer.\n",
      " |        If signed is False and a negative integer is given, an OverflowError\n",
      " |        is raised.\n",
      " |  \n",
      " |  ----------------------------------------------------------------------\n",
      " |  Class methods inherited from int:\n",
      " |  \n",
      " |  from_bytes(bytes, byteorder='big', *, signed=False) from builtins.type\n",
      " |      Return the integer represented by the given array of bytes.\n",
      " |      \n",
      " |      bytes\n",
      " |        Holds the array of bytes to convert.  The argument must either\n",
      " |        support the buffer protocol or be an iterable object producing bytes.\n",
      " |        Bytes and bytearray are examples of built-in objects that support the\n",
      " |        buffer protocol.\n",
      " |      byteorder\n",
      " |        The byte order used to represent the integer.  If byteorder is 'big',\n",
      " |        the most significant byte is at the beginning of the byte array.  If\n",
      " |        byteorder is 'little', the most significant byte is at the end of the\n",
      " |        byte array.  To request the native byte order of the host system, use\n",
      " |        `sys.byteorder' as the byte order value.  Default is to use 'big'.\n",
      " |      signed\n",
      " |        Indicates whether two's complement is used to represent the integer.\n",
      " |  \n",
      " |  ----------------------------------------------------------------------\n",
      " |  Data descriptors inherited from int:\n",
      " |  \n",
      " |  denominator\n",
      " |      the denominator of a rational number in lowest terms\n",
      " |  \n",
      " |  imag\n",
      " |      the imaginary part of a complex number\n",
      " |  \n",
      " |  numerator\n",
      " |      the numerator of a rational number in lowest terms\n",
      " |  \n",
      " |  real\n",
      " |      the real part of a complex number\n",
      "\n"
     ]
    }
   ],
   "source": [
    "help(st.isalpha())"
   ]
  },
  {
   "cell_type": "code",
   "execution_count": 40,
   "id": "25efb958-91d1-4bae-b2c0-0d45ffdf8f02",
   "metadata": {},
   "outputs": [
    {
     "name": "stdout",
     "output_type": "stream",
     "text": [
      "['__add__', '__class__', '__contains__', '__delattr__', '__dir__', '__doc__', '__eq__', '__format__', '__ge__', '__getattribute__', '__getitem__', '__getnewargs__', '__getstate__', '__gt__', '__hash__', '__init__', '__init_subclass__', '__iter__', '__le__', '__len__', '__lt__', '__mod__', '__mul__', '__ne__', '__new__', '__reduce__', '__reduce_ex__', '__repr__', '__rmod__', '__rmul__', '__setattr__', '__sizeof__', '__str__', '__subclasshook__', 'capitalize', 'casefold', 'center', 'count', 'encode', 'endswith', 'expandtabs', 'find', 'format', 'format_map', 'index', 'isalnum', 'isalpha', 'isascii', 'isdecimal', 'isdigit', 'isidentifier', 'islower', 'isnumeric', 'isprintable', 'isspace', 'istitle', 'isupper', 'join', 'ljust', 'lower', 'lstrip', 'maketrans', 'partition', 'removeprefix', 'removesuffix', 'replace', 'rfind', 'rindex', 'rjust', 'rpartition', 'rsplit', 'rstrip', 'split', 'splitlines', 'startswith', 'strip', 'swapcase', 'title', 'translate', 'upper', 'zfill']\n"
     ]
    }
   ],
   "source": [
    "print(dir(st))"
   ]
  },
  {
   "cell_type": "code",
   "execution_count": 47,
   "id": "10f30dfc-6667-48fb-83c0-b43ca3f04f6c",
   "metadata": {},
   "outputs": [
    {
     "data": {
      "text/plain": [
       "'Welcome to the python world!'"
      ]
     },
     "execution_count": 47,
     "metadata": {},
     "output_type": "execute_result"
    }
   ],
   "source": [
    "import pyperclip\n",
    "pyperclip.copy(\"Welcome to the python world!\")\n",
    "pyperclip.paste()"
   ]
  },
  {
   "cell_type": "code",
   "execution_count": 48,
   "id": "42bf5cf0-bd97-4c5f-88fc-e07b19d9831f",
   "metadata": {},
   "outputs": [
    {
     "data": {
      "text/plain": [
       "'pyperclip.paste()'"
      ]
     },
     "execution_count": 48,
     "metadata": {},
     "output_type": "execute_result"
    }
   ],
   "source": [
    "pyperclip.paste()"
   ]
  },
  {
   "cell_type": "code",
   "execution_count": 1,
   "id": "b39cc8d0-911a-428f-83c8-0a4f96342b8e",
   "metadata": {},
   "outputs": [
    {
     "name": "stdout",
     "output_type": "stream",
     "text": [
      "Match not found!\n"
     ]
    }
   ],
   "source": [
    "import re\n",
    "st=\"She sells sea shells on the sea shore\"\n",
    "pat=\"shells\"\n",
    "if re.match(pat,st):\n",
    "    print(\"Match found!\")\n",
    "else:\n",
    "    print(\"Match not found!\")"
   ]
  },
  {
   "cell_type": "code",
   "execution_count": 26,
   "id": "ce244809-ec9b-4721-be7e-1f3cc2e6f9af",
   "metadata": {},
   "outputs": [
    {
     "name": "stdout",
     "output_type": "stream",
     "text": [
      "Match found!\n",
      "0\n",
      "2\n",
      "(0, 2)\n"
     ]
    }
   ],
   "source": [
    "st=\"python\"\n",
    "p=\"py\"\n",
    "if re.match(p,st):\n",
    "    print(\"Match found!\")\n",
    "else:\n",
    "    print(\"Match not found!\")\n",
    "print(re.match(p,st).start())\n",
    "print(re.match(p,st).end())\n",
    "print(re.match(p,st).span())"
   ]
  },
  {
   "cell_type": "code",
   "execution_count": 29,
   "id": "2a2eefd6-8f36-42ae-8c38-a5cbe87cc41c",
   "metadata": {},
   "outputs": [
    {
     "name": "stdout",
     "output_type": "stream",
     "text": [
      "Match found!\n",
      "10\n",
      "13\n",
      "(10, 13)\n"
     ]
    }
   ],
   "source": [
    "st=\"She sells sea shells on the sea shore\"\n",
    "p=\"sea\"\n",
    "if re.search(p,st):\n",
    "    print(\"Match found!\")\n",
    "else:\n",
    "    print(\"Match not found!\")\n",
    "print(re.search(p,st).start())\n",
    "print(re.search(p,st).end())\n",
    "print(re.search(p,st).span())"
   ]
  },
  {
   "cell_type": "code",
   "execution_count": 21,
   "id": "3f6a20ea-27e3-47d5-a219-209560b4cbe2",
   "metadata": {},
   "outputs": [
    {
     "name": "stdout",
     "output_type": "stream",
     "text": [
      "She sells ocean shells on the sea shore\n",
      "She sells ocean shells on the ocean shore\n"
     ]
    }
   ],
   "source": [
    "st=\"She sells sea shells on the sea shore\"\n",
    "pat=\"sea\"\n",
    "repl=\"ocean\"\n",
    "new_st=re.sub(pat,repl,st,1)\n",
    "print(new_st)\n",
    "new_st=re.sub(pat,repl,st,2)\n",
    "print(new_st)"
   ]
  },
  {
   "cell_type": "code",
   "execution_count": 35,
   "id": "2244aeb4-f649-4bea-b8c9-f490ec8a1a12",
   "metadata": {},
   "outputs": [
    {
     "name": "stdout",
     "output_type": "stream",
     "text": [
      "['LXI 2013', 'VXI 2015', 'VDI 20104']\n"
     ]
    }
   ],
   "source": [
    "pat=r\"[a-zA-Z]+ \\d+\"\n",
    "st=\"LXI 2013, VXI 2015, VDI 20104, Maruti Suzuki cars in USA\"\n",
    "matches=re.findall(pat,st)\n",
    "print(matches)"
   ]
  },
  {
   "cell_type": "code",
   "execution_count": 34,
   "id": "fb3821fd-c32f-48de-90b5-24418fbdffb9",
   "metadata": {},
   "outputs": [
    {
     "name": "stdout",
     "output_type": "stream",
     "text": [
      "Start: 0\n",
      "End: 8\n",
      "Span: (0, 8)\n",
      "Start: 10\n",
      "End: 18\n",
      "Span: (10, 18)\n",
      "Start: 20\n",
      "End: 29\n",
      "Span: (20, 29)\n"
     ]
    }
   ],
   "source": [
    "pat=r\"[a-zA-Z]+ \\d+\"\n",
    "st=\"LXI 2013, VXI 2015, VDI 20104, Maruti Suzuki cars in USA\"\n",
    "matches=re.finditer(pat,st)\n",
    "for match in matches:\n",
    "    print(\"Start:\",match.start())\n",
    "    print(\"End:\",match.end())\n",
    "    print(\"Span:\",match.span())"
   ]
  },
  {
   "cell_type": "code",
   "execution_count": 3,
   "id": "e241db6d-eb55-40f9-bfa1-8982f0d4aa29",
   "metadata": {},
   "outputs": [
    {
     "name": "stdout",
     "output_type": "stream",
     "text": [
      "Search found!\n",
      "Match found!\n"
     ]
    }
   ],
   "source": [
    "import re\n",
    "pat=r\"^py\"\n",
    "st=\"python\"\n",
    "if re.search(pat,st):\n",
    "    print(\"Search found!\")\n",
    "else:\n",
    "    print(\"Search not found!\")\n",
    "if re.match(pat,st):\n",
    "    print(\"Match found!\")\n",
    "else:\n",
    "    print(\"Match not found!\")"
   ]
  },
  {
   "cell_type": "code",
   "execution_count": 4,
   "id": "1b363d25-97b3-48e0-9a68-ba043f421307",
   "metadata": {},
   "outputs": [
    {
     "name": "stdout",
     "output_type": "stream",
     "text": [
      "Search not found!\n",
      "Match not found!\n"
     ]
    }
   ],
   "source": [
    "pat=r\"py$\"\n",
    "st=\"python\"\n",
    "if re.search(pat,st):\n",
    "    print(\"Search found!\")\n",
    "else:\n",
    "    print(\"Search not found!\")\n",
    "if re.match(pat,st):\n",
    "    print(\"Match found!\")\n",
    "else:\n",
    "    print(\"Match not found!\")"
   ]
  },
  {
   "cell_type": "code",
   "execution_count": 5,
   "id": "489f6428-c862-41be-8d00-93502fa8c4cb",
   "metadata": {},
   "outputs": [
    {
     "name": "stdout",
     "output_type": "stream",
     "text": [
      "Search found!\n",
      "Match not found!\n"
     ]
    }
   ],
   "source": [
    "pat=r\"th.\"\n",
    "st=\"python\"\n",
    "if re.search(pat,st):\n",
    "    print(\"Search found!\")\n",
    "else:\n",
    "    print(\"Search not found!\")\n",
    "if re.match(pat,st):\n",
    "    print(\"Match found!\")\n",
    "else:\n",
    "    print(\"Match not found!\")"
   ]
  },
  {
   "cell_type": "code",
   "execution_count": 6,
   "id": "3630f44d-0d11-44eb-b1e6-081229d4c425",
   "metadata": {},
   "outputs": [
    {
     "name": "stdout",
     "output_type": "stream",
     "text": [
      "Search found!\n",
      "Match found!\n"
     ]
    }
   ],
   "source": [
    "pat=r\"[Pp]ython\"\n",
    "st=\"python\"\n",
    "if re.search(pat,st):\n",
    "    print(\"Search found!\")\n",
    "else:\n",
    "    print(\"Search not found!\")\n",
    "if re.match(pat,st):\n",
    "    print(\"Match found!\")\n",
    "else:\n",
    "    print(\"Match not found!\")"
   ]
  },
  {
   "cell_type": "code",
   "execution_count": 7,
   "id": "04211c3a-1f0b-4a34-b123-531b31fecad5",
   "metadata": {},
   "outputs": [
    {
     "name": "stdout",
     "output_type": "stream",
     "text": [
      "Search found!\n",
      "Match found!\n"
     ]
    }
   ],
   "source": [
    "pat=r\"[^thon]\"\n",
    "st=\"python\"\n",
    "if re.search(pat,st):\n",
    "    print(\"Search found!\")\n",
    "else:\n",
    "    print(\"Search not found!\")\n",
    "if re.match(pat,st):\n",
    "    print(\"Match found!\")\n",
    "else:\n",
    "    print(\"Match not found!\")"
   ]
  },
  {
   "cell_type": "code",
   "execution_count": 10,
   "id": "7b4723c9-85b5-42fb-8873-a15986d668a0",
   "metadata": {},
   "outputs": [
    {
     "name": "stdout",
     "output_type": "stream",
     "text": [
      "Search found!\n",
      "Match found!\n"
     ]
    }
   ],
   "source": [
    "pat=r\"[a-z]*\"\n",
    "st=\"python\"\n",
    "if re.search(pat,st):\n",
    "    print(\"Search found!\")\n",
    "else:\n",
    "    print(\"Search not found!\")\n",
    "if re.match(pat,st):\n",
    "    print(\"Match found!\")\n",
    "else:\n",
    "    print(\"Match not found!\")"
   ]
  },
  {
   "cell_type": "code",
   "execution_count": 11,
   "id": "5bbb9ecb-781e-48dc-aa0d-f0c21ff62463",
   "metadata": {},
   "outputs": [
    {
     "name": "stdout",
     "output_type": "stream",
     "text": [
      "Search found!\n",
      "Match found!\n"
     ]
    }
   ],
   "source": [
    "pat=r\"[a-z]+\"\n",
    "st=\"python\"\n",
    "if re.search(pat,st):\n",
    "    print(\"Search found!\")\n",
    "else:\n",
    "    print(\"Search not found!\")\n",
    "if re.match(pat,st):\n",
    "    print(\"Match found!\")\n",
    "else:\n",
    "    print(\"Match not found!\")"
   ]
  },
  {
   "cell_type": "code",
   "execution_count": 12,
   "id": "e1e44602-d60b-4c05-a75e-300dd1a99705",
   "metadata": {},
   "outputs": [
    {
     "name": "stdout",
     "output_type": "stream",
     "text": [
      "Search found!\n",
      "Match found!\n"
     ]
    }
   ],
   "source": [
    "pat=r\"python?\"\n",
    "st=\"pythons\"\n",
    "if re.search(pat,st):\n",
    "    print(\"Search found!\")\n",
    "else:\n",
    "    print(\"Search not found!\")\n",
    "if re.match(pat,st):\n",
    "    print(\"Match found!\")\n",
    "else:\n",
    "    print(\"Match not found!\")"
   ]
  },
  {
   "cell_type": "code",
   "execution_count": 13,
   "id": "8752b5c7-f0c5-4586-957c-94a4a2e56c80",
   "metadata": {},
   "outputs": [
    {
     "name": "stdout",
     "output_type": "stream",
     "text": [
      "Search found!\n",
      "Match found!\n"
     ]
    }
   ],
   "source": [
    "pat=r\"42{1}5\"\n",
    "st=\"425\"\n",
    "if re.search(pat,st):\n",
    "    print(\"Search found!\")\n",
    "else:\n",
    "    print(\"Search not found!\")\n",
    "if re.match(pat,st):\n",
    "    print(\"Match found!\")\n",
    "else:\n",
    "    print(\"Match not found!\")"
   ]
  },
  {
   "cell_type": "code",
   "execution_count": 14,
   "id": "e4d25039-7281-46e7-af8c-0fa90050f1b6",
   "metadata": {},
   "outputs": [
    {
     "name": "stdout",
     "output_type": "stream",
     "text": [
      "Search found!\n",
      "Match found!\n"
     ]
    }
   ],
   "source": [
    "pat=r\"42{1,}5\"\n",
    "st=\"422222225\"\n",
    "if re.search(pat,st):\n",
    "    print(\"Search found!\")\n",
    "else:\n",
    "    print(\"Search not found!\")\n",
    "if re.match(pat,st):\n",
    "    print(\"Match found!\")\n",
    "else:\n",
    "    print(\"Match not found!\")"
   ]
  },
  {
   "cell_type": "code",
   "execution_count": 15,
   "id": "e93d0788-e053-421b-9fb5-fef783bd63c1",
   "metadata": {},
   "outputs": [
    {
     "name": "stdout",
     "output_type": "stream",
     "text": [
      "Search found!\n",
      "Match found!\n"
     ]
    }
   ],
   "source": [
    "pat=r\"42{1,3}5\"\n",
    "st=\"42225\"\n",
    "if re.search(pat,st):\n",
    "    print(\"Search found!\")\n",
    "else:\n",
    "    print(\"Search not found!\")\n",
    "if re.match(pat,st):\n",
    "    print(\"Match found!\")\n",
    "else:\n",
    "    print(\"Match not found!\")"
   ]
  },
  {
   "cell_type": "code",
   "execution_count": 16,
   "id": "cb4124d3-3d98-4e9e-92ce-ee9a014d0739",
   "metadata": {},
   "outputs": [
    {
     "name": "stdout",
     "output_type": "stream",
     "text": [
      "Search found!\n",
      "Match found!\n"
     ]
    }
   ],
   "source": [
    "pat=r\"python|PYTHON\"\n",
    "st=\"PYTHON\"\n",
    "if re.search(pat,st):\n",
    "    print(\"Search found!\")\n",
    "else:\n",
    "    print(\"Search not found!\")\n",
    "if re.match(pat,st):\n",
    "    print(\"Match found!\")\n",
    "else:\n",
    "    print(\"Match not found!\")"
   ]
  },
  {
   "cell_type": "code",
   "execution_count": null,
   "id": "0470dfcc-eb31-40d8-8e72-1154fa5b6bb2",
   "metadata": {},
   "outputs": [],
   "source": [
    "pat=r\"42{1,3}5\"\n",
    "st=\"42225\"\n",
    "if re.search(pat,st):\n",
    "    print(\"Search found!\")\n",
    "else:\n",
    "    print(\"Search not found!\")\n",
    "if re.match(pat,st):\n",
    "    print(\"Match found!\")\n",
    "else:\n",
    "    print(\"Match not found!\")"
   ]
  },
  {
   "cell_type": "code",
   "execution_count": 17,
   "id": "ea3a6949-a2b4-4a2f-8297-ab615c4a5da1",
   "metadata": {},
   "outputs": [
    {
     "name": "stdout",
     "output_type": "stream",
     "text": [
      "Search found!\n",
      "Match found!\n"
     ]
    }
   ],
   "source": [
    "pat=r\"\\w\"\n",
    "st=\"xl40\"\n",
    "if re.search(pat,st):\n",
    "    print(\"Search found!\")\n",
    "else:\n",
    "    print(\"Search not found!\")\n",
    "if re.match(pat,st):\n",
    "    print(\"Match found!\")\n",
    "else:\n",
    "    print(\"Match not found!\")"
   ]
  },
  {
   "cell_type": "code",
   "execution_count": 18,
   "id": "6df9f856-d773-47a3-96ac-9832a71f6a5a",
   "metadata": {},
   "outputs": [
    {
     "name": "stdout",
     "output_type": "stream",
     "text": [
      "Search found!\n",
      "Match found!\n"
     ]
    }
   ],
   "source": [
    "pat=r\"\\W\"\n",
    "st=\"@#$\"\n",
    "if re.search(pat,st):\n",
    "    print(\"Search found!\")\n",
    "else:\n",
    "    print(\"Search not found!\")\n",
    "if re.match(pat,st):\n",
    "    print(\"Match found!\")\n",
    "else:\n",
    "    print(\"Match not found!\")"
   ]
  },
  {
   "cell_type": "code",
   "execution_count": 19,
   "id": "7f228924-7246-4163-835c-be13be0907ee",
   "metadata": {},
   "outputs": [
    {
     "name": "stdout",
     "output_type": "stream",
     "text": [
      "Search found!\n",
      "Match not found!\n"
     ]
    }
   ],
   "source": [
    "pat=r\"\\s\"#r\"[\\t\\n\\r\\f]\"\n",
    "st=\"Zion\\tChrist\"\n",
    "if re.search(pat,st):\n",
    "    print(\"Search found!\")\n",
    "else:\n",
    "    print(\"Search not found!\")\n",
    "if re.match(pat,st):\n",
    "    print(\"Match found!\")\n",
    "else:\n",
    "    print(\"Match not found!\")"
   ]
  },
  {
   "cell_type": "code",
   "execution_count": 21,
   "id": "4e8f2493-2f8c-4414-ad43-d42d868eed9e",
   "metadata": {},
   "outputs": [
    {
     "name": "stdout",
     "output_type": "stream",
     "text": [
      "Search found!\n",
      "Match found!\n"
     ]
    }
   ],
   "source": [
    "pat=r\"\\S\"#r\"[^\\t\\n\\r\\f]\"\n",
    "st=\"Zion\\tChrist\"\n",
    "if re.search(pat,st):\n",
    "    print(\"Search found!\")\n",
    "else:\n",
    "    print(\"Search not found!\")\n",
    "if re.match(pat,st):\n",
    "    print(\"Match found!\")\n",
    "else:\n",
    "    print(\"Match not found!\")"
   ]
  },
  {
   "cell_type": "code",
   "execution_count": 22,
   "id": "d387aabf-2690-47a9-9cd0-b6dedd175b66",
   "metadata": {},
   "outputs": [
    {
     "name": "stdout",
     "output_type": "stream",
     "text": [
      "Search found!\n",
      "Match found!\n"
     ]
    }
   ],
   "source": [
    "pat=r\"\\d\"\n",
    "st=\"4\"\n",
    "if re.search(pat,st):\n",
    "    print(\"Search found!\")\n",
    "else:\n",
    "    print(\"Search not found!\")\n",
    "if re.match(pat,st):\n",
    "    print(\"Match found!\")\n",
    "else:\n",
    "    print(\"Match not found!\")"
   ]
  },
  {
   "cell_type": "code",
   "execution_count": 24,
   "id": "9b1d5aa9-d64a-4987-87b9-b99e78e98c5f",
   "metadata": {},
   "outputs": [
    {
     "name": "stdout",
     "output_type": "stream",
     "text": [
      "Search found!\n",
      "Match found!\n"
     ]
    }
   ],
   "source": [
    "pat=r\"\\d{1}\"\n",
    "st=\"42\"\n",
    "if re.search(pat,st):\n",
    "    print(\"Search found!\")\n",
    "else:\n",
    "    print(\"Search not found!\")\n",
    "if re.match(pat,st):\n",
    "    print(\"Match found!\")\n",
    "else:\n",
    "    print(\"Match not found!\")"
   ]
  },
  {
   "cell_type": "code",
   "execution_count": 25,
   "id": "3925f3fb-cb07-472e-a320-dda8b8239d97",
   "metadata": {},
   "outputs": [
    {
     "name": "stdout",
     "output_type": "stream",
     "text": [
      "Search found!\n",
      "Match found!\n"
     ]
    }
   ],
   "source": [
    "pat=r\"\\d{1,}\"\n",
    "st=\"425\"\n",
    "if re.search(pat,st):\n",
    "    print(\"Search found!\")\n",
    "else:\n",
    "    print(\"Search not found!\")\n",
    "if re.match(pat,st):\n",
    "    print(\"Match found!\")\n",
    "else:\n",
    "    print(\"Match not found!\")"
   ]
  },
  {
   "cell_type": "code",
   "execution_count": 27,
   "id": "5a6ef6d7-ea87-4b5d-9ae9-fec54527bed2",
   "metadata": {},
   "outputs": [
    {
     "name": "stdout",
     "output_type": "stream",
     "text": [
      "Search found!\n",
      "Match found!\n"
     ]
    }
   ],
   "source": [
    "pat=r\"\\d{1,3}\"\n",
    "st=\"4225\"\n",
    "if re.search(pat,st):\n",
    "    print(\"Search found!\")\n",
    "else:\n",
    "    print(\"Search not found!\")\n",
    "if re.match(pat,st):\n",
    "    print(\"Match found!\")\n",
    "else:\n",
    "    print(\"Match not found!\")"
   ]
  },
  {
   "cell_type": "code",
   "execution_count": 28,
   "id": "09798a58-b297-41cf-8a34-6b756bdac0ab",
   "metadata": {},
   "outputs": [
    {
     "name": "stdout",
     "output_type": "stream",
     "text": [
      "Search found!\n",
      "Match found!\n"
     ]
    }
   ],
   "source": [
    "pat=r\"\\D\"\n",
    "st=\"python\"\n",
    "if re.search(pat,st):\n",
    "    print(\"Search found!\")\n",
    "else:\n",
    "    print(\"Search not found!\")\n",
    "if re.match(pat,st):\n",
    "    print(\"Match found!\")\n",
    "else:\n",
    "    print(\"Match not found!\")"
   ]
  },
  {
   "cell_type": "code",
   "execution_count": 30,
   "id": "2d444629-2784-49e8-886b-de1846f8f8ca",
   "metadata": {},
   "outputs": [
    {
     "name": "stdout",
     "output_type": "stream",
     "text": [
      "Search found!\n",
      "Match found!\n"
     ]
    }
   ],
   "source": [
    "pat=r\"\\D{1,2}+ \\d{1,3}\"\n",
    "st=\"WB 420\"\n",
    "if re.search(pat,st):\n",
    "    print(\"Search found!\")\n",
    "else:\n",
    "    print(\"Search not found!\")\n",
    "if re.match(pat,st):\n",
    "    print(\"Match found!\")\n",
    "else:\n",
    "    print(\"Match not found!\")"
   ]
  },
  {
   "cell_type": "code",
   "execution_count": 31,
   "id": "319a31a4-01b0-4b38-a733-bc403ab768b1",
   "metadata": {},
   "outputs": [
    {
     "name": "stdout",
     "output_type": "stream",
     "text": [
      "Search found!\n",
      "Match found!\n"
     ]
    }
   ],
   "source": [
    "pat=r\"\\AHello\"\n",
    "st=\"Hello world!\"\n",
    "if re.search(pat,st):\n",
    "    print(\"Search found!\")\n",
    "else:\n",
    "    print(\"Search not found!\")\n",
    "if re.match(pat,st):\n",
    "    print(\"Match found!\")\n",
    "else:\n",
    "    print(\"Match not found!\")"
   ]
  },
  {
   "cell_type": "code",
   "execution_count": 32,
   "id": "9a7a07b0-5bc7-4165-b1ce-c49c8a5b077a",
   "metadata": {},
   "outputs": [
    {
     "name": "stdout",
     "output_type": "stream",
     "text": [
      "Search found!\n",
      "Match not found!\n"
     ]
    }
   ],
   "source": [
    "pat=r\"world\\Z\"\n",
    "st=\"Welcome to python world\"\n",
    "if re.search(pat,st):\n",
    "    print(\"Search found!\")\n",
    "else:\n",
    "    print(\"Search not found!\")\n",
    "if re.match(pat,st):\n",
    "    print(\"Match found!\")\n",
    "else:\n",
    "    print(\"Match not found!\")"
   ]
  },
  {
   "cell_type": "code",
   "execution_count": 39,
   "id": "6ed7f064-d99d-46df-a980-f6b96172d058",
   "metadata": {},
   "outputs": [
    {
     "name": "stdout",
     "output_type": "stream",
     "text": [
      "Search found!\n",
      "Match found!\n"
     ]
    }
   ],
   "source": [
    "pat=r\"\\bHello\\b\"\n",
    "st=\"Hello\"\n",
    "if re.search(pat,st):\n",
    "    print(\"Search found!\")\n",
    "else:\n",
    "    print(\"Search not found!\")\n",
    "if re.match(pat,st):\n",
    "    print(\"Match found!\")\n",
    "else:\n",
    "    print(\"Match not found!\")"
   ]
  },
  {
   "cell_type": "code",
   "execution_count": 37,
   "id": "ee6aa84b-4ee9-4dc8-84b1-569adf1a29ce",
   "metadata": {},
   "outputs": [
    {
     "name": "stdout",
     "output_type": "stream",
     "text": [
      "Search found!\n",
      "Match found!\n"
     ]
    }
   ],
   "source": [
    "pat=r\"[\\bHello\\b]\"\n",
    "st=\"Hello\"\n",
    "if re.search(pat,st):\n",
    "    print(\"Search found!\")\n",
    "else:\n",
    "    print(\"Search not found!\")\n",
    "if re.match(pat,st):\n",
    "    print(\"Match found!\")\n",
    "else:\n",
    "    print(\"Match not found!\")"
   ]
  },
  {
   "cell_type": "code",
   "execution_count": 40,
   "id": "42fadcd0-cddd-4a98-9623-f4155375f30b",
   "metadata": {},
   "outputs": [
    {
     "name": "stdout",
     "output_type": "stream",
     "text": [
      "Search found!\n",
      "Match found!\n"
     ]
    }
   ],
   "source": [
    "pat=r\"\\bpy\\B\"\n",
    "st=\"python\"\n",
    "if re.search(pat,st):\n",
    "    print(\"Search found!\")\n",
    "else:\n",
    "    print(\"Search not found!\")\n",
    "if re.match(pat,st):\n",
    "    print(\"Match found!\")\n",
    "else:\n",
    "    print(\"Match not found!\")"
   ]
  },
  {
   "cell_type": "code",
   "execution_count": 43,
   "id": "ffef93d6-b5fe-44de-893f-1dcdafb960d2",
   "metadata": {},
   "outputs": [
    {
     "name": "stdout",
     "output_type": "stream",
     "text": [
      "Search found!\n",
      "Match found!\n"
     ]
    }
   ],
   "source": [
    "pat=r\"[\\bpy]\\B\"\n",
    "st=\"python\"\n",
    "if re.search(pat,st):\n",
    "    print(\"Search found!\")\n",
    "else:\n",
    "    print(\"Search not found!\")\n",
    "if re.match(pat,st):\n",
    "    print(\"Match found!\")\n",
    "else:\n",
    "    print(\"Match not found!\")"
   ]
  },
  {
   "cell_type": "code",
   "execution_count": 44,
   "id": "467ebcf5-c259-46e4-89e8-ebed37f6cca1",
   "metadata": {},
   "outputs": [
    {
     "name": "stdout",
     "output_type": "stream",
     "text": [
      "Search found!\n",
      "Match not found!\n"
     ]
    }
   ],
   "source": [
    "pat=r\"[aeiou]\"\n",
    "st=\"clue\"\n",
    "if re.search(pat,st):\n",
    "    print(\"Search found!\")\n",
    "else:\n",
    "    print(\"Search not found!\")\n",
    "if re.match(pat,st):\n",
    "    print(\"Match found!\")\n",
    "else:\n",
    "    print(\"Match not found!\")"
   ]
  },
  {
   "cell_type": "code",
   "execution_count": 46,
   "id": "9384131b-dedf-42eb-81d2-60d0aace5d86",
   "metadata": {},
   "outputs": [
    {
     "name": "stdout",
     "output_type": "stream",
     "text": [
      "Search found!\n",
      "Match found!\n",
      "Search found!\n",
      "Match found!\n"
     ]
    }
   ],
   "source": [
    "pat=r\"hi(de)*\"\n",
    "st=\"hi\"\n",
    "if re.search(pat,st):\n",
    "    print(\"Search found!\")\n",
    "else:\n",
    "    print(\"Search not found!\")\n",
    "if re.match(pat,st):\n",
    "    print(\"Match found!\")\n",
    "else:\n",
    "    print(\"Match not found!\")\n",
    "st=\"hidede\"\n",
    "if re.search(pat,st):\n",
    "    print(\"Search found!\")\n",
    "else:\n",
    "    print(\"Search not found!\")\n",
    "if re.match(pat,st):\n",
    "    print(\"Match found!\")\n",
    "else:\n",
    "    print(\"Match not found!\")"
   ]
  },
  {
   "cell_type": "code",
   "execution_count": 48,
   "id": "18337c7d-d2d4-4190-9780-0fafd29e0b96",
   "metadata": {},
   "outputs": [
    {
     "name": "stdout",
     "output_type": "stream",
     "text": [
      "Search not found!\n",
      "Match not found!\n",
      "Search found!\n",
      "Match found!\n"
     ]
    }
   ],
   "source": [
    "pat=r\"hi(de)+\"\n",
    "st=\"hi\"\n",
    "if re.search(pat,st):\n",
    "    print(\"Search found!\")\n",
    "else:\n",
    "    print(\"Search not found!\")\n",
    "if re.match(pat,st):\n",
    "    print(\"Match found!\")\n",
    "else:\n",
    "    print(\"Match not found!\")\n",
    "st=\"hide\"\n",
    "if re.search(pat,st):\n",
    "    print(\"Search found!\")\n",
    "else:\n",
    "    print(\"Search not found!\")\n",
    "if re.match(pat,st):\n",
    "    print(\"Match found!\")\n",
    "else:\n",
    "    print(\"Match not found!\")"
   ]
  },
  {
   "cell_type": "code",
   "execution_count": 50,
   "id": "40ea23e3-9656-49cd-a8f8-d83a2a2d5f13",
   "metadata": {},
   "outputs": [
    {
     "name": "stdout",
     "output_type": "stream",
     "text": [
      "Search found!\n",
      "Match found!\n",
      "Search found!\n",
      "Match found!\n"
     ]
    }
   ],
   "source": [
    "pat=r\"hi(de)?\"\n",
    "st=\"hi\"\n",
    "if re.search(pat,st):\n",
    "    print(\"Search found!\")\n",
    "else:\n",
    "    print(\"Search not found!\")\n",
    "if re.match(pat,st):\n",
    "    print(\"Match found!\")\n",
    "else:\n",
    "    print(\"Match not found!\")\n",
    "st=\"hide\"\n",
    "if re.search(pat,st):\n",
    "    print(\"Search found!\")\n",
    "else:\n",
    "    print(\"Search not found!\")\n",
    "if re.match(pat,st):\n",
    "    print(\"Match found!\")\n",
    "else:\n",
    "    print(\"Match not found!\")"
   ]
  },
  {
   "cell_type": "code",
   "execution_count": 51,
   "id": "10491e0e-d7a9-4c64-9505-dbaabef23bfc",
   "metadata": {},
   "outputs": [
    {
     "name": "stdout",
     "output_type": "stream",
     "text": [
      "Search found!\n",
      "Match found!\n"
     ]
    }
   ],
   "source": [
    "pat=r\"gr(ea)*t\"\n",
    "st=\"greaeaeaeat\"\n",
    "if re.search(pat,st):\n",
    "    print(\"Search found!\")\n",
    "else:\n",
    "    print(\"Search not found!\")\n",
    "if re.match(pat,st):\n",
    "    print(\"Match found!\")\n",
    "else:\n",
    "    print(\"Match not found!\")"
   ]
  },
  {
   "cell_type": "code",
   "execution_count": 52,
   "id": "be4005f5-bf8b-4d88-9a8b-e1d51c92aab2",
   "metadata": {},
   "outputs": [
    {
     "name": "stdout",
     "output_type": "stream",
     "text": [
      "Search found!\n",
      "Match found!\n"
     ]
    }
   ],
   "source": [
    "pat=r\"Go(od)Go(in)gPy(th)on\"\n",
    "st=\"GoodGoingPython\"\n",
    "if re.search(pat,st):\n",
    "    print(\"Search found!\")\n",
    "else:\n",
    "    print(\"Search not found!\")\n",
    "if re.match(pat,st):\n",
    "    print(\"Match found!\")\n",
    "else:\n",
    "    print(\"Match not found!\")"
   ]
  },
  {
   "cell_type": "code",
   "execution_count": 56,
   "id": "ff550cf2-7063-4afd-a473-b3bfee0799bd",
   "metadata": {},
   "outputs": [
    {
     "name": "stdout",
     "output_type": "stream",
     "text": [
      "GoodGoingPython\n",
      "GoodGoingPython\n",
      "od\n",
      "in\n",
      "th\n",
      "('od', 'in', 'th')\n"
     ]
    }
   ],
   "source": [
    "pat=r\"Go(od)Go(in)gPy(th)on\"\n",
    "st=\"GoodGoingPython\"\n",
    "match=re.match(pat,st)\n",
    "if match:\n",
    "    print(match.group())\n",
    "    print(match.group(0))\n",
    "    print(match.group(1))\n",
    "    print(match.group(2))\n",
    "    print(match.group(3))\n",
    "    print(match.groups())"
   ]
  },
  {
   "cell_type": "code",
   "execution_count": 58,
   "id": "5139c109-9d01-45a4-895f-9c9003232c78",
   "metadata": {},
   "outputs": [
    {
     "name": "stdout",
     "output_type": "stream",
     "text": [
      "GoodGoingPython\n",
      "GoodGoingPython\n",
      "od\n",
      "th\n",
      "('od', 'th')\n"
     ]
    }
   ],
   "source": [
    "#Named groups:(?P<name>...)\n",
    "#Non-capturing groups:(?:...)\n",
    "pat=r\"Go(?P<FIRST>od)Go(?:in)gPy(th)on\"\n",
    "st=\"GoodGoingPython\"\n",
    "match=re.match(pat,st)\n",
    "if match:\n",
    "    print(match.group())\n",
    "    print(match.group(0))\n",
    "    print(match.group(1))\n",
    "    print(match.group(2))\n",
    "    print(match.groups())"
   ]
  },
  {
   "cell_type": "code",
   "execution_count": 67,
   "id": "ce653112-0fd4-4d7d-850e-a29b74037c8b",
   "metadata": {},
   "outputs": [
    {
     "name": "stdout",
     "output_type": "stream",
     "text": [
      "0123456789, DOB: January 21, 2001\n",
      "0123456789, DOB: January 21, 2001\n",
      "0123456789\n",
      "January 21, 2001\n",
      "('0123456789', 'January 21, 2001')\n"
     ]
    }
   ],
   "source": [
    "pat=r\"([0-9]+).*: (.*)\"\n",
    "st=\"Phone number: 0123456789, DOB: January 21, 2001\"\n",
    "match=re.search(pat,st)\n",
    "if match:\n",
    "    print(match.group())\n",
    "    print(match.group(0))\n",
    "    print(match.group(1))\n",
    "    print(match.group(2))\n",
    "    print(match.group(1,2))"
   ]
  },
  {
   "cell_type": "code",
   "execution_count": 71,
   "id": "d55b9a5f-8a3b-4ed0-8f12-2314ea15d959",
   "metadata": {},
   "outputs": [
    {
     "name": "stdout",
     "output_type": "stream",
     "text": [
      "<re.Match object; span=(0, 22), match='zionchrist21@gmail.com'>\n",
      "zionchrist21@gmail.com\n"
     ]
    }
   ],
   "source": [
    "st=\"zionchrist21@gmail.com\"\n",
    "pat=r\"[\\w]+@+[\\w.]+\"\n",
    "match=re.search(pat,st)\n",
    "print(match)\n",
    "print(match.group())"
   ]
  },
  {
   "cell_type": "code",
   "execution_count": 74,
   "id": "4d1da2ad-87ab-4788-a734-209b68123923",
   "metadata": {},
   "outputs": [
    {
     "name": "stdout",
     "output_type": "stream",
     "text": [
      "['krishnalal1360@gmail.com', 'zionchrist21@gmail.com']\n"
     ]
    }
   ],
   "source": [
    "st=\"krishnalal1360@gmail.com zionchrist21@gmail.com\"\n",
    "pat=r\"[\\w]+@+[\\w.]+\"\n",
    "match=re.findall(pat,st)\n",
    "print(match)"
   ]
  },
  {
   "cell_type": "code",
   "execution_count": 76,
   "id": "b6420694-63ee-43ee-ba81-e557c890ccf0",
   "metadata": {},
   "outputs": [
    {
     "name": "stdout",
     "output_type": "stream",
     "text": [
      "Start: 0\n",
      "End: 24\n",
      "Span: (0, 24)\n",
      "Start: 25\n",
      "End: 47\n",
      "Span: (25, 47)\n"
     ]
    }
   ],
   "source": [
    "st=\"krishnalal1360@gmail.com zionchrist21@gmail.com\"\n",
    "pat=r\"[\\w]+@+[\\w.]+\"\n",
    "match=re.finditer(pat,st)\n",
    "for m in match:\n",
    "    print(\"Start:\",m.start())\n",
    "    print(\"End:\",m.end())\n",
    "    print(\"Span:\",m.span())"
   ]
  },
  {
   "cell_type": "code",
   "execution_count": 82,
   "id": "79e50038-0193-4b39-88ed-b43a9e2a73d0",
   "metadata": {},
   "outputs": [
    {
     "name": "stdout",
     "output_type": "stream",
     "text": [
      "k\n"
     ]
    }
   ],
   "source": [
    "st=\"krishnalal1360@gmail.com zionchrist21@gmail.com\"\n",
    "pat=r\"[\\w]\"\n",
    "match=re.search(pat,st)\n",
    "print(match.group())"
   ]
  },
  {
   "cell_type": "code",
   "execution_count": 5,
   "id": "d8dd380a-d373-44db-875f-e0e9b196bb97",
   "metadata": {},
   "outputs": [
    {
     "name": "stdin",
     "output_type": "stream",
     "text": [
      "Enter string: \"123 abc\"\n"
     ]
    },
    {
     "name": "stdout",
     "output_type": "stream",
     "text": [
      "Match found!\n"
     ]
    }
   ],
   "source": [
    "import re\n",
    "st=eval(input(\"Enter string:\"))\n",
    "pat=r\"^[0-9]+ .*\"\n",
    "if re.match(pat,st):\n",
    "    print(\"Match found!\")\n",
    "else:\n",
    "    print(\"Match not found!\")"
   ]
  },
  {
   "cell_type": "code",
   "execution_count": 11,
   "id": "f347a832-fb5d-40d1-94ea-3538acb98ceb",
   "metadata": {},
   "outputs": [
    {
     "name": "stdin",
     "output_type": "stream",
     "text": [
      "Enter string: \"Good Going\"\n"
     ]
    },
    {
     "name": "stdout",
     "output_type": "stream",
     "text": [
      "['Good Going', '']\n",
      "['G', 'o', 'o', 'd', ' ', 'G', 'o', 'i', 'n', 'g']\n",
      "['G', 'o', 'o', 'd', 'G', 'o', 'i', 'n', 'g']\n"
     ]
    }
   ],
   "source": [
    "st=eval(input(\"Enter string:\"))\n",
    "pat=r\".*\"\n",
    "matches=re.findall(pat,st)\n",
    "print(matches)\n",
    "pat=r\".\"\n",
    "matches=re.findall(pat,st)\n",
    "print(matches)\n",
    "pat=r\"\\w\"\n",
    "matches=re.findall(pat,st)\n",
    "print(matches)"
   ]
  },
  {
   "cell_type": "code",
   "execution_count": 16,
   "id": "3a059c2f-2c7b-4992-ac6e-683b797be596",
   "metadata": {},
   "outputs": [
    {
     "name": "stdin",
     "output_type": "stream",
     "text": [
      "Enter string: \"Good Going Python\"\n"
     ]
    },
    {
     "name": "stdout",
     "output_type": "stream",
     "text": [
      "['Good', 'Going', 'Python']\n",
      "['G', 'o', 'o', 'd', 'G', 'o', 'i', 'n', 'g', 'P', 'y', 't', 'h', 'o', 'n']\n",
      "['Good']\n",
      "['Python']\n"
     ]
    }
   ],
   "source": [
    "st=eval(input(\"Enter string:\"))\n",
    "pat=r\"\\w+\"\n",
    "matches=re.findall(pat,st)\n",
    "print(matches)\n",
    "pat=r\"\\w\"\n",
    "matches=re.findall(pat,st)\n",
    "print(matches)\n",
    "pat=r\"^\\w+\"\n",
    "matches=re.findall(pat,st)\n",
    "print(matches)\n",
    "pat=r\"\\w+$\"\n",
    "matches=re.findall(pat,st)\n",
    "print(matches)"
   ]
  },
  {
   "cell_type": "code",
   "execution_count": 22,
   "id": "fcd1715b-4945-4f7e-9a9c-de8850e0a1d2",
   "metadata": {},
   "outputs": [
    {
     "name": "stdin",
     "output_type": "stream",
     "text": [
      "Enter string: \"Good Going Python\"\n"
     ]
    },
    {
     "name": "stdout",
     "output_type": "stream",
     "text": [
      "['Go', 'od', 'Go', 'in', 'Py', 'th', 'on']\n",
      "['Go', 'od', ' G', 'oi', 'ng', ' P', 'yt', 'ho']\n",
      "['Go', 'Go', 'Py']\n",
      "['od', 'ng', 'on']\n",
      "[]\n",
      "['Good']\n"
     ]
    }
   ],
   "source": [
    "st=eval(input(\"Enter string:\"))\n",
    "pat=r\"\\w\\w\"\n",
    "matches=re.findall(pat,st)\n",
    "print(matches)\n",
    "pat=r\"..\"\n",
    "matches=re.findall(pat,st)\n",
    "print(matches)\n",
    "pat=r\"\\b\\w\\w\"\n",
    "matches=re.findall(pat,st)\n",
    "print(matches)\n",
    "pat=r\"\\w\\w\\b\"\n",
    "matches=re.findall(pat,st)\n",
    "print(matches)\n",
    "pat=r\"\\b\\w\\w\\b\"\n",
    "matches=re.findall(pat,st)\n",
    "print(matches)\n",
    "pat=r\"\\b\\w\\w\\w\\w\\b\"\n",
    "matches=re.findall(pat,st)\n",
    "print(matches)"
   ]
  },
  {
   "cell_type": "code",
   "execution_count": 25,
   "id": "c93d3a1b-189d-498e-a7ad-e46dd99923b6",
   "metadata": {},
   "outputs": [
    {
     "name": "stdin",
     "output_type": "stream",
     "text": [
      "Enter string: \"Date of appointment is: 21-01-2001\"\n"
     ]
    },
    {
     "name": "stdout",
     "output_type": "stream",
     "text": [
      "['21-01-2001']\n",
      "['2001']\n",
      "['2001']\n"
     ]
    }
   ],
   "source": [
    "st=eval(input(\"Enter string:\"))\n",
    "pat=r\"\\d{2}-\\d{2}-\\d{4}\"\n",
    "matches=re.findall(pat,st)\n",
    "print(matches)\n",
    "pat=r\"\\d{2}-\\d{2}-(\\d{4})\"\n",
    "matches=re.findall(pat,st)\n",
    "print(matches)\n",
    "pat=r\"\\d{4}$\"\n",
    "matches=re.findall(pat,st)\n",
    "print(matches)"
   ]
  },
  {
   "cell_type": "code",
   "execution_count": 26,
   "id": "6ad610de-17c1-4f40-a6df-8c986472b394",
   "metadata": {},
   "outputs": [
    {
     "name": "stdin",
     "output_type": "stream",
     "text": [
      "Enter string: \"I am zion christ. I live in USA. I like to code in python.\"\n"
     ]
    },
    {
     "name": "stdout",
     "output_type": "stream",
     "text": [
      "['am', 'in', 'USA', 'in']\n"
     ]
    }
   ],
   "source": [
    "st=eval(input(\"Enter string:\"))\n",
    "pat=r\"\\b[aeiouAEIOU]\\w+\"\n",
    "matches=re.findall(pat,st)\n",
    "print(matches)"
   ]
  },
  {
   "cell_type": "code",
   "execution_count": 3,
   "id": "5daf5269-8cf3-4d96-8792-58e694ae5b10",
   "metadata": {},
   "outputs": [
    {
     "name": "stdin",
     "output_type": "stream",
     "text": [
      "Enter the number of elements: 3\n",
      "Enter 10-digit phone number: \"7123456789\"\n",
      "Enter 10-digit phone number: \"8123456789\"\n",
      "Enter 10-digit phone number: \"9123456789\"\n"
     ]
    },
    {
     "name": "stdout",
     "output_type": "stream",
     "text": [
      "['7123456789', '8123456789', '9123456789']\n",
      "['7123456789'] ['8123456789'] ['9123456789'] "
     ]
    }
   ],
   "source": [
    "import re\n",
    "n=eval(input(\"Enter the number of elements:\"))\n",
    "l=[]\n",
    "for i in range(0,n,1):\n",
    "    pn=eval(input(\"Enter 10-digit phone number:\"))\n",
    "    l.append(pn)\n",
    "print(l)\n",
    "pat=r\"[7-9]{1}[0-9]{9}\"\n",
    "for i in l:\n",
    "    result=re.findall(pat,i)\n",
    "    if result:\n",
    "        print(result,end=\" \")"
   ]
  },
  {
   "cell_type": "code",
   "execution_count": 5,
   "id": "bad6ec97-6780-41db-8660-54ed0ede3d7f",
   "metadata": {},
   "outputs": [
    {
     "name": "stdin",
     "output_type": "stream",
     "text": [
      "Enter string: \"Hello! My name- is Srishti.; My date-of-joining is 11-15-1999 and have experienced of, more than 17 years;\"\n"
     ]
    },
    {
     "name": "stdout",
     "output_type": "stream",
     "text": [
      "Hello! My name  is Srishti.  My date of joining is 11 15 1999 and have experienced of  more than 17 years \n"
     ]
    }
   ],
   "source": [
    "st=eval(input(\"Enter string:\"))\n",
    "pat=r\"[;,-]\"\n",
    "repl=\" \"\n",
    "result=re.sub(pat,repl,st)\n",
    "print(result)"
   ]
  },
  {
   "cell_type": "code",
   "execution_count": 6,
   "id": "9c94081b-4d3b-4208-9255-bccd705f366d",
   "metadata": {},
   "outputs": [
    {
     "name": "stdout",
     "output_type": "stream",
     "text": [
      "leaf - leafs\n",
      "calf - calves\n",
      "boy - boys\n",
      "cry - cries\n"
     ]
    }
   ],
   "source": [
    "def pluralize(noun):\n",
    "    if re.search(r\"[aeiou]y$\",noun):\n",
    "        return re.sub(\"$\",\"s\",noun)\n",
    "    elif re.search(r\"[^aeiou]y$\",noun):\n",
    "        return re.sub(\"y$\",\"ies\",noun)\n",
    "    elif re.search(r\"[aeiou]f$\",noun):\n",
    "        return re.sub(\"$\",\"s\",noun)\n",
    "    elif re.search(r\"[^aeiou]f$\",noun):\n",
    "        return re.sub(\"f$\",\"ves\",noun)\n",
    "\n",
    "l=[\"leaf\",\"calf\",\"boy\",\"cry\"]\n",
    "for i in l:\n",
    "    print(i,\"-\",pluralize(i))"
   ]
  },
  {
   "cell_type": "code",
   "execution_count": null,
   "id": "db157fbb-d1da-444d-afa4-80a7baabb6d4",
   "metadata": {},
   "outputs": [],
   "source": []
  }
 ],
 "metadata": {
  "kernelspec": {
   "display_name": "Python 3 (ipykernel)",
   "language": "python",
   "name": "python3"
  },
  "language_info": {
   "codemirror_mode": {
    "name": "ipython",
    "version": 3
   },
   "file_extension": ".py",
   "mimetype": "text/x-python",
   "name": "python",
   "nbconvert_exporter": "python",
   "pygments_lexer": "ipython3",
   "version": "3.11.7"
  }
 },
 "nbformat": 4,
 "nbformat_minor": 5
}
