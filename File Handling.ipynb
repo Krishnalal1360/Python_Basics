{
 "cells": [
  {
   "cell_type": "code",
   "execution_count": 1,
   "id": "683eb609-c119-4cf2-b72d-fec518557aa1",
   "metadata": {},
   "outputs": [
    {
     "name": "stdout",
     "output_type": "stream",
     "text": [
      "<_io.TextIOWrapper name='ASCII_Text_File.txt' mode='r' encoding='cp1252'>\n",
      "<_io.BufferedReader name='ASCII_Text_File.txt'>\n",
      "<_io.TextIOWrapper name='ASCII_Text_File.txt' mode='r+' encoding='cp1252'>\n",
      "<_io.BufferedRandom name='ASCII_Text_File.txt'>\n"
     ]
    }
   ],
   "source": [
    "#reading text file\n",
    "file1=open(\"ASCII_Text_File.txt\",\"r\")\n",
    "print(file1)\n",
    "#reading file in binary format\n",
    "file2=open(\"ASCII_Text_File.txt\",\"rb\")\n",
    "print(file2)\n",
    "#reading and writing text file\n",
    "file1=open(\"ASCII_Text_File.txt\",\"r+\")\n",
    "print(file1)\n",
    "#reading and writing file \n",
    "file2=open(\"ASCII_Text_File.txt\",\"rb+\")\n",
    "print(file2)"
   ]
  },
  {
   "cell_type": "code",
   "execution_count": 2,
   "id": "607267b3-148e-42a3-b017-3dbe2fcd9fac",
   "metadata": {},
   "outputs": [
    {
     "name": "stdout",
     "output_type": "stream",
     "text": [
      "<_io.TextIOWrapper name='ASCII_Text_File.txt' mode='w' encoding='cp1252'>\n",
      "<_io.BufferedWriter name='ASCII_Text_File.txt'>\n",
      "<_io.TextIOWrapper name='ASCII_Text_File.txt' mode='w+' encoding='cp1252'>\n",
      "<_io.BufferedRandom name='ASCII_Text_File.txt'>\n"
     ]
    }
   ],
   "source": [
    "#writing text file\n",
    "file1=open(\"ASCII_Text_File.txt\",\"w\")\n",
    "print(file1)\n",
    "#writing file in binary format\n",
    "file2=open(\"ASCII_Text_File.txt\",\"wb\")\n",
    "print(file2)\n",
    "#writing and reading text file\n",
    "file1=open(\"ASCII_Text_File.txt\",\"w+\")\n",
    "print(file1)\n",
    "#writing and reading file in binary format \n",
    "file2=open(\"ASCII_Text_File.txt\",\"wb+\")\n",
    "print(file2)"
   ]
  },
  {
   "cell_type": "code",
   "execution_count": 3,
   "id": "530fa752-edd2-400e-8c2c-74c14bd86975",
   "metadata": {},
   "outputs": [
    {
     "name": "stdout",
     "output_type": "stream",
     "text": [
      "<_io.TextIOWrapper name='ASCII_Text_File.txt' mode='a' encoding='cp1252'>\n",
      "<_io.BufferedWriter name='ASCII_Text_File.txt'>\n",
      "<_io.TextIOWrapper name='ASCII_Text_File.txt' mode='a+' encoding='cp1252'>\n",
      "<_io.BufferedRandom name='ASCII_Text_File.txt'>\n"
     ]
    }
   ],
   "source": [
    "#appending text file\n",
    "file1=open(\"ASCII_Text_File.txt\",\"a\")\n",
    "print(file1)\n",
    "#appending file in binary format\n",
    "file2=open(\"ASCII_Text_File.txt\",\"ab\")\n",
    "print(file2)\n",
    "#appending and reading text file\n",
    "file1=open(\"ASCII_Text_File.txt\",\"a+\")\n",
    "print(file1)\n",
    "#appending and reading file in binary format \n",
    "file2=open(\"ASCII_Text_File.txt\",\"rb+\")\n",
    "print(file2)"
   ]
  },
  {
   "cell_type": "code",
   "execution_count": 4,
   "id": "0fe4922f-92ee-432d-b88e-9ee8df5e9977",
   "metadata": {},
   "outputs": [
    {
     "name": "stdout",
     "output_type": "stream",
     "text": [
      "<_io.TextIOWrapper name='ASCII_Text_File.txt' mode='r' encoding='cp1252'>\n",
      "<_io.BufferedReader name='ASCII_Text_File.txt'>\n",
      "<_io.TextIOWrapper name='ASCII_Text_File.txt' mode='r+' encoding='cp1252'>\n",
      "<_io.BufferedRandom name='ASCII_Text_File.txt'>\n",
      "Name of the file: ASCII_Text_File.txt\n",
      "Mode of the file: r+\n",
      "Closing the file: False\n",
      "Name of the file: ASCII_Text_File.txt\n",
      "Mode of the file: rb+\n",
      "Closing the file: False\n"
     ]
    }
   ],
   "source": [
    "#reading text file\n",
    "file1=open(\"ASCII_Text_File.txt\",\"r\")\n",
    "print(file1)\n",
    "#reading file in binary format\n",
    "file2=open(\"ASCII_Text_File.txt\",\"rb\")\n",
    "print(file2)\n",
    "#reading and writing text file\n",
    "file1=open(\"ASCII_Text_File.txt\",\"r+\")\n",
    "print(file1)\n",
    "#reading and writing file \n",
    "file2=open(\"ASCII_Text_File.txt\",\"rb+\")\n",
    "print(file2)\n",
    "print(\"Name of the file:\",file1.name)\n",
    "print(\"Mode of the file:\",file1.mode)\n",
    "print(\"Closing the file:\",file1.closed)\n",
    "print(\"Name of the file:\",file2.name)\n",
    "print(\"Mode of the file:\",file2.mode)\n",
    "print(\"Closing the file:\",file2.closed)"
   ]
  },
  {
   "cell_type": "code",
   "execution_count": 5,
   "id": "2798961d-cf02-4057-ade9-5761f13e0fd0",
   "metadata": {},
   "outputs": [
    {
     "name": "stdout",
     "output_type": "stream",
     "text": [
      "Reading the file: \n",
      "Reading the file: b''\n"
     ]
    }
   ],
   "source": [
    "print(\"Reading the file:\",file1.read())\n",
    "print(\"Reading the file:\",file2.read())"
   ]
  },
  {
   "cell_type": "code",
   "execution_count": 6,
   "id": "a391cfef-6f89-4e9b-b8dc-47da929fd093",
   "metadata": {},
   "outputs": [
    {
     "name": "stdout",
     "output_type": "stream",
     "text": [
      "Closing the file: None\n",
      "Closing the file: None\n"
     ]
    }
   ],
   "source": [
    "print(\"Closing the file:\",file1.close())\n",
    "print(\"Closing the file:\",file2.close())"
   ]
  },
  {
   "cell_type": "code",
   "execution_count": 7,
   "id": "334b2644-6d0e-4cfb-b701-080039694638",
   "metadata": {},
   "outputs": [
    {
     "name": "stdout",
     "output_type": "stream",
     "text": [
      "Name of the file: ASCII_Text_File.txt\n",
      "Mode of the file: r+\n",
      "Closing the file: True\n",
      "Name of the file: ASCII_Text_File.txt\n",
      "Mode of the file: rb+\n",
      "Closing the file: True\n"
     ]
    }
   ],
   "source": [
    "print(\"Name of the file:\",file1.name)\n",
    "print(\"Mode of the file:\",file1.mode)\n",
    "print(\"Closing the file:\",file1.closed)\n",
    "print(\"Name of the file:\",file2.name)\n",
    "print(\"Mode of the file:\",file2.mode)\n",
    "print(\"Closing the file:\",file2.closed)"
   ]
  },
  {
   "cell_type": "code",
   "execution_count": 8,
   "id": "bba427a9-d63f-4a3a-bf58-026f1868a66a",
   "metadata": {},
   "outputs": [
    {
     "ename": "ValueError",
     "evalue": "I/O operation on closed file.",
     "output_type": "error",
     "traceback": [
      "\u001b[1;31m---------------------------------------------------------------------------\u001b[0m",
      "\u001b[1;31mValueError\u001b[0m                                Traceback (most recent call last)",
      "Cell \u001b[1;32mIn[8], line 1\u001b[0m\n\u001b[1;32m----> 1\u001b[0m \u001b[38;5;28mprint\u001b[39m(\u001b[38;5;124m\"\u001b[39m\u001b[38;5;124mReading the file:\u001b[39m\u001b[38;5;124m\"\u001b[39m,file1\u001b[38;5;241m.\u001b[39mread())\n\u001b[0;32m      2\u001b[0m \u001b[38;5;28mprint\u001b[39m(\u001b[38;5;124m\"\u001b[39m\u001b[38;5;124mReading the file:\u001b[39m\u001b[38;5;124m\"\u001b[39m,file2\u001b[38;5;241m.\u001b[39mread())\n",
      "\u001b[1;31mValueError\u001b[0m: I/O operation on closed file."
     ]
    }
   ],
   "source": [
    "print(\"Reading the file:\",file1.read())\n",
    "print(\"Reading the file:\",file2.read())"
   ]
  },
  {
   "cell_type": "code",
   "execution_count": 9,
   "id": "8b7b6dc2-0201-404e-a5de-9f17054faceb",
   "metadata": {},
   "outputs": [
    {
     "name": "stdout",
     "output_type": "stream",
     "text": [
      "<_io.TextIOWrapper name='ASCII_Text_File.txt' mode='w' encoding='cp1252'>\n",
      "<_io.TextIOWrapper name='ASCII_Text_File.txt' mode='w' encoding='cp1252'>\n",
      "Data is written in the ASCII_Text_File.\n"
     ]
    }
   ],
   "source": [
    "#reading text file\n",
    "file1=open(\"ASCII_Text_File.txt\",\"w\")\n",
    "print(file1)\n",
    "file1.write(\"Writing in the ASCII_Text_File.\")\n",
    "print(file1)\n",
    "file1.close()\n",
    "print(\"Data is written in the ASCII_Text_File.\")"
   ]
  },
  {
   "cell_type": "code",
   "execution_count": 10,
   "id": "9dbf40f0-be5c-44b3-a85b-ca36eeaaf2d0",
   "metadata": {},
   "outputs": [
    {
     "name": "stdout",
     "output_type": "stream",
     "text": [
      "<_io.TextIOWrapper name='ASCII_Text_File.txt' mode='w' encoding='cp1252'>\n",
      "<_io.TextIOWrapper name='ASCII_Text_File.txt' mode='w' encoding='cp1252'>\n",
      "Data is written in the ASCII_Text_File.\n"
     ]
    }
   ],
   "source": [
    "#reading text file\n",
    "file1=open(\"ASCII_Text_File.txt\",\"w\")\n",
    "print(file1)\n",
    "lines=[\"Hello, I am Python.\",\"\\nI am created by Guido Van Rossum.\",\"\\nHe is from Netherlands.\"]\n",
    "file1.writelines(lines)\n",
    "print(file1)\n",
    "file1.close()\n",
    "print(\"Data is written in the ASCII_Text_File.\")"
   ]
  },
  {
   "cell_type": "code",
   "execution_count": 11,
   "id": "6490d1a4-cfcb-4594-9893-d1dc6e87b9e4",
   "metadata": {},
   "outputs": [
    {
     "name": "stdout",
     "output_type": "stream",
     "text": [
      "<_io.TextIOWrapper name='ASCII_Text_File.txt' mode='a' encoding='cp1252'>\n",
      "<_io.TextIOWrapper name='ASCII_Text_File.txt' mode='a' encoding='cp1252'>\n",
      "Data is written in the ASCII_Text_File.\n"
     ]
    }
   ],
   "source": [
    "file1=open(\"ASCII_Text_File.txt\",\"a\")\n",
    "print(file1)\n",
    "file1.write(\"\\nAppending the data in ASCII_Text_File.txt\")\n",
    "print(file1)\n",
    "file1.close()\n",
    "print(\"Data is written in the ASCII_Text_File.\")"
   ]
  },
  {
   "cell_type": "code",
   "execution_count": 12,
   "id": "2e3f6a1a-8143-4a69-a482-09871dd13637",
   "metadata": {},
   "outputs": [
    {
     "name": "stdout",
     "output_type": "stream",
     "text": [
      "Hello, I am Python.\n",
      "I am created by Guido Van Rossum.\n",
      "He is from Netherlands.\n",
      "Appending the data in ASCII_Text_File.txt\n"
     ]
    }
   ],
   "source": [
    "file1=open(\"ASCII_Text_File.txt\",\"r\")\n",
    "print(file1.read())"
   ]
  },
  {
   "cell_type": "code",
   "execution_count": 13,
   "id": "dde53600-2f16-4d7b-b55f-bc5ce21cbecd",
   "metadata": {},
   "outputs": [
    {
     "name": "stdout",
     "output_type": "stream",
     "text": [
      "First Line: Hello, I am Python.\n",
      "\n",
      "Second Line: I am created by Guido Van Rossum.\n",
      "\n",
      "Third Line: He is from Netherlands.\n",
      "\n"
     ]
    }
   ],
   "source": [
    "file1=open(\"ASCII_Text_File.txt\",\"r\")\n",
    "print(\"First Line:\",file1.readline())\n",
    "print(\"Second Line:\",file1.readline())\n",
    "print(\"Third Line:\",file1.readline())"
   ]
  },
  {
   "cell_type": "code",
   "execution_count": 14,
   "id": "e28809e8-cc27-49c7-9a63-9579657df7ff",
   "metadata": {},
   "outputs": [
    {
     "name": "stdout",
     "output_type": "stream",
     "text": [
      "All lines: ['Hello, I am Python.\\n', 'I am created by Guido Van Rossum.\\n', 'He is from Netherlands.\\n', 'Appending the data in ASCII_Text_File.txt']\n"
     ]
    }
   ],
   "source": [
    "file1=open(\"ASCII_Text_File.txt\",\"r\")\n",
    "print(\"All lines:\",file1.readlines())"
   ]
  },
  {
   "cell_type": "code",
   "execution_count": 15,
   "id": "3b62e583-36ee-4f41-a13d-098a54ee173b",
   "metadata": {},
   "outputs": [
    {
     "name": "stdout",
     "output_type": "stream",
     "text": [
      "['Hello, I am Python.\\n', 'I am created by Guido Van Rossum.\\n', 'He is from Netherlands.\\n', 'Appending the data in ASCII_Text_File.txt']\n"
     ]
    }
   ],
   "source": [
    "file1=open(\"ASCII_Text_File.txt\",\"r\")\n",
    "print(list(file1))"
   ]
  },
  {
   "cell_type": "code",
   "execution_count": 16,
   "id": "842d0400-f762-4906-86ae-fe3664843a29",
   "metadata": {},
   "outputs": [
    {
     "name": "stdout",
     "output_type": "stream",
     "text": [
      "Hello, I am Python.\n",
      "\n",
      "I am created by Guido Van Rossum.\n",
      "\n",
      "He is from Netherlands.\n",
      "\n",
      "Appending the data in ASCII_Text_File.txt\n"
     ]
    }
   ],
   "source": [
    "file1=open(\"ASCII_Text_File.txt\",\"r\")\n",
    "for line in file1:\n",
    "    print(line)"
   ]
  },
  {
   "cell_type": "code",
   "execution_count": 17,
   "id": "7ddcb24f-a1dc-431b-bd48-57b7c28981cc",
   "metadata": {},
   "outputs": [
    {
     "name": "stdout",
     "output_type": "stream",
     "text": [
      "Hello, I am Python.\n",
      "\n",
      "I am created by Guido Van Rossum.\n",
      "\n",
      "He is from Netherlands.\n",
      "\n",
      "Appending the data in ASCII_Text_File.txt\n",
      "File is closed: True\n",
      "Hello, I am Python.\n",
      "\n",
      "I am created by Guido Van Rossum.\n",
      "\n",
      "He is from Netherlands.\n",
      "\n",
      "Appending the data in ASCII_Text_File.txt\n",
      "File is closed: False\n",
      "File is closed: True\n"
     ]
    }
   ],
   "source": [
    "with open(\"ASCII_Text_File.txt\",\"r\") as file1:\n",
    "    for line in file1:\n",
    "        print(line)\n",
    "print(\"File is closed:\",file1.closed)\n",
    "\n",
    "file1=open(\"ASCII_Text_File.txt\",\"r\")\n",
    "for line in file1:\n",
    "    print(line)\n",
    "print(\"File is closed:\",file1.closed)\n",
    "file1.close()\n",
    "print(\"File is closed:\",file1.closed)"
   ]
  },
  {
   "cell_type": "code",
   "execution_count": 18,
   "id": "ee1dafab-d460-4cfa-88f8-72775ddc31c2",
   "metadata": {},
   "outputs": [
    {
     "name": "stdout",
     "output_type": "stream",
     "text": [
      "['Hello,', 'I', 'am', 'Python.']\n",
      "File is closed: True\n"
     ]
    }
   ],
   "source": [
    "with open(\"ASCII_Text_File.txt\",\"r\") as file1:\n",
    "    line=file1.readline()\n",
    "    word=line.split()\n",
    "    print(word)\n",
    "print(\"File is closed:\",file1.closed)"
   ]
  },
  {
   "cell_type": "code",
   "execution_count": null,
   "id": "92a7510f-f74a-4bf3-ac7f-192c2cf7719e",
   "metadata": {},
   "outputs": [],
   "source": [
    "with open(\"ASCII_Text_File.txt\",\"r\") as file1:\n",
    "    line=file1.readline()\n",
    "    word=line.split(\",\")\n",
    "    print(word)\n",
    "print(\"File is closed:\",file1.closed)"
   ]
  },
  {
   "cell_type": "code",
   "execution_count": 19,
   "id": "99e74277-d5d7-452f-810e-4ccc9d11cf4e",
   "metadata": {},
   "outputs": [
    {
     "name": "stdout",
     "output_type": "stream",
     "text": [
      "3\n"
     ]
    }
   ],
   "source": [
    "file1=open(\"ASCII_Text_File.txt\",\"r\")\n",
    "print(file1.fileno())"
   ]
  },
  {
   "cell_type": "code",
   "execution_count": 20,
   "id": "1e3200d8-9c40-4910-a405-81e521cf8bb7",
   "metadata": {},
   "outputs": [
    {
     "ename": "UnsupportedOperation",
     "evalue": "not readable",
     "output_type": "error",
     "traceback": [
      "\u001b[1;31m---------------------------------------------------------------------------\u001b[0m",
      "\u001b[1;31mUnsupportedOperation\u001b[0m                      Traceback (most recent call last)",
      "Cell \u001b[1;32mIn[20], line 4\u001b[0m\n\u001b[0;32m      2\u001b[0m file1\u001b[38;5;241m=\u001b[39m\u001b[38;5;28mopen\u001b[39m(\u001b[38;5;124m\"\u001b[39m\u001b[38;5;124mASCII_Text_File.txt\u001b[39m\u001b[38;5;124m\"\u001b[39m,\u001b[38;5;124m\"\u001b[39m\u001b[38;5;124mw\u001b[39m\u001b[38;5;124m\"\u001b[39m)\n\u001b[0;32m      3\u001b[0m file1\u001b[38;5;241m.\u001b[39mflush()\n\u001b[1;32m----> 4\u001b[0m \u001b[38;5;28mprint\u001b[39m(file1\u001b[38;5;241m.\u001b[39mread())\n\u001b[0;32m      5\u001b[0m file1\u001b[38;5;241m.\u001b[39mclose()\n",
      "\u001b[1;31mUnsupportedOperation\u001b[0m: not readable"
     ]
    }
   ],
   "source": [
    "file1=open(\"ASCII_Text_File.txt\",\"r\")\n",
    "file1=open(\"ASCII_Text_File.txt\",\"w\")\n",
    "file1.flush()\n",
    "print(file1.read())\n",
    "file1.close()"
   ]
  },
  {
   "cell_type": "code",
   "execution_count": 21,
   "id": "c09c0a39-454e-45e2-a49e-8992616d4c27",
   "metadata": {},
   "outputs": [
    {
     "name": "stdout",
     "output_type": "stream",
     "text": [
      "\n"
     ]
    }
   ],
   "source": [
    "file1=open(\"ASCII_Text_File.txt\",\"r\")\n",
    "print(file1.read())\n",
    "file1.close()"
   ]
  },
  {
   "cell_type": "code",
   "execution_count": 25,
   "id": "26e0aaf4-fe36-4267-b6fe-2411a2b96302",
   "metadata": {},
   "outputs": [],
   "source": [
    "file1=open(\"ASCII_Text_File.txt\",\"r\")\n",
    "file1=open(\"ASCII_Text_File.txt\",\"w\")\n",
    "file1.write(\"Writing in the ASCII_Text_File.\")\n",
    "lines=[\"\\nHello, I am Python.\",\"\\nI am created by Guido Van Rossum.\",\"\\nHe is from Netherlands.\"]\n",
    "file1.writelines(lines)"
   ]
  },
  {
   "cell_type": "code",
   "execution_count": 26,
   "id": "ad94302b-f60b-4121-add8-df1dcdc8d395",
   "metadata": {},
   "outputs": [
    {
     "name": "stdout",
     "output_type": "stream",
     "text": [
      "\n"
     ]
    }
   ],
   "source": [
    "with open(\"ASCII_Text_File.txt\",\"r+\") as file1:\n",
    "    file1.write(\"Writing in the ASCII_Text_File.\")\n",
    "    lines=[\"\\nHello, I am Python.\",\"\\nI am created by Guido Van Rossum.\",\"\\nHe is from Netherlands.\"]\n",
    "    file1.writelines(lines)\n",
    "    print(file1.read())"
   ]
  },
  {
   "cell_type": "code",
   "execution_count": 28,
   "id": "c4acc743-bc7f-4cbd-a359-fbd1d94d4a81",
   "metadata": {},
   "outputs": [
    {
     "name": "stdout",
     "output_type": "stream",
     "text": [
      "Writing in the ASCII_Text_File.\n",
      "\n",
      "Hello, I am Python.\n",
      "I am created by Guido Van Rossum.\n",
      "He is from Netherlands.\n"
     ]
    }
   ],
   "source": [
    "file1=open(\"ASCII_Text_File.txt\",\"r\")\n",
    "print(file1.readline())\n",
    "print(file1.read())"
   ]
  },
  {
   "cell_type": "code",
   "execution_count": 30,
   "id": "c07629d3-6288-47fc-af3c-d256ef23e8f9",
   "metadata": {},
   "outputs": [
    {
     "name": "stdout",
     "output_type": "stream",
     "text": [
      "False\n"
     ]
    },
    {
     "ename": "UnsupportedOperation",
     "evalue": "not readable",
     "output_type": "error",
     "traceback": [
      "\u001b[1;31m---------------------------------------------------------------------------\u001b[0m",
      "\u001b[1;31mUnsupportedOperation\u001b[0m                      Traceback (most recent call last)",
      "Cell \u001b[1;32mIn[30], line 5\u001b[0m\n\u001b[0;32m      3\u001b[0m file1\u001b[38;5;241m.\u001b[39mwrite(\u001b[38;5;124m\"\u001b[39m\u001b[38;5;124mHello, I am back!\u001b[39m\u001b[38;5;124m\"\u001b[39m)\n\u001b[0;32m      4\u001b[0m \u001b[38;5;28mprint\u001b[39m(file1\u001b[38;5;241m.\u001b[39misatty())\n\u001b[1;32m----> 5\u001b[0m \u001b[38;5;28mprint\u001b[39m(file1\u001b[38;5;241m.\u001b[39mread())\n",
      "\u001b[1;31mUnsupportedOperation\u001b[0m: not readable"
     ]
    }
   ],
   "source": [
    "file1=open(\"ASCII_Text_File.txt\",\"r\")\n",
    "file1=open(\"ASCII_Text_File.txt\",\"w\")\n",
    "file1.write(\"Hello, I am back!\")\n",
    "print(file1.isatty())\n",
    "print(file1.read())"
   ]
  },
  {
   "cell_type": "code",
   "execution_count": 31,
   "id": "77603ae7-be12-487d-b2d1-91a65369bd3e",
   "metadata": {},
   "outputs": [
    {
     "name": "stdout",
     "output_type": "stream",
     "text": [
      "Hello, I am back!\n",
      "\n"
     ]
    }
   ],
   "source": [
    "file1=open(\"ASCII_Text_File.txt\",\"r\")\n",
    "print(file1.readline())\n",
    "print(file1.read())"
   ]
  },
  {
   "cell_type": "code",
   "execution_count": 39,
   "id": "c467d274-c813-48b6-b370-b887795fa60f",
   "metadata": {},
   "outputs": [
    {
     "name": "stdout",
     "output_type": "stream",
     "text": [
      "Hello\n",
      "False\n",
      "True\n"
     ]
    }
   ],
   "source": [
    "file1=open(\"ASCII_Text_File.txt\",\"r\")\n",
    "print(file1.read(5))\n",
    "print(file1.isatty())\n",
    "file1.close()\n",
    "print(file1.closed)"
   ]
  },
  {
   "cell_type": "code",
   "execution_count": 138,
   "id": "983e6be3-8acc-4e6a-ba24-6db43c4d5c1f",
   "metadata": {},
   "outputs": [],
   "source": [
    "file1=open(\"ASCII_Text_File.txt\",\"r\")\n",
    "file1=open(\"ASCII_Text_File.txt\",\"w\")\n",
    "file1.write(\"\\nHello are you enjoying python or not.\")\n",
    "file1.close()"
   ]
  },
  {
   "cell_type": "code",
   "execution_count": 139,
   "id": "49a30021-8f83-45ed-962d-5f7474d3d5ce",
   "metadata": {},
   "outputs": [
    {
     "name": "stdout",
     "output_type": "stream",
     "text": [
      "\n",
      "Hello are you enjoying python or not.\n"
     ]
    }
   ],
   "source": [
    "file1=open(\"ASCII_Text_File.txt\",\"r\")\n",
    "print(file1.read())\n",
    "file1=open(\"ASCII_Text_File.txt\",\"a\")\n",
    "file1.write(\"\\nAppending that are you not responding\\n\\n \")\n",
    "file1.close()"
   ]
  },
  {
   "cell_type": "code",
   "execution_count": 140,
   "id": "f8522c6e-0a53-4fc3-8cd0-a91e3949aa34",
   "metadata": {},
   "outputs": [
    {
     "name": "stdout",
     "output_type": "stream",
     "text": [
      "\n",
      "Hello are you enjoying python or not.\n",
      "Appending that are you not responding\n",
      "\n",
      " \n",
      "\n"
     ]
    }
   ],
   "source": [
    "file1=open(\"ASCII_Text_File.txt\",\"r\")\n",
    "print(file1.read())\n",
    "line=file1.readline()\n",
    "print(line.rstrip())"
   ]
  },
  {
   "cell_type": "code",
   "execution_count": 141,
   "id": "30dda153-1227-42fc-9b41-fa97b637649f",
   "metadata": {},
   "outputs": [
    {
     "name": "stdout",
     "output_type": "stream",
     "text": [
      "\n",
      "Hello are you enjoying python or not.\n",
      "Appending that are you not responding\n",
      "\n",
      " \n"
     ]
    }
   ],
   "source": [
    "file1=open(\"ASCII_Text_File.txt\",\"r\")\n",
    "print(file1.read())"
   ]
  },
  {
   "cell_type": "code",
   "execution_count": 142,
   "id": "16acf607-20eb-48d0-9381-847b7ffeba61",
   "metadata": {},
   "outputs": [
    {
     "name": "stdout",
     "output_type": "stream",
     "text": [
      "\n",
      "Hello are you enjoying python or not.\n",
      "Appending that are you not responding\n",
      "\n",
      " \n"
     ]
    }
   ],
   "source": [
    "file1=open(\"ASCII_Text_File.txt\",\"r\")\n",
    "print(file1.read())\n",
    "file1=open(\"ASCII_Text_File.txt\",\"w\")\n",
    "file1.write(\"\\nHello! I am back!\")\n",
    "file1.truncate(5)\n",
    "file1.close()"
   ]
  },
  {
   "cell_type": "code",
   "execution_count": 30,
   "id": "947dd5c8-2769-4acb-a5bc-127a580ed7af",
   "metadata": {},
   "outputs": [
    {
     "name": "stdout",
     "output_type": "stream",
     "text": [
      "Hello, I am back!\n",
      "I hope you are enjoying python.\n",
      "ASCII_Text_File.txt\n",
      "r\n"
     ]
    }
   ],
   "source": [
    "file1=open(\"ASCII_Text_File.txt\",\"r\")\n",
    "print(file1.read())\n",
    "print(file1.name)\n",
    "print(file1.mode)\n",
    "file1.close()"
   ]
  },
  {
   "cell_type": "code",
   "execution_count": 31,
   "id": "fdee71f5-6cc5-4ce0-9644-171e19af6d83",
   "metadata": {},
   "outputs": [
    {
     "name": "stdout",
     "output_type": "stream",
     "text": [
      "\n"
     ]
    }
   ],
   "source": [
    "file1=open(\"ASCII_Text_File.txt\",\"r\")\n",
    "file1=open(\"ASCII_Text_File.txt\",\"w+\")\n",
    "file1.write(\"Hello, I am back!\\nI hope you are enjoying python.\")\n",
    "print(file1.read())\n",
    "file1.close()"
   ]
  },
  {
   "cell_type": "code",
   "execution_count": 32,
   "id": "63ab00a3-d8d8-4995-82a4-459727a2089e",
   "metadata": {},
   "outputs": [
    {
     "name": "stdout",
     "output_type": "stream",
     "text": [
      "Hello, I am back!\n",
      "I hope you are enjoying python.\n"
     ]
    }
   ],
   "source": [
    "file1=open(\"ASCII_Text_File.txt\",\"r\")\n",
    "print(file1.read())\n",
    "file1.close()"
   ]
  },
  {
   "cell_type": "code",
   "execution_count": 41,
   "id": "fcec9889-3e46-4716-8695-2ae5c0cbdfdc",
   "metadata": {},
   "outputs": [
    {
     "name": "stdout",
     "output_type": "stream",
     "text": [
      "Position of file pointer: 0\n",
      "Hello, I a\n",
      "Position of file pointer: 10\n",
      "m\n",
      "Position of file pointer: 11\n",
      " back!\n",
      "I hope you are enjoying python.\n",
      "Position of file pointer: 4\n",
      "o, I am back!\n",
      "I hope you are enjoying python.\n"
     ]
    }
   ],
   "source": [
    "file1=open(\"ASCII_Text_File.txt\",\"r\")\n",
    "print(\"Position of file pointer:\",file1.tell())\n",
    "print(file1.read(10))\n",
    "print(\"Position of file pointer:\",file1.tell())\n",
    "print(file1.read(1))\n",
    "print(\"Position of file pointer:\",file1.tell())\n",
    "print(file1.read())\n",
    "file1.seek(4,0)\n",
    "print(\"Position of file pointer:\",file1.tell())\n",
    "print(file1.read())"
   ]
  },
  {
   "cell_type": "code",
   "execution_count": 52,
   "id": "db17bafe-5b68-4071-aab7-e492f39acaa4",
   "metadata": {},
   "outputs": [
    {
     "name": "stdout",
     "output_type": "stream",
     "text": [
      "file1.txt\n",
      "w+\n",
      "This is the first line in file1.\n",
      "False\n",
      "True\n"
     ]
    }
   ],
   "source": [
    "with open(\"file1.txt\",\"a\") as f1:\n",
    "    f1=open(\"file1.txt\",\"w+\")\n",
    "    f1.write(\"This is the first line in file1.\")\n",
    "    print(f1.name)\n",
    "    print(f1.mode)\n",
    "f1=open(\"file1.txt\",\"r\")\n",
    "print(f1.read())\n",
    "print(f1.closed)\n",
    "f1.close()\n",
    "print(f1.closed)"
   ]
  },
  {
   "cell_type": "code",
   "execution_count": 53,
   "id": "09dfbcf5-7d0b-493d-a020-1ec6b94c77ea",
   "metadata": {},
   "outputs": [
    {
     "name": "stdout",
     "output_type": "stream",
     "text": [
      "file2.txt\n",
      "w+\n",
      "This is the first line in file2.\n",
      "False\n",
      "True\n"
     ]
    }
   ],
   "source": [
    "with open(\"file2.txt\",\"a\") as f2:\n",
    "    f2=open(\"file2.txt\",\"w+\")\n",
    "    f2.write(\"This is the first line in file2.\")\n",
    "    print(f2.name)\n",
    "    print(f2.mode)\n",
    "f2=open(\"file2.txt\",\"r\")\n",
    "print(f2.read())\n",
    "print(f2.closed)\n",
    "f2.close()\n",
    "print(f2.closed)"
   ]
  },
  {
   "cell_type": "code",
   "execution_count": 62,
   "id": "f034be0e-ce1d-49e7-965b-e3a1a445fe41",
   "metadata": {},
   "outputs": [
    {
     "name": "stdout",
     "output_type": "stream",
     "text": [
      "file1 is copied to file2!\n",
      "This is the first line in file1.\n",
      "This is the first line in file1.\n",
      "['This is the first line in file1.']\n"
     ]
    }
   ],
   "source": [
    "with open(\"file1.txt\",\"rb\") as f1:\n",
    "    with open(\"file2.txt\",\"wb\") as f2:\n",
    "        f2.write(f1.read())\n",
    "print(\"file1 is copied to file2!\")\n",
    "f2=open(\"file2.txt\",\"r\") \n",
    "print(f2.read())\n",
    "f2.seek(0)\n",
    "print(f2.readline())\n",
    "f2.seek(0)\n",
    "print(f2.readlines())"
   ]
  },
  {
   "cell_type": "code",
   "execution_count": 71,
   "id": "796bcbc1-5e5c-410a-b68f-8ab385686270",
   "metadata": {},
   "outputs": [],
   "source": [
    "pf1=open(\"python_file1.py\",\"a\")\n",
    "pf1=open(\"python_file1.py\",\"r+\")\n",
    "line=[\"Hello! Welcome to python programming!\",\"\\n#This is the single-line comment.\",\"\\nWe are in python_file1.\"]\n",
    "pf1.writelines(line)\n",
    "pf1.close()"
   ]
  },
  {
   "cell_type": "code",
   "execution_count": 73,
   "id": "cbdb5b9f-71e9-45ea-9203-31134b72602a",
   "metadata": {},
   "outputs": [
    {
     "name": "stdout",
     "output_type": "stream",
     "text": [
      "Hello! Welcome to python programming!\n",
      "#This is the single-line comment.\n",
      "We are in python_file1.\n"
     ]
    }
   ],
   "source": [
    "pf1=open(\"python_file1.py\",\"r\")\n",
    "print(pf1.read())\n",
    "pf1.close()"
   ]
  },
  {
   "cell_type": "code",
   "execution_count": 74,
   "id": "975cfe91-f0f2-4cb1-9719-a6fa3d4501fa",
   "metadata": {},
   "outputs": [],
   "source": [
    "pf2=open(\"python_file2.py\",\"a\")\n",
    "pf2=open(\"python_file2.py\",\"r+\")\n",
    "line=[\"We are in python_file2.\\n\"]\n",
    "pf2.writelines(line)\n",
    "pf2.close()"
   ]
  },
  {
   "cell_type": "code",
   "execution_count": 75,
   "id": "bef3f490-a21c-4635-aba3-c8483231111e",
   "metadata": {},
   "outputs": [
    {
     "name": "stdout",
     "output_type": "stream",
     "text": [
      "We are in python_file2.\n",
      "\n"
     ]
    }
   ],
   "source": [
    "pf2=open(\"python_file2.py\",\"r\")\n",
    "print(pf2.read())\n",
    "pf2.close()"
   ]
  },
  {
   "cell_type": "code",
   "execution_count": 76,
   "id": "be16e61a-90d3-4a82-bdb1-e70bb9ca0fa7",
   "metadata": {},
   "outputs": [
    {
     "name": "stdout",
     "output_type": "stream",
     "text": [
      "python_file1 is copied to python_file2!\n"
     ]
    }
   ],
   "source": [
    "with open(\"python_file1.py\",\"r\") as pf1:\n",
    "    with open(\"python_file2.py\",\"w\") as pf2:\n",
    "        while True:\n",
    "            line=pf1.readline()\n",
    "            if len(line)!=0:\n",
    "                if line[0]==\"#\":\n",
    "                    continue\n",
    "                else:\n",
    "                    pf2.write(line)\n",
    "            else:\n",
    "                break\n",
    "print(\"python_file1 is copied to python_file2!\")"
   ]
  },
  {
   "cell_type": "code",
   "execution_count": 77,
   "id": "22cb2a82-3f3c-4415-ac98-64f2e6735f08",
   "metadata": {},
   "outputs": [
    {
     "name": "stdout",
     "output_type": "stream",
     "text": [
      "Hello! Welcome to python programming!\n",
      "We are in python_file1.\n"
     ]
    }
   ],
   "source": [
    "pf2=open(\"python_file2.py\",\"r\")\n",
    "print(pf2.read())\n",
    "pf2.close()"
   ]
  },
  {
   "cell_type": "code",
   "execution_count": 78,
   "id": "876876db-1432-404d-a754-3b5722c3a16a",
   "metadata": {},
   "outputs": [
    {
     "name": "stdout",
     "output_type": "stream",
     "text": [
      "Hello! Welcome to python programming!\n",
      "#This is the single-line comment.\n",
      "We are in python_file1.\n"
     ]
    }
   ],
   "source": [
    "pf1=open(\"python_file1.py\",\"r\")\n",
    "print(pf1.read())\n",
    "pf1.close()"
   ]
  },
  {
   "cell_type": "code",
   "execution_count": 82,
   "id": "163d293f-06b3-472c-9942-3784fb2994a4",
   "metadata": {},
   "outputs": [
    {
     "name": "stdin",
     "output_type": "stream",
     "text": [
      "Enter file name: \"file2.txt\"\n"
     ]
    },
    {
     "name": "stdout",
     "output_type": "stream",
     "text": [
      "This is the first line in file1.\n"
     ]
    }
   ],
   "source": [
    "name=eval(input(\"Enter file name:\"))\n",
    "with open(name) as fn:\n",
    "    print(fn.read())"
   ]
  },
  {
   "cell_type": "code",
   "execution_count": 87,
   "id": "90957559-ddc4-40aa-9e07-bba55d551e6f",
   "metadata": {},
   "outputs": [
    {
     "name": "stdin",
     "output_type": "stream",
     "text": [
      "Enter file name: \"python_file1.py\"\n",
      "Enter the character to be searched: \"p\"\n"
     ]
    },
    {
     "name": "stdout",
     "output_type": "stream",
     "text": [
      "Character= p is appeared 3 times in python_file1.py whose mode is r\n"
     ]
    }
   ],
   "source": [
    "name=eval(input(\"Enter file name:\"))\n",
    "c=0\n",
    "with open(name) as fn:\n",
    "    line=fn.read()\n",
    "    ch=eval(input(\"Enter the character to be searched:\"))\n",
    "    for i in line:\n",
    "        if i==ch:\n",
    "            c=c+1\n",
    "print(\"Character=\",ch,\"is appeared\",c,\"times in\",fn.name,\"whose mode is\",fn.mode)"
   ]
  },
  {
   "cell_type": "code",
   "execution_count": 92,
   "id": "3119c335-c28e-4e9d-a104-ba2b8aee6e44",
   "metadata": {},
   "outputs": [
    {
     "name": "stdin",
     "output_type": "stream",
     "text": [
      "Enter file name: \"python_file1.py\"\n"
     ]
    },
    {
     "name": "stdout",
     "output_type": "stream",
     "text": [
      "Vowel count= 26 and Consonant count= 69 in python_file1.py whose mode is r\n",
      "Total length of text: 95\n",
      "Vowel percentage is 27.37 %\n",
      "Consonant percentage is 72.63 %\n"
     ]
    }
   ],
   "source": [
    "name=eval(input(\"Enter file name:\"))\n",
    "vc=cc=0\n",
    "with open(name) as fn:\n",
    "    line=fn.read()\n",
    "    for i in line:\n",
    "        if i in \"aeiouAEIOU\":\n",
    "            vc=vc+1\n",
    "        else:\n",
    "            cc=cc+1\n",
    "print(\"Vowel count=\",vc,\"and Consonant count=\",cc,\"in\",fn.name,\"whose mode is\",fn.mode)\n",
    "l=len(line)\n",
    "print(\"Total length of text:\",l)\n",
    "vcp=(vc/l)*100\n",
    "ccp=(cc/l)*100\n",
    "print(\"Vowel percentage is\",format(vcp,\".2f\"),\"%\")\n",
    "print(\"Consonant percentage is\",format(ccp,\".2f\"),\"%\")"
   ]
  },
  {
   "cell_type": "code",
   "execution_count": 93,
   "id": "c8b65ea4-dbfd-45cc-af10-cd7d8cbdb202",
   "metadata": {},
   "outputs": [
    {
     "name": "stdin",
     "output_type": "stream",
     "text": [
      "Enter old file name: \"file1.txt\"\n",
      "Enter new file name: \"f1.txt\"\n"
     ]
    },
    {
     "name": "stdout",
     "output_type": "stream",
     "text": [
      "File renamed!\n"
     ]
    }
   ],
   "source": [
    "import os \n",
    "old=eval(input(\"Enter old file name:\"))\n",
    "new=eval(input(\"Enter new file name:\"))\n",
    "os.rename(old,new)\n",
    "print(\"File renamed!\")"
   ]
  },
  {
   "cell_type": "code",
   "execution_count": 96,
   "id": "b3d8f45f-5ecb-4aaf-a515-1597e34a0fec",
   "metadata": {},
   "outputs": [
    {
     "name": "stdin",
     "output_type": "stream",
     "text": [
      "Enter file name: \"f1.txt\"\n"
     ]
    },
    {
     "name": "stdout",
     "output_type": "stream",
     "text": [
      "This is the first line in file1.\n"
     ]
    }
   ],
   "source": [
    "name=eval(input(\"Enter file name:\"))\n",
    "with open(name) as fn:\n",
    "    print(fn.read())"
   ]
  },
  {
   "cell_type": "code",
   "execution_count": 97,
   "id": "f4922845-74ca-4453-a770-b555dc95a862",
   "metadata": {},
   "outputs": [
    {
     "name": "stdin",
     "output_type": "stream",
     "text": [
      "Enter file name: \"file1.txt\"\n"
     ]
    },
    {
     "ename": "FileNotFoundError",
     "evalue": "[Errno 2] No such file or directory: 'file1.txt'",
     "output_type": "error",
     "traceback": [
      "\u001b[1;31m---------------------------------------------------------------------------\u001b[0m",
      "\u001b[1;31mFileNotFoundError\u001b[0m                         Traceback (most recent call last)",
      "Cell \u001b[1;32mIn[97], line 2\u001b[0m\n\u001b[0;32m      1\u001b[0m name\u001b[38;5;241m=\u001b[39m\u001b[38;5;28meval\u001b[39m(\u001b[38;5;28minput\u001b[39m(\u001b[38;5;124m\"\u001b[39m\u001b[38;5;124mEnter file name:\u001b[39m\u001b[38;5;124m\"\u001b[39m))\n\u001b[1;32m----> 2\u001b[0m \u001b[38;5;28;01mwith\u001b[39;00m \u001b[38;5;28mopen\u001b[39m(name) \u001b[38;5;28;01mas\u001b[39;00m fn:\n\u001b[0;32m      3\u001b[0m     \u001b[38;5;28mprint\u001b[39m(fn\u001b[38;5;241m.\u001b[39mread())\n",
      "File \u001b[1;32m~\\anaconda3\\Lib\\site-packages\\IPython\\core\\interactiveshell.py:310\u001b[0m, in \u001b[0;36m_modified_open\u001b[1;34m(file, *args, **kwargs)\u001b[0m\n\u001b[0;32m    303\u001b[0m \u001b[38;5;28;01mif\u001b[39;00m file \u001b[38;5;129;01min\u001b[39;00m {\u001b[38;5;241m0\u001b[39m, \u001b[38;5;241m1\u001b[39m, \u001b[38;5;241m2\u001b[39m}:\n\u001b[0;32m    304\u001b[0m     \u001b[38;5;28;01mraise\u001b[39;00m \u001b[38;5;167;01mValueError\u001b[39;00m(\n\u001b[0;32m    305\u001b[0m         \u001b[38;5;124mf\u001b[39m\u001b[38;5;124m\"\u001b[39m\u001b[38;5;124mIPython won\u001b[39m\u001b[38;5;124m'\u001b[39m\u001b[38;5;124mt let you open fd=\u001b[39m\u001b[38;5;132;01m{\u001b[39;00mfile\u001b[38;5;132;01m}\u001b[39;00m\u001b[38;5;124m by default \u001b[39m\u001b[38;5;124m\"\u001b[39m\n\u001b[0;32m    306\u001b[0m         \u001b[38;5;124m\"\u001b[39m\u001b[38;5;124mas it is likely to crash IPython. If you know what you are doing, \u001b[39m\u001b[38;5;124m\"\u001b[39m\n\u001b[0;32m    307\u001b[0m         \u001b[38;5;124m\"\u001b[39m\u001b[38;5;124myou can use builtins\u001b[39m\u001b[38;5;124m'\u001b[39m\u001b[38;5;124m open.\u001b[39m\u001b[38;5;124m\"\u001b[39m\n\u001b[0;32m    308\u001b[0m     )\n\u001b[1;32m--> 310\u001b[0m \u001b[38;5;28;01mreturn\u001b[39;00m io_open(file, \u001b[38;5;241m*\u001b[39margs, \u001b[38;5;241m*\u001b[39m\u001b[38;5;241m*\u001b[39mkwargs)\n",
      "\u001b[1;31mFileNotFoundError\u001b[0m: [Errno 2] No such file or directory: 'file1.txt'"
     ]
    }
   ],
   "source": [
    "name=eval(input(\"Enter file name:\"))\n",
    "with open(name) as fn:\n",
    "    print(fn.read())"
   ]
  },
  {
   "cell_type": "code",
   "execution_count": 98,
   "id": "7d6b83ec-fc74-4840-ab72-f28a875135dc",
   "metadata": {},
   "outputs": [
    {
     "name": "stdin",
     "output_type": "stream",
     "text": [
      "Enter file name: \"f1.txt\"\n"
     ]
    },
    {
     "name": "stdout",
     "output_type": "stream",
     "text": [
      "File removed!\n"
     ]
    }
   ],
   "source": [
    "name=eval(input(\"Enter file name:\"))\n",
    "os.remove(name)\n",
    "print(\"File removed!\")"
   ]
  },
  {
   "cell_type": "code",
   "execution_count": 99,
   "id": "094cfcdc-850e-4e2a-bd6e-b75ab87cb87d",
   "metadata": {},
   "outputs": [
    {
     "name": "stdin",
     "output_type": "stream",
     "text": [
      "Enter file name: \"f1.txt\"\n"
     ]
    },
    {
     "ename": "FileNotFoundError",
     "evalue": "[Errno 2] No such file or directory: 'f1.txt'",
     "output_type": "error",
     "traceback": [
      "\u001b[1;31m---------------------------------------------------------------------------\u001b[0m",
      "\u001b[1;31mFileNotFoundError\u001b[0m                         Traceback (most recent call last)",
      "Cell \u001b[1;32mIn[99], line 2\u001b[0m\n\u001b[0;32m      1\u001b[0m name\u001b[38;5;241m=\u001b[39m\u001b[38;5;28meval\u001b[39m(\u001b[38;5;28minput\u001b[39m(\u001b[38;5;124m\"\u001b[39m\u001b[38;5;124mEnter file name:\u001b[39m\u001b[38;5;124m\"\u001b[39m))\n\u001b[1;32m----> 2\u001b[0m \u001b[38;5;28;01mwith\u001b[39;00m \u001b[38;5;28mopen\u001b[39m(name) \u001b[38;5;28;01mas\u001b[39;00m fn:\n\u001b[0;32m      3\u001b[0m     \u001b[38;5;28mprint\u001b[39m(fn\u001b[38;5;241m.\u001b[39mread())\n",
      "File \u001b[1;32m~\\anaconda3\\Lib\\site-packages\\IPython\\core\\interactiveshell.py:310\u001b[0m, in \u001b[0;36m_modified_open\u001b[1;34m(file, *args, **kwargs)\u001b[0m\n\u001b[0;32m    303\u001b[0m \u001b[38;5;28;01mif\u001b[39;00m file \u001b[38;5;129;01min\u001b[39;00m {\u001b[38;5;241m0\u001b[39m, \u001b[38;5;241m1\u001b[39m, \u001b[38;5;241m2\u001b[39m}:\n\u001b[0;32m    304\u001b[0m     \u001b[38;5;28;01mraise\u001b[39;00m \u001b[38;5;167;01mValueError\u001b[39;00m(\n\u001b[0;32m    305\u001b[0m         \u001b[38;5;124mf\u001b[39m\u001b[38;5;124m\"\u001b[39m\u001b[38;5;124mIPython won\u001b[39m\u001b[38;5;124m'\u001b[39m\u001b[38;5;124mt let you open fd=\u001b[39m\u001b[38;5;132;01m{\u001b[39;00mfile\u001b[38;5;132;01m}\u001b[39;00m\u001b[38;5;124m by default \u001b[39m\u001b[38;5;124m\"\u001b[39m\n\u001b[0;32m    306\u001b[0m         \u001b[38;5;124m\"\u001b[39m\u001b[38;5;124mas it is likely to crash IPython. If you know what you are doing, \u001b[39m\u001b[38;5;124m\"\u001b[39m\n\u001b[0;32m    307\u001b[0m         \u001b[38;5;124m\"\u001b[39m\u001b[38;5;124myou can use builtins\u001b[39m\u001b[38;5;124m'\u001b[39m\u001b[38;5;124m open.\u001b[39m\u001b[38;5;124m\"\u001b[39m\n\u001b[0;32m    308\u001b[0m     )\n\u001b[1;32m--> 310\u001b[0m \u001b[38;5;28;01mreturn\u001b[39;00m io_open(file, \u001b[38;5;241m*\u001b[39margs, \u001b[38;5;241m*\u001b[39m\u001b[38;5;241m*\u001b[39mkwargs)\n",
      "\u001b[1;31mFileNotFoundError\u001b[0m: [Errno 2] No such file or directory: 'f1.txt'"
     ]
    }
   ],
   "source": [
    "name=eval(input(\"Enter file name:\"))\n",
    "with open(name) as fn:\n",
    "    print(fn.read())"
   ]
  },
  {
   "cell_type": "code",
   "execution_count": 112,
   "id": "b99041f6-d676-4019-a224-c9a936fc3cdc",
   "metadata": {},
   "outputs": [
    {
     "data": {
      "text/plain": [
       "'C:\\\\Users\\\\sony\\\\Reema_Thareja\\\\New_Directory'"
      ]
     },
     "execution_count": 112,
     "metadata": {},
     "output_type": "execute_result"
    }
   ],
   "source": [
    "os.getcwd()"
   ]
  },
  {
   "cell_type": "code",
   "execution_count": 113,
   "id": "f0375565-2046-4c01-ab92-dfd215f1167c",
   "metadata": {},
   "outputs": [
    {
     "name": "stdout",
     "output_type": "stream",
     "text": [
      "Directory created!\n"
     ]
    }
   ],
   "source": [
    "os.mkdir(\"New_Directory\")\n",
    "print(\"Directory created!\")"
   ]
  },
  {
   "cell_type": "code",
   "execution_count": 114,
   "id": "138bb1e8-a4b6-44b4-ba3e-59216cf27482",
   "metadata": {},
   "outputs": [
    {
     "data": {
      "text/plain": [
       "'C:\\\\Users\\\\sony\\\\Reema_Thareja\\\\New_Directory'"
      ]
     },
     "execution_count": 114,
     "metadata": {},
     "output_type": "execute_result"
    }
   ],
   "source": [
    "os.getcwd()"
   ]
  },
  {
   "cell_type": "code",
   "execution_count": 115,
   "id": "95b735ad-f755-4a3f-a058-547384a607ff",
   "metadata": {},
   "outputs": [
    {
     "name": "stdout",
     "output_type": "stream",
     "text": [
      "Directory changed!\n"
     ]
    }
   ],
   "source": [
    "os.chdir(\"New_Directory\")\n",
    "print(\"Directory changed!\")"
   ]
  },
  {
   "cell_type": "code",
   "execution_count": 119,
   "id": "1e4764a3-7e98-4cd4-ad0a-e32c352682ca",
   "metadata": {},
   "outputs": [
    {
     "name": "stdout",
     "output_type": "stream",
     "text": [
      "Directory changed!\n"
     ]
    }
   ],
   "source": [
    "os.chdir(\"C:\\\\Users\\\\sony\\\\Reema_Thareja\")\n",
    "print(\"Directory changed!\")"
   ]
  },
  {
   "cell_type": "code",
   "execution_count": 120,
   "id": "9f22eb77-59d3-4c9a-b34d-7c3aac2d01fe",
   "metadata": {},
   "outputs": [
    {
     "data": {
      "text/plain": [
       "'C:\\\\Users\\\\sony\\\\Reema_Thareja'"
      ]
     },
     "execution_count": 120,
     "metadata": {},
     "output_type": "execute_result"
    }
   ],
   "source": [
    "os.getcwd()"
   ]
  },
  {
   "cell_type": "code",
   "execution_count": 121,
   "id": "ed24e3bd-535c-46c3-ac3c-cad39187e12b",
   "metadata": {},
   "outputs": [
    {
     "name": "stdout",
     "output_type": "stream",
     "text": [
      "Directory changed!\n"
     ]
    }
   ],
   "source": [
    "os.chdir(\"C:\\\\Users\\\\sony\\\\Geeks_for_Geeks\")\n",
    "print(\"Directory changed!\")"
   ]
  },
  {
   "cell_type": "code",
   "execution_count": 122,
   "id": "630c2e44-7e8e-41e5-89fe-f0412282fba1",
   "metadata": {},
   "outputs": [
    {
     "data": {
      "text/plain": [
       "'C:\\\\Users\\\\sony\\\\Geeks_for_Geeks'"
      ]
     },
     "execution_count": 122,
     "metadata": {},
     "output_type": "execute_result"
    }
   ],
   "source": [
    "os.getcwd()"
   ]
  },
  {
   "cell_type": "code",
   "execution_count": 123,
   "id": "93e65c17-bfb4-4f0d-acbd-f736998cb852",
   "metadata": {},
   "outputs": [
    {
     "name": "stdout",
     "output_type": "stream",
     "text": [
      "Directory changed!\n"
     ]
    }
   ],
   "source": [
    "os.chdir(\"New_Directory\")\n",
    "print(\"Directory changed!\")"
   ]
  },
  {
   "cell_type": "code",
   "execution_count": 124,
   "id": "956de249-fdf8-4d77-aa68-e92ac381ed6f",
   "metadata": {},
   "outputs": [
    {
     "data": {
      "text/plain": [
       "'C:\\\\Users\\\\sony\\\\Geeks_for_Geeks\\\\New_Directory'"
      ]
     },
     "execution_count": 124,
     "metadata": {},
     "output_type": "execute_result"
    }
   ],
   "source": [
    "os.getcwd()"
   ]
  },
  {
   "cell_type": "code",
   "execution_count": 128,
   "id": "f8f60188-5b10-41bf-86d1-2299011a2804",
   "metadata": {},
   "outputs": [
    {
     "ename": "PermissionError",
     "evalue": "[WinError 32] The process cannot access the file because it is being used by another process: 'C:\\\\Users\\\\sony\\\\Geeks_for_Geeks\\\\New_Directory'",
     "output_type": "error",
     "traceback": [
      "\u001b[1;31m---------------------------------------------------------------------------\u001b[0m",
      "\u001b[1;31mPermissionError\u001b[0m                           Traceback (most recent call last)",
      "Cell \u001b[1;32mIn[128], line 1\u001b[0m\n\u001b[1;32m----> 1\u001b[0m os\u001b[38;5;241m.\u001b[39mrmdir(\u001b[38;5;124m'\u001b[39m\u001b[38;5;124mC:\u001b[39m\u001b[38;5;130;01m\\\\\u001b[39;00m\u001b[38;5;124mUsers\u001b[39m\u001b[38;5;130;01m\\\\\u001b[39;00m\u001b[38;5;124msony\u001b[39m\u001b[38;5;130;01m\\\\\u001b[39;00m\u001b[38;5;124mGeeks_for_Geeks\u001b[39m\u001b[38;5;130;01m\\\\\u001b[39;00m\u001b[38;5;124mNew_Directory\u001b[39m\u001b[38;5;124m'\u001b[39m)\n\u001b[0;32m      2\u001b[0m \u001b[38;5;28mprint\u001b[39m(\u001b[38;5;124m\"\u001b[39m\u001b[38;5;124mDirectory removed!\u001b[39m\u001b[38;5;124m\"\u001b[39m)\n",
      "\u001b[1;31mPermissionError\u001b[0m: [WinError 32] The process cannot access the file because it is being used by another process: 'C:\\\\Users\\\\sony\\\\Geeks_for_Geeks\\\\New_Directory'"
     ]
    }
   ],
   "source": [
    "os.rmdir('C:\\\\Users\\\\sony\\\\Geeks_for_Geeks\\\\New_Directory')\n",
    "print(\"Directory removed!\")"
   ]
  },
  {
   "cell_type": "code",
   "execution_count": 130,
   "id": "b712d9ac-27e4-4b64-bdf0-440f7961515b",
   "metadata": {},
   "outputs": [
    {
     "ename": "PermissionError",
     "evalue": "[WinError 32] The process cannot access the file because it is being used by another process: 'C:\\\\Users\\\\sony\\\\Geeks_for_Geeks\\\\New_Directory'",
     "output_type": "error",
     "traceback": [
      "\u001b[1;31m---------------------------------------------------------------------------\u001b[0m",
      "\u001b[1;31mPermissionError\u001b[0m                           Traceback (most recent call last)",
      "Cell \u001b[1;32mIn[130], line 2\u001b[0m\n\u001b[0;32m      1\u001b[0m \u001b[38;5;28;01mimport\u001b[39;00m \u001b[38;5;21;01mshutil\u001b[39;00m \u001b[38;5;28;01mas\u001b[39;00m \u001b[38;5;21;01ms\u001b[39;00m\n\u001b[1;32m----> 2\u001b[0m s\u001b[38;5;241m.\u001b[39mrmtree(\u001b[38;5;124m'\u001b[39m\u001b[38;5;124mC:\u001b[39m\u001b[38;5;130;01m\\\\\u001b[39;00m\u001b[38;5;124mUsers\u001b[39m\u001b[38;5;130;01m\\\\\u001b[39;00m\u001b[38;5;124msony\u001b[39m\u001b[38;5;130;01m\\\\\u001b[39;00m\u001b[38;5;124mGeeks_for_Geeks\u001b[39m\u001b[38;5;124m'\u001b[39m)\n",
      "File \u001b[1;32m~\\anaconda3\\Lib\\shutil.py:759\u001b[0m, in \u001b[0;36mrmtree\u001b[1;34m(path, ignore_errors, onerror, dir_fd)\u001b[0m\n\u001b[0;32m    757\u001b[0m     \u001b[38;5;66;03m# can't continue even if onerror hook returns\u001b[39;00m\n\u001b[0;32m    758\u001b[0m     \u001b[38;5;28;01mreturn\u001b[39;00m\n\u001b[1;32m--> 759\u001b[0m \u001b[38;5;28;01mreturn\u001b[39;00m _rmtree_unsafe(path, onerror)\n",
      "File \u001b[1;32m~\\anaconda3\\Lib\\shutil.py:617\u001b[0m, in \u001b[0;36m_rmtree_unsafe\u001b[1;34m(path, onerror)\u001b[0m\n\u001b[0;32m    615\u001b[0m         onerror(os\u001b[38;5;241m.\u001b[39mpath\u001b[38;5;241m.\u001b[39mislink, fullname, sys\u001b[38;5;241m.\u001b[39mexc_info())\n\u001b[0;32m    616\u001b[0m         \u001b[38;5;28;01mcontinue\u001b[39;00m\n\u001b[1;32m--> 617\u001b[0m     _rmtree_unsafe(fullname, onerror)\n\u001b[0;32m    618\u001b[0m \u001b[38;5;28;01melse\u001b[39;00m:\n\u001b[0;32m    619\u001b[0m     \u001b[38;5;28;01mtry\u001b[39;00m:\n",
      "File \u001b[1;32m~\\anaconda3\\Lib\\shutil.py:626\u001b[0m, in \u001b[0;36m_rmtree_unsafe\u001b[1;34m(path, onerror)\u001b[0m\n\u001b[0;32m    624\u001b[0m     os\u001b[38;5;241m.\u001b[39mrmdir(path)\n\u001b[0;32m    625\u001b[0m \u001b[38;5;28;01mexcept\u001b[39;00m \u001b[38;5;167;01mOSError\u001b[39;00m:\n\u001b[1;32m--> 626\u001b[0m     onerror(os\u001b[38;5;241m.\u001b[39mrmdir, path, sys\u001b[38;5;241m.\u001b[39mexc_info())\n",
      "File \u001b[1;32m~\\anaconda3\\Lib\\shutil.py:624\u001b[0m, in \u001b[0;36m_rmtree_unsafe\u001b[1;34m(path, onerror)\u001b[0m\n\u001b[0;32m    622\u001b[0m             onerror(os\u001b[38;5;241m.\u001b[39munlink, fullname, sys\u001b[38;5;241m.\u001b[39mexc_info())\n\u001b[0;32m    623\u001b[0m \u001b[38;5;28;01mtry\u001b[39;00m:\n\u001b[1;32m--> 624\u001b[0m     os\u001b[38;5;241m.\u001b[39mrmdir(path)\n\u001b[0;32m    625\u001b[0m \u001b[38;5;28;01mexcept\u001b[39;00m \u001b[38;5;167;01mOSError\u001b[39;00m:\n\u001b[0;32m    626\u001b[0m     onerror(os\u001b[38;5;241m.\u001b[39mrmdir, path, sys\u001b[38;5;241m.\u001b[39mexc_info())\n",
      "\u001b[1;31mPermissionError\u001b[0m: [WinError 32] The process cannot access the file because it is being used by another process: 'C:\\\\Users\\\\sony\\\\Geeks_for_Geeks\\\\New_Directory'"
     ]
    }
   ],
   "source": [
    "import shutil as s\n",
    "s.rmtree('C:\\\\Users\\\\sony\\\\Geeks_for_Geeks')"
   ]
  },
  {
   "cell_type": "code",
   "execution_count": 131,
   "id": "28371dd7-ed2e-453d-94f0-3bf36b09db9d",
   "metadata": {},
   "outputs": [
    {
     "name": "stdout",
     "output_type": "stream",
     "text": [
      "Directory changed!\n"
     ]
    }
   ],
   "source": [
    "os.chdir(\"C:\\\\Users\\\\sony\\\\Reema_Thareja\")\n",
    "print(\"Directory changed!\")"
   ]
  },
  {
   "cell_type": "code",
   "execution_count": 135,
   "id": "b0c3ce65-5ca0-42b6-87f9-1ae4f4f4d9d8",
   "metadata": {},
   "outputs": [
    {
     "data": {
      "text/plain": [
       "'C:\\\\Users\\\\sony\\\\Reema_Thareja'"
      ]
     },
     "execution_count": 135,
     "metadata": {},
     "output_type": "execute_result"
    }
   ],
   "source": [
    "os.getcwd()"
   ]
  },
  {
   "cell_type": "code",
   "execution_count": 137,
   "id": "a969de83-25e4-4e10-acb8-a79aca2268f9",
   "metadata": {},
   "outputs": [
    {
     "name": "stdout",
     "output_type": "stream",
     "text": [
      "Directories created!\n"
     ]
    }
   ],
   "source": [
    "os.makedirs('C:\\\\Users\\\\sony\\\\Reema_Thareja\\\\D1\\\\D2\\\\D3')\n",
    "print(\"Directories created!\")"
   ]
  },
  {
   "cell_type": "code",
   "execution_count": 138,
   "id": "5902dfd0-ef33-4966-a675-48bee6f48105",
   "metadata": {},
   "outputs": [
    {
     "data": {
      "text/plain": [
       "'C:\\\\Users\\\\sony\\\\Reema_Thareja'"
      ]
     },
     "execution_count": 138,
     "metadata": {},
     "output_type": "execute_result"
    }
   ],
   "source": [
    "os.getcwd()"
   ]
  },
  {
   "cell_type": "code",
   "execution_count": 139,
   "id": "1dcf70e1-f6c8-4c7d-8b90-0ef13a55fa22",
   "metadata": {},
   "outputs": [
    {
     "name": "stdout",
     "output_type": "stream",
     "text": [
      "C:Users\\sony\\Reema_Thareja\n",
      "OS path created!\n"
     ]
    }
   ],
   "source": [
    "print(os.path.join(\"C:\",\"Users\",\"sony\",\"Reema_Thareja\"))\n",
    "print(\"OS path created!\")"
   ]
  },
  {
   "cell_type": "code",
   "execution_count": 4,
   "id": "2f4b627f-e77a-4c7f-97e2-c709bec1782e",
   "metadata": {},
   "outputs": [
    {
     "name": "stdin",
     "output_type": "stream",
     "text": [
      "Enter path name: \"C:\\\\Users\\\\sony\\\\Reema_Thareja\"\n",
      "Enter file name: \"first.txt\"\n"
     ]
    },
    {
     "name": "stdout",
     "output_type": "stream",
     "text": [
      "C:\\Users\\sony\\Reema_Thareja\\first.txt\n",
      "\n"
     ]
    }
   ],
   "source": [
    "import os\n",
    "path=eval(input(\"Enter path name:\"))\n",
    "filename=eval(input(\"Enter file name:\"))\n",
    "abs_path=os.path.join(path,filename)\n",
    "print(abs_path)\n",
    "with open(abs_path,\"a\") as f:\n",
    "    f=open(abs_path,\"w+\")\n",
    "    f.write(\"Hello, I am first line in first.txt file.\")\n",
    "    print(f.read())"
   ]
  },
  {
   "cell_type": "code",
   "execution_count": 5,
   "id": "211a5bd9-4fb5-4e6d-905f-8b6c06b496b3",
   "metadata": {},
   "outputs": [
    {
     "name": "stdout",
     "output_type": "stream",
     "text": [
      "Hello, I am first line in first.txt file.\n"
     ]
    }
   ],
   "source": [
    "f=open(\"first.txt\",\"r\")\n",
    "print(f.read())"
   ]
  },
  {
   "cell_type": "code",
   "execution_count": 6,
   "id": "5a984754-2172-41e3-880b-6883f39e3705",
   "metadata": {},
   "outputs": [
    {
     "data": {
      "text/plain": [
       "'C:\\\\Users\\\\sony\\\\Reema_Thareja'"
      ]
     },
     "execution_count": 6,
     "metadata": {},
     "output_type": "execute_result"
    }
   ],
   "source": [
    "os.getcwd()"
   ]
  },
  {
   "cell_type": "code",
   "execution_count": 6,
   "id": "d55bca96-4d54-4874-a80e-e7f30a83c499",
   "metadata": {},
   "outputs": [
    {
     "name": "stdin",
     "output_type": "stream",
     "text": [
      "Enter relative path: \"doc1.docx\"\n"
     ]
    },
    {
     "name": "stdout",
     "output_type": "stream",
     "text": [
      "C:\\Users\\sony\\Reema_Thareja\\doc1.docx\n"
     ]
    }
   ],
   "source": [
    "import os\n",
    "relative_path=eval(input(\"Enter relative path:\"))\n",
    "print(os.path.abspath(relative_path))"
   ]
  },
  {
   "cell_type": "code",
   "execution_count": 8,
   "id": "7d2927ee-b590-4975-affb-7281a8fd0eec",
   "metadata": {},
   "outputs": [],
   "source": [
    "fn=open(\"doc1.docx\",\"a\")\n",
    "fn=open(\"doc1.docx\",\"w\")\n",
    "fn.write(\"This is the first line in doc1.docx\")\n",
    "fn.close()"
   ]
  },
  {
   "cell_type": "code",
   "execution_count": 9,
   "id": "39fc9ecc-8e10-4c71-b603-9a4dbc5f69e7",
   "metadata": {},
   "outputs": [
    {
     "name": "stdout",
     "output_type": "stream",
     "text": [
      "This is the first line in doc1.docx\n"
     ]
    }
   ],
   "source": [
    "fn=open(\"doc1.docx\",\"r\")\n",
    "print(fn.read())"
   ]
  },
  {
   "cell_type": "code",
   "execution_count": 15,
   "id": "9bff501b-9a9d-4a84-a7e1-b1cbf8dd5567",
   "metadata": {},
   "outputs": [
    {
     "name": "stdin",
     "output_type": "stream",
     "text": [
      "Enter path: \"C:\\\\Users\\\\sony\\\\Reema_Thareja\"\n",
      "Enter filename: \"\\\\first.txt\"\n"
     ]
    },
    {
     "name": "stdout",
     "output_type": "stream",
     "text": [
      "C:\\first.txt\n",
      "Hello, I am first line in first.txt file.\n",
      "True\n",
      "False\n"
     ]
    }
   ],
   "source": [
    "path=eval(input(\"Enter path:\"))\n",
    "filename=eval(input(\"Enter filename:\"))\n",
    "abs_path=os.path.join(path,filename)\n",
    "print(abs_path)\n",
    "fn=open(\"C:\\\\Users\\\\sony\\\\Reema_Thareja\\\\first.txt\",\"r\")\n",
    "print(fn.read())\n",
    "print(os.path.isabs(\"C:\\\\Users\\\\sony\\\\Reema_Thareja\\\\first.txt\"))\n",
    "print(os.path.isabs(\"Reema_Thareja\\\\first.txt\"))"
   ]
  },
  {
   "cell_type": "code",
   "execution_count": 16,
   "id": "a20a67af-c8ec-4394-8de3-a516909f53d6",
   "metadata": {},
   "outputs": [
    {
     "data": {
      "text/plain": [
       "'C:\\\\Users\\\\sony\\\\Reema_Thareja'"
      ]
     },
     "execution_count": 16,
     "metadata": {},
     "output_type": "execute_result"
    }
   ],
   "source": [
    "os.getcwd()"
   ]
  },
  {
   "cell_type": "code",
   "execution_count": 18,
   "id": "3c8dfec4-1721-45ac-92d0-d3e5db4acc90",
   "metadata": {},
   "outputs": [
    {
     "name": "stdin",
     "output_type": "stream",
     "text": [
      "Enter path: \"C:\\\\Users\\\\sony\\\\Reema_Thareja\\\\first.txt\"\n",
      "Enter start: \"C:\\\\Users\"\n"
     ]
    },
    {
     "name": "stdout",
     "output_type": "stream",
     "text": [
      "sony\\Reema_Thareja\\first.txt\n"
     ]
    }
   ],
   "source": [
    "path=eval(input(\"Enter path:\"))\n",
    "start=eval(input(\"Enter start:\"))\n",
    "print(os.path.relpath(path,start))"
   ]
  },
  {
   "cell_type": "code",
   "execution_count": 20,
   "id": "16330c02-c62d-40a6-a7d2-5a248a67b12f",
   "metadata": {},
   "outputs": [
    {
     "name": "stdin",
     "output_type": "stream",
     "text": [
      "Enter path: \"C:\\\\Users\\\\sony\\\\Reema_Thareja\\\\first.txt\"\n"
     ]
    },
    {
     "name": "stdout",
     "output_type": "stream",
     "text": [
      "C:\\Users\\sony\\Reema_Thareja\n",
      "first.txt\n",
      "('C:\\\\Users\\\\sony\\\\Reema_Thareja', 'first.txt')\n"
     ]
    }
   ],
   "source": [
    "path=eval(input(\"Enter path:\"))\n",
    "print(os.path.dirname(path))\n",
    "print(os.path.basename(path))\n",
    "print(os.path.split(path))"
   ]
  },
  {
   "cell_type": "code",
   "execution_count": 22,
   "id": "46706127-8126-46b2-b25e-1f8c4a4e28b3",
   "metadata": {},
   "outputs": [
    {
     "name": "stdin",
     "output_type": "stream",
     "text": [
      "Enter path: \"C:\\\\Users\\\\sony\\\\Reema_Thareja\\\\first.txt\"\n"
     ]
    },
    {
     "name": "stdout",
     "output_type": "stream",
     "text": [
      "41\n"
     ]
    }
   ],
   "source": [
    "path=eval(input(\"Enter path:\"))\n",
    "print(os.path.getsize(path))"
   ]
  },
  {
   "cell_type": "code",
   "execution_count": 25,
   "id": "855b74f3-6ede-41fc-9de9-451f56371507",
   "metadata": {},
   "outputs": [
    {
     "name": "stdin",
     "output_type": "stream",
     "text": [
      "Enter directory name: \"C:\\\\Users\\\\sony\\\\Reema_Thareja\"\n"
     ]
    },
    {
     "name": "stdout",
     "output_type": "stream",
     "text": [
      "['.ipynb_checkpoints', 'ASCII_Text_File.txt', 'Basics.ipynb', 'D1', 'Decision Control Statements.ipynb', 'Dir1', 'doc1.docx', 'File Handling.ipynb', 'file2.txt', 'first.txt', 'Functions and Modules.ipynb', 'Module.py', 'module1.py', 'module2.py', 'New_Directory', 'Package', 'python_file1.py', 'python_file2.py', 'Strings.ipynb', '__pycache__']\n"
     ]
    }
   ],
   "source": [
    "dirname=eval(input(\"Enter directory name:\"))\n",
    "print(os.listdir(dirname))"
   ]
  },
  {
   "cell_type": "code",
   "execution_count": 26,
   "id": "61a8ea6d-44c0-49ed-9335-a637643d1e76",
   "metadata": {},
   "outputs": [
    {
     "name": "stdin",
     "output_type": "stream",
     "text": [
      "Enter path: \"C:\\\\Users\\\\sony\\\\Reema_Thareja\\\\first.txt\"\n"
     ]
    },
    {
     "name": "stdout",
     "output_type": "stream",
     "text": [
      "True\n"
     ]
    }
   ],
   "source": [
    "path=eval(input(\"Enter path:\"))\n",
    "print(os.path.exists(path))"
   ]
  },
  {
   "cell_type": "code",
   "execution_count": 27,
   "id": "27ebbea0-8c6f-4833-8894-c9bd4b44c408",
   "metadata": {},
   "outputs": [
    {
     "name": "stdin",
     "output_type": "stream",
     "text": [
      "Enter path: \"C:\\\\Users\\\\sony\\\\Reema_Thareja\\\\first.txt\"\n"
     ]
    },
    {
     "name": "stdout",
     "output_type": "stream",
     "text": [
      "True\n",
      "False\n"
     ]
    }
   ],
   "source": [
    "path=eval(input(\"Enter path:\"))\n",
    "print(os.path.isfile(path))\n",
    "print(os.path.isdir(path))"
   ]
  },
  {
   "cell_type": "code",
   "execution_count": 28,
   "id": "42401d95-ef22-400c-995e-fc09118ff4ef",
   "metadata": {},
   "outputs": [
    {
     "name": "stdin",
     "output_type": "stream",
     "text": [
      "Enter path: \"C:\\\\Users\\\\sony\\\\Reema_Thareja\"\n"
     ]
    },
    {
     "name": "stdout",
     "output_type": "stream",
     "text": [
      "False\n",
      "True\n"
     ]
    }
   ],
   "source": [
    "path=eval(input(\"Enter path:\"))\n",
    "print(os.path.isfile(path))\n",
    "print(os.path.isdir(path))"
   ]
  },
  {
   "cell_type": "code",
   "execution_count": 32,
   "id": "6d185bff-ef7b-4181-907c-538094def874",
   "metadata": {},
   "outputs": [
    {
     "name": "stdin",
     "output_type": "stream",
     "text": [
      "Enter filename: \"C:\\\\Users\\\\sony\\\\Reema_Thareja\\\\intro.txt\"\n"
     ]
    },
    {
     "name": "stdout",
     "output_type": "stream",
     "text": [
      "My name is: Zion Christ.\n",
      "I live in USA.\n",
      "Python\tR\tSQL are my favourite coding languages.\n",
      "Number of tabs: 2\n",
      "Number of spaces: 12\n",
      "Number of new line: 2\n"
     ]
    }
   ],
   "source": [
    "fn=eval(input(\"Enter filename:\"))\n",
    "ct=cs=cnl=0\n",
    "with open(fn,\"a\") as f:\n",
    "    f=open(fn,\"w\")\n",
    "    f.write(\"My name is: Zion Christ.\\nI live in USA.\\nPython\\tR\\tSQL are my favourite coding languages.\")\n",
    "    f=open(fn,\"r\")\n",
    "    print(f.read())\n",
    "with open(fn,\"r\") as f:\n",
    "    line=f.read()\n",
    "    for ch in line:\n",
    "        if ch==\"\\t\":\n",
    "            ct=ct+1\n",
    "        elif ch==\" \":\n",
    "            cs=cs+1\n",
    "        elif ch==\"\\n\":\n",
    "            cnl=cnl+1\n",
    "print(\"Number of tabs:\",ct)\n",
    "print(\"Number of spaces:\",cs)\n",
    "print(\"Number of new line:\",cnl)"
   ]
  },
  {
   "cell_type": "code",
   "execution_count": 33,
   "id": "c3071b3a-8b02-4e70-8477-33e4e203f9ea",
   "metadata": {},
   "outputs": [
    {
     "name": "stdin",
     "output_type": "stream",
     "text": [
      "Enter directory name: \"C:\\\\Users\\\\sony\\\\Reema_Thareja\"\n"
     ]
    },
    {
     "name": "stdout",
     "output_type": "stream",
     "text": [
      "Total size in bytes= 327685 of all files in directory name is C:\\Users\\sony\\Reema_Thareja\n"
     ]
    }
   ],
   "source": [
    "dirname=eval(input(\"Enter directory name:\"))\n",
    "ts=0\n",
    "for file in os.listdir(dirname):\n",
    "    ts=ts+(os.path.getsize(os.path.join(dirname,file)))\n",
    "print(\"Total size in bytes=\",ts,\"of all files in directory name is\",dirname)"
   ]
  },
  {
   "cell_type": "code",
   "execution_count": 35,
   "id": "4221d763-0e91-413a-8868-b18392a83b42",
   "metadata": {},
   "outputs": [
    {
     "name": "stdout",
     "output_type": "stream",
     "text": [
      "checking flash drive exists or not:\n",
      "False\n"
     ]
    }
   ],
   "source": [
    "print(\"checking flash drive exists or not:\")\n",
    "print(os.path.exists(\"G:\\\\\"))"
   ]
  },
  {
   "cell_type": "code",
   "execution_count": 47,
   "id": "6446421a-0739-4707-a27b-9ea571893678",
   "metadata": {},
   "outputs": [
    {
     "name": "stdout",
     "output_type": "stream",
     "text": [
      "This is the first line.\n",
      "This is the second line.\n",
      "This is the third line.\n",
      "\n"
     ]
    }
   ],
   "source": [
    "f1=open(\"file1.txt\",\"a\")\n",
    "f1=open(\"file1.txt\",\"w\")\n",
    "f1.write(\"This is the first line.\\nThis is the second line.\\nThis is the third line.\")\n",
    "f1=open(\"file1.txt\",\"r\")\n",
    "print(f1.read())\n",
    "f1.close()\n",
    "with open(\"file2.txt\",\"a+\") as f2:\n",
    "    print(f2.read())\n",
    "f1=open(\"file1.txt\",\"r\")\n",
    "f2=open(\"file2.txt\",\"r+\")\n",
    "num=0\n",
    "for line in f1:\n",
    "    f2.write(str(num)+\":\"+line)\n",
    "    num=num+1\n",
    "f1.close()\n",
    "f2.close()"
   ]
  },
  {
   "cell_type": "code",
   "execution_count": 48,
   "id": "67d23a4f-fcf0-4d68-b413-9d43ba93a7c9",
   "metadata": {},
   "outputs": [
    {
     "name": "stdout",
     "output_type": "stream",
     "text": [
      "0:This is the first line.\n",
      "1:This is the second line.\n",
      "2:This is the third line.\n"
     ]
    }
   ],
   "source": [
    "f2=open(\"file2.txt\",\"r\")\n",
    "print(f2.read())"
   ]
  },
  {
   "cell_type": "code",
   "execution_count": 53,
   "id": "6411f56d-24e7-465e-bdca-c9903c15270d",
   "metadata": {},
   "outputs": [
    {
     "name": "stdout",
     "output_type": "stream",
     "text": [
      "Questions are:\n",
      "Who is the President of USA?\n",
      "1.Joe Biden\t2.Donald Trump\t3.Hilary Clinton\n",
      "Who is the creator of python language?\n",
      "1.Guido Van Rossum\t2.Ivan Bayross\t3.James Gosling\n",
      "Answers are:\n",
      "2\n",
      "1\n"
     ]
    }
   ],
   "source": [
    "f1=open(\"Question.txt\",\"a\")\n",
    "f1=open(\"Question.txt\",\"w\")\n",
    "f1.write(\"Who is the President of USA?\\n1.Joe Biden\\t2.Donald Trump\\t3.Hilary Clinton\\nWho is the creator of python language?\\n1.Guido Van Rossum\\t2.Ivan Bayross\\t3.James Gosling\")\n",
    "f2=open(\"Answer.txt\",\"a\")\n",
    "f2=open(\"Answer.txt\",\"w\")\n",
    "f2.write(\"2\\n1\")\n",
    "f1=open(\"Question.txt\",\"r\")\n",
    "ques=f1.read()\n",
    "f2=open(\"Answer.txt\",\"r\")\n",
    "ans=f2.read()\n",
    "qlines=ques.split(\"\\n\")\n",
    "print(\"Questions are:\")\n",
    "for lines in qlines:\n",
    "    print(lines)\n",
    "alines=ans.split(\"\\n\")\n",
    "print(\"Answers are:\")\n",
    "for lines in alines:\n",
    "    print(lines)"
   ]
  },
  {
   "cell_type": "code",
   "execution_count": 55,
   "id": "32930431-ce3e-43ea-9520-e243bc45472d",
   "metadata": {},
   "outputs": [
    {
     "name": "stdout",
     "output_type": "stream",
     "text": [
      "b'<!doctype html><html itemscope=\"\" itemtype=\"http://schema.org/WebPage\" lang=\"en-IN\"><head><meta content=\"text/html; charset=UTF-8\" http-equiv=\"Content-Type\"><meta content=\"/images/branding/googleg/1x/googleg_standard_color_128dp.png\" itemprop=\"image\"><title>Google</title><script nonce=\"iCCvAbWyD8BAxYcK9MM46g\">(function(){var _g={kEI:\\'lcoqZrHsJbzjseMP-K6loAg\\',kEXPI:\\'0,18167,1352311,2329830,641,361,302200,176018,4998,55519,2872,2891,561,11193,12811,18463,46127,230,1014,1,16916,89305,6642,19539,30212,2,16737,23024,6700,41948,24670,33064,2,2,1,26632,8155,23350,8703,13733,9779,42459,3141,17058,33565,10943,28670,2265,765,15816,1804,7734,13278,14256,2414,9742,1086,87,120,40382,15977,5203198,11,7228,1348,5993321,511,2838937,60,27982627,16673,43886,3,318,4,1281,3,2121778,2585,24110,23010665,2739,10336,2709,8027,8075,2,562,17448,10577,30983,1,5886,1922,7288,1293,2,6,2370,6407,2765,1777,4,3503,2411,3386,5520,7432,2212,7968,214,389,4308,3,3216,5327,4496,5,2970,7973,3107,10726,5069,47,1793,1144,2070,6871,7766,3225,358,236,1264,3,611,419,709,1794,1954,123,32,2,387,10,2085,1508,201,7237,828,3730,2409,3754,892,681,8,5183,1406,2,1426,60,1053,77,892,76,462,1642,349,1102,23,184,121,2208,1009,4,123,293,2588,705,2646,463,464,1,2014,379,474,2,4,821,804,135,1035,2,4,497,4,504,544,4,554,1075,1021,203,1233,212,179,1336,1091,135,665,345,1,28,360,139,218,82,218,245,3,160,55,428,435,783,884,303,802,304,1,3,794,483,454,427,278,1,13,372,140,67,925,355,106,784,871,654,69,477,2,119,771,41,414,2,1,1294,41,318,27,35,34,9,6,12,9,6,9,9,12,6,14,9,6,12,6,12,6,12,9,6,12,6,12,9,9,6,12,6,12,9,9,9,6,9,12,6,9,9,9,9,12,6,9,12,9,6,9,9,9,9,9,9,12,9,9,9,9,6,9,12,6,9,12,6,9,9,9,12,6,12,6,9,12,6,12,9,6,9,9,12,9,9,9,9,9,9,6,12,9,9,6,12,6,12,6,9,12,9,6,9,9,12,6,9,12,9,9,6,12,9,9,6,12,6,9,12,9,9,9,6,12,6,9,9,9,9,9,12,9,9,6,9,9,12,9,6,9,12,6,12,9,9,6,9,9,12,9,9,6,12,521,46,733,55,548,689,830,293,381,124,45,46,53,49,974,3,5,305,266,727,145,905,548,1925,43,675,280,261,184,3,5,98,57,622,1,196,2,38,2,459,190,2,109,631,67,4,2,3,40,1335,26,4,2,3,165,234,596,691,2866,373,371,1633,4,21260457,365637,3,8294,2025,138,380,447,803,6,1974,101,559,895\\',kBL:\\'CWqs\\',kOPI:89978449};(function(){var a;(null==(a=window.google)?0:a.stvsc)?google.kEI=_g.kEI:window.google=_g;}).call(this);})();(function(){google.sn=\\'webhp\\';google.kHL=\\'en-IN\\';})();(function(){\\nvar h=this||self;function l(){return void 0!==window.google&&void 0!==window.google.kOPI&&0!==window.google.kOPI?window.google.kOPI:null};var m,n=[];function p(a){for(var b;a&&(!a.getAttribute||!(b=a.getAttribute(\"eid\")));)a=a.parentNode;return b||m}function q(a){for(var b=null;a&&(!a.getAttribute||!(b=a.getAttribute(\"leid\")));)a=a.parentNode;return b}function r(a){/^http:/i.test(a)&&\"https:\"===window.location.protocol&&(google.ml&&google.ml(Error(\"a\"),!1,{src:a,glmm:1}),a=\"\");return a}\\nfunction t(a,b,c,d,k){var e=\"\";-1===b.search(\"&ei=\")&&(e=\"&ei=\"+p(d),-1===b.search(\"&lei=\")&&(d=q(d))&&(e+=\"&lei=\"+d));d=\"\";var g=-1===b.search(\"&cshid=\")&&\"slh\"!==a,f=[];f.push([\"zx\",Date.now().toString()]);h._cshid&&g&&f.push([\"cshid\",h._cshid]);c=c();null!=c&&f.push([\"opi\",c.toString()]);for(c=0;c<f.length;c++){if(0===c||0<c)d+=\"&\";d+=f[c][0]+\"=\"+f[c][1]}return\"/\"+(k||\"gen_204\")+\"?atyp=i&ct=\"+String(a)+\"&cad=\"+(b+e+d)};m=google.kEI;google.getEI=p;google.getLEI=q;google.ml=function(){return null};google.log=function(a,b,c,d,k,e){e=void 0===e?l:e;c||(c=t(a,b,e,d,k));if(c=r(c)){a=new Image;var g=n.length;n[g]=a;a.onerror=a.onload=a.onabort=function(){delete n[g]};a.src=c}};google.logUrl=function(a,b){b=void 0===b?l:b;return t(\"\",a,b)};}).call(this);(function(){google.y={};google.sy=[];google.x=function(a,b){if(a)var c=a.id;else{do c=Math.random();while(google.y[c])}google.y[c]=[a,b];return!1};google.sx=function(a){google.sy.push(a)};google.lm=[];google.plm=function(a){google.lm.push.apply(google.lm,a)};google.lq=[];google.load=function(a,b,c){google.lq.push([[a],b,c])};google.loadAll=function(a,b){google.lq.push([a,b])};google.bx=!1;google.lx=function(){};var d=[];google.fce=function(a,b,c,e){d.push([a,b,c,e])};google.qce=d;}).call(this);google.f={};(function(){\\ndocument.documentElement.addEventListener(\"submit\",function(b){var a;if(a=b.target){var c=a.getAttribute(\"data-submitfalse\");a=\"1\"===c||\"q\"===c&&!a.elements.q.value?!0:!1}else a=!1;a&&(b.preventDefault(),b.stopPropagation())},!0);document.documentElement.addEventListener(\"click\",function(b){var a;a:{for(a=b.target;a&&a!==document.documentElement;a=a.parentElement)if(\"A\"===a.tagName){a=\"1\"===a.getAttribute(\"data-nohref\");break a}a=!1}a&&b.preventDefault()},!0);}).call(this);</script><style>#gbar,#guser{font-size:13px;padding-top:1px !important;}#gbar{height:22px}#guser{padding-bottom:7px !important;text-align:right}.gbh,.gbd{border-top:1px solid #c9d7f1;font-size:1px}.gbh{height:0;position:absolute;top:24px;width:100%}@media all{.gb1{height:22px;margin-right:.5em;vertical-align:top}#gbar{float:left}}a.gb1,a.gb4{text-decoration:underline !important}a.gb1,a.gb4{color:#00c !important}.gbi .gb4{color:#dd8e27 !important}.gbf .gb4{color:#900 !important}\\n</style><style>body,td,a,p,.h{font-family:arial,sans-serif}body{margin:0;overflow-y:scroll}#gog{padding:3px 8px 0}td{line-height:.8em}.gac_m td{line-height:17px}form{margin-bottom:20px}.h{color:#1967d2}em{font-weight:bold;font-style:normal}.lst{height:25px;width:496px}.gsfi,.lst{font:18px arial,sans-serif}.gsfs{font:17px arial,sans-serif}.ds{display:inline-box;display:inline-block;margin:3px 0 4px;margin-left:4px}input{font-family:inherit}body{background:#fff;color:#000}a{color:#681da8;text-decoration:none}a:hover,a:active{text-decoration:underline}.fl a{color:#1967d2}a:visited{color:#681da8}.sblc{padding-top:5px}.sblc a{display:block;margin:2px 0;margin-left:13px;font-size:11px}.lsbb{background:#f8f9fa;border:solid 1px;border-color:#dadce0 #70757a #70757a #dadce0;height:30px}.lsbb{display:block}#WqQANb a{display:inline-block;margin:0 12px}.lsb{background:url(/images/nav_logo229.png) 0 -261px repeat-x;color:#000;border:none;cursor:pointer;height:30px;margin:0;outline:0;font:15px arial,sans-serif;vertical-align:top}.lsb:active{background:#dadce0}.lst:focus{outline:none}</style><script nonce=\"iCCvAbWyD8BAxYcK9MM46g\">(function(){window.google.erd={jsr:1,bv:1996,de:true};\\nvar h=this||self;var k,l=null!=(k=h.mei)?k:1,n,p=null!=(n=h.sdo)?n:!0,q=0,r,t=google.erd,v=t.jsr;google.ml=function(a,b,d,m,e){e=void 0===e?2:e;b&&(r=a&&a.message);void 0===d&&(d={});d.cad=\"ple_\"+google.ple+\".aple_\"+google.aple;if(google.dl)return google.dl(a,e,d,!0),null;b=d;if(0>v){window.console&&console.error(a,b);if(-2===v)throw a;b=!1}else b=!a||!a.message||\"Error loading script\"===a.message||q>=l&&!m?!1:!0;if(!b)return null;q++;d=d||{};b=encodeURIComponent;var c=\"/gen_204?atyp=i&ei=\"+b(google.kEI);google.kEXPI&&(c+=\"&jexpid=\"+b(google.kEXPI));c+=\"&srcpg=\"+b(google.sn)+\"&jsr=\"+b(t.jsr)+\\n\"&bver=\"+b(t.bv);var f=a.lineNumber;void 0!==f&&(c+=\"&line=\"+f);var g=a.fileName;g&&(0<g.indexOf(\"-extension:/\")&&(e=3),c+=\"&script=\"+b(g),f&&g===window.location.href&&(f=document.documentElement.outerHTML.split(\"\\\\n\")[f],c+=\"&cad=\"+b(f?f.substring(0,300):\"No script found.\")));google.ple&&1===google.ple&&(e=2);c+=\"&jsel=\"+e;for(var u in d)c+=\"&\",c+=b(u),c+=\"=\",c+=b(d[u]);c=c+\"&emsg=\"+b(a.name+\": \"+a.message);c=c+\"&jsst=\"+b(a.stack||\"N/A\");12288<=c.length&&(c=c.substr(0,12288));a=c;m||google.log(0,\"\",a);return a};window.onerror=function(a,b,d,m,e){r!==a&&(a=e instanceof Error?e:Error(a),void 0===d||\"lineNumber\"in a||(a.lineNumber=d),void 0===b||\"fileName\"in a||(a.fileName=b),google.ml(a,!1,void 0,!1,\"SyntaxError\"===a.name||\"SyntaxError\"===a.message.substring(0,11)||-1!==a.message.indexOf(\"Script error\")?3:0));r=null;p&&q>=l&&(window.onerror=null)};})();</script></head><body bgcolor=\"#fff\"><script nonce=\"iCCvAbWyD8BAxYcK9MM46g\">(function(){var src=\\'/images/nav_logo229.png\\';var iesg=false;document.body.onload = function(){window.n && window.n();if (document.images){new Image().src=src;}\\nif (!iesg){document.f&&document.f.q.focus();document.gbqf&&document.gbqf.q.focus();}\\n}\\n})();</script><div id=\"mngb\"><div id=gbar><nobr><b class=gb1>Search</b> <a class=gb1 href=\"https://www.google.com/imghp?hl=en&tab=wi\">Images</a> <a class=gb1 href=\"https://maps.google.co.in/maps?hl=en&tab=wl\">Maps</a> <a class=gb1 href=\"https://play.google.com/?hl=en&tab=w8\">Play</a> <a class=gb1 href=\"https://www.youtube.com/?tab=w1\">YouTube</a> <a class=gb1 href=\"https://news.google.com/?tab=wn\">News</a> <a class=gb1 href=\"https://mail.google.com/mail/?tab=wm\">Gmail</a> <a class=gb1 href=\"https://drive.google.com/?tab=wo\">Drive</a> <a class=gb1 style=\"text-decoration:none\" href=\"https://www.google.co.in/intl/en/about/products?tab=wh\"><u>More</u> &raquo;</a></nobr></div><div id=guser width=100%><nobr><span id=gbn class=gbi></span><span id=gbf class=gbf></span><span id=gbe></span><a href=\"http://www.google.co.in/history/optout?hl=en\" class=gb4>Web History</a> | <a  href=\"/preferences?hl=en\" class=gb4>Settings</a> | <a target=_top id=gb_70 href=\"https://accounts.google.com/ServiceLogin?hl=en&passive=true&continue=https://www.google.com/&ec=GAZAAQ\" class=gb4>Sign in</a></nobr></div><div class=gbh style=left:0></div><div class=gbh style=right:0></div></div><center><br clear=\"all\" id=\"lgpd\"><div id=\"lga\"><img alt=\"Google\" height=\"92\" src=\"/images/branding/googlelogo/1x/googlelogo_white_background_color_272x92dp.png\" style=\"padding:28px 0 14px\" width=\"272\" id=\"hplogo\"><br><br></div><form action=\"/search\" name=\"f\"><table cellpadding=\"0\" cellspacing=\"0\"><tr valign=\"top\"><td width=\"25%\">&nbsp;</td><td align=\"center\" nowrap=\"\"><input name=\"ie\" value=\"ISO-8859-1\" type=\"hidden\"><input value=\"en-IN\" name=\"hl\" type=\"hidden\"><input name=\"source\" type=\"hidden\" value=\"hp\"><input name=\"biw\" type=\"hidden\"><input name=\"bih\" type=\"hidden\"><div class=\"ds\" style=\"height:32px;margin:4px 0\"><input class=\"lst\" style=\"margin:0;padding:5px 8px 0 6px;vertical-align:top;color:#000\" autocomplete=\"off\" value=\"\" title=\"Google Search\" maxlength=\"2048\" name=\"q\" size=\"57\"></div><br style=\"line-height:0\"><span class=\"ds\"><span class=\"lsbb\"><input class=\"lsb\" value=\"Google Search\" name=\"btnG\" type=\"submit\"></span></span><span class=\"ds\"><span class=\"lsbb\"><input class=\"lsb\" id=\"tsuid_1\" value=\"I\\'m Feeling Lucky\" name=\"btnI\" type=\"submit\"><script nonce=\"iCCvAbWyD8BAxYcK9MM46g\">(function(){var id=\\'tsuid_1\\';document.getElementById(id).onclick = function(){if (this.form.q.value){this.checked = 1;if (this.form.iflsig)this.form.iflsig.disabled = false;}\\nelse top.location=\\'/doodles/\\';};})();</script><input value=\"ANes7DEAAAAAZirYpa5pn9fR0DnwikZ82-fwBBrhSGBt\" name=\"iflsig\" type=\"hidden\"></span></span></td><td class=\"fl sblc\" align=\"left\" nowrap=\"\" width=\"25%\"><a href=\"/advanced_search?hl=en-IN&amp;authuser=0\">Advanced search</a></td></tr></table><input id=\"gbv\" name=\"gbv\" type=\"hidden\" value=\"1\"><script nonce=\"iCCvAbWyD8BAxYcK9MM46g\">(function(){var a,b=\"1\";if(document&&document.getElementById)if(\"undefined\"!=typeof XMLHttpRequest)b=\"2\";else if(\"undefined\"!=typeof ActiveXObject){var c,d,e=[\"MSXML2.XMLHTTP.6.0\",\"MSXML2.XMLHTTP.3.0\",\"MSXML2.XMLHTTP\",\"Microsoft.XMLHTTP\"];for(c=0;d=e[c++];)try{new ActiveXObject(d),b=\"2\"}catch(h){}}a=b;if(\"2\"==a&&-1==location.search.indexOf(\"&gbv=2\")){var f=google.gbvu,g=document.getElementById(\"gbv\");g&&(g.value=a);f&&window.setTimeout(function(){location.href=f},0)};}).call(this);</script></form><div id=\"gac_scont\"></div><div style=\"font-size:83%;min-height:3.5em\"><br><div id=\"gws-output-pages-elements-homepage_additional_languages__als\"><style>#gws-output-pages-elements-homepage_additional_languages__als{font-size:small;margin-bottom:24px}#SIvCob{color:#474747;display:inline-block;line-height:28px;}#SIvCob a{padding:0 3px;}.H6sW5{display:inline-block;margin:0 2px;white-space:nowrap}.z4hgWe{display:inline-block;margin:0 2px}</style><div id=\"SIvCob\">Google offered in:  <a href=\"https://www.google.com/setprefs?sig=0_8yDz4tNAcl7vrQ0Egf-Ha9XMT5s%3D&amp;hl=hi&amp;source=homepage&amp;sa=X&amp;ved=0ahUKEwjxisaNp96FAxW8cWwGHXhXCYQQ2ZgBCAU\">&#2361;&#2367;&#2344;&#2381;&#2342;&#2368;</a>    <a href=\"https://www.google.com/setprefs?sig=0_8yDz4tNAcl7vrQ0Egf-Ha9XMT5s%3D&amp;hl=bn&amp;source=homepage&amp;sa=X&amp;ved=0ahUKEwjxisaNp96FAxW8cWwGHXhXCYQQ2ZgBCAY\">&#2476;&#2494;&#2434;&#2482;&#2494;</a>    <a href=\"https://www.google.com/setprefs?sig=0_8yDz4tNAcl7vrQ0Egf-Ha9XMT5s%3D&amp;hl=te&amp;source=homepage&amp;sa=X&amp;ved=0ahUKEwjxisaNp96FAxW8cWwGHXhXCYQQ2ZgBCAc\">&#3108;&#3142;&#3122;&#3137;&#3095;&#3137;</a>    <a href=\"https://www.google.com/setprefs?sig=0_8yDz4tNAcl7vrQ0Egf-Ha9XMT5s%3D&amp;hl=mr&amp;source=homepage&amp;sa=X&amp;ved=0ahUKEwjxisaNp96FAxW8cWwGHXhXCYQQ2ZgBCAg\">&#2350;&#2352;&#2366;&#2336;&#2368;</a>    <a href=\"https://www.google.com/setprefs?sig=0_8yDz4tNAcl7vrQ0Egf-Ha9XMT5s%3D&amp;hl=ta&amp;source=homepage&amp;sa=X&amp;ved=0ahUKEwjxisaNp96FAxW8cWwGHXhXCYQQ2ZgBCAk\">&#2980;&#2990;&#3007;&#2996;&#3021;</a>    <a href=\"https://www.google.com/setprefs?sig=0_8yDz4tNAcl7vrQ0Egf-Ha9XMT5s%3D&amp;hl=gu&amp;source=homepage&amp;sa=X&amp;ved=0ahUKEwjxisaNp96FAxW8cWwGHXhXCYQQ2ZgBCAo\">&#2711;&#2753;&#2716;&#2736;&#2750;&#2724;&#2752;</a>    <a href=\"https://www.google.com/setprefs?sig=0_8yDz4tNAcl7vrQ0Egf-Ha9XMT5s%3D&amp;hl=kn&amp;source=homepage&amp;sa=X&amp;ved=0ahUKEwjxisaNp96FAxW8cWwGHXhXCYQQ2ZgBCAs\">&#3221;&#3240;&#3277;&#3240;&#3233;</a>    <a href=\"https://www.google.com/setprefs?sig=0_8yDz4tNAcl7vrQ0Egf-Ha9XMT5s%3D&amp;hl=ml&amp;source=homepage&amp;sa=X&amp;ved=0ahUKEwjxisaNp96FAxW8cWwGHXhXCYQQ2ZgBCAw\">&#3374;&#3378;&#3375;&#3390;&#3379;&#3330;</a>    <a href=\"https://www.google.com/setprefs?sig=0_8yDz4tNAcl7vrQ0Egf-Ha9XMT5s%3D&amp;hl=pa&amp;source=homepage&amp;sa=X&amp;ved=0ahUKEwjxisaNp96FAxW8cWwGHXhXCYQQ2ZgBCA0\">&#2602;&#2672;&#2588;&#2622;&#2604;&#2624;</a>  </div></div></div><span id=\"footer\"><div style=\"font-size:10pt\"><div style=\"margin:19px auto;text-align:center\" id=\"WqQANb\"><a href=\"/intl/en/ads/\">Advertising</a><a href=\"http://www.google.co.in/services/\">Business Solutions</a><a href=\"/intl/en/about.html\">About Google</a><a href=\"https://www.google.com/setprefdomain?prefdom=IN&amp;prev=https://www.google.co.in/&amp;sig=K_p2JZ6D8rh1dUT7ZwuRyQPHVRYqM%3D\">Google.co.in</a></div></div><p style=\"font-size:8pt;color:#70757a\">&copy; 2024 - <a href=\"/intl/en/policies/privacy/\">Privacy</a> - <a href=\"/intl/en/policies/terms/\">Terms</a></p></span></center><script nonce=\"iCCvAbWyD8BAxYcK9MM46g\">(function(){window.google.cdo={height:757,width:1440};(function(){var a=window.innerWidth,b=window.innerHeight;if(!a||!b){var c=window.document,d=\"CSS1Compat\"==c.compatMode?c.documentElement:c.body;a=d.clientWidth;b=d.clientHeight}\\nif(a&&b&&(a!=google.cdo.width||b!=google.cdo.height)){var e=google,f=e.log,g=\"/client_204?&atyp=i&biw=\"+a+\"&bih=\"+b+\"&ei=\"+google.kEI,h=\"\",k=[],l=void 0!==window.google&&void 0!==window.google.kOPI&&0!==window.google.kOPI?window.google.kOPI:null;null!=l&&k.push([\"opi\",l.toString()]);for(var m=0;m<k.length;m++){if(0===m||0<m)h+=\"&\";h+=k[m][0]+\"=\"+k[m][1]}f.call(e,\"\",\"\",g+h)};}).call(this);})();</script>  <script nonce=\"iCCvAbWyD8BAxYcK9MM46g\">(function(){google.xjs={basecomb:\\'/xjs/_/js/k\\\\x3dxjs.hp.en.PTorWDGG0oA.O/ck\\\\x3dxjs.hp.yxWPBTta_Ug.L.X.O/am\\\\x3dAQAAAAEAAAAAAAAAAAAAAAAAAACAAAAAAAAAABA4AAAAAQACGQAAAD8AAgAAABEAAAgCgIPoCAAG4AgAALw/d\\\\x3d1/ed\\\\x3d1/dg\\\\x3d0/ujg\\\\x3d1/rs\\\\x3dACT90oEjK0VjgdkkhmbGm_m2F3p6gQUkGA\\',basecss:\\'/xjs/_/ss/k\\\\x3dxjs.hp.yxWPBTta_Ug.L.X.O/am\\\\x3dAQAAAAEAAAAAAAAAAAAAAAAAAAAAAAAAAAAAAAAAAAAAAQACGQAAAAAAAgAAABEAAAgC/rs\\\\x3dACT90oEqXioWTn7i2ZkKErg-zqqVzW6rwQ\\',basejs:\\'/xjs/_/js/k\\\\x3dxjs.hp.en.PTorWDGG0oA.O/am\\\\x3dAAAAAAAAAAAAAAAAAAAAAAAAAACAAAAAAAAAABA4AAAAAAAAAAAAAD8AAAAAAAAAAAAAgIPoCAAG4AgAALw/dg\\\\x3d0/rs\\\\x3dACT90oHph_y1jfNDxIRERzRvv_Vs87O7eg\\',ck:\\'\\',combam:\\'\\',cs:\\'\\',cssam:\\'\\',csss:\\'\\',excm:[],jsam:\\'\\',jss:\\'\\'};})();</script> <link href=\"/xjs/_/ss/k=xjs.hp.yxWPBTta_Ug.L.X.O/am=AQAAAAEAAAAAAAAAAAAAAAAAAAAAAAAAAAAAAAAAAAAAAQACGQAAAAAAAgAAABEAAAgC/d=1/ed=1/rs=ACT90oEqXioWTn7i2ZkKErg-zqqVzW6rwQ/m=sb_he,d\" rel=\"stylesheet\" nonce=\"iCCvAbWyD8BAxYcK9MM46g\">    <script nonce=\"iCCvAbWyD8BAxYcK9MM46g\">(function(){var u=\\'/xjs/_/js/k\\\\x3dxjs.hp.en.PTorWDGG0oA.O/am\\\\x3dAAAAAAAAAAAAAAAAAAAAAAAAAACAAAAAAAAAABA4AAAAAAAAAAAAAD8AAAAAAAAAAAAAgIPoCAAG4AgAALw/d\\\\x3d1/ed\\\\x3d1/rs\\\\x3dACT90oHph_y1jfNDxIRERzRvv_Vs87O7eg/m\\\\x3dsb_he,d\\';var st=0;var amd=0;\\nvar e=this||self,f=function(a){return a};var g;var h=function(a){this.g=a};h.prototype.toString=function(){return this.g+\"\"};var k={};\\nfunction m(a,b){a.src=b instanceof h&&b.constructor===h?b.g:\"type_error:TrustedResourceUrl\";var c,d;(c=(b=null==(d=(c=(a.ownerDocument&&a.ownerDocument.defaultView||window).document).querySelector)?void 0:d.call(c,\"script[nonce]\"))?b.nonce||b.getAttribute(\"nonce\")||\"\":\"\")&&a.setAttribute(\"nonce\",c)};var n=function(){var a=document;var b=\"SCRIPT\";\"application/xhtml+xml\"===a.contentType&&(b=b.toLowerCase());return a.createElement(b)};function p(a){a=null===a?\"null\":void 0===a?\"undefined\":a;if(void 0===g){var b=null;var c=e.trustedTypes;if(c&&c.createPolicy){try{b=c.createPolicy(\"goog#html\",{createHTML:f,createScript:f,createScriptURL:f})}catch(d){e.console&&e.console.error(d.message)}g=b}else g=b}a=(b=g)?b.createScriptURL(a):a;return new h(a,k)};void 0===google.ps&&(google.ps=[]);function q(){var a=u,b=function(){};google.lx=google.stvsc?b:function(){r(a);google.lx=b};google.bx||google.lx()}function t(a,b){b&&m(a,p(b));var c=a.onload;a.onload=function(d){c&&c(d);google.ps=google.ps.filter(function(l){return a!==l})};google.ps.push(a);document.body.appendChild(a)}google.as=t;function r(a){google.timers&&google.timers.load&&google.tick&&google.tick(\"load\",\"xjsls\");var b=n();b.onerror=function(){google.ple=1};b.onload=function(){google.ple=0};google.xjsus=void 0;t(b,a);google.aple=-1;google.psa=!0};google.xjsu=u;e._F_jsUrl=u;var v=!1;function w(){v||(q(),v=!0)}setTimeout(function(){var a;if(a=1===st&&google.caft){a:{a=document.getElementsByTagName(\"img\");for(var b=0,c=a.length;b<c;b++){var d=a[b],l=Number(d.getAttribute(\"data-atf\"))&1;d=d.hasAttribute(\"data-lzy_\");if(l&&d){a=!0;break a}}a=!1}a=!a}a?(window.setTimeout(w,amd),google.caft(w)):2===st&&google.rairicb?(window.setTimeout(w,amd),google.rairicb(w)):q()},0);})();window._ = window._ || {};window._DumpException = _._DumpException = function(e){throw e;};window._s = window._s || {};_s._DumpException = _._DumpException;window._qs = window._qs || {};_qs._DumpException = _._DumpException;(function(){var t=[1,4,0,0,0,163840,0,237256704,16777312,6555648,66060288,128,4352,234883424,536907400,145537,48128];window._F_toggles = window._xjs_toggles = t;})();function _F_installCss(c){}\\n(function(){google.jl={bfl:0,dw:false,ine:false,ubm:false,uwp:true,vs:false};})();(function(){var pmc=\\'{\\\\x22d\\\\x22:{},\\\\x22sb_he\\\\x22:{\\\\x22agen\\\\x22:false,\\\\x22cgen\\\\x22:false,\\\\x22client\\\\x22:\\\\x22heirloom-hp\\\\x22,\\\\x22dh\\\\x22:true,\\\\x22ds\\\\x22:\\\\x22\\\\x22,\\\\x22fl\\\\x22:true,\\\\x22host\\\\x22:\\\\x22google.com\\\\x22,\\\\x22jsonp\\\\x22:true,\\\\x22msgs\\\\x22:{\\\\x22cibl\\\\x22:\\\\x22Clear Search\\\\x22,\\\\x22dym\\\\x22:\\\\x22Did you mean:\\\\x22,\\\\x22lcky\\\\x22:\\\\x22I\\\\\\\\u0026#39;m Feeling Lucky\\\\x22,\\\\x22lml\\\\x22:\\\\x22Learn more\\\\x22,\\\\x22psrc\\\\x22:\\\\x22This search was removed from your \\\\\\\\u003Ca href\\\\x3d\\\\\\\\\\\\x22/history\\\\\\\\\\\\x22\\\\\\\\u003EWeb History\\\\\\\\u003C/a\\\\\\\\u003E\\\\x22,\\\\x22psrl\\\\x22:\\\\x22Remove\\\\x22,\\\\x22sbit\\\\x22:\\\\x22Search by image\\\\x22,\\\\x22srch\\\\x22:\\\\x22Google Search\\\\x22},\\\\x22ovr\\\\x22:{},\\\\x22pq\\\\x22:\\\\x22\\\\x22,\\\\x22rfs\\\\x22:[],\\\\x22sbas\\\\x22:\\\\x220 3px 8px 0 rgba(0,0,0,0.2),0 0 0 1px rgba(0,0,0,0.08)\\\\x22,\\\\x22stok\\\\x22:\\\\x22MM3LOngYDkWc2dnCkQePI9ydKSs\\\\x22}}\\';google.pmc=JSON.parse(pmc);})();(function(){var c=function(a){var b=0;return function(){return b<a.length?{done:!1,value:a[b++]}:{done:!0}}};\\nvar e=this||self;var g,h;a:{for(var k=[\"CLOSURE_FLAGS\"],l=e,n=0;n<k.length;n++)if(l=l[k[n]],null==l){h=null;break a}h=l}var p=h&&h[610401301];g=null!=p?p:!1;var q,r=e.navigator;q=r?r.userAgentData||null:null;function t(a){return g?q?q.brands.some(function(b){return(b=b.brand)&&-1!=b.indexOf(a)}):!1:!1}function u(a){var b;a:{if(b=e.navigator)if(b=b.userAgent)break a;b=\"\"}return-1!=b.indexOf(a)};function v(){return g?!!q&&0<q.brands.length:!1}function w(){return u(\"Safari\")&&!(x()||(v()?0:u(\"Coast\"))||(v()?0:u(\"Opera\"))||(v()?0:u(\"Edge\"))||(v()?t(\"Microsoft Edge\"):u(\"Edg/\"))||(v()?t(\"Opera\"):u(\"OPR\"))||u(\"Firefox\")||u(\"FxiOS\")||u(\"Silk\")||u(\"Android\"))}function x(){return v()?t(\"Chromium\"):(u(\"Chrome\")||u(\"CriOS\"))&&!(v()?0:u(\"Edge\"))||u(\"Silk\")}function y(){return u(\"Android\")&&!(x()||u(\"Firefox\")||u(\"FxiOS\")||(v()?0:u(\"Opera\"))||u(\"Silk\"))};var z=v()?!1:u(\"Trident\")||u(\"MSIE\");y();x();w();var A;A=\"function\"===typeof Symbol&&\"symbol\"===typeof Symbol()?Symbol():void 0;var B=[];(A?function(a,b){a[A]=b}:function(a,b){void 0!==a.g?a.g=b:Object.defineProperties(a,{g:{value:b,configurable:!0,writable:!0,enumerable:!1}})})(B,55);Object.freeze(B);Object.freeze(new function(){});Object.freeze(new function(){});var C=!z&&!w(),F=function(a){if(/-[a-z]/.test(\"ved\"))return null;if(C&&a.dataset){if(y()&&!(\"ved\"in a.dataset))return null;a=a.dataset.ved;return void 0===a?null:a}return a.getAttribute(\"data-\"+\"ved\".replace(/([A-Z])/g,\"-$1\").toLowerCase())};var G=[],H=null;function I(a){a=a.target;var b=performance.now(),f=[],J=f.concat,d=G;if(!(d instanceof Array)){var m=\"undefined\"!=typeof Symbol&&Symbol.iterator&&d[Symbol.iterator];if(m)d=m.call(d);else if(\"number\"==typeof d.length)d={next:c(d)};else throw Error(\"b`\"+String(d));for(var D=[];!(m=d.next()).done;)D.push(m.value);d=D}G=J.call(f,d,[b]);if(a&&a instanceof HTMLElement)if(a===H){if(b=4<=G.length)b=5>(G[G.length-1]-G[G.length-4])/1E3;if(b){b=google.getEI(a);a.hasAttribute(\"data-ved\")?f=a?F(a)||\"\":\"\":f=(f=\\na.closest(\"[data-ved]\"))?F(f)||\"\":\"\";f=f||\"\";if(a.hasAttribute(\"jsname\"))a=a.getAttribute(\"jsname\");else{var E;a=null==(E=a.closest(\"[jsname]\"))?void 0:E.getAttribute(\"jsname\")}google.log(\"rcm\",\"&ei=\"+b+\"&ved=\"+f+\"&jsname=\"+(a||\"\"))}}else H=a,G=[b]}window.document.addEventListener(\"DOMContentLoaded\",function(){document.body.addEventListener(\"click\",I)});}).call(this);</script></body></html>'\n"
     ]
    }
   ],
   "source": [
    "import urllib.request\n",
    "x=urllib.request.urlopen(\"https://www.google.com/\")\n",
    "print(x.read())"
   ]
  },
  {
   "cell_type": "code",
   "execution_count": null,
   "id": "12f44457-3f82-4b80-9b4d-b890daf89678",
   "metadata": {},
   "outputs": [],
   "source": []
  }
 ],
 "metadata": {
  "kernelspec": {
   "display_name": "Python 3 (ipykernel)",
   "language": "python",
   "name": "python3"
  },
  "language_info": {
   "codemirror_mode": {
    "name": "ipython",
    "version": 3
   },
   "file_extension": ".py",
   "mimetype": "text/x-python",
   "name": "python",
   "nbconvert_exporter": "python",
   "pygments_lexer": "ipython3",
   "version": "3.11.7"
  }
 },
 "nbformat": 4,
 "nbformat_minor": 5
}
